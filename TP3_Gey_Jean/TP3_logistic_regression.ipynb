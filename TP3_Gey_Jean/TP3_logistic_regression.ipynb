{
 "cells": [
  {
   "cell_type": "markdown",
   "metadata": {},
   "source": [
    "## TP3 : Logistic regression\n",
    "\n",
    "The purpose of this tutorial is to implement and use the Logistic Regression for binary classification. We will apply this\n",
    "method to the problem of handwritten characters to learn how to\n",
    "distinguish two numbers (here 5 and 6).\n"
   ]
  },
  {
   "cell_type": "code",
<<<<<<< HEAD
   "execution_count": null,
=======
   "execution_count": 112,
>>>>>>> 4fde8d9bc65d556f448315158eed2de00c4bbbb7
   "metadata": {
    "collapsed": true
   },
   "outputs": [],
   "source": [
    "from pylab import *\n",
    "#import numpy as np\n",
    "#import matplotlib.pyplot as plt\n",
    "\n",
    "from numpy import linalg as la"
   ]
  },
  {
   "cell_type": "markdown",
   "metadata": {},
   "source": [
    "## 1. Logistic regression, IRLS algorithm."
   ]
  },
  {
   "cell_type": "markdown",
   "metadata": {},
   "source": [
    "### Preliminary question: the algorithm"
   ]
  },
  {
   "cell_type": "markdown",
   "metadata": {},
   "source": [
    "#### Have a look at the function `regression_logistique.m` and locate the main steps of the algorithm you have been taught (see course).\n",
    "You can comment the code in the cell below."
   ]
  },
  {
   "cell_type": "code",
<<<<<<< HEAD
   "execution_count": null,
=======
   "execution_count": 113,
>>>>>>> 4fde8d9bc65d556f448315158eed2de00c4bbbb7
   "metadata": {
    "collapsed": true
   },
   "outputs": [],
   "source": [
    "def regression_logistique(X,t,Nitermax=20,eps_conv=1e-3):\n",
    "    '''Entrees :\n",
    "    X = [ones(N_train,1) x_train];\n",
    "    t = class_train \n",
    "    Nitermax = nombre maximale d'itérations (20 par défaut)\n",
    "    eps_conv = critère de convergence sur norm(w-w_old)/norm(w) ; \n",
    "    eps_conv=1e-3 par défaut\n",
    "    \n",
    "    Sorties : \n",
    "    w : vecteur des coefficients de régression logistique\n",
    "   Niter : nombre d'itérations utilisées effectivement\n",
    "   \n",
    "   Fonction de régression logistique pour la classification binaire.\n",
    "   \n",
    "   Utilisation :\n",
    "       Nitermax = 50\n",
    "       eps_conv = 1e-4\n",
    "       [w,Niter] = regression_logistique(X,t,Nitermax,eps_conv)\n",
    "    '''\n",
    "    N_train = X.shape[0]\n",
    "\n",
    "    #initialisation : 1 pas de l'algorithme IRLS\n",
    "    w = np.zeros((X.shape[1],))\n",
    "    w_old = w \n",
    "    y = 1/2*np.ones((N_train,))\n",
    "    R = np.diag(y*(1-y))   # diag(y_n(1-y_n))\n",
    "    \n",
    "    z = X.dot(w_old)-la.inv(R).dot(y-t)\n",
    "    w = la.inv(X.T.dot(R).dot(X)).dot(X.T).dot(R).dot(z)\n",
    "\n",
    "    # boucle appliquant l'algortihme de Newton-Raphson\n",
    "    Niter = 1\n",
    "    while ( (la.norm(w-w_old)/la.norm(w)>eps_conv) | (Niter<Nitermax) ):\n",
    "        Niter = Niter+1\n",
    "        y = 1/(1+np.exp(-X.dot(w)))\n",
    "        R = np.diag(y*(1-y))\n",
    "        w_old = w \n",
    "        z = X.dot(w_old)-la.inv(R).dot(y-t) \n",
    "        w = la.inv(X.T.dot(R).dot(X)).dot(X.T).dot(R).dot(z)\n",
    "         \n",
    "    return w, Niter\n"
   ]
  },
  {
   "cell_type": "markdown",
   "metadata": {},
   "source": [
<<<<<<< HEAD
    "There is an error in the code given with `|` which must be replaced by `and`"
   ]
  },
  {
   "cell_type": "markdown",
   "metadata": {},
   "source": [
    "In the previous code, we assume that the matrix R is invertible, which, as we will see in the rest of the tutorial, is not necessarily the case. This is a first limitation of the implementation proposed above."
=======
    "<u>Interpretation</u> : Note that in this function, we use the matrix inversion on the matrix $X^T.R.X$ and on the matrix $R$. This assumes that these two matrices are invertible. However, after several iterations of the algorithm, if the coefficients of $R$ on the diagonal are very small, they can be computed as 0 and make $R$ non-invertible. One way to overcome this problem is to make the algorithm return the result of the last iteration before the error occurs. Therefore, we define below a slightly modified implementation of the previous algorithm:"
   ]
  },
  {
   "cell_type": "code",
   "execution_count": 114,
   "metadata": {},
   "outputs": [],
   "source": [
    "def regression_logistique_no_error(X,t,Nitermax=20,eps_conv=1e-3):\n",
    "    '''Entrees :\n",
    "    X = [ones(N_train,1) x_train];\n",
    "    t = class_train \n",
    "    Nitermax = nombre maximale d'itérations (20 par défaut)\n",
    "    eps_conv = critère de convergence sur norm(w-w_old)/norm(w) ; \n",
    "    eps_conv=1e-3 par défaut\n",
    "    \n",
    "    Sorties : \n",
    "    w : vecteur des coefficients de régression logistique\n",
    "   Niter : nombre d'itérations utilisées effectivement\n",
    "   \n",
    "   Fonction de régression logistique pour la classification binaire.\n",
    "   \n",
    "   Utilisation :\n",
    "       Nitermax = 50\n",
    "       eps_conv = 1e-4\n",
    "       [w,Niter] = regression_logistique(X,t,Nitermax,eps_conv)\n",
    "    '''\n",
    "    N_train = X.shape[0]\n",
    "\n",
    "    #initialisation : 1 pas de l'algorithme IRLS\n",
    "    w = np.zeros((X.shape[1],))\n",
    "    w_old = w \n",
    "    y = 1/2*np.ones((N_train,))\n",
    "    R = np.diag(y*(1-y))   # diag(y_n(1-y_n))\n",
    "    z = X.dot(w_old)-la.inv(R).dot(y-t)\n",
    "    w = la.inv(X.T.dot(R).dot(X)).dot(X.T).dot(R).dot(z)\n",
    "\n",
    "    # boucle appliquant l'algortihme de Newton-Raphson\n",
    "    Niter = 1\n",
    "    while ( (la.norm(w-w_old)/la.norm(w)>eps_conv) | (Niter<Nitermax) ):\n",
    "        Niter = Niter+1\n",
    "        y = 1/(1+np.exp(-X.dot(w)))\n",
    "        R = np.diag(y*(1-y))  \n",
    "        w_old = w\n",
    "        try: \n",
    "            z = X.dot(w_old)-la.inv(R).dot(y-t) \n",
    "            w = la.inv(X.T.dot(R).dot(X)).dot(X.T).dot(R).dot(z)\n",
    "        except:\n",
    "            break\n",
    "         \n",
    "    return w, Niter"
>>>>>>> 4fde8d9bc65d556f448315158eed2de00c4bbbb7
   ]
  },
  {
   "cell_type": "markdown",
   "metadata": {},
   "source": [
    "### Reading & preparing synthetic data\n",
    "\n",
    "Load the training and test data sets `synth_train.txt`\n",
    "and `synth_test.txt`. The targets t belong to {1,2} and the features  \n",
    "x belong to R^2. \n",
    "\n",
    "We have 100 training samples and 200 test samples\n",
    "\n",
    "* the 1st column contains the label of each sample, \n",
    "* columns 2 and 3 contain the coordinate of each point."
   ]
  },
  {
   "cell_type": "code",
<<<<<<< HEAD
   "execution_count": null,
=======
   "execution_count": 115,
>>>>>>> 4fde8d9bc65d556f448315158eed2de00c4bbbb7
   "metadata": {
    "collapsed": true
   },
   "outputs": [],
   "source": [
    "# Training set\n",
    "synth_train = np.loadtxt('synth_train.txt') \n",
    "class_train = synth_train[:,0]\n",
    "class_train_1 = np.where(synth_train[:,0]==1)[0]\n",
    "class_train_2 = np.where(synth_train[:,0]==2)[0]\n",
    "x_train = synth_train[:,1:]\n",
    "N_train = np.size(x_train,axis=0)\n",
    "\n",
    "# Test set\n",
    "synth_test = np.loadtxt('synth_test.txt')\n",
    "class_test = synth_test[:,0]\n",
    "class_test_1 = np.where(synth_test[:,0]==1)[0]\n",
    "class_test_2 = np.where(synth_test[:,0]==2)[0]\n",
    "x_test = synth_test[:,1:]\n",
    "N_test = np.size(x_test,axis=0)\n"
   ]
  },
  {
   "cell_type": "code",
<<<<<<< HEAD
   "execution_count": null,
=======
   "execution_count": 116,
>>>>>>> 4fde8d9bc65d556f448315158eed2de00c4bbbb7
   "metadata": {},
   "outputs": [],
   "source": [
    "import plotly.express as px\n",
    "import pandas as pd\n",
    "\n",
    "px.scatter(pd.DataFrame(synth_train, \n",
    "                        columns = ['classe', 'x1', 'x2']),\n",
    "                        x='x1', y='x2', \n",
    "                        color='classe', \n",
    "                        title = 'Data visualization of training dataset')"
   ]
  },
  {
   "cell_type": "code",
<<<<<<< HEAD
   "execution_count": null,
=======
   "execution_count": 117,
>>>>>>> 4fde8d9bc65d556f448315158eed2de00c4bbbb7
   "metadata": {},
   "outputs": [],
   "source": [
    "px.scatter(pd.DataFrame(synth_test, \n",
    "                        columns = ['classe', 'x1', 'x2']),\n",
    "                        x='x1', y='x2', \n",
    "                        color='classe', \n",
    "                        title = 'Data visualization of test dataset')"
   ]
  },
  {
   "cell_type": "markdown",
   "metadata": {},
   "source": [
    "This is the same dataset as in the previous tutorial, the test dataset is still less well separated than the training dataset, which will necessarily result in a decrease in performance on the test data."
   ]
  },
  {
   "cell_type": "markdown",
   "metadata": {},
   "source": [
    "### Preparing features for logistic regression (binary classification)\n",
    "First, we prepare the feature matrix and the target vector associated to \n",
    "the training and test sets:\n"
   ]
  },
  {
   "cell_type": "code",
<<<<<<< HEAD
   "execution_count": null,
=======
   "execution_count": 118,
>>>>>>> 4fde8d9bc65d556f448315158eed2de00c4bbbb7
   "metadata": {},
   "outputs": [],
   "source": [
    "X = np.hstack((np.ones((N_train,1)),x_train))\n",
    "t = 2-class_train   # 0 if class=2, 1 if class=1\n",
    "\n",
    "X_test = np.hstack((np.ones((N_test,1)),x_test))\n",
    "t_test = 2-class_test   # 0 if class=2, 1 if class=1"
   ]
  },
  {
   "cell_type": "markdown",
   "metadata": {},
   "source": [
    "### Exercise 1 : the logistic function of decision\n",
    "\n",
    "1. Use the function `regression_logistique.m` to estimate the logistic\n",
    "regression vector `w`. *Indication : use `Nitermax = 50;\n",
    "eps_conv=1e-3;`.*\n",
    "2. Compute the decision function $f(x) = argmax_k P(C_k|x)$ on the test set\n",
    "to get the classification results. Recall that $y_n=\\sigma(w^T x)$ (logistic function)\n",
    "and that *using vectors* you may directly write $y=\\sigma(Xw)$, with the\n",
    "column of ones in X.\n",
    "3. Display the results by plotting the points from both the training set\n",
    "and the test set.\n",
    "4. Write the equation which defines the decision boundary.\n",
    "5. Artificially add a few points to the training set far from the decision boundary to check the robustness of logistic regression to outliers. Check the behaviour of LDA for comparison in this case and comment. \n"
   ]
  },
  {
   "cell_type": "code",
<<<<<<< HEAD
   "execution_count": null,
=======
   "execution_count": 119,
>>>>>>> 4fde8d9bc65d556f448315158eed2de00c4bbbb7
   "metadata": {},
   "outputs": [],
   "source": [
    "#Exercise 1\n",
    "w, Niter = regression_logistique(X, t, Nitermax=50, eps_conv=1e-3)"
   ]
  },
  {
   "cell_type": "code",
<<<<<<< HEAD
   "execution_count": null,
=======
   "execution_count": 120,
>>>>>>> 4fde8d9bc65d556f448315158eed2de00c4bbbb7
   "metadata": {},
   "outputs": [],
   "source": [
    "predictions = lambda x: np.where(np.exp(x)/( 1 + np.exp(x))<=0.5, 0 , 1)"
   ]
  },
  {
   "cell_type": "code",
<<<<<<< HEAD
   "execution_count": null,
=======
   "execution_count": 121,
>>>>>>> 4fde8d9bc65d556f448315158eed2de00c4bbbb7
   "metadata": {},
   "outputs": [],
   "source": [
    "t_train_pred = predictions(X @ w)\n",
    "t_test_pred = predictions(X_test @ w)\n",
    "classes_pred_train = [f\"Good prediction for classe {t_pred+1}\" if t_pred==t[i] else f\"Predicted classe {t_pred+1} but actually classe {int(t[i])+1}\" for i, t_pred in enumerate(t_train_pred)]\n",
    "classes_pred_test = [f\"Good prediction for classe {t_pred+1}\" if t_pred==t_test[i] else f\"Predicted classe {t_pred+1} but actually classe {int(t_test[i])+1}\" for i, t_pred in enumerate(t_test_pred)]\n",
    "\n",
    "color_map = {\"Good prediction for classe 1 \": \"#636EFA\",\n",
    "             \"Good predictions for classe 2\": \"#FECB52\",\n",
    "             \"Predicted classe 1 but actually classe 2\": \"#D62728\",\n",
    "             \"Predicted classe 2 but actually classe 1\": \"#2CA02C\"}"
   ]
  },
  {
   "cell_type": "code",
<<<<<<< HEAD
   "execution_count": null,
   "metadata": {},
   "outputs": [],
   "source": [
    "fig_prediction_train = px.scatter(pd.DataFrame(dict(prediction=classes_pred_train, x1 = synth_train[:,1], x2 = synth_train[:,2])),x='x1', y='x2', color='prediction',\n",
    "           title = 'Data visualization of predictions for training dataset',\n",
    "           color_discrete_map=color_map)\n",
    "\n",
    "fig_prediction_train.show()"
=======
   "execution_count": 123,
   "metadata": {},
   "outputs": [
    {
     "data": {
      "application/vnd.plotly.v1+json": {
       "config": {
        "plotlyServerURL": "https://plot.ly"
       },
       "data": [
        {
         "hovertemplate": "x1=%{x}<br>x2=%{y}<br>prediction=%{marker.color}<extra></extra>",
         "legendgroup": "",
         "marker": {
          "color": [
           1,
           0,
           0,
           0,
           1,
           0,
           0,
           1,
           0,
           0,
           0,
           0,
           0,
           0,
           1,
           0,
           0,
           0,
           0,
           0,
           0,
           0,
           0,
           0,
           0,
           0,
           0,
           0,
           0,
           0,
           0,
           1,
           1,
           0,
           1,
           0,
           0,
           0,
           0,
           0,
           0,
           0,
           0,
           0,
           0,
           0,
           1,
           0,
           0,
           0,
           0,
           0,
           1,
           0,
           0,
           1,
           0,
           0,
           0,
           0,
           0,
           0,
           0,
           0,
           0,
           1,
           0,
           0,
           1,
           1,
           0,
           0,
           0,
           0,
           0,
           0,
           0,
           0,
           0,
           0,
           1,
           1,
           0,
           1,
           0,
           0,
           0,
           0,
           0,
           0,
           0,
           0,
           0,
           0,
           1,
           1,
           1,
           1,
           0,
           1
          ],
          "coloraxis": "coloraxis",
          "symbol": "circle"
         },
         "mode": "markers",
         "name": "",
         "orientation": "v",
         "showlegend": false,
         "type": "scatter",
         "x": [
          -0.7222114129586,
          -0.924679116842047,
          -0.766022814943256,
          -0.0732894788556321,
          -1.39291197731283,
          -0.202233388934873,
          0.481737671784873,
          -1.8655121173883,
          -0.152468727259032,
          0.38635648749537,
          0.0875764309449853,
          -0.162870803458684,
          0.205627604169169,
          -0.678880330634291,
          -0.631309441163341,
          0.451357146792761,
          -0.379447056101144,
          -0.67808924696543,
          -0.6353679482783,
          -0.394503312110074,
          0.361462943689775,
          -0.528663281188422,
          -0.251051039074415,
          0.0782884526153436,
          -0.508588755690403,
          0.408869378842243,
          -0.365647127226042,
          1.41253669598274,
          0.185369078583416,
          -0.236029032268647,
          -0.614293392873263,
          -2.30408372892482,
          -1.6439848395597,
          -0.099631142781541,
          -1.86566438019087,
          0.29707583331245,
          0.241635652911538,
          -0.308059142141273,
          -0.297331480776794,
          0.0425462999904274,
          -0.293494487190976,
          0.0472196732520648,
          0.511434878557491,
          -0.439766514299069,
          0.579727620807449,
          -0.22587568551299,
          -1.31699917881368,
          0.403359817740187,
          0.0639802809331373,
          -0.200549408990853,
          0.179212309999251,
          -0.684781628987495,
          -1.26626456003945,
          -0.0732275755712657,
          -0.278834870223322,
          -1.66770622666567,
          -0.932784740334326,
          -0.222492292076254,
          -0.419301102755586,
          -0.102320397506266,
          0.246029751804449,
          0.477011782112795,
          0.166124402475656,
          0.392487504719149,
          0.26880633054516,
          -1.1892336014914,
          -0.353530726637597,
          0.205995439006312,
          0.357859266241446,
          -1.07534587024242,
          0.610733203164708,
          0.34783794294932,
          0.133976431089943,
          0.487540109560409,
          0.328137396161017,
          -0.307134275715141,
          0.622456405195283,
          0.023923605235643,
          1.25632667782585,
          -0.207777444410633,
          -1.07196807487457,
          -1.40721089942489,
          0.643678850830891,
          -1.45327218253849,
          0.891230481942523,
          0.252066390681576,
          0.504207545290246,
          0.299918390809922,
          0.490412055618484,
          1.06136639629653,
          0.365892980043387,
          -1.1024698611437,
          0.115280444945432,
          0.222190799619655,
          0.317452811019433,
          -0.693623079484142,
          -0.651352405455385,
          -2.24047850877093,
          -0.688766771564921,
          -2.06428441900782
         ],
         "xaxis": "x",
         "y": [
          2.00447087136242,
          0.483669283303616,
          0.794328908264858,
          0.969929147538923,
          0.999697089649905,
          1.35033191198506,
          0.984418575841914,
          1.54773159042401,
          0.922489686034523,
          0.366336720871723,
          0.932411534685466,
          0.630517186027526,
          0.902728059891789,
          0.519282489082532,
          1.66060671402444,
          1.02281328367944,
          0.892502892723954,
          0.969433620547686,
          1.29934918685766,
          0.327163230000664,
          1.25890893821093,
          1.26110462471585,
          0.3041819401222,
          1.44882862257848,
          1.2875665675783,
          1.49537607406398,
          0.943434089491931,
          1.54855990106491,
          1.0947339566202,
          1.55526095979461,
          1.38945066226994,
          1.38069898840687,
          1.52199681104139,
          1.12167183608714,
          0.292956871515864,
          0.685937988358744,
          1.44307731093209,
          0.616810573192588,
          1.64968595570792,
          0.808982969980399,
          0.944090798130192,
          1.50461364233168,
          0.590927353613734,
          1.1721005687771,
          1.49159036959202,
          0.787129098143246,
          0.932311221709179,
          1.06184402730383,
          1.71779511292622,
          1.07531583235228,
          1.33051886263733,
          1.22567327645858,
          2.28600726481963,
          1.27133904319531,
          0.396216850503442,
          1.21968201824743,
          1.10552625678307,
          1.98252437260598,
          0.695197243837259,
          0.765296493992673,
          1.82964712136056,
          0.0611918456353968,
          0.832661929923749,
          1.46224249843351,
          0.698569846489762,
          1.99198866550859,
          0.781098791781922,
          2.33022515439259,
          3.35842349881369,
          1.83307889669395,
          0.26755191141353,
          0.754523597335553,
          1.13245178008424,
          0.839583040875595,
          1.05381391421355,
          1.21094298929596,
          0.398273208283436,
          -0.0473318420892674,
          0.896163773144661,
          1.17187213473804,
          2.87218367130169,
          1.71273051006468,
          1.90840839163394,
          2.02246219076283,
          1.73158341544632,
          0.848664430272533,
          1.06331255073084,
          0.950756757796549,
          0.821936045253742,
          0.788056076691746,
          1.71060938237464,
          0.618737913541539,
          1.87763315549822,
          1.03704295357252,
          2.8662885931298,
          2.24206585399344,
          1.80895864388631,
          1.04991147162741,
          1.33671775150787,
          2.38517335491812
         ],
         "yaxis": "y"
        }
       ],
       "layout": {
        "coloraxis": {
         "colorbar": {
          "title": {
           "text": "prediction"
          }
         },
         "colorscale": [
          [
           0,
           "#0d0887"
          ],
          [
           0.1111111111111111,
           "#46039f"
          ],
          [
           0.2222222222222222,
           "#7201a8"
          ],
          [
           0.3333333333333333,
           "#9c179e"
          ],
          [
           0.4444444444444444,
           "#bd3786"
          ],
          [
           0.5555555555555556,
           "#d8576b"
          ],
          [
           0.6666666666666666,
           "#ed7953"
          ],
          [
           0.7777777777777778,
           "#fb9f3a"
          ],
          [
           0.8888888888888888,
           "#fdca26"
          ],
          [
           1,
           "#f0f921"
          ]
         ]
        },
        "legend": {
         "tracegroupgap": 0
        },
        "template": {
         "data": {
          "bar": [
           {
            "error_x": {
             "color": "#2a3f5f"
            },
            "error_y": {
             "color": "#2a3f5f"
            },
            "marker": {
             "line": {
              "color": "#E5ECF6",
              "width": 0.5
             },
             "pattern": {
              "fillmode": "overlay",
              "size": 10,
              "solidity": 0.2
             }
            },
            "type": "bar"
           }
          ],
          "barpolar": [
           {
            "marker": {
             "line": {
              "color": "#E5ECF6",
              "width": 0.5
             },
             "pattern": {
              "fillmode": "overlay",
              "size": 10,
              "solidity": 0.2
             }
            },
            "type": "barpolar"
           }
          ],
          "carpet": [
           {
            "aaxis": {
             "endlinecolor": "#2a3f5f",
             "gridcolor": "white",
             "linecolor": "white",
             "minorgridcolor": "white",
             "startlinecolor": "#2a3f5f"
            },
            "baxis": {
             "endlinecolor": "#2a3f5f",
             "gridcolor": "white",
             "linecolor": "white",
             "minorgridcolor": "white",
             "startlinecolor": "#2a3f5f"
            },
            "type": "carpet"
           }
          ],
          "choropleth": [
           {
            "colorbar": {
             "outlinewidth": 0,
             "ticks": ""
            },
            "type": "choropleth"
           }
          ],
          "contour": [
           {
            "colorbar": {
             "outlinewidth": 0,
             "ticks": ""
            },
            "colorscale": [
             [
              0,
              "#0d0887"
             ],
             [
              0.1111111111111111,
              "#46039f"
             ],
             [
              0.2222222222222222,
              "#7201a8"
             ],
             [
              0.3333333333333333,
              "#9c179e"
             ],
             [
              0.4444444444444444,
              "#bd3786"
             ],
             [
              0.5555555555555556,
              "#d8576b"
             ],
             [
              0.6666666666666666,
              "#ed7953"
             ],
             [
              0.7777777777777778,
              "#fb9f3a"
             ],
             [
              0.8888888888888888,
              "#fdca26"
             ],
             [
              1,
              "#f0f921"
             ]
            ],
            "type": "contour"
           }
          ],
          "contourcarpet": [
           {
            "colorbar": {
             "outlinewidth": 0,
             "ticks": ""
            },
            "type": "contourcarpet"
           }
          ],
          "heatmap": [
           {
            "colorbar": {
             "outlinewidth": 0,
             "ticks": ""
            },
            "colorscale": [
             [
              0,
              "#0d0887"
             ],
             [
              0.1111111111111111,
              "#46039f"
             ],
             [
              0.2222222222222222,
              "#7201a8"
             ],
             [
              0.3333333333333333,
              "#9c179e"
             ],
             [
              0.4444444444444444,
              "#bd3786"
             ],
             [
              0.5555555555555556,
              "#d8576b"
             ],
             [
              0.6666666666666666,
              "#ed7953"
             ],
             [
              0.7777777777777778,
              "#fb9f3a"
             ],
             [
              0.8888888888888888,
              "#fdca26"
             ],
             [
              1,
              "#f0f921"
             ]
            ],
            "type": "heatmap"
           }
          ],
          "heatmapgl": [
           {
            "colorbar": {
             "outlinewidth": 0,
             "ticks": ""
            },
            "colorscale": [
             [
              0,
              "#0d0887"
             ],
             [
              0.1111111111111111,
              "#46039f"
             ],
             [
              0.2222222222222222,
              "#7201a8"
             ],
             [
              0.3333333333333333,
              "#9c179e"
             ],
             [
              0.4444444444444444,
              "#bd3786"
             ],
             [
              0.5555555555555556,
              "#d8576b"
             ],
             [
              0.6666666666666666,
              "#ed7953"
             ],
             [
              0.7777777777777778,
              "#fb9f3a"
             ],
             [
              0.8888888888888888,
              "#fdca26"
             ],
             [
              1,
              "#f0f921"
             ]
            ],
            "type": "heatmapgl"
           }
          ],
          "histogram": [
           {
            "marker": {
             "pattern": {
              "fillmode": "overlay",
              "size": 10,
              "solidity": 0.2
             }
            },
            "type": "histogram"
           }
          ],
          "histogram2d": [
           {
            "colorbar": {
             "outlinewidth": 0,
             "ticks": ""
            },
            "colorscale": [
             [
              0,
              "#0d0887"
             ],
             [
              0.1111111111111111,
              "#46039f"
             ],
             [
              0.2222222222222222,
              "#7201a8"
             ],
             [
              0.3333333333333333,
              "#9c179e"
             ],
             [
              0.4444444444444444,
              "#bd3786"
             ],
             [
              0.5555555555555556,
              "#d8576b"
             ],
             [
              0.6666666666666666,
              "#ed7953"
             ],
             [
              0.7777777777777778,
              "#fb9f3a"
             ],
             [
              0.8888888888888888,
              "#fdca26"
             ],
             [
              1,
              "#f0f921"
             ]
            ],
            "type": "histogram2d"
           }
          ],
          "histogram2dcontour": [
           {
            "colorbar": {
             "outlinewidth": 0,
             "ticks": ""
            },
            "colorscale": [
             [
              0,
              "#0d0887"
             ],
             [
              0.1111111111111111,
              "#46039f"
             ],
             [
              0.2222222222222222,
              "#7201a8"
             ],
             [
              0.3333333333333333,
              "#9c179e"
             ],
             [
              0.4444444444444444,
              "#bd3786"
             ],
             [
              0.5555555555555556,
              "#d8576b"
             ],
             [
              0.6666666666666666,
              "#ed7953"
             ],
             [
              0.7777777777777778,
              "#fb9f3a"
             ],
             [
              0.8888888888888888,
              "#fdca26"
             ],
             [
              1,
              "#f0f921"
             ]
            ],
            "type": "histogram2dcontour"
           }
          ],
          "mesh3d": [
           {
            "colorbar": {
             "outlinewidth": 0,
             "ticks": ""
            },
            "type": "mesh3d"
           }
          ],
          "parcoords": [
           {
            "line": {
             "colorbar": {
              "outlinewidth": 0,
              "ticks": ""
             }
            },
            "type": "parcoords"
           }
          ],
          "pie": [
           {
            "automargin": true,
            "type": "pie"
           }
          ],
          "scatter": [
           {
            "fillpattern": {
             "fillmode": "overlay",
             "size": 10,
             "solidity": 0.2
            },
            "type": "scatter"
           }
          ],
          "scatter3d": [
           {
            "line": {
             "colorbar": {
              "outlinewidth": 0,
              "ticks": ""
             }
            },
            "marker": {
             "colorbar": {
              "outlinewidth": 0,
              "ticks": ""
             }
            },
            "type": "scatter3d"
           }
          ],
          "scattercarpet": [
           {
            "marker": {
             "colorbar": {
              "outlinewidth": 0,
              "ticks": ""
             }
            },
            "type": "scattercarpet"
           }
          ],
          "scattergeo": [
           {
            "marker": {
             "colorbar": {
              "outlinewidth": 0,
              "ticks": ""
             }
            },
            "type": "scattergeo"
           }
          ],
          "scattergl": [
           {
            "marker": {
             "colorbar": {
              "outlinewidth": 0,
              "ticks": ""
             }
            },
            "type": "scattergl"
           }
          ],
          "scattermapbox": [
           {
            "marker": {
             "colorbar": {
              "outlinewidth": 0,
              "ticks": ""
             }
            },
            "type": "scattermapbox"
           }
          ],
          "scatterpolar": [
           {
            "marker": {
             "colorbar": {
              "outlinewidth": 0,
              "ticks": ""
             }
            },
            "type": "scatterpolar"
           }
          ],
          "scatterpolargl": [
           {
            "marker": {
             "colorbar": {
              "outlinewidth": 0,
              "ticks": ""
             }
            },
            "type": "scatterpolargl"
           }
          ],
          "scatterternary": [
           {
            "marker": {
             "colorbar": {
              "outlinewidth": 0,
              "ticks": ""
             }
            },
            "type": "scatterternary"
           }
          ],
          "surface": [
           {
            "colorbar": {
             "outlinewidth": 0,
             "ticks": ""
            },
            "colorscale": [
             [
              0,
              "#0d0887"
             ],
             [
              0.1111111111111111,
              "#46039f"
             ],
             [
              0.2222222222222222,
              "#7201a8"
             ],
             [
              0.3333333333333333,
              "#9c179e"
             ],
             [
              0.4444444444444444,
              "#bd3786"
             ],
             [
              0.5555555555555556,
              "#d8576b"
             ],
             [
              0.6666666666666666,
              "#ed7953"
             ],
             [
              0.7777777777777778,
              "#fb9f3a"
             ],
             [
              0.8888888888888888,
              "#fdca26"
             ],
             [
              1,
              "#f0f921"
             ]
            ],
            "type": "surface"
           }
          ],
          "table": [
           {
            "cells": {
             "fill": {
              "color": "#EBF0F8"
             },
             "line": {
              "color": "white"
             }
            },
            "header": {
             "fill": {
              "color": "#C8D4E3"
             },
             "line": {
              "color": "white"
             }
            },
            "type": "table"
           }
          ]
         },
         "layout": {
          "annotationdefaults": {
           "arrowcolor": "#2a3f5f",
           "arrowhead": 0,
           "arrowwidth": 1
          },
          "autotypenumbers": "strict",
          "coloraxis": {
           "colorbar": {
            "outlinewidth": 0,
            "ticks": ""
           }
          },
          "colorscale": {
           "diverging": [
            [
             0,
             "#8e0152"
            ],
            [
             0.1,
             "#c51b7d"
            ],
            [
             0.2,
             "#de77ae"
            ],
            [
             0.3,
             "#f1b6da"
            ],
            [
             0.4,
             "#fde0ef"
            ],
            [
             0.5,
             "#f7f7f7"
            ],
            [
             0.6,
             "#e6f5d0"
            ],
            [
             0.7,
             "#b8e186"
            ],
            [
             0.8,
             "#7fbc41"
            ],
            [
             0.9,
             "#4d9221"
            ],
            [
             1,
             "#276419"
            ]
           ],
           "sequential": [
            [
             0,
             "#0d0887"
            ],
            [
             0.1111111111111111,
             "#46039f"
            ],
            [
             0.2222222222222222,
             "#7201a8"
            ],
            [
             0.3333333333333333,
             "#9c179e"
            ],
            [
             0.4444444444444444,
             "#bd3786"
            ],
            [
             0.5555555555555556,
             "#d8576b"
            ],
            [
             0.6666666666666666,
             "#ed7953"
            ],
            [
             0.7777777777777778,
             "#fb9f3a"
            ],
            [
             0.8888888888888888,
             "#fdca26"
            ],
            [
             1,
             "#f0f921"
            ]
           ],
           "sequentialminus": [
            [
             0,
             "#0d0887"
            ],
            [
             0.1111111111111111,
             "#46039f"
            ],
            [
             0.2222222222222222,
             "#7201a8"
            ],
            [
             0.3333333333333333,
             "#9c179e"
            ],
            [
             0.4444444444444444,
             "#bd3786"
            ],
            [
             0.5555555555555556,
             "#d8576b"
            ],
            [
             0.6666666666666666,
             "#ed7953"
            ],
            [
             0.7777777777777778,
             "#fb9f3a"
            ],
            [
             0.8888888888888888,
             "#fdca26"
            ],
            [
             1,
             "#f0f921"
            ]
           ]
          },
          "colorway": [
           "#636efa",
           "#EF553B",
           "#00cc96",
           "#ab63fa",
           "#FFA15A",
           "#19d3f3",
           "#FF6692",
           "#B6E880",
           "#FF97FF",
           "#FECB52"
          ],
          "font": {
           "color": "#2a3f5f"
          },
          "geo": {
           "bgcolor": "white",
           "lakecolor": "white",
           "landcolor": "#E5ECF6",
           "showlakes": true,
           "showland": true,
           "subunitcolor": "white"
          },
          "hoverlabel": {
           "align": "left"
          },
          "hovermode": "closest",
          "mapbox": {
           "style": "light"
          },
          "paper_bgcolor": "white",
          "plot_bgcolor": "#E5ECF6",
          "polar": {
           "angularaxis": {
            "gridcolor": "white",
            "linecolor": "white",
            "ticks": ""
           },
           "bgcolor": "#E5ECF6",
           "radialaxis": {
            "gridcolor": "white",
            "linecolor": "white",
            "ticks": ""
           }
          },
          "scene": {
           "xaxis": {
            "backgroundcolor": "#E5ECF6",
            "gridcolor": "white",
            "gridwidth": 2,
            "linecolor": "white",
            "showbackground": true,
            "ticks": "",
            "zerolinecolor": "white"
           },
           "yaxis": {
            "backgroundcolor": "#E5ECF6",
            "gridcolor": "white",
            "gridwidth": 2,
            "linecolor": "white",
            "showbackground": true,
            "ticks": "",
            "zerolinecolor": "white"
           },
           "zaxis": {
            "backgroundcolor": "#E5ECF6",
            "gridcolor": "white",
            "gridwidth": 2,
            "linecolor": "white",
            "showbackground": true,
            "ticks": "",
            "zerolinecolor": "white"
           }
          },
          "shapedefaults": {
           "line": {
            "color": "#2a3f5f"
           }
          },
          "ternary": {
           "aaxis": {
            "gridcolor": "white",
            "linecolor": "white",
            "ticks": ""
           },
           "baxis": {
            "gridcolor": "white",
            "linecolor": "white",
            "ticks": ""
           },
           "bgcolor": "#E5ECF6",
           "caxis": {
            "gridcolor": "white",
            "linecolor": "white",
            "ticks": ""
           }
          },
          "title": {
           "x": 0.05
          },
          "xaxis": {
           "automargin": true,
           "gridcolor": "white",
           "linecolor": "white",
           "ticks": "",
           "title": {
            "standoff": 15
           },
           "zerolinecolor": "white",
           "zerolinewidth": 2
          },
          "yaxis": {
           "automargin": true,
           "gridcolor": "white",
           "linecolor": "white",
           "ticks": "",
           "title": {
            "standoff": 15
           },
           "zerolinecolor": "white",
           "zerolinewidth": 2
          }
         }
        },
        "title": {
         "text": "Data visualization of predictions for training dataset"
        },
        "xaxis": {
         "anchor": "y",
         "domain": [
          0,
          1
         ],
         "title": {
          "text": "x1"
         }
        },
        "yaxis": {
         "anchor": "x",
         "domain": [
          0,
          1
         ],
         "title": {
          "text": "x2"
         }
        }
       }
      }
     },
     "metadata": {},
     "output_type": "display_data"
    }
   ],
   "source": [
    "px.scatter(pd.DataFrame(dict(prediction=t_train_pred, \n",
    "                            x1 = synth_train[:,1], x2 = synth_train[:,2])),\n",
    "                            x='x1', y='x2', \n",
    "                            color='prediction', \n",
    "                            title = 'Data visualization of predictions for training dataset')"
>>>>>>> 4fde8d9bc65d556f448315158eed2de00c4bbbb7
   ]
  },
  {
   "cell_type": "code",
<<<<<<< HEAD
   "execution_count": null,
   "metadata": {},
   "outputs": [],
   "source": [
    "fig_prediction_test = px.scatter(pd.DataFrame(dict(prediction=classes_pred_test, x1 = synth_test[:,1], x2 = synth_test[:,2])),x='x1', y='x2', color='prediction', \n",
    "           title = 'Data visualization of predictions for training dataset',\n",
    "            color_discrete_map=color_map)\n",
    "fig_prediction_test.show()"
=======
   "execution_count": 124,
   "metadata": {},
   "outputs": [
    {
     "data": {
      "application/vnd.plotly.v1+json": {
       "config": {
        "plotlyServerURL": "https://plot.ly"
       },
       "data": [
        {
         "hovertemplate": "x1=%{x}<br>x2=%{y}<br>prediction=%{marker.color}<extra></extra>",
         "legendgroup": "",
         "marker": {
          "color": [
           0,
           0,
           0,
           0,
           0,
           0,
           0,
           0,
           0,
           1,
           0,
           1,
           0,
           0,
           1,
           0,
           0,
           1,
           1,
           0,
           0,
           1,
           0,
           1,
           1,
           0,
           1,
           0,
           0,
           1,
           0,
           1,
           0,
           1,
           0,
           0,
           1,
           1,
           0,
           0,
           0,
           0,
           0,
           0,
           0,
           0,
           0,
           1,
           1,
           0,
           0,
           1,
           1,
           1,
           0,
           0,
           1,
           0,
           0,
           0,
           0,
           0,
           0,
           0,
           0,
           0,
           0,
           1,
           0,
           0,
           0,
           1,
           0,
           0,
           1,
           1,
           0,
           0,
           1,
           1,
           1,
           0,
           1,
           0,
           0,
           0,
           1,
           1,
           0,
           0,
           0,
           0,
           0,
           0,
           0,
           0,
           0,
           0,
           0,
           0,
           0,
           0,
           0,
           0,
           0,
           0,
           0,
           1,
           0,
           0,
           0,
           0,
           0,
           0,
           0,
           0,
           1,
           0,
           0,
           0,
           0,
           0,
           0,
           1,
           0,
           1,
           0,
           0,
           0,
           0,
           0,
           0,
           0,
           0,
           1,
           1,
           0,
           0,
           0,
           0,
           0,
           0,
           1,
           1,
           1,
           0,
           0,
           0,
           1,
           0,
           0,
           0,
           0,
           0,
           1,
           0,
           0,
           0,
           0,
           0,
           1,
           0,
           0,
           1,
           0,
           0,
           0,
           1,
           0,
           0,
           1,
           0,
           0,
           0,
           1,
           0,
           0,
           1,
           0,
           0,
           0,
           0,
           0,
           0,
           1,
           0,
           0,
           1,
           1,
           0,
           1,
           1,
           1,
           0,
           0,
           0,
           0,
           0,
           0,
           1
          ],
          "coloraxis": "coloraxis",
          "symbol": "circle"
         },
         "mode": "markers",
         "name": "",
         "orientation": "v",
         "showlegend": false,
         "type": "scatter",
         "x": [
          0.548377329092262,
          -0.516182355090629,
          -0.928778331455398,
          0.0700040451666702,
          0.267028434070118,
          -0.57664073495068,
          -0.571998215013911,
          0.085910428686603,
          0.583964255424017,
          -1.06711927670054,
          -0.0562649176241551,
          -0.524936248287615,
          -1.23658248867188,
          -0.0778122418747806,
          -0.313748143992697,
          0.320501890715898,
          -0.0673953040731805,
          -1.47557179462652,
          -0.763320669217402,
          0.248011555664068,
          0.0507678126302484,
          -0.963208133408971,
          -0.0377217560626707,
          -0.845406922022226,
          -0.273976475842833,
          0.38706980512753,
          -0.515453361384079,
          -0.236570845966961,
          0.118125542055563,
          -1.57193989511746,
          0.108560055833345,
          -0.297763681076058,
          -0.082606122419637,
          -0.475767227078988,
          0.225359536365398,
          -0.450367581684656,
          -1.58918210776721,
          -0.528189115491888,
          -0.00913710710419539,
          0.0236993292805952,
          -1.12197108420919,
          -0.21084067686791,
          -0.439299420755364,
          0.253558969854388,
          0.0565460586650199,
          -0.845790721905697,
          -0.138891085533467,
          -0.76761402096743,
          -2.32044284842924,
          0.181205251422961,
          0.0616237373447102,
          -1.97950817180784,
          -1.82865193442128,
          -0.396859461129857,
          0.185940765129506,
          0.242214624825961,
          -1.75949747969882,
          -0.786570617189198,
          -0.272972303183431,
          -0.0683492981766457,
          0.37981736198006,
          0.411877216201486,
          0.624493102281784,
          0.374218223862995,
          -0.359385981243246,
          0.00204001381345192,
          -0.627939689758823,
          -0.979911850180111,
          -0.00309670876357458,
          0.472659867667311,
          -0.364861430898182,
          -1.14092922451121,
          0.598031033306676,
          -0.433484838905137,
          -0.661738017621415,
          -0.928490569809406,
          0.27261739929014,
          0.469379751784666,
          -0.982806734175102,
          -0.807872183354628,
          -0.906407397212613,
          0.31765713019852,
          -1.24450837985478,
          -0.82866299406517,
          0.125223148439006,
          0.402829030561488,
          -0.644725983097092,
          -0.125024565346589,
          0.122509414877926,
          -0.117159122572216,
          -0.414896196261272,
          0.667010909236402,
          -0.323341542211205,
          0.195800676442436,
          0.920280892517893,
          -0.419813896561999,
          0.764522987550377,
          -0.200450391687225,
          -0.55655771380751,
          -0.817012805111886,
          -0.307481598054774,
          0.518372391847711,
          -0.0522216419534324,
          -0.0891407688754548,
          -0.376213459453058,
          -0.185552176146169,
          0.0452703118049876,
          -2.04640660336104,
          0.142624578327731,
          0.217884224653961,
          -0.262772779044171,
          -0.392743472179356,
          -0.152963735156414,
          -0.308434594884213,
          -0.443331282774128,
          0.559985594073934,
          -0.778445111924726,
          0.00291103772014825,
          0.878565647971821,
          -0.256930499000692,
          0.106636130049651,
          0.263023271301074,
          -0.848661483702527,
          -2.41274778914931,
          0.111993914007595,
          -1.5751001895214,
          -0.613221147103123,
          -0.183816194525588,
          -0.0951863339009769,
          -0.197407853093086,
          0.0577566802760603,
          -0.204539823602067,
          0.360912290485671,
          -0.0410813411605664,
          -1.67968565591973,
          -0.335028542147327,
          0.414599190404883,
          0.398756392775222,
          -0.0214172068763818,
          -0.407777798342725,
          0.137821731307878,
          -0.0654821026982211,
          -0.721912456145992,
          -2.07619414954803,
          -2.18751664037211,
          -0.11972063948537,
          0.10808938448526,
          0.0856221746993185,
          -0.660248501392843,
          0.486436846381095,
          -0.28266599485881,
          -0.656915674428285,
          -0.0959839891294414,
          0.567023048354512,
          -1.31006571799162,
          1.13367514460339,
          -0.37462009367161,
          -0.0882190485399166,
          -0.366464808541563,
          0.378566605790398,
          -1.2811001910453,
          -0.462213860714353,
          -0.221525979700414,
          -0.767846621637193,
          -0.228390635621761,
          -0.653706799045404,
          -0.206821060457646,
          -2.28497955503337,
          -0.474856259090633,
          -0.0453717649712496,
          -0.709988961904898,
          0.884545558214667,
          1.05557165018865,
          0.872624954343398,
          0.427147660303257,
          0.204898647470406,
          -0.172981388528198,
          -1.04231905579272,
          0.105330755657552,
          -0.0364707620161139,
          0.0147315986681518,
          0.164811724028962,
          0.405739102948624,
          -0.0515259327825909,
          -1.45041108194038,
          -0.797775408401822,
          -0.420441119348396,
          0.148730085791825,
          -1.65439614364615,
          0.123099745855633,
          -0.882529286727313,
          -0.202186253686245,
          -2.46134068800087,
          -0.0365213174471908,
          -0.476107082766443,
          0.130861021802204,
          -0.580202218502463,
          -0.375980352154764,
          0.873127955012507,
          -1.15937100968576
         ],
         "xaxis": "x",
         "y": [
          1.22134530320384,
          1.56239592449128,
          0.921072165138784,
          0.619767465541004,
          1.10944063877699,
          1.02574324318762,
          0.974854417635832,
          1.44378449089036,
          0.67384451671234,
          2.74219238560352,
          0.733069928570148,
          2.29796093295549,
          0.823154359689919,
          1.7295137874625,
          2.49300606083952,
          1.53374220909852,
          1.87508167643949,
          2.13126284536764,
          2.37500357939566,
          0.4754874626989,
          1.32648867332763,
          2.51852029397605,
          0.171075479369506,
          2.54204914836556,
          2.00372610905544,
          0.81409488853711,
          2.87772459691337,
          0.271951143982723,
          0.495924901657298,
          2.3135992655951,
          1.10754480056025,
          2.61729223829357,
          0.954502725050198,
          3.10209136481352,
          0.632175514292634,
          0.725781341889401,
          1.86042125160628,
          2.73299470572279,
          1.27680423497737,
          0.920445134663086,
          0.7958071087491,
          0.749413480812492,
          1.14285779774138,
          0.999354716011732,
          1.30449333429873,
          1.20634140606149,
          1.29306998631839,
          2.73570473850442,
          0.171197394520336,
          0.685852110209349,
          0.2903518963329,
          1.95246043302185,
          1.17634595003463,
          2.63190361397327,
          1.01921892792935,
          0.632780279051705,
          2.03619486150151,
          0.933769474337435,
          1.34032051703064,
          0.750718278326924,
          1.20988055252001,
          0.594430318070608,
          0.915164135655217,
          2.68485101770858,
          1.12862284849947,
          1.14583204172884,
          1.09193081673849,
          3.10411731926305,
          0.848733736775521,
          1.00659220415066,
          0.106574959049199,
          1.70457752218246,
          0.277160947604507,
          0.787972492206155,
          1.61404577705731,
          2.65609878011815,
          2.2666868972584,
          1.59170534624135,
          1.91846738563112,
          2.31815604101098,
          3.56856180544402,
          0.793146108496185,
          2.17265707623045,
          1.02379892650343,
          1.03783690300666,
          0.407156531969976,
          2.38648557396108,
          2.5436596197055,
          1.33727320272511,
          0.226014805816382,
          1.55619073245446,
          0.639555638368627,
          1.63493665735755,
          0.935928805334338,
          0.832502840166526,
          0.636208571220306,
          0.825398949540176,
          1.31947881606818,
          1.51297128257285,
          1.23967181253111,
          1.14202419588134,
          1.05741688533421,
          0.710072807880766,
          1.39429475350813,
          0.930751730428528,
          0.705457629580737,
          0.837793024286457,
          1.45891620125888,
          0.348612563391087,
          0.299383442314548,
          1.13515761639336,
          -0.279656874506229,
          0.732629391972008,
          1.30016575884308,
          1.37424172975457,
          0.600807012737275,
          2.51026387013278,
          0.894505802368102,
          1.39559806874246,
          1.22349527642813,
          1.34804317190085,
          1.61623094247131,
          0.204548253002303,
          0.950345028608157,
          1.12797549271742,
          2.1037561499471,
          1.0046096337541,
          1.29675358084876,
          0.980307141171275,
          0.528213483269454,
          1.22782327403443,
          1.26668939932374,
          0.959838993946066,
          0.588009715512682,
          2.60184083230963,
          2.59649552566908,
          0.451285087858727,
          1.12888050856698,
          0.305985290184502,
          1.02210784646806,
          1.13400243003218,
          0.953905305734864,
          2.72702090766505,
          1.70558055574531,
          1.73380235316174,
          1.79715246994205,
          1.24567640765825,
          0.897228099467897,
          1.98502531176568,
          -0.00593180577588948,
          1.58873800816582,
          1.0791292384075,
          1.21747217361587,
          1.48769277880538,
          2.00811550104692,
          1.19616820337039,
          0.415267053961969,
          1.29030996498609,
          1.35425827849543,
          1.04926274038355,
          1.97519047077594,
          1.57920723668429,
          1.20963831562312,
          1.6576361357988,
          1.05070837937926,
          -0.289019908581884,
          0.742116116078059,
          0.933876862644036,
          1.20146692486729,
          0.360884390676445,
          1.72715318002346,
          1.3556539583376,
          1.52565266866653,
          0.595425374671883,
          3.11330391010599,
          0.88187115119512,
          0.752246828554789,
          1.64951776813502,
          1.45677347946852,
          1.56270505396944,
          1.75689923666271,
          1.98029252522278,
          1.17989595414942,
          1.81482319573317,
          1.62295011874497,
          1.23660620038195,
          0.884043351004991,
          2.90052857688239,
          1.66317302424411,
          1.15799581361209,
          2.50954582521607,
          3.87335148713437,
          1.08212758026752,
          0.929128589900525,
          0.264818829305995,
          0.468885297641863,
          0.945542697692527,
          0.843711905343365,
          1.20528156413835,
          1.74582541854328
         ],
         "yaxis": "y"
        }
       ],
       "layout": {
        "coloraxis": {
         "colorbar": {
          "title": {
           "text": "prediction"
          }
         },
         "colorscale": [
          [
           0,
           "#0d0887"
          ],
          [
           0.1111111111111111,
           "#46039f"
          ],
          [
           0.2222222222222222,
           "#7201a8"
          ],
          [
           0.3333333333333333,
           "#9c179e"
          ],
          [
           0.4444444444444444,
           "#bd3786"
          ],
          [
           0.5555555555555556,
           "#d8576b"
          ],
          [
           0.6666666666666666,
           "#ed7953"
          ],
          [
           0.7777777777777778,
           "#fb9f3a"
          ],
          [
           0.8888888888888888,
           "#fdca26"
          ],
          [
           1,
           "#f0f921"
          ]
         ]
        },
        "legend": {
         "tracegroupgap": 0
        },
        "template": {
         "data": {
          "bar": [
           {
            "error_x": {
             "color": "#2a3f5f"
            },
            "error_y": {
             "color": "#2a3f5f"
            },
            "marker": {
             "line": {
              "color": "#E5ECF6",
              "width": 0.5
             },
             "pattern": {
              "fillmode": "overlay",
              "size": 10,
              "solidity": 0.2
             }
            },
            "type": "bar"
           }
          ],
          "barpolar": [
           {
            "marker": {
             "line": {
              "color": "#E5ECF6",
              "width": 0.5
             },
             "pattern": {
              "fillmode": "overlay",
              "size": 10,
              "solidity": 0.2
             }
            },
            "type": "barpolar"
           }
          ],
          "carpet": [
           {
            "aaxis": {
             "endlinecolor": "#2a3f5f",
             "gridcolor": "white",
             "linecolor": "white",
             "minorgridcolor": "white",
             "startlinecolor": "#2a3f5f"
            },
            "baxis": {
             "endlinecolor": "#2a3f5f",
             "gridcolor": "white",
             "linecolor": "white",
             "minorgridcolor": "white",
             "startlinecolor": "#2a3f5f"
            },
            "type": "carpet"
           }
          ],
          "choropleth": [
           {
            "colorbar": {
             "outlinewidth": 0,
             "ticks": ""
            },
            "type": "choropleth"
           }
          ],
          "contour": [
           {
            "colorbar": {
             "outlinewidth": 0,
             "ticks": ""
            },
            "colorscale": [
             [
              0,
              "#0d0887"
             ],
             [
              0.1111111111111111,
              "#46039f"
             ],
             [
              0.2222222222222222,
              "#7201a8"
             ],
             [
              0.3333333333333333,
              "#9c179e"
             ],
             [
              0.4444444444444444,
              "#bd3786"
             ],
             [
              0.5555555555555556,
              "#d8576b"
             ],
             [
              0.6666666666666666,
              "#ed7953"
             ],
             [
              0.7777777777777778,
              "#fb9f3a"
             ],
             [
              0.8888888888888888,
              "#fdca26"
             ],
             [
              1,
              "#f0f921"
             ]
            ],
            "type": "contour"
           }
          ],
          "contourcarpet": [
           {
            "colorbar": {
             "outlinewidth": 0,
             "ticks": ""
            },
            "type": "contourcarpet"
           }
          ],
          "heatmap": [
           {
            "colorbar": {
             "outlinewidth": 0,
             "ticks": ""
            },
            "colorscale": [
             [
              0,
              "#0d0887"
             ],
             [
              0.1111111111111111,
              "#46039f"
             ],
             [
              0.2222222222222222,
              "#7201a8"
             ],
             [
              0.3333333333333333,
              "#9c179e"
             ],
             [
              0.4444444444444444,
              "#bd3786"
             ],
             [
              0.5555555555555556,
              "#d8576b"
             ],
             [
              0.6666666666666666,
              "#ed7953"
             ],
             [
              0.7777777777777778,
              "#fb9f3a"
             ],
             [
              0.8888888888888888,
              "#fdca26"
             ],
             [
              1,
              "#f0f921"
             ]
            ],
            "type": "heatmap"
           }
          ],
          "heatmapgl": [
           {
            "colorbar": {
             "outlinewidth": 0,
             "ticks": ""
            },
            "colorscale": [
             [
              0,
              "#0d0887"
             ],
             [
              0.1111111111111111,
              "#46039f"
             ],
             [
              0.2222222222222222,
              "#7201a8"
             ],
             [
              0.3333333333333333,
              "#9c179e"
             ],
             [
              0.4444444444444444,
              "#bd3786"
             ],
             [
              0.5555555555555556,
              "#d8576b"
             ],
             [
              0.6666666666666666,
              "#ed7953"
             ],
             [
              0.7777777777777778,
              "#fb9f3a"
             ],
             [
              0.8888888888888888,
              "#fdca26"
             ],
             [
              1,
              "#f0f921"
             ]
            ],
            "type": "heatmapgl"
           }
          ],
          "histogram": [
           {
            "marker": {
             "pattern": {
              "fillmode": "overlay",
              "size": 10,
              "solidity": 0.2
             }
            },
            "type": "histogram"
           }
          ],
          "histogram2d": [
           {
            "colorbar": {
             "outlinewidth": 0,
             "ticks": ""
            },
            "colorscale": [
             [
              0,
              "#0d0887"
             ],
             [
              0.1111111111111111,
              "#46039f"
             ],
             [
              0.2222222222222222,
              "#7201a8"
             ],
             [
              0.3333333333333333,
              "#9c179e"
             ],
             [
              0.4444444444444444,
              "#bd3786"
             ],
             [
              0.5555555555555556,
              "#d8576b"
             ],
             [
              0.6666666666666666,
              "#ed7953"
             ],
             [
              0.7777777777777778,
              "#fb9f3a"
             ],
             [
              0.8888888888888888,
              "#fdca26"
             ],
             [
              1,
              "#f0f921"
             ]
            ],
            "type": "histogram2d"
           }
          ],
          "histogram2dcontour": [
           {
            "colorbar": {
             "outlinewidth": 0,
             "ticks": ""
            },
            "colorscale": [
             [
              0,
              "#0d0887"
             ],
             [
              0.1111111111111111,
              "#46039f"
             ],
             [
              0.2222222222222222,
              "#7201a8"
             ],
             [
              0.3333333333333333,
              "#9c179e"
             ],
             [
              0.4444444444444444,
              "#bd3786"
             ],
             [
              0.5555555555555556,
              "#d8576b"
             ],
             [
              0.6666666666666666,
              "#ed7953"
             ],
             [
              0.7777777777777778,
              "#fb9f3a"
             ],
             [
              0.8888888888888888,
              "#fdca26"
             ],
             [
              1,
              "#f0f921"
             ]
            ],
            "type": "histogram2dcontour"
           }
          ],
          "mesh3d": [
           {
            "colorbar": {
             "outlinewidth": 0,
             "ticks": ""
            },
            "type": "mesh3d"
           }
          ],
          "parcoords": [
           {
            "line": {
             "colorbar": {
              "outlinewidth": 0,
              "ticks": ""
             }
            },
            "type": "parcoords"
           }
          ],
          "pie": [
           {
            "automargin": true,
            "type": "pie"
           }
          ],
          "scatter": [
           {
            "fillpattern": {
             "fillmode": "overlay",
             "size": 10,
             "solidity": 0.2
            },
            "type": "scatter"
           }
          ],
          "scatter3d": [
           {
            "line": {
             "colorbar": {
              "outlinewidth": 0,
              "ticks": ""
             }
            },
            "marker": {
             "colorbar": {
              "outlinewidth": 0,
              "ticks": ""
             }
            },
            "type": "scatter3d"
           }
          ],
          "scattercarpet": [
           {
            "marker": {
             "colorbar": {
              "outlinewidth": 0,
              "ticks": ""
             }
            },
            "type": "scattercarpet"
           }
          ],
          "scattergeo": [
           {
            "marker": {
             "colorbar": {
              "outlinewidth": 0,
              "ticks": ""
             }
            },
            "type": "scattergeo"
           }
          ],
          "scattergl": [
           {
            "marker": {
             "colorbar": {
              "outlinewidth": 0,
              "ticks": ""
             }
            },
            "type": "scattergl"
           }
          ],
          "scattermapbox": [
           {
            "marker": {
             "colorbar": {
              "outlinewidth": 0,
              "ticks": ""
             }
            },
            "type": "scattermapbox"
           }
          ],
          "scatterpolar": [
           {
            "marker": {
             "colorbar": {
              "outlinewidth": 0,
              "ticks": ""
             }
            },
            "type": "scatterpolar"
           }
          ],
          "scatterpolargl": [
           {
            "marker": {
             "colorbar": {
              "outlinewidth": 0,
              "ticks": ""
             }
            },
            "type": "scatterpolargl"
           }
          ],
          "scatterternary": [
           {
            "marker": {
             "colorbar": {
              "outlinewidth": 0,
              "ticks": ""
             }
            },
            "type": "scatterternary"
           }
          ],
          "surface": [
           {
            "colorbar": {
             "outlinewidth": 0,
             "ticks": ""
            },
            "colorscale": [
             [
              0,
              "#0d0887"
             ],
             [
              0.1111111111111111,
              "#46039f"
             ],
             [
              0.2222222222222222,
              "#7201a8"
             ],
             [
              0.3333333333333333,
              "#9c179e"
             ],
             [
              0.4444444444444444,
              "#bd3786"
             ],
             [
              0.5555555555555556,
              "#d8576b"
             ],
             [
              0.6666666666666666,
              "#ed7953"
             ],
             [
              0.7777777777777778,
              "#fb9f3a"
             ],
             [
              0.8888888888888888,
              "#fdca26"
             ],
             [
              1,
              "#f0f921"
             ]
            ],
            "type": "surface"
           }
          ],
          "table": [
           {
            "cells": {
             "fill": {
              "color": "#EBF0F8"
             },
             "line": {
              "color": "white"
             }
            },
            "header": {
             "fill": {
              "color": "#C8D4E3"
             },
             "line": {
              "color": "white"
             }
            },
            "type": "table"
           }
          ]
         },
         "layout": {
          "annotationdefaults": {
           "arrowcolor": "#2a3f5f",
           "arrowhead": 0,
           "arrowwidth": 1
          },
          "autotypenumbers": "strict",
          "coloraxis": {
           "colorbar": {
            "outlinewidth": 0,
            "ticks": ""
           }
          },
          "colorscale": {
           "diverging": [
            [
             0,
             "#8e0152"
            ],
            [
             0.1,
             "#c51b7d"
            ],
            [
             0.2,
             "#de77ae"
            ],
            [
             0.3,
             "#f1b6da"
            ],
            [
             0.4,
             "#fde0ef"
            ],
            [
             0.5,
             "#f7f7f7"
            ],
            [
             0.6,
             "#e6f5d0"
            ],
            [
             0.7,
             "#b8e186"
            ],
            [
             0.8,
             "#7fbc41"
            ],
            [
             0.9,
             "#4d9221"
            ],
            [
             1,
             "#276419"
            ]
           ],
           "sequential": [
            [
             0,
             "#0d0887"
            ],
            [
             0.1111111111111111,
             "#46039f"
            ],
            [
             0.2222222222222222,
             "#7201a8"
            ],
            [
             0.3333333333333333,
             "#9c179e"
            ],
            [
             0.4444444444444444,
             "#bd3786"
            ],
            [
             0.5555555555555556,
             "#d8576b"
            ],
            [
             0.6666666666666666,
             "#ed7953"
            ],
            [
             0.7777777777777778,
             "#fb9f3a"
            ],
            [
             0.8888888888888888,
             "#fdca26"
            ],
            [
             1,
             "#f0f921"
            ]
           ],
           "sequentialminus": [
            [
             0,
             "#0d0887"
            ],
            [
             0.1111111111111111,
             "#46039f"
            ],
            [
             0.2222222222222222,
             "#7201a8"
            ],
            [
             0.3333333333333333,
             "#9c179e"
            ],
            [
             0.4444444444444444,
             "#bd3786"
            ],
            [
             0.5555555555555556,
             "#d8576b"
            ],
            [
             0.6666666666666666,
             "#ed7953"
            ],
            [
             0.7777777777777778,
             "#fb9f3a"
            ],
            [
             0.8888888888888888,
             "#fdca26"
            ],
            [
             1,
             "#f0f921"
            ]
           ]
          },
          "colorway": [
           "#636efa",
           "#EF553B",
           "#00cc96",
           "#ab63fa",
           "#FFA15A",
           "#19d3f3",
           "#FF6692",
           "#B6E880",
           "#FF97FF",
           "#FECB52"
          ],
          "font": {
           "color": "#2a3f5f"
          },
          "geo": {
           "bgcolor": "white",
           "lakecolor": "white",
           "landcolor": "#E5ECF6",
           "showlakes": true,
           "showland": true,
           "subunitcolor": "white"
          },
          "hoverlabel": {
           "align": "left"
          },
          "hovermode": "closest",
          "mapbox": {
           "style": "light"
          },
          "paper_bgcolor": "white",
          "plot_bgcolor": "#E5ECF6",
          "polar": {
           "angularaxis": {
            "gridcolor": "white",
            "linecolor": "white",
            "ticks": ""
           },
           "bgcolor": "#E5ECF6",
           "radialaxis": {
            "gridcolor": "white",
            "linecolor": "white",
            "ticks": ""
           }
          },
          "scene": {
           "xaxis": {
            "backgroundcolor": "#E5ECF6",
            "gridcolor": "white",
            "gridwidth": 2,
            "linecolor": "white",
            "showbackground": true,
            "ticks": "",
            "zerolinecolor": "white"
           },
           "yaxis": {
            "backgroundcolor": "#E5ECF6",
            "gridcolor": "white",
            "gridwidth": 2,
            "linecolor": "white",
            "showbackground": true,
            "ticks": "",
            "zerolinecolor": "white"
           },
           "zaxis": {
            "backgroundcolor": "#E5ECF6",
            "gridcolor": "white",
            "gridwidth": 2,
            "linecolor": "white",
            "showbackground": true,
            "ticks": "",
            "zerolinecolor": "white"
           }
          },
          "shapedefaults": {
           "line": {
            "color": "#2a3f5f"
           }
          },
          "ternary": {
           "aaxis": {
            "gridcolor": "white",
            "linecolor": "white",
            "ticks": ""
           },
           "baxis": {
            "gridcolor": "white",
            "linecolor": "white",
            "ticks": ""
           },
           "bgcolor": "#E5ECF6",
           "caxis": {
            "gridcolor": "white",
            "linecolor": "white",
            "ticks": ""
           }
          },
          "title": {
           "x": 0.05
          },
          "xaxis": {
           "automargin": true,
           "gridcolor": "white",
           "linecolor": "white",
           "ticks": "",
           "title": {
            "standoff": 15
           },
           "zerolinecolor": "white",
           "zerolinewidth": 2
          },
          "yaxis": {
           "automargin": true,
           "gridcolor": "white",
           "linecolor": "white",
           "ticks": "",
           "title": {
            "standoff": 15
           },
           "zerolinecolor": "white",
           "zerolinewidth": 2
          }
         }
        },
        "title": {
         "text": "Data visualization of predictions for training dataset"
        },
        "xaxis": {
         "anchor": "y",
         "domain": [
          0,
          1
         ],
         "title": {
          "text": "x1"
         }
        },
        "yaxis": {
         "anchor": "x",
         "domain": [
          0,
          1
         ],
         "title": {
          "text": "x2"
         }
        }
       }
      }
     },
     "metadata": {},
     "output_type": "display_data"
    }
   ],
   "source": [
    "px.scatter(pd.DataFrame(dict(prediction=t_test_pred, \n",
    "                            x1 = synth_test[:,1], x2 = synth_test[:,2])),\n",
    "                            x='x1', y='x2', \n",
    "                            color='prediction', \n",
    "                            title = 'Data visualization of predictions for training dataset')"
>>>>>>> 4fde8d9bc65d556f448315158eed2de00c4bbbb7
   ]
  },
  {
   "cell_type": "markdown",
   "metadata": {},
   "source": [
    "The boundary decision is for $y = 0.5$. But the sigmoid function $\\sigma (w^Tx) = 0.5$ for $w^Tx = 0$. So the equation for the decision boundary is $w^Tx = 0$. We can draw it by using : "
   ]
  },
  {
   "cell_type": "code",
<<<<<<< HEAD
   "execution_count": null,
   "metadata": {},
   "outputs": [],
=======
   "execution_count": 126,
   "metadata": {},
   "outputs": [
    {
     "data": {
      "application/vnd.plotly.v1+json": {
       "config": {
        "plotlyServerURL": "https://plot.ly"
       },
       "data": [
        {
         "hovertemplate": "x1=%{x}<br>x2=%{y}<extra></extra>",
         "legendgroup": "",
         "line": {
          "color": "#636efa",
          "dash": "solid"
         },
         "marker": {
          "symbol": "circle"
         },
         "mode": "lines",
         "name": "",
         "orientation": "v",
         "showlegend": false,
         "type": "scatter",
         "x": [
          -2.5,
          -2.0555555555555554,
          -1.6111111111111112,
          -1.1666666666666667,
          -0.7222222222222223,
          -0.2777777777777777,
          0.16666666666666652,
          0.6111111111111107,
          1.0555555555555554,
          1.5
         ],
         "xaxis": "x",
         "y": [
          -0.6994360741017863,
          -0.16313999995286635,
          0.373156074196053,
          0.9094521483449729,
          1.445748222493893,
          1.9820442966428127,
          2.5183403707917322,
          3.0546364449406513,
          3.590932519089572,
          4.127228593238492
         ],
         "yaxis": "y"
        },
        {
         "hovertemplate": "x1=%{x}<br>x2=%{y}<br>prediction=%{marker.color}<extra></extra>",
         "legendgroup": "",
         "marker": {
          "color": [
           1,
           0,
           0,
           0,
           1,
           0,
           0,
           1,
           0,
           0,
           0,
           0,
           0,
           0,
           1,
           0,
           0,
           0,
           0,
           0,
           0,
           0,
           0,
           0,
           0,
           0,
           0,
           0,
           0,
           0,
           0,
           1,
           1,
           0,
           1,
           0,
           0,
           0,
           0,
           0,
           0,
           0,
           0,
           0,
           0,
           0,
           1,
           0,
           0,
           0,
           0,
           0,
           1,
           0,
           0,
           1,
           0,
           0,
           0,
           0,
           0,
           0,
           0,
           0,
           0,
           1,
           0,
           0,
           1,
           1,
           0,
           0,
           0,
           0,
           0,
           0,
           0,
           0,
           0,
           0,
           1,
           1,
           0,
           1,
           0,
           0,
           0,
           0,
           0,
           0,
           0,
           0,
           0,
           0,
           1,
           1,
           1,
           1,
           0,
           1
          ],
          "coloraxis": "coloraxis",
          "symbol": "circle"
         },
         "mode": "markers",
         "name": "",
         "orientation": "v",
         "showlegend": false,
         "type": "scatter",
         "x": [
          -0.7222114129586,
          -0.924679116842047,
          -0.766022814943256,
          -0.0732894788556321,
          -1.39291197731283,
          -0.202233388934873,
          0.481737671784873,
          -1.8655121173883,
          -0.152468727259032,
          0.38635648749537,
          0.0875764309449853,
          -0.162870803458684,
          0.205627604169169,
          -0.678880330634291,
          -0.631309441163341,
          0.451357146792761,
          -0.379447056101144,
          -0.67808924696543,
          -0.6353679482783,
          -0.394503312110074,
          0.361462943689775,
          -0.528663281188422,
          -0.251051039074415,
          0.0782884526153436,
          -0.508588755690403,
          0.408869378842243,
          -0.365647127226042,
          1.41253669598274,
          0.185369078583416,
          -0.236029032268647,
          -0.614293392873263,
          -2.30408372892482,
          -1.6439848395597,
          -0.099631142781541,
          -1.86566438019087,
          0.29707583331245,
          0.241635652911538,
          -0.308059142141273,
          -0.297331480776794,
          0.0425462999904274,
          -0.293494487190976,
          0.0472196732520648,
          0.511434878557491,
          -0.439766514299069,
          0.579727620807449,
          -0.22587568551299,
          -1.31699917881368,
          0.403359817740187,
          0.0639802809331373,
          -0.200549408990853,
          0.179212309999251,
          -0.684781628987495,
          -1.26626456003945,
          -0.0732275755712657,
          -0.278834870223322,
          -1.66770622666567,
          -0.932784740334326,
          -0.222492292076254,
          -0.419301102755586,
          -0.102320397506266,
          0.246029751804449,
          0.477011782112795,
          0.166124402475656,
          0.392487504719149,
          0.26880633054516,
          -1.1892336014914,
          -0.353530726637597,
          0.205995439006312,
          0.357859266241446,
          -1.07534587024242,
          0.610733203164708,
          0.34783794294932,
          0.133976431089943,
          0.487540109560409,
          0.328137396161017,
          -0.307134275715141,
          0.622456405195283,
          0.023923605235643,
          1.25632667782585,
          -0.207777444410633,
          -1.07196807487457,
          -1.40721089942489,
          0.643678850830891,
          -1.45327218253849,
          0.891230481942523,
          0.252066390681576,
          0.504207545290246,
          0.299918390809922,
          0.490412055618484,
          1.06136639629653,
          0.365892980043387,
          -1.1024698611437,
          0.115280444945432,
          0.222190799619655,
          0.317452811019433,
          -0.693623079484142,
          -0.651352405455385,
          -2.24047850877093,
          -0.688766771564921,
          -2.06428441900782
         ],
         "xaxis": "x",
         "y": [
          2.00447087136242,
          0.483669283303616,
          0.794328908264858,
          0.969929147538923,
          0.999697089649905,
          1.35033191198506,
          0.984418575841914,
          1.54773159042401,
          0.922489686034523,
          0.366336720871723,
          0.932411534685466,
          0.630517186027526,
          0.902728059891789,
          0.519282489082532,
          1.66060671402444,
          1.02281328367944,
          0.892502892723954,
          0.969433620547686,
          1.29934918685766,
          0.327163230000664,
          1.25890893821093,
          1.26110462471585,
          0.3041819401222,
          1.44882862257848,
          1.2875665675783,
          1.49537607406398,
          0.943434089491931,
          1.54855990106491,
          1.0947339566202,
          1.55526095979461,
          1.38945066226994,
          1.38069898840687,
          1.52199681104139,
          1.12167183608714,
          0.292956871515864,
          0.685937988358744,
          1.44307731093209,
          0.616810573192588,
          1.64968595570792,
          0.808982969980399,
          0.944090798130192,
          1.50461364233168,
          0.590927353613734,
          1.1721005687771,
          1.49159036959202,
          0.787129098143246,
          0.932311221709179,
          1.06184402730383,
          1.71779511292622,
          1.07531583235228,
          1.33051886263733,
          1.22567327645858,
          2.28600726481963,
          1.27133904319531,
          0.396216850503442,
          1.21968201824743,
          1.10552625678307,
          1.98252437260598,
          0.695197243837259,
          0.765296493992673,
          1.82964712136056,
          0.0611918456353968,
          0.832661929923749,
          1.46224249843351,
          0.698569846489762,
          1.99198866550859,
          0.781098791781922,
          2.33022515439259,
          3.35842349881369,
          1.83307889669395,
          0.26755191141353,
          0.754523597335553,
          1.13245178008424,
          0.839583040875595,
          1.05381391421355,
          1.21094298929596,
          0.398273208283436,
          -0.0473318420892674,
          0.896163773144661,
          1.17187213473804,
          2.87218367130169,
          1.71273051006468,
          1.90840839163394,
          2.02246219076283,
          1.73158341544632,
          0.848664430272533,
          1.06331255073084,
          0.950756757796549,
          0.821936045253742,
          0.788056076691746,
          1.71060938237464,
          0.618737913541539,
          1.87763315549822,
          1.03704295357252,
          2.8662885931298,
          2.24206585399344,
          1.80895864388631,
          1.04991147162741,
          1.33671775150787,
          2.38517335491812
         ],
         "yaxis": "y"
        }
       ],
       "layout": {
        "template": {
         "data": {
          "bar": [
           {
            "error_x": {
             "color": "#2a3f5f"
            },
            "error_y": {
             "color": "#2a3f5f"
            },
            "marker": {
             "line": {
              "color": "#E5ECF6",
              "width": 0.5
             },
             "pattern": {
              "fillmode": "overlay",
              "size": 10,
              "solidity": 0.2
             }
            },
            "type": "bar"
           }
          ],
          "barpolar": [
           {
            "marker": {
             "line": {
              "color": "#E5ECF6",
              "width": 0.5
             },
             "pattern": {
              "fillmode": "overlay",
              "size": 10,
              "solidity": 0.2
             }
            },
            "type": "barpolar"
           }
          ],
          "carpet": [
           {
            "aaxis": {
             "endlinecolor": "#2a3f5f",
             "gridcolor": "white",
             "linecolor": "white",
             "minorgridcolor": "white",
             "startlinecolor": "#2a3f5f"
            },
            "baxis": {
             "endlinecolor": "#2a3f5f",
             "gridcolor": "white",
             "linecolor": "white",
             "minorgridcolor": "white",
             "startlinecolor": "#2a3f5f"
            },
            "type": "carpet"
           }
          ],
          "choropleth": [
           {
            "colorbar": {
             "outlinewidth": 0,
             "ticks": ""
            },
            "type": "choropleth"
           }
          ],
          "contour": [
           {
            "colorbar": {
             "outlinewidth": 0,
             "ticks": ""
            },
            "colorscale": [
             [
              0,
              "#0d0887"
             ],
             [
              0.1111111111111111,
              "#46039f"
             ],
             [
              0.2222222222222222,
              "#7201a8"
             ],
             [
              0.3333333333333333,
              "#9c179e"
             ],
             [
              0.4444444444444444,
              "#bd3786"
             ],
             [
              0.5555555555555556,
              "#d8576b"
             ],
             [
              0.6666666666666666,
              "#ed7953"
             ],
             [
              0.7777777777777778,
              "#fb9f3a"
             ],
             [
              0.8888888888888888,
              "#fdca26"
             ],
             [
              1,
              "#f0f921"
             ]
            ],
            "type": "contour"
           }
          ],
          "contourcarpet": [
           {
            "colorbar": {
             "outlinewidth": 0,
             "ticks": ""
            },
            "type": "contourcarpet"
           }
          ],
          "heatmap": [
           {
            "colorbar": {
             "outlinewidth": 0,
             "ticks": ""
            },
            "colorscale": [
             [
              0,
              "#0d0887"
             ],
             [
              0.1111111111111111,
              "#46039f"
             ],
             [
              0.2222222222222222,
              "#7201a8"
             ],
             [
              0.3333333333333333,
              "#9c179e"
             ],
             [
              0.4444444444444444,
              "#bd3786"
             ],
             [
              0.5555555555555556,
              "#d8576b"
             ],
             [
              0.6666666666666666,
              "#ed7953"
             ],
             [
              0.7777777777777778,
              "#fb9f3a"
             ],
             [
              0.8888888888888888,
              "#fdca26"
             ],
             [
              1,
              "#f0f921"
             ]
            ],
            "type": "heatmap"
           }
          ],
          "heatmapgl": [
           {
            "colorbar": {
             "outlinewidth": 0,
             "ticks": ""
            },
            "colorscale": [
             [
              0,
              "#0d0887"
             ],
             [
              0.1111111111111111,
              "#46039f"
             ],
             [
              0.2222222222222222,
              "#7201a8"
             ],
             [
              0.3333333333333333,
              "#9c179e"
             ],
             [
              0.4444444444444444,
              "#bd3786"
             ],
             [
              0.5555555555555556,
              "#d8576b"
             ],
             [
              0.6666666666666666,
              "#ed7953"
             ],
             [
              0.7777777777777778,
              "#fb9f3a"
             ],
             [
              0.8888888888888888,
              "#fdca26"
             ],
             [
              1,
              "#f0f921"
             ]
            ],
            "type": "heatmapgl"
           }
          ],
          "histogram": [
           {
            "marker": {
             "pattern": {
              "fillmode": "overlay",
              "size": 10,
              "solidity": 0.2
             }
            },
            "type": "histogram"
           }
          ],
          "histogram2d": [
           {
            "colorbar": {
             "outlinewidth": 0,
             "ticks": ""
            },
            "colorscale": [
             [
              0,
              "#0d0887"
             ],
             [
              0.1111111111111111,
              "#46039f"
             ],
             [
              0.2222222222222222,
              "#7201a8"
             ],
             [
              0.3333333333333333,
              "#9c179e"
             ],
             [
              0.4444444444444444,
              "#bd3786"
             ],
             [
              0.5555555555555556,
              "#d8576b"
             ],
             [
              0.6666666666666666,
              "#ed7953"
             ],
             [
              0.7777777777777778,
              "#fb9f3a"
             ],
             [
              0.8888888888888888,
              "#fdca26"
             ],
             [
              1,
              "#f0f921"
             ]
            ],
            "type": "histogram2d"
           }
          ],
          "histogram2dcontour": [
           {
            "colorbar": {
             "outlinewidth": 0,
             "ticks": ""
            },
            "colorscale": [
             [
              0,
              "#0d0887"
             ],
             [
              0.1111111111111111,
              "#46039f"
             ],
             [
              0.2222222222222222,
              "#7201a8"
             ],
             [
              0.3333333333333333,
              "#9c179e"
             ],
             [
              0.4444444444444444,
              "#bd3786"
             ],
             [
              0.5555555555555556,
              "#d8576b"
             ],
             [
              0.6666666666666666,
              "#ed7953"
             ],
             [
              0.7777777777777778,
              "#fb9f3a"
             ],
             [
              0.8888888888888888,
              "#fdca26"
             ],
             [
              1,
              "#f0f921"
             ]
            ],
            "type": "histogram2dcontour"
           }
          ],
          "mesh3d": [
           {
            "colorbar": {
             "outlinewidth": 0,
             "ticks": ""
            },
            "type": "mesh3d"
           }
          ],
          "parcoords": [
           {
            "line": {
             "colorbar": {
              "outlinewidth": 0,
              "ticks": ""
             }
            },
            "type": "parcoords"
           }
          ],
          "pie": [
           {
            "automargin": true,
            "type": "pie"
           }
          ],
          "scatter": [
           {
            "fillpattern": {
             "fillmode": "overlay",
             "size": 10,
             "solidity": 0.2
            },
            "type": "scatter"
           }
          ],
          "scatter3d": [
           {
            "line": {
             "colorbar": {
              "outlinewidth": 0,
              "ticks": ""
             }
            },
            "marker": {
             "colorbar": {
              "outlinewidth": 0,
              "ticks": ""
             }
            },
            "type": "scatter3d"
           }
          ],
          "scattercarpet": [
           {
            "marker": {
             "colorbar": {
              "outlinewidth": 0,
              "ticks": ""
             }
            },
            "type": "scattercarpet"
           }
          ],
          "scattergeo": [
           {
            "marker": {
             "colorbar": {
              "outlinewidth": 0,
              "ticks": ""
             }
            },
            "type": "scattergeo"
           }
          ],
          "scattergl": [
           {
            "marker": {
             "colorbar": {
              "outlinewidth": 0,
              "ticks": ""
             }
            },
            "type": "scattergl"
           }
          ],
          "scattermapbox": [
           {
            "marker": {
             "colorbar": {
              "outlinewidth": 0,
              "ticks": ""
             }
            },
            "type": "scattermapbox"
           }
          ],
          "scatterpolar": [
           {
            "marker": {
             "colorbar": {
              "outlinewidth": 0,
              "ticks": ""
             }
            },
            "type": "scatterpolar"
           }
          ],
          "scatterpolargl": [
           {
            "marker": {
             "colorbar": {
              "outlinewidth": 0,
              "ticks": ""
             }
            },
            "type": "scatterpolargl"
           }
          ],
          "scatterternary": [
           {
            "marker": {
             "colorbar": {
              "outlinewidth": 0,
              "ticks": ""
             }
            },
            "type": "scatterternary"
           }
          ],
          "surface": [
           {
            "colorbar": {
             "outlinewidth": 0,
             "ticks": ""
            },
            "colorscale": [
             [
              0,
              "#0d0887"
             ],
             [
              0.1111111111111111,
              "#46039f"
             ],
             [
              0.2222222222222222,
              "#7201a8"
             ],
             [
              0.3333333333333333,
              "#9c179e"
             ],
             [
              0.4444444444444444,
              "#bd3786"
             ],
             [
              0.5555555555555556,
              "#d8576b"
             ],
             [
              0.6666666666666666,
              "#ed7953"
             ],
             [
              0.7777777777777778,
              "#fb9f3a"
             ],
             [
              0.8888888888888888,
              "#fdca26"
             ],
             [
              1,
              "#f0f921"
             ]
            ],
            "type": "surface"
           }
          ],
          "table": [
           {
            "cells": {
             "fill": {
              "color": "#EBF0F8"
             },
             "line": {
              "color": "white"
             }
            },
            "header": {
             "fill": {
              "color": "#C8D4E3"
             },
             "line": {
              "color": "white"
             }
            },
            "type": "table"
           }
          ]
         },
         "layout": {
          "annotationdefaults": {
           "arrowcolor": "#2a3f5f",
           "arrowhead": 0,
           "arrowwidth": 1
          },
          "autotypenumbers": "strict",
          "coloraxis": {
           "colorbar": {
            "outlinewidth": 0,
            "ticks": ""
           }
          },
          "colorscale": {
           "diverging": [
            [
             0,
             "#8e0152"
            ],
            [
             0.1,
             "#c51b7d"
            ],
            [
             0.2,
             "#de77ae"
            ],
            [
             0.3,
             "#f1b6da"
            ],
            [
             0.4,
             "#fde0ef"
            ],
            [
             0.5,
             "#f7f7f7"
            ],
            [
             0.6,
             "#e6f5d0"
            ],
            [
             0.7,
             "#b8e186"
            ],
            [
             0.8,
             "#7fbc41"
            ],
            [
             0.9,
             "#4d9221"
            ],
            [
             1,
             "#276419"
            ]
           ],
           "sequential": [
            [
             0,
             "#0d0887"
            ],
            [
             0.1111111111111111,
             "#46039f"
            ],
            [
             0.2222222222222222,
             "#7201a8"
            ],
            [
             0.3333333333333333,
             "#9c179e"
            ],
            [
             0.4444444444444444,
             "#bd3786"
            ],
            [
             0.5555555555555556,
             "#d8576b"
            ],
            [
             0.6666666666666666,
             "#ed7953"
            ],
            [
             0.7777777777777778,
             "#fb9f3a"
            ],
            [
             0.8888888888888888,
             "#fdca26"
            ],
            [
             1,
             "#f0f921"
            ]
           ],
           "sequentialminus": [
            [
             0,
             "#0d0887"
            ],
            [
             0.1111111111111111,
             "#46039f"
            ],
            [
             0.2222222222222222,
             "#7201a8"
            ],
            [
             0.3333333333333333,
             "#9c179e"
            ],
            [
             0.4444444444444444,
             "#bd3786"
            ],
            [
             0.5555555555555556,
             "#d8576b"
            ],
            [
             0.6666666666666666,
             "#ed7953"
            ],
            [
             0.7777777777777778,
             "#fb9f3a"
            ],
            [
             0.8888888888888888,
             "#fdca26"
            ],
            [
             1,
             "#f0f921"
            ]
           ]
          },
          "colorway": [
           "#636efa",
           "#EF553B",
           "#00cc96",
           "#ab63fa",
           "#FFA15A",
           "#19d3f3",
           "#FF6692",
           "#B6E880",
           "#FF97FF",
           "#FECB52"
          ],
          "font": {
           "color": "#2a3f5f"
          },
          "geo": {
           "bgcolor": "white",
           "lakecolor": "white",
           "landcolor": "#E5ECF6",
           "showlakes": true,
           "showland": true,
           "subunitcolor": "white"
          },
          "hoverlabel": {
           "align": "left"
          },
          "hovermode": "closest",
          "mapbox": {
           "style": "light"
          },
          "paper_bgcolor": "white",
          "plot_bgcolor": "#E5ECF6",
          "polar": {
           "angularaxis": {
            "gridcolor": "white",
            "linecolor": "white",
            "ticks": ""
           },
           "bgcolor": "#E5ECF6",
           "radialaxis": {
            "gridcolor": "white",
            "linecolor": "white",
            "ticks": ""
           }
          },
          "scene": {
           "xaxis": {
            "backgroundcolor": "#E5ECF6",
            "gridcolor": "white",
            "gridwidth": 2,
            "linecolor": "white",
            "showbackground": true,
            "ticks": "",
            "zerolinecolor": "white"
           },
           "yaxis": {
            "backgroundcolor": "#E5ECF6",
            "gridcolor": "white",
            "gridwidth": 2,
            "linecolor": "white",
            "showbackground": true,
            "ticks": "",
            "zerolinecolor": "white"
           },
           "zaxis": {
            "backgroundcolor": "#E5ECF6",
            "gridcolor": "white",
            "gridwidth": 2,
            "linecolor": "white",
            "showbackground": true,
            "ticks": "",
            "zerolinecolor": "white"
           }
          },
          "shapedefaults": {
           "line": {
            "color": "#2a3f5f"
           }
          },
          "ternary": {
           "aaxis": {
            "gridcolor": "white",
            "linecolor": "white",
            "ticks": ""
           },
           "baxis": {
            "gridcolor": "white",
            "linecolor": "white",
            "ticks": ""
           },
           "bgcolor": "#E5ECF6",
           "caxis": {
            "gridcolor": "white",
            "linecolor": "white",
            "ticks": ""
           }
          },
          "title": {
           "x": 0.05
          },
          "xaxis": {
           "automargin": true,
           "gridcolor": "white",
           "linecolor": "white",
           "ticks": "",
           "title": {
            "standoff": 15
           },
           "zerolinecolor": "white",
           "zerolinewidth": 2
          },
          "yaxis": {
           "automargin": true,
           "gridcolor": "white",
           "linecolor": "white",
           "ticks": "",
           "title": {
            "standoff": 15
           },
           "zerolinecolor": "white",
           "zerolinewidth": 2
          }
         }
        },
        "title": {
         "text": "Decision Boundary with predictions of training dataset"
        }
       }
      }
     },
     "metadata": {},
     "output_type": "display_data"
    }
   ],
>>>>>>> 4fde8d9bc65d556f448315158eed2de00c4bbbb7
   "source": [
    "import plotly.graph_objects as go\n",
    "\n",
    "# First compute w... then: \n",
    "x1 = np.linspace(-2.5,1.5,10) \n",
    "x2 = (-w[0]-w[1]*x1)/w[2]\n",
    "fig1 = px.line(pd.DataFrame(dict(x1=x1, x2=x2)), x='x1', y='x2')\n",
<<<<<<< HEAD
    "fig_boundary = go.Figure(data = fig1.data + fig_prediction_train.data)\n",
=======
    "fig2 = px.scatter(pd.DataFrame(dict(prediction=t_train_pred, \n",
    "                                    x1 = synth_train[:,1], x2 = synth_train[:,2])),\n",
    "                                    x='x1', y='x2', \n",
    "                                    color='prediction')\n",
    "fig_boundary = go.Figure(data = fig1.data + fig2.data)\n",
>>>>>>> 4fde8d9bc65d556f448315158eed2de00c4bbbb7
    "fig_boundary.update_layout(dict(title='Decision Boundary with predictions of training dataset'))\n",
    "fig_boundary.show()"
   ]
  },
  {
   "cell_type": "code",
<<<<<<< HEAD
   "execution_count": null,
   "metadata": {},
   "outputs": [],
   "source": [
    "fig2_test = px.scatter(pd.DataFrame(dict(prediction=2-t_test_pred, x1 = synth_test[:,1], x2 = synth_test[:,2])),x='x1', y='x2', color='prediction')\n",
    "fig_boundary_test = go.Figure(data = fig1.data + fig_prediction_test.data)\n",
=======
   "execution_count": 127,
   "metadata": {},
   "outputs": [
    {
     "data": {
      "application/vnd.plotly.v1+json": {
       "config": {
        "plotlyServerURL": "https://plot.ly"
       },
       "data": [
        {
         "hovertemplate": "x1=%{x}<br>x2=%{y}<extra></extra>",
         "legendgroup": "",
         "line": {
          "color": "#636efa",
          "dash": "solid"
         },
         "marker": {
          "symbol": "circle"
         },
         "mode": "lines",
         "name": "",
         "orientation": "v",
         "showlegend": false,
         "type": "scatter",
         "x": [
          -2.5,
          -2.0555555555555554,
          -1.6111111111111112,
          -1.1666666666666667,
          -0.7222222222222223,
          -0.2777777777777777,
          0.16666666666666652,
          0.6111111111111107,
          1.0555555555555554,
          1.5
         ],
         "xaxis": "x",
         "y": [
          -0.6994360741017863,
          -0.16313999995286635,
          0.373156074196053,
          0.9094521483449729,
          1.445748222493893,
          1.9820442966428127,
          2.5183403707917322,
          3.0546364449406513,
          3.590932519089572,
          4.127228593238492
         ],
         "yaxis": "y"
        },
        {
         "hovertemplate": "x1=%{x}<br>x2=%{y}<br>prediction=%{marker.color}<extra></extra>",
         "legendgroup": "",
         "marker": {
          "color": [
           0,
           0,
           0,
           0,
           0,
           0,
           0,
           0,
           0,
           1,
           0,
           1,
           0,
           0,
           1,
           0,
           0,
           1,
           1,
           0,
           0,
           1,
           0,
           1,
           1,
           0,
           1,
           0,
           0,
           1,
           0,
           1,
           0,
           1,
           0,
           0,
           1,
           1,
           0,
           0,
           0,
           0,
           0,
           0,
           0,
           0,
           0,
           1,
           1,
           0,
           0,
           1,
           1,
           1,
           0,
           0,
           1,
           0,
           0,
           0,
           0,
           0,
           0,
           0,
           0,
           0,
           0,
           1,
           0,
           0,
           0,
           1,
           0,
           0,
           1,
           1,
           0,
           0,
           1,
           1,
           1,
           0,
           1,
           0,
           0,
           0,
           1,
           1,
           0,
           0,
           0,
           0,
           0,
           0,
           0,
           0,
           0,
           0,
           0,
           0,
           0,
           0,
           0,
           0,
           0,
           0,
           0,
           1,
           0,
           0,
           0,
           0,
           0,
           0,
           0,
           0,
           1,
           0,
           0,
           0,
           0,
           0,
           0,
           1,
           0,
           1,
           0,
           0,
           0,
           0,
           0,
           0,
           0,
           0,
           1,
           1,
           0,
           0,
           0,
           0,
           0,
           0,
           1,
           1,
           1,
           0,
           0,
           0,
           1,
           0,
           0,
           0,
           0,
           0,
           1,
           0,
           0,
           0,
           0,
           0,
           1,
           0,
           0,
           1,
           0,
           0,
           0,
           1,
           0,
           0,
           1,
           0,
           0,
           0,
           1,
           0,
           0,
           1,
           0,
           0,
           0,
           0,
           0,
           0,
           1,
           0,
           0,
           1,
           1,
           0,
           1,
           1,
           1,
           0,
           0,
           0,
           0,
           0,
           0,
           1
          ],
          "coloraxis": "coloraxis",
          "symbol": "circle"
         },
         "mode": "markers",
         "name": "",
         "orientation": "v",
         "showlegend": false,
         "type": "scatter",
         "x": [
          0.548377329092262,
          -0.516182355090629,
          -0.928778331455398,
          0.0700040451666702,
          0.267028434070118,
          -0.57664073495068,
          -0.571998215013911,
          0.085910428686603,
          0.583964255424017,
          -1.06711927670054,
          -0.0562649176241551,
          -0.524936248287615,
          -1.23658248867188,
          -0.0778122418747806,
          -0.313748143992697,
          0.320501890715898,
          -0.0673953040731805,
          -1.47557179462652,
          -0.763320669217402,
          0.248011555664068,
          0.0507678126302484,
          -0.963208133408971,
          -0.0377217560626707,
          -0.845406922022226,
          -0.273976475842833,
          0.38706980512753,
          -0.515453361384079,
          -0.236570845966961,
          0.118125542055563,
          -1.57193989511746,
          0.108560055833345,
          -0.297763681076058,
          -0.082606122419637,
          -0.475767227078988,
          0.225359536365398,
          -0.450367581684656,
          -1.58918210776721,
          -0.528189115491888,
          -0.00913710710419539,
          0.0236993292805952,
          -1.12197108420919,
          -0.21084067686791,
          -0.439299420755364,
          0.253558969854388,
          0.0565460586650199,
          -0.845790721905697,
          -0.138891085533467,
          -0.76761402096743,
          -2.32044284842924,
          0.181205251422961,
          0.0616237373447102,
          -1.97950817180784,
          -1.82865193442128,
          -0.396859461129857,
          0.185940765129506,
          0.242214624825961,
          -1.75949747969882,
          -0.786570617189198,
          -0.272972303183431,
          -0.0683492981766457,
          0.37981736198006,
          0.411877216201486,
          0.624493102281784,
          0.374218223862995,
          -0.359385981243246,
          0.00204001381345192,
          -0.627939689758823,
          -0.979911850180111,
          -0.00309670876357458,
          0.472659867667311,
          -0.364861430898182,
          -1.14092922451121,
          0.598031033306676,
          -0.433484838905137,
          -0.661738017621415,
          -0.928490569809406,
          0.27261739929014,
          0.469379751784666,
          -0.982806734175102,
          -0.807872183354628,
          -0.906407397212613,
          0.31765713019852,
          -1.24450837985478,
          -0.82866299406517,
          0.125223148439006,
          0.402829030561488,
          -0.644725983097092,
          -0.125024565346589,
          0.122509414877926,
          -0.117159122572216,
          -0.414896196261272,
          0.667010909236402,
          -0.323341542211205,
          0.195800676442436,
          0.920280892517893,
          -0.419813896561999,
          0.764522987550377,
          -0.200450391687225,
          -0.55655771380751,
          -0.817012805111886,
          -0.307481598054774,
          0.518372391847711,
          -0.0522216419534324,
          -0.0891407688754548,
          -0.376213459453058,
          -0.185552176146169,
          0.0452703118049876,
          -2.04640660336104,
          0.142624578327731,
          0.217884224653961,
          -0.262772779044171,
          -0.392743472179356,
          -0.152963735156414,
          -0.308434594884213,
          -0.443331282774128,
          0.559985594073934,
          -0.778445111924726,
          0.00291103772014825,
          0.878565647971821,
          -0.256930499000692,
          0.106636130049651,
          0.263023271301074,
          -0.848661483702527,
          -2.41274778914931,
          0.111993914007595,
          -1.5751001895214,
          -0.613221147103123,
          -0.183816194525588,
          -0.0951863339009769,
          -0.197407853093086,
          0.0577566802760603,
          -0.204539823602067,
          0.360912290485671,
          -0.0410813411605664,
          -1.67968565591973,
          -0.335028542147327,
          0.414599190404883,
          0.398756392775222,
          -0.0214172068763818,
          -0.407777798342725,
          0.137821731307878,
          -0.0654821026982211,
          -0.721912456145992,
          -2.07619414954803,
          -2.18751664037211,
          -0.11972063948537,
          0.10808938448526,
          0.0856221746993185,
          -0.660248501392843,
          0.486436846381095,
          -0.28266599485881,
          -0.656915674428285,
          -0.0959839891294414,
          0.567023048354512,
          -1.31006571799162,
          1.13367514460339,
          -0.37462009367161,
          -0.0882190485399166,
          -0.366464808541563,
          0.378566605790398,
          -1.2811001910453,
          -0.462213860714353,
          -0.221525979700414,
          -0.767846621637193,
          -0.228390635621761,
          -0.653706799045404,
          -0.206821060457646,
          -2.28497955503337,
          -0.474856259090633,
          -0.0453717649712496,
          -0.709988961904898,
          0.884545558214667,
          1.05557165018865,
          0.872624954343398,
          0.427147660303257,
          0.204898647470406,
          -0.172981388528198,
          -1.04231905579272,
          0.105330755657552,
          -0.0364707620161139,
          0.0147315986681518,
          0.164811724028962,
          0.405739102948624,
          -0.0515259327825909,
          -1.45041108194038,
          -0.797775408401822,
          -0.420441119348396,
          0.148730085791825,
          -1.65439614364615,
          0.123099745855633,
          -0.882529286727313,
          -0.202186253686245,
          -2.46134068800087,
          -0.0365213174471908,
          -0.476107082766443,
          0.130861021802204,
          -0.580202218502463,
          -0.375980352154764,
          0.873127955012507,
          -1.15937100968576
         ],
         "xaxis": "x",
         "y": [
          1.22134530320384,
          1.56239592449128,
          0.921072165138784,
          0.619767465541004,
          1.10944063877699,
          1.02574324318762,
          0.974854417635832,
          1.44378449089036,
          0.67384451671234,
          2.74219238560352,
          0.733069928570148,
          2.29796093295549,
          0.823154359689919,
          1.7295137874625,
          2.49300606083952,
          1.53374220909852,
          1.87508167643949,
          2.13126284536764,
          2.37500357939566,
          0.4754874626989,
          1.32648867332763,
          2.51852029397605,
          0.171075479369506,
          2.54204914836556,
          2.00372610905544,
          0.81409488853711,
          2.87772459691337,
          0.271951143982723,
          0.495924901657298,
          2.3135992655951,
          1.10754480056025,
          2.61729223829357,
          0.954502725050198,
          3.10209136481352,
          0.632175514292634,
          0.725781341889401,
          1.86042125160628,
          2.73299470572279,
          1.27680423497737,
          0.920445134663086,
          0.7958071087491,
          0.749413480812492,
          1.14285779774138,
          0.999354716011732,
          1.30449333429873,
          1.20634140606149,
          1.29306998631839,
          2.73570473850442,
          0.171197394520336,
          0.685852110209349,
          0.2903518963329,
          1.95246043302185,
          1.17634595003463,
          2.63190361397327,
          1.01921892792935,
          0.632780279051705,
          2.03619486150151,
          0.933769474337435,
          1.34032051703064,
          0.750718278326924,
          1.20988055252001,
          0.594430318070608,
          0.915164135655217,
          2.68485101770858,
          1.12862284849947,
          1.14583204172884,
          1.09193081673849,
          3.10411731926305,
          0.848733736775521,
          1.00659220415066,
          0.106574959049199,
          1.70457752218246,
          0.277160947604507,
          0.787972492206155,
          1.61404577705731,
          2.65609878011815,
          2.2666868972584,
          1.59170534624135,
          1.91846738563112,
          2.31815604101098,
          3.56856180544402,
          0.793146108496185,
          2.17265707623045,
          1.02379892650343,
          1.03783690300666,
          0.407156531969976,
          2.38648557396108,
          2.5436596197055,
          1.33727320272511,
          0.226014805816382,
          1.55619073245446,
          0.639555638368627,
          1.63493665735755,
          0.935928805334338,
          0.832502840166526,
          0.636208571220306,
          0.825398949540176,
          1.31947881606818,
          1.51297128257285,
          1.23967181253111,
          1.14202419588134,
          1.05741688533421,
          0.710072807880766,
          1.39429475350813,
          0.930751730428528,
          0.705457629580737,
          0.837793024286457,
          1.45891620125888,
          0.348612563391087,
          0.299383442314548,
          1.13515761639336,
          -0.279656874506229,
          0.732629391972008,
          1.30016575884308,
          1.37424172975457,
          0.600807012737275,
          2.51026387013278,
          0.894505802368102,
          1.39559806874246,
          1.22349527642813,
          1.34804317190085,
          1.61623094247131,
          0.204548253002303,
          0.950345028608157,
          1.12797549271742,
          2.1037561499471,
          1.0046096337541,
          1.29675358084876,
          0.980307141171275,
          0.528213483269454,
          1.22782327403443,
          1.26668939932374,
          0.959838993946066,
          0.588009715512682,
          2.60184083230963,
          2.59649552566908,
          0.451285087858727,
          1.12888050856698,
          0.305985290184502,
          1.02210784646806,
          1.13400243003218,
          0.953905305734864,
          2.72702090766505,
          1.70558055574531,
          1.73380235316174,
          1.79715246994205,
          1.24567640765825,
          0.897228099467897,
          1.98502531176568,
          -0.00593180577588948,
          1.58873800816582,
          1.0791292384075,
          1.21747217361587,
          1.48769277880538,
          2.00811550104692,
          1.19616820337039,
          0.415267053961969,
          1.29030996498609,
          1.35425827849543,
          1.04926274038355,
          1.97519047077594,
          1.57920723668429,
          1.20963831562312,
          1.6576361357988,
          1.05070837937926,
          -0.289019908581884,
          0.742116116078059,
          0.933876862644036,
          1.20146692486729,
          0.360884390676445,
          1.72715318002346,
          1.3556539583376,
          1.52565266866653,
          0.595425374671883,
          3.11330391010599,
          0.88187115119512,
          0.752246828554789,
          1.64951776813502,
          1.45677347946852,
          1.56270505396944,
          1.75689923666271,
          1.98029252522278,
          1.17989595414942,
          1.81482319573317,
          1.62295011874497,
          1.23660620038195,
          0.884043351004991,
          2.90052857688239,
          1.66317302424411,
          1.15799581361209,
          2.50954582521607,
          3.87335148713437,
          1.08212758026752,
          0.929128589900525,
          0.264818829305995,
          0.468885297641863,
          0.945542697692527,
          0.843711905343365,
          1.20528156413835,
          1.74582541854328
         ],
         "yaxis": "y"
        }
       ],
       "layout": {
        "template": {
         "data": {
          "bar": [
           {
            "error_x": {
             "color": "#2a3f5f"
            },
            "error_y": {
             "color": "#2a3f5f"
            },
            "marker": {
             "line": {
              "color": "#E5ECF6",
              "width": 0.5
             },
             "pattern": {
              "fillmode": "overlay",
              "size": 10,
              "solidity": 0.2
             }
            },
            "type": "bar"
           }
          ],
          "barpolar": [
           {
            "marker": {
             "line": {
              "color": "#E5ECF6",
              "width": 0.5
             },
             "pattern": {
              "fillmode": "overlay",
              "size": 10,
              "solidity": 0.2
             }
            },
            "type": "barpolar"
           }
          ],
          "carpet": [
           {
            "aaxis": {
             "endlinecolor": "#2a3f5f",
             "gridcolor": "white",
             "linecolor": "white",
             "minorgridcolor": "white",
             "startlinecolor": "#2a3f5f"
            },
            "baxis": {
             "endlinecolor": "#2a3f5f",
             "gridcolor": "white",
             "linecolor": "white",
             "minorgridcolor": "white",
             "startlinecolor": "#2a3f5f"
            },
            "type": "carpet"
           }
          ],
          "choropleth": [
           {
            "colorbar": {
             "outlinewidth": 0,
             "ticks": ""
            },
            "type": "choropleth"
           }
          ],
          "contour": [
           {
            "colorbar": {
             "outlinewidth": 0,
             "ticks": ""
            },
            "colorscale": [
             [
              0,
              "#0d0887"
             ],
             [
              0.1111111111111111,
              "#46039f"
             ],
             [
              0.2222222222222222,
              "#7201a8"
             ],
             [
              0.3333333333333333,
              "#9c179e"
             ],
             [
              0.4444444444444444,
              "#bd3786"
             ],
             [
              0.5555555555555556,
              "#d8576b"
             ],
             [
              0.6666666666666666,
              "#ed7953"
             ],
             [
              0.7777777777777778,
              "#fb9f3a"
             ],
             [
              0.8888888888888888,
              "#fdca26"
             ],
             [
              1,
              "#f0f921"
             ]
            ],
            "type": "contour"
           }
          ],
          "contourcarpet": [
           {
            "colorbar": {
             "outlinewidth": 0,
             "ticks": ""
            },
            "type": "contourcarpet"
           }
          ],
          "heatmap": [
           {
            "colorbar": {
             "outlinewidth": 0,
             "ticks": ""
            },
            "colorscale": [
             [
              0,
              "#0d0887"
             ],
             [
              0.1111111111111111,
              "#46039f"
             ],
             [
              0.2222222222222222,
              "#7201a8"
             ],
             [
              0.3333333333333333,
              "#9c179e"
             ],
             [
              0.4444444444444444,
              "#bd3786"
             ],
             [
              0.5555555555555556,
              "#d8576b"
             ],
             [
              0.6666666666666666,
              "#ed7953"
             ],
             [
              0.7777777777777778,
              "#fb9f3a"
             ],
             [
              0.8888888888888888,
              "#fdca26"
             ],
             [
              1,
              "#f0f921"
             ]
            ],
            "type": "heatmap"
           }
          ],
          "heatmapgl": [
           {
            "colorbar": {
             "outlinewidth": 0,
             "ticks": ""
            },
            "colorscale": [
             [
              0,
              "#0d0887"
             ],
             [
              0.1111111111111111,
              "#46039f"
             ],
             [
              0.2222222222222222,
              "#7201a8"
             ],
             [
              0.3333333333333333,
              "#9c179e"
             ],
             [
              0.4444444444444444,
              "#bd3786"
             ],
             [
              0.5555555555555556,
              "#d8576b"
             ],
             [
              0.6666666666666666,
              "#ed7953"
             ],
             [
              0.7777777777777778,
              "#fb9f3a"
             ],
             [
              0.8888888888888888,
              "#fdca26"
             ],
             [
              1,
              "#f0f921"
             ]
            ],
            "type": "heatmapgl"
           }
          ],
          "histogram": [
           {
            "marker": {
             "pattern": {
              "fillmode": "overlay",
              "size": 10,
              "solidity": 0.2
             }
            },
            "type": "histogram"
           }
          ],
          "histogram2d": [
           {
            "colorbar": {
             "outlinewidth": 0,
             "ticks": ""
            },
            "colorscale": [
             [
              0,
              "#0d0887"
             ],
             [
              0.1111111111111111,
              "#46039f"
             ],
             [
              0.2222222222222222,
              "#7201a8"
             ],
             [
              0.3333333333333333,
              "#9c179e"
             ],
             [
              0.4444444444444444,
              "#bd3786"
             ],
             [
              0.5555555555555556,
              "#d8576b"
             ],
             [
              0.6666666666666666,
              "#ed7953"
             ],
             [
              0.7777777777777778,
              "#fb9f3a"
             ],
             [
              0.8888888888888888,
              "#fdca26"
             ],
             [
              1,
              "#f0f921"
             ]
            ],
            "type": "histogram2d"
           }
          ],
          "histogram2dcontour": [
           {
            "colorbar": {
             "outlinewidth": 0,
             "ticks": ""
            },
            "colorscale": [
             [
              0,
              "#0d0887"
             ],
             [
              0.1111111111111111,
              "#46039f"
             ],
             [
              0.2222222222222222,
              "#7201a8"
             ],
             [
              0.3333333333333333,
              "#9c179e"
             ],
             [
              0.4444444444444444,
              "#bd3786"
             ],
             [
              0.5555555555555556,
              "#d8576b"
             ],
             [
              0.6666666666666666,
              "#ed7953"
             ],
             [
              0.7777777777777778,
              "#fb9f3a"
             ],
             [
              0.8888888888888888,
              "#fdca26"
             ],
             [
              1,
              "#f0f921"
             ]
            ],
            "type": "histogram2dcontour"
           }
          ],
          "mesh3d": [
           {
            "colorbar": {
             "outlinewidth": 0,
             "ticks": ""
            },
            "type": "mesh3d"
           }
          ],
          "parcoords": [
           {
            "line": {
             "colorbar": {
              "outlinewidth": 0,
              "ticks": ""
             }
            },
            "type": "parcoords"
           }
          ],
          "pie": [
           {
            "automargin": true,
            "type": "pie"
           }
          ],
          "scatter": [
           {
            "fillpattern": {
             "fillmode": "overlay",
             "size": 10,
             "solidity": 0.2
            },
            "type": "scatter"
           }
          ],
          "scatter3d": [
           {
            "line": {
             "colorbar": {
              "outlinewidth": 0,
              "ticks": ""
             }
            },
            "marker": {
             "colorbar": {
              "outlinewidth": 0,
              "ticks": ""
             }
            },
            "type": "scatter3d"
           }
          ],
          "scattercarpet": [
           {
            "marker": {
             "colorbar": {
              "outlinewidth": 0,
              "ticks": ""
             }
            },
            "type": "scattercarpet"
           }
          ],
          "scattergeo": [
           {
            "marker": {
             "colorbar": {
              "outlinewidth": 0,
              "ticks": ""
             }
            },
            "type": "scattergeo"
           }
          ],
          "scattergl": [
           {
            "marker": {
             "colorbar": {
              "outlinewidth": 0,
              "ticks": ""
             }
            },
            "type": "scattergl"
           }
          ],
          "scattermapbox": [
           {
            "marker": {
             "colorbar": {
              "outlinewidth": 0,
              "ticks": ""
             }
            },
            "type": "scattermapbox"
           }
          ],
          "scatterpolar": [
           {
            "marker": {
             "colorbar": {
              "outlinewidth": 0,
              "ticks": ""
             }
            },
            "type": "scatterpolar"
           }
          ],
          "scatterpolargl": [
           {
            "marker": {
             "colorbar": {
              "outlinewidth": 0,
              "ticks": ""
             }
            },
            "type": "scatterpolargl"
           }
          ],
          "scatterternary": [
           {
            "marker": {
             "colorbar": {
              "outlinewidth": 0,
              "ticks": ""
             }
            },
            "type": "scatterternary"
           }
          ],
          "surface": [
           {
            "colorbar": {
             "outlinewidth": 0,
             "ticks": ""
            },
            "colorscale": [
             [
              0,
              "#0d0887"
             ],
             [
              0.1111111111111111,
              "#46039f"
             ],
             [
              0.2222222222222222,
              "#7201a8"
             ],
             [
              0.3333333333333333,
              "#9c179e"
             ],
             [
              0.4444444444444444,
              "#bd3786"
             ],
             [
              0.5555555555555556,
              "#d8576b"
             ],
             [
              0.6666666666666666,
              "#ed7953"
             ],
             [
              0.7777777777777778,
              "#fb9f3a"
             ],
             [
              0.8888888888888888,
              "#fdca26"
             ],
             [
              1,
              "#f0f921"
             ]
            ],
            "type": "surface"
           }
          ],
          "table": [
           {
            "cells": {
             "fill": {
              "color": "#EBF0F8"
             },
             "line": {
              "color": "white"
             }
            },
            "header": {
             "fill": {
              "color": "#C8D4E3"
             },
             "line": {
              "color": "white"
             }
            },
            "type": "table"
           }
          ]
         },
         "layout": {
          "annotationdefaults": {
           "arrowcolor": "#2a3f5f",
           "arrowhead": 0,
           "arrowwidth": 1
          },
          "autotypenumbers": "strict",
          "coloraxis": {
           "colorbar": {
            "outlinewidth": 0,
            "ticks": ""
           }
          },
          "colorscale": {
           "diverging": [
            [
             0,
             "#8e0152"
            ],
            [
             0.1,
             "#c51b7d"
            ],
            [
             0.2,
             "#de77ae"
            ],
            [
             0.3,
             "#f1b6da"
            ],
            [
             0.4,
             "#fde0ef"
            ],
            [
             0.5,
             "#f7f7f7"
            ],
            [
             0.6,
             "#e6f5d0"
            ],
            [
             0.7,
             "#b8e186"
            ],
            [
             0.8,
             "#7fbc41"
            ],
            [
             0.9,
             "#4d9221"
            ],
            [
             1,
             "#276419"
            ]
           ],
           "sequential": [
            [
             0,
             "#0d0887"
            ],
            [
             0.1111111111111111,
             "#46039f"
            ],
            [
             0.2222222222222222,
             "#7201a8"
            ],
            [
             0.3333333333333333,
             "#9c179e"
            ],
            [
             0.4444444444444444,
             "#bd3786"
            ],
            [
             0.5555555555555556,
             "#d8576b"
            ],
            [
             0.6666666666666666,
             "#ed7953"
            ],
            [
             0.7777777777777778,
             "#fb9f3a"
            ],
            [
             0.8888888888888888,
             "#fdca26"
            ],
            [
             1,
             "#f0f921"
            ]
           ],
           "sequentialminus": [
            [
             0,
             "#0d0887"
            ],
            [
             0.1111111111111111,
             "#46039f"
            ],
            [
             0.2222222222222222,
             "#7201a8"
            ],
            [
             0.3333333333333333,
             "#9c179e"
            ],
            [
             0.4444444444444444,
             "#bd3786"
            ],
            [
             0.5555555555555556,
             "#d8576b"
            ],
            [
             0.6666666666666666,
             "#ed7953"
            ],
            [
             0.7777777777777778,
             "#fb9f3a"
            ],
            [
             0.8888888888888888,
             "#fdca26"
            ],
            [
             1,
             "#f0f921"
            ]
           ]
          },
          "colorway": [
           "#636efa",
           "#EF553B",
           "#00cc96",
           "#ab63fa",
           "#FFA15A",
           "#19d3f3",
           "#FF6692",
           "#B6E880",
           "#FF97FF",
           "#FECB52"
          ],
          "font": {
           "color": "#2a3f5f"
          },
          "geo": {
           "bgcolor": "white",
           "lakecolor": "white",
           "landcolor": "#E5ECF6",
           "showlakes": true,
           "showland": true,
           "subunitcolor": "white"
          },
          "hoverlabel": {
           "align": "left"
          },
          "hovermode": "closest",
          "mapbox": {
           "style": "light"
          },
          "paper_bgcolor": "white",
          "plot_bgcolor": "#E5ECF6",
          "polar": {
           "angularaxis": {
            "gridcolor": "white",
            "linecolor": "white",
            "ticks": ""
           },
           "bgcolor": "#E5ECF6",
           "radialaxis": {
            "gridcolor": "white",
            "linecolor": "white",
            "ticks": ""
           }
          },
          "scene": {
           "xaxis": {
            "backgroundcolor": "#E5ECF6",
            "gridcolor": "white",
            "gridwidth": 2,
            "linecolor": "white",
            "showbackground": true,
            "ticks": "",
            "zerolinecolor": "white"
           },
           "yaxis": {
            "backgroundcolor": "#E5ECF6",
            "gridcolor": "white",
            "gridwidth": 2,
            "linecolor": "white",
            "showbackground": true,
            "ticks": "",
            "zerolinecolor": "white"
           },
           "zaxis": {
            "backgroundcolor": "#E5ECF6",
            "gridcolor": "white",
            "gridwidth": 2,
            "linecolor": "white",
            "showbackground": true,
            "ticks": "",
            "zerolinecolor": "white"
           }
          },
          "shapedefaults": {
           "line": {
            "color": "#2a3f5f"
           }
          },
          "ternary": {
           "aaxis": {
            "gridcolor": "white",
            "linecolor": "white",
            "ticks": ""
           },
           "baxis": {
            "gridcolor": "white",
            "linecolor": "white",
            "ticks": ""
           },
           "bgcolor": "#E5ECF6",
           "caxis": {
            "gridcolor": "white",
            "linecolor": "white",
            "ticks": ""
           }
          },
          "title": {
           "x": 0.05
          },
          "xaxis": {
           "automargin": true,
           "gridcolor": "white",
           "linecolor": "white",
           "ticks": "",
           "title": {
            "standoff": 15
           },
           "zerolinecolor": "white",
           "zerolinewidth": 2
          },
          "yaxis": {
           "automargin": true,
           "gridcolor": "white",
           "linecolor": "white",
           "ticks": "",
           "title": {
            "standoff": 15
           },
           "zerolinecolor": "white",
           "zerolinewidth": 2
          }
         }
        },
        "title": {
         "text": "Decision Boundary with predictions of test dataset"
        }
       }
      }
     },
     "metadata": {},
     "output_type": "display_data"
    }
   ],
   "source": [
    "fig2_test = px.scatter(pd.DataFrame(dict(prediction=t_test_pred, \n",
    "                                        x1 = synth_test[:,1], x2 = synth_test[:,2])),\n",
    "                                        x='x1', y='x2', \n",
    "                                        color='prediction')\n",
    "fig_boundary_test = go.Figure(data = fig1.data + fig2_test.data)\n",
>>>>>>> 4fde8d9bc65d556f448315158eed2de00c4bbbb7
    "fig_boundary_test.update_layout(dict(title='Decision Boundary with predictions of test dataset'))\n",
    "fig_boundary_test.show()"
   ]
  },
  {
   "cell_type": "markdown",
   "metadata": {},
   "source": [
<<<<<<< HEAD
    "The decision boundary is an affine function as for LDA. We can compare the results between logistic regression and LDA to see if one of them is better on this dataset."
=======
    "Adding artificial outliers :"
>>>>>>> 4fde8d9bc65d556f448315158eed2de00c4bbbb7
   ]
  },
  {
   "cell_type": "code",
<<<<<<< HEAD
   "execution_count": null,
   "metadata": {},
   "outputs": [],
   "source": [
    "error_rate_train = 1 - np.count_nonzero(t_train_pred==t) / t.shape[0]\n",
    "error_rate_test = 1 - np.count_nonzero(t_test_pred==t_test) / t_test.shape[0]\n",
    "\n",
    "df_error_rate_comparison = pd.read_csv('error_rate_comparison.csv', index_col = 'Unnamed: 0', sep=';')\n",
    "\n",
    "df_error_rate_comparison.loc['Logistic Regression'] = [error_rate_train, error_rate_test]"
   ]
  },
  {
   "cell_type": "code",
   "execution_count": null,
   "metadata": {},
   "outputs": [],
   "source": [
    "df_error_rate_comparison"
   ]
  },
  {
   "cell_type": "markdown",
   "metadata": {},
   "source": [
    "As we can see, the LDA obtained better results for the test dataset than the logistic regression. However, we had seen that LDA was extremely sensitive to outliers, is this the case for logistic regression? "
   ]
  },
  {
   "cell_type": "markdown",
   "metadata": {},
   "source": [
    "Adding artificial outliers : \n",
    "\n",
    "With the current implementation of the algorithm, we cannot add outliers that are too far from the data, otherwise the R matrix does not become invertible and the algorithm crashes. For now, we will take outliers that do not make the R matrix non-invertible and then look at the difference between LDA and logistic regression."
   ]
  },
  {
   "cell_type": "code",
   "execution_count": null,
=======
   "execution_count": 128,
>>>>>>> 4fde8d9bc65d556f448315158eed2de00c4bbbb7
   "metadata": {},
   "outputs": [],
   "source": [
    "from scipy.stats import norm\n",
<<<<<<< HEAD
    "nb_points = 10\n",
    "outliers_points = np.repeat([[2,-1]],[nb_points], axis=0) + norm.rvs(loc = 0, scale = 0.2, size = nb_points*2).reshape((nb_points,2))\n",
    "classe_outliers = np.full(nb_points,2)"
=======
    "nb_points = 5\n",
    "outliers_points = np.repeat([[-4,3],[2,-4]],[nb_points,nb_points], axis=0) + norm.rvs(loc = 0, scale = 0.2, size = nb_points*4).reshape((nb_points*2,2))\n",
    "classe_outliers = np.concatenate((np.full(nb_points,1), np.full(nb_points,2)))"
>>>>>>> 4fde8d9bc65d556f448315158eed2de00c4bbbb7
   ]
  },
  {
   "cell_type": "code",
<<<<<<< HEAD
   "execution_count": null,
   "metadata": {},
   "outputs": [],
=======
   "execution_count": 130,
   "metadata": {},
   "outputs": [
    {
     "data": {
      "application/vnd.plotly.v1+json": {
       "config": {
        "plotlyServerURL": "https://plot.ly"
       },
       "data": [
        {
         "hovertemplate": "x1=%{x}<br>x2=%{y}<br>classe=%{marker.color}<extra></extra>",
         "legendgroup": "",
         "marker": {
          "color": [
           1,
           1,
           1,
           1,
           1,
           2,
           2,
           2,
           2,
           2
          ],
          "coloraxis": "coloraxis",
          "symbol": "circle"
         },
         "mode": "markers",
         "name": "",
         "orientation": "v",
         "showlegend": false,
         "type": "scatter",
         "x": [
          -4.233614628696814,
          -3.4451409549853693,
          -4.23865730475763,
          -3.555879846894437,
          -4.126807043253676,
          2.050938882850812,
          2.2769396943805322,
          1.9991078996662812,
          1.956129287558074,
          1.787524890558351
         ],
         "xaxis": "x",
         "y": [
          2.80814636156111,
          3.0061982301303143,
          3.1715558719258463,
          3.106633916888627,
          2.97954542314405,
          -4.021960917324048,
          -3.8397604666571725,
          -3.824111791019935,
          -4.033093078369304,
          -4.270275467339089
         ],
         "yaxis": "y"
        }
       ],
       "layout": {
        "coloraxis": {
         "colorbar": {
          "title": {
           "text": "classe"
          }
         },
         "colorscale": [
          [
           0,
           "#0d0887"
          ],
          [
           0.1111111111111111,
           "#46039f"
          ],
          [
           0.2222222222222222,
           "#7201a8"
          ],
          [
           0.3333333333333333,
           "#9c179e"
          ],
          [
           0.4444444444444444,
           "#bd3786"
          ],
          [
           0.5555555555555556,
           "#d8576b"
          ],
          [
           0.6666666666666666,
           "#ed7953"
          ],
          [
           0.7777777777777778,
           "#fb9f3a"
          ],
          [
           0.8888888888888888,
           "#fdca26"
          ],
          [
           1,
           "#f0f921"
          ]
         ]
        },
        "legend": {
         "tracegroupgap": 0
        },
        "template": {
         "data": {
          "bar": [
           {
            "error_x": {
             "color": "#2a3f5f"
            },
            "error_y": {
             "color": "#2a3f5f"
            },
            "marker": {
             "line": {
              "color": "#E5ECF6",
              "width": 0.5
             },
             "pattern": {
              "fillmode": "overlay",
              "size": 10,
              "solidity": 0.2
             }
            },
            "type": "bar"
           }
          ],
          "barpolar": [
           {
            "marker": {
             "line": {
              "color": "#E5ECF6",
              "width": 0.5
             },
             "pattern": {
              "fillmode": "overlay",
              "size": 10,
              "solidity": 0.2
             }
            },
            "type": "barpolar"
           }
          ],
          "carpet": [
           {
            "aaxis": {
             "endlinecolor": "#2a3f5f",
             "gridcolor": "white",
             "linecolor": "white",
             "minorgridcolor": "white",
             "startlinecolor": "#2a3f5f"
            },
            "baxis": {
             "endlinecolor": "#2a3f5f",
             "gridcolor": "white",
             "linecolor": "white",
             "minorgridcolor": "white",
             "startlinecolor": "#2a3f5f"
            },
            "type": "carpet"
           }
          ],
          "choropleth": [
           {
            "colorbar": {
             "outlinewidth": 0,
             "ticks": ""
            },
            "type": "choropleth"
           }
          ],
          "contour": [
           {
            "colorbar": {
             "outlinewidth": 0,
             "ticks": ""
            },
            "colorscale": [
             [
              0,
              "#0d0887"
             ],
             [
              0.1111111111111111,
              "#46039f"
             ],
             [
              0.2222222222222222,
              "#7201a8"
             ],
             [
              0.3333333333333333,
              "#9c179e"
             ],
             [
              0.4444444444444444,
              "#bd3786"
             ],
             [
              0.5555555555555556,
              "#d8576b"
             ],
             [
              0.6666666666666666,
              "#ed7953"
             ],
             [
              0.7777777777777778,
              "#fb9f3a"
             ],
             [
              0.8888888888888888,
              "#fdca26"
             ],
             [
              1,
              "#f0f921"
             ]
            ],
            "type": "contour"
           }
          ],
          "contourcarpet": [
           {
            "colorbar": {
             "outlinewidth": 0,
             "ticks": ""
            },
            "type": "contourcarpet"
           }
          ],
          "heatmap": [
           {
            "colorbar": {
             "outlinewidth": 0,
             "ticks": ""
            },
            "colorscale": [
             [
              0,
              "#0d0887"
             ],
             [
              0.1111111111111111,
              "#46039f"
             ],
             [
              0.2222222222222222,
              "#7201a8"
             ],
             [
              0.3333333333333333,
              "#9c179e"
             ],
             [
              0.4444444444444444,
              "#bd3786"
             ],
             [
              0.5555555555555556,
              "#d8576b"
             ],
             [
              0.6666666666666666,
              "#ed7953"
             ],
             [
              0.7777777777777778,
              "#fb9f3a"
             ],
             [
              0.8888888888888888,
              "#fdca26"
             ],
             [
              1,
              "#f0f921"
             ]
            ],
            "type": "heatmap"
           }
          ],
          "heatmapgl": [
           {
            "colorbar": {
             "outlinewidth": 0,
             "ticks": ""
            },
            "colorscale": [
             [
              0,
              "#0d0887"
             ],
             [
              0.1111111111111111,
              "#46039f"
             ],
             [
              0.2222222222222222,
              "#7201a8"
             ],
             [
              0.3333333333333333,
              "#9c179e"
             ],
             [
              0.4444444444444444,
              "#bd3786"
             ],
             [
              0.5555555555555556,
              "#d8576b"
             ],
             [
              0.6666666666666666,
              "#ed7953"
             ],
             [
              0.7777777777777778,
              "#fb9f3a"
             ],
             [
              0.8888888888888888,
              "#fdca26"
             ],
             [
              1,
              "#f0f921"
             ]
            ],
            "type": "heatmapgl"
           }
          ],
          "histogram": [
           {
            "marker": {
             "pattern": {
              "fillmode": "overlay",
              "size": 10,
              "solidity": 0.2
             }
            },
            "type": "histogram"
           }
          ],
          "histogram2d": [
           {
            "colorbar": {
             "outlinewidth": 0,
             "ticks": ""
            },
            "colorscale": [
             [
              0,
              "#0d0887"
             ],
             [
              0.1111111111111111,
              "#46039f"
             ],
             [
              0.2222222222222222,
              "#7201a8"
             ],
             [
              0.3333333333333333,
              "#9c179e"
             ],
             [
              0.4444444444444444,
              "#bd3786"
             ],
             [
              0.5555555555555556,
              "#d8576b"
             ],
             [
              0.6666666666666666,
              "#ed7953"
             ],
             [
              0.7777777777777778,
              "#fb9f3a"
             ],
             [
              0.8888888888888888,
              "#fdca26"
             ],
             [
              1,
              "#f0f921"
             ]
            ],
            "type": "histogram2d"
           }
          ],
          "histogram2dcontour": [
           {
            "colorbar": {
             "outlinewidth": 0,
             "ticks": ""
            },
            "colorscale": [
             [
              0,
              "#0d0887"
             ],
             [
              0.1111111111111111,
              "#46039f"
             ],
             [
              0.2222222222222222,
              "#7201a8"
             ],
             [
              0.3333333333333333,
              "#9c179e"
             ],
             [
              0.4444444444444444,
              "#bd3786"
             ],
             [
              0.5555555555555556,
              "#d8576b"
             ],
             [
              0.6666666666666666,
              "#ed7953"
             ],
             [
              0.7777777777777778,
              "#fb9f3a"
             ],
             [
              0.8888888888888888,
              "#fdca26"
             ],
             [
              1,
              "#f0f921"
             ]
            ],
            "type": "histogram2dcontour"
           }
          ],
          "mesh3d": [
           {
            "colorbar": {
             "outlinewidth": 0,
             "ticks": ""
            },
            "type": "mesh3d"
           }
          ],
          "parcoords": [
           {
            "line": {
             "colorbar": {
              "outlinewidth": 0,
              "ticks": ""
             }
            },
            "type": "parcoords"
           }
          ],
          "pie": [
           {
            "automargin": true,
            "type": "pie"
           }
          ],
          "scatter": [
           {
            "fillpattern": {
             "fillmode": "overlay",
             "size": 10,
             "solidity": 0.2
            },
            "type": "scatter"
           }
          ],
          "scatter3d": [
           {
            "line": {
             "colorbar": {
              "outlinewidth": 0,
              "ticks": ""
             }
            },
            "marker": {
             "colorbar": {
              "outlinewidth": 0,
              "ticks": ""
             }
            },
            "type": "scatter3d"
           }
          ],
          "scattercarpet": [
           {
            "marker": {
             "colorbar": {
              "outlinewidth": 0,
              "ticks": ""
             }
            },
            "type": "scattercarpet"
           }
          ],
          "scattergeo": [
           {
            "marker": {
             "colorbar": {
              "outlinewidth": 0,
              "ticks": ""
             }
            },
            "type": "scattergeo"
           }
          ],
          "scattergl": [
           {
            "marker": {
             "colorbar": {
              "outlinewidth": 0,
              "ticks": ""
             }
            },
            "type": "scattergl"
           }
          ],
          "scattermapbox": [
           {
            "marker": {
             "colorbar": {
              "outlinewidth": 0,
              "ticks": ""
             }
            },
            "type": "scattermapbox"
           }
          ],
          "scatterpolar": [
           {
            "marker": {
             "colorbar": {
              "outlinewidth": 0,
              "ticks": ""
             }
            },
            "type": "scatterpolar"
           }
          ],
          "scatterpolargl": [
           {
            "marker": {
             "colorbar": {
              "outlinewidth": 0,
              "ticks": ""
             }
            },
            "type": "scatterpolargl"
           }
          ],
          "scatterternary": [
           {
            "marker": {
             "colorbar": {
              "outlinewidth": 0,
              "ticks": ""
             }
            },
            "type": "scatterternary"
           }
          ],
          "surface": [
           {
            "colorbar": {
             "outlinewidth": 0,
             "ticks": ""
            },
            "colorscale": [
             [
              0,
              "#0d0887"
             ],
             [
              0.1111111111111111,
              "#46039f"
             ],
             [
              0.2222222222222222,
              "#7201a8"
             ],
             [
              0.3333333333333333,
              "#9c179e"
             ],
             [
              0.4444444444444444,
              "#bd3786"
             ],
             [
              0.5555555555555556,
              "#d8576b"
             ],
             [
              0.6666666666666666,
              "#ed7953"
             ],
             [
              0.7777777777777778,
              "#fb9f3a"
             ],
             [
              0.8888888888888888,
              "#fdca26"
             ],
             [
              1,
              "#f0f921"
             ]
            ],
            "type": "surface"
           }
          ],
          "table": [
           {
            "cells": {
             "fill": {
              "color": "#EBF0F8"
             },
             "line": {
              "color": "white"
             }
            },
            "header": {
             "fill": {
              "color": "#C8D4E3"
             },
             "line": {
              "color": "white"
             }
            },
            "type": "table"
           }
          ]
         },
         "layout": {
          "annotationdefaults": {
           "arrowcolor": "#2a3f5f",
           "arrowhead": 0,
           "arrowwidth": 1
          },
          "autotypenumbers": "strict",
          "coloraxis": {
           "colorbar": {
            "outlinewidth": 0,
            "ticks": ""
           }
          },
          "colorscale": {
           "diverging": [
            [
             0,
             "#8e0152"
            ],
            [
             0.1,
             "#c51b7d"
            ],
            [
             0.2,
             "#de77ae"
            ],
            [
             0.3,
             "#f1b6da"
            ],
            [
             0.4,
             "#fde0ef"
            ],
            [
             0.5,
             "#f7f7f7"
            ],
            [
             0.6,
             "#e6f5d0"
            ],
            [
             0.7,
             "#b8e186"
            ],
            [
             0.8,
             "#7fbc41"
            ],
            [
             0.9,
             "#4d9221"
            ],
            [
             1,
             "#276419"
            ]
           ],
           "sequential": [
            [
             0,
             "#0d0887"
            ],
            [
             0.1111111111111111,
             "#46039f"
            ],
            [
             0.2222222222222222,
             "#7201a8"
            ],
            [
             0.3333333333333333,
             "#9c179e"
            ],
            [
             0.4444444444444444,
             "#bd3786"
            ],
            [
             0.5555555555555556,
             "#d8576b"
            ],
            [
             0.6666666666666666,
             "#ed7953"
            ],
            [
             0.7777777777777778,
             "#fb9f3a"
            ],
            [
             0.8888888888888888,
             "#fdca26"
            ],
            [
             1,
             "#f0f921"
            ]
           ],
           "sequentialminus": [
            [
             0,
             "#0d0887"
            ],
            [
             0.1111111111111111,
             "#46039f"
            ],
            [
             0.2222222222222222,
             "#7201a8"
            ],
            [
             0.3333333333333333,
             "#9c179e"
            ],
            [
             0.4444444444444444,
             "#bd3786"
            ],
            [
             0.5555555555555556,
             "#d8576b"
            ],
            [
             0.6666666666666666,
             "#ed7953"
            ],
            [
             0.7777777777777778,
             "#fb9f3a"
            ],
            [
             0.8888888888888888,
             "#fdca26"
            ],
            [
             1,
             "#f0f921"
            ]
           ]
          },
          "colorway": [
           "#636efa",
           "#EF553B",
           "#00cc96",
           "#ab63fa",
           "#FFA15A",
           "#19d3f3",
           "#FF6692",
           "#B6E880",
           "#FF97FF",
           "#FECB52"
          ],
          "font": {
           "color": "#2a3f5f"
          },
          "geo": {
           "bgcolor": "white",
           "lakecolor": "white",
           "landcolor": "#E5ECF6",
           "showlakes": true,
           "showland": true,
           "subunitcolor": "white"
          },
          "hoverlabel": {
           "align": "left"
          },
          "hovermode": "closest",
          "mapbox": {
           "style": "light"
          },
          "paper_bgcolor": "white",
          "plot_bgcolor": "#E5ECF6",
          "polar": {
           "angularaxis": {
            "gridcolor": "white",
            "linecolor": "white",
            "ticks": ""
           },
           "bgcolor": "#E5ECF6",
           "radialaxis": {
            "gridcolor": "white",
            "linecolor": "white",
            "ticks": ""
           }
          },
          "scene": {
           "xaxis": {
            "backgroundcolor": "#E5ECF6",
            "gridcolor": "white",
            "gridwidth": 2,
            "linecolor": "white",
            "showbackground": true,
            "ticks": "",
            "zerolinecolor": "white"
           },
           "yaxis": {
            "backgroundcolor": "#E5ECF6",
            "gridcolor": "white",
            "gridwidth": 2,
            "linecolor": "white",
            "showbackground": true,
            "ticks": "",
            "zerolinecolor": "white"
           },
           "zaxis": {
            "backgroundcolor": "#E5ECF6",
            "gridcolor": "white",
            "gridwidth": 2,
            "linecolor": "white",
            "showbackground": true,
            "ticks": "",
            "zerolinecolor": "white"
           }
          },
          "shapedefaults": {
           "line": {
            "color": "#2a3f5f"
           }
          },
          "ternary": {
           "aaxis": {
            "gridcolor": "white",
            "linecolor": "white",
            "ticks": ""
           },
           "baxis": {
            "gridcolor": "white",
            "linecolor": "white",
            "ticks": ""
           },
           "bgcolor": "#E5ECF6",
           "caxis": {
            "gridcolor": "white",
            "linecolor": "white",
            "ticks": ""
           }
          },
          "title": {
           "x": 0.05
          },
          "xaxis": {
           "automargin": true,
           "gridcolor": "white",
           "linecolor": "white",
           "ticks": "",
           "title": {
            "standoff": 15
           },
           "zerolinecolor": "white",
           "zerolinewidth": 2
          },
          "yaxis": {
           "automargin": true,
           "gridcolor": "white",
           "linecolor": "white",
           "ticks": "",
           "title": {
            "standoff": 15
           },
           "zerolinecolor": "white",
           "zerolinewidth": 2
          }
         }
        },
        "title": {
         "text": "Outliers who are to be add"
        },
        "xaxis": {
         "anchor": "y",
         "domain": [
          0,
          1
         ],
         "title": {
          "text": "x1"
         }
        },
        "yaxis": {
         "anchor": "x",
         "domain": [
          0,
          1
         ],
         "title": {
          "text": "x2"
         }
        }
       }
      }
     },
     "metadata": {},
     "output_type": "display_data"
    }
   ],
>>>>>>> 4fde8d9bc65d556f448315158eed2de00c4bbbb7
   "source": [
    "px.scatter(pd.DataFrame(dict(x1=outliers_points[:,0], x2=outliers_points[:,1], classe=classe_outliers)),\n",
    "           x='x1',\n",
    "           y='x2',\n",
    "           color='classe',\n",
    "           title = 'Outliers who are to be add')"
   ]
  },
  {
   "cell_type": "code",
<<<<<<< HEAD
   "execution_count": null,
=======
   "execution_count": 131,
>>>>>>> 4fde8d9bc65d556f448315158eed2de00c4bbbb7
   "metadata": {},
   "outputs": [],
   "source": [
    "X_outliers = np.hstack((np.ones((outliers_points.shape[0],1)),outliers_points))\n",
<<<<<<< HEAD
    "t_outliers = 2-classe_outliers\n",
    "w_outliers, Niter_outliers = regression_logistique(np.concatenate((X, X_outliers)), np.concatenate((t, t_outliers)))\n",
    "t_train_outliers_pred = predictions(np.concatenate((X, X_outliers)) @ w_outliers)\n",
=======
    "t_outliers = 2-classe_outliers"
   ]
  },
  {
   "cell_type": "code",
   "execution_count": 133,
   "metadata": {},
   "outputs": [],
   "source": [
    "w_outliers, Niter_outliers = regression_logistique_no_error(np.concatenate((X, X_outliers)), np.concatenate((t, t_outliers)))"
   ]
  },
  {
   "cell_type": "markdown",
   "metadata": {},
   "source": [
    "<u>Interpretation</u> : We must not add points too far from the dataset points otherwise the matrix $R$ in the implementation of the algorithm will no longer be invertible. In fact, for very large values we have a sigma very close to 0 or 1 and therefore y(1-y) very close to zero so R would be longer invertible. This is why in the above cell, we rather use the regression_logistique_no_error function."
   ]
  },
  {
   "cell_type": "code",
   "execution_count": 134,
   "metadata": {},
   "outputs": [],
   "source": [
    "t_train_outliers_pred = predictions(np.concatenate((X, X_outliers)) @ w_outliers)"
   ]
  },
  {
   "cell_type": "code",
   "execution_count": 135,
   "metadata": {},
   "outputs": [],
   "source": [
>>>>>>> 4fde8d9bc65d556f448315158eed2de00c4bbbb7
    "x2_outliers = (-w_outliers[0]-w_outliers[1]*x1)/w_outliers[2]"
   ]
  },
  {
   "cell_type": "code",
   "execution_count": 136,
   "metadata": {},
   "outputs": [
    {
     "data": {
      "application/vnd.plotly.v1+json": {
       "config": {
        "plotlyServerURL": "https://plot.ly"
       },
       "data": [
        {
         "hovertemplate": "x1=%{x}<br>x2=%{y}<extra></extra>",
         "legendgroup": "",
         "line": {
          "color": "#636efa",
          "dash": "solid"
         },
         "marker": {
          "symbol": "circle"
         },
         "mode": "lines",
         "name": "",
         "orientation": "v",
         "showlegend": false,
         "type": "scatter",
         "x": [
          -2.5,
          -2.0555555555555554,
          -1.6111111111111112,
          -1.1666666666666667,
          -0.7222222222222223,
          -0.2777777777777777,
          0.16666666666666652,
          0.6111111111111107,
          1.0555555555555554,
          1.5
         ],
         "xaxis": "x",
         "y": [
          -0.6994360741017863,
          -0.16313999995286635,
          0.373156074196053,
          0.9094521483449729,
          1.445748222493893,
          1.9820442966428127,
          2.5183403707917322,
          3.0546364449406513,
          3.590932519089572,
          4.127228593238492
         ],
         "yaxis": "y"
        },
        {
         "hovertemplate": "x1=%{x}<br>x2=%{y}<br>prediction=%{marker.color}<extra></extra>",
         "legendgroup": "",
         "marker": {
          "color": [
           1,
           0,
           0,
           0,
           1,
           0,
           0,
           1,
           0,
           0,
           0,
           0,
           0,
           0,
           1,
           0,
           0,
           0,
           0,
           0,
           0,
           0,
           0,
           0,
           0,
           0,
           0,
           0,
           0,
           0,
           0,
           1,
           1,
           0,
           1,
           0,
           0,
           0,
           0,
           0,
           0,
           0,
           0,
           0,
           0,
           0,
           1,
           0,
           0,
           0,
           0,
           0,
           1,
           0,
           0,
           1,
           0,
           0,
           0,
           0,
           0,
           0,
           0,
           0,
           0,
           1,
           0,
           0,
           1,
           1,
           0,
           0,
           0,
           0,
           0,
           0,
           0,
           0,
           0,
           0,
           1,
           1,
           0,
           1,
           0,
           0,
           0,
           0,
           0,
           0,
           0,
           0,
           0,
           0,
           1,
           1,
           1,
           1,
           0,
           1,
           1,
           1,
           1,
           1,
           1,
           0,
           0,
           0,
           0,
           0
          ],
          "coloraxis": "coloraxis",
          "symbol": "circle"
         },
         "mode": "markers",
         "name": "",
         "orientation": "v",
         "showlegend": false,
         "type": "scatter",
         "x": [
          -0.7222114129586,
          -0.924679116842047,
          -0.766022814943256,
          -0.0732894788556321,
          -1.39291197731283,
          -0.202233388934873,
          0.481737671784873,
          -1.8655121173883,
          -0.152468727259032,
          0.38635648749537,
          0.0875764309449853,
          -0.162870803458684,
          0.205627604169169,
          -0.678880330634291,
          -0.631309441163341,
          0.451357146792761,
          -0.379447056101144,
          -0.67808924696543,
          -0.6353679482783,
          -0.394503312110074,
          0.361462943689775,
          -0.528663281188422,
          -0.251051039074415,
          0.0782884526153436,
          -0.508588755690403,
          0.408869378842243,
          -0.365647127226042,
          1.41253669598274,
          0.185369078583416,
          -0.236029032268647,
          -0.614293392873263,
          -2.30408372892482,
          -1.6439848395597,
          -0.099631142781541,
          -1.86566438019087,
          0.29707583331245,
          0.241635652911538,
          -0.308059142141273,
          -0.297331480776794,
          0.0425462999904274,
          -0.293494487190976,
          0.0472196732520648,
          0.511434878557491,
          -0.439766514299069,
          0.579727620807449,
          -0.22587568551299,
          -1.31699917881368,
          0.403359817740187,
          0.0639802809331373,
          -0.200549408990853,
          0.179212309999251,
          -0.684781628987495,
          -1.26626456003945,
          -0.0732275755712657,
          -0.278834870223322,
          -1.66770622666567,
          -0.932784740334326,
          -0.222492292076254,
          -0.419301102755586,
          -0.102320397506266,
          0.246029751804449,
          0.477011782112795,
          0.166124402475656,
          0.392487504719149,
          0.26880633054516,
          -1.1892336014914,
          -0.353530726637597,
          0.205995439006312,
          0.357859266241446,
          -1.07534587024242,
          0.610733203164708,
          0.34783794294932,
          0.133976431089943,
          0.487540109560409,
          0.328137396161017,
          -0.307134275715141,
          0.622456405195283,
          0.023923605235643,
          1.25632667782585,
          -0.207777444410633,
          -1.07196807487457,
          -1.40721089942489,
          0.643678850830891,
          -1.45327218253849,
          0.891230481942523,
          0.252066390681576,
          0.504207545290246,
          0.299918390809922,
          0.490412055618484,
          1.06136639629653,
          0.365892980043387,
          -1.1024698611437,
          0.115280444945432,
          0.222190799619655,
          0.317452811019433,
          -0.693623079484142,
          -0.651352405455385,
          -2.24047850877093,
          -0.688766771564921,
          -2.06428441900782,
          -4.233614628696814,
          -3.4451409549853693,
          -4.23865730475763,
          -3.555879846894437,
          -4.126807043253676,
          2.050938882850812,
          2.2769396943805322,
          1.9991078996662812,
          1.956129287558074,
          1.787524890558351
         ],
         "xaxis": "x",
         "y": [
          2.00447087136242,
          0.483669283303616,
          0.794328908264858,
          0.969929147538923,
          0.999697089649905,
          1.35033191198506,
          0.984418575841914,
          1.54773159042401,
          0.922489686034523,
          0.366336720871723,
          0.932411534685466,
          0.630517186027526,
          0.902728059891789,
          0.519282489082532,
          1.66060671402444,
          1.02281328367944,
          0.892502892723954,
          0.969433620547686,
          1.29934918685766,
          0.327163230000664,
          1.25890893821093,
          1.26110462471585,
          0.3041819401222,
          1.44882862257848,
          1.2875665675783,
          1.49537607406398,
          0.943434089491931,
          1.54855990106491,
          1.0947339566202,
          1.55526095979461,
          1.38945066226994,
          1.38069898840687,
          1.52199681104139,
          1.12167183608714,
          0.292956871515864,
          0.685937988358744,
          1.44307731093209,
          0.616810573192588,
          1.64968595570792,
          0.808982969980399,
          0.944090798130192,
          1.50461364233168,
          0.590927353613734,
          1.1721005687771,
          1.49159036959202,
          0.787129098143246,
          0.932311221709179,
          1.06184402730383,
          1.71779511292622,
          1.07531583235228,
          1.33051886263733,
          1.22567327645858,
          2.28600726481963,
          1.27133904319531,
          0.396216850503442,
          1.21968201824743,
          1.10552625678307,
          1.98252437260598,
          0.695197243837259,
          0.765296493992673,
          1.82964712136056,
          0.0611918456353968,
          0.832661929923749,
          1.46224249843351,
          0.698569846489762,
          1.99198866550859,
          0.781098791781922,
          2.33022515439259,
          3.35842349881369,
          1.83307889669395,
          0.26755191141353,
          0.754523597335553,
          1.13245178008424,
          0.839583040875595,
          1.05381391421355,
          1.21094298929596,
          0.398273208283436,
          -0.0473318420892674,
          0.896163773144661,
          1.17187213473804,
          2.87218367130169,
          1.71273051006468,
          1.90840839163394,
          2.02246219076283,
          1.73158341544632,
          0.848664430272533,
          1.06331255073084,
          0.950756757796549,
          0.821936045253742,
          0.788056076691746,
          1.71060938237464,
          0.618737913541539,
          1.87763315549822,
          1.03704295357252,
          2.8662885931298,
          2.24206585399344,
          1.80895864388631,
          1.04991147162741,
          1.33671775150787,
          2.38517335491812,
          2.80814636156111,
          3.0061982301303143,
          3.1715558719258463,
          3.106633916888627,
          2.97954542314405,
          -4.021960917324048,
          -3.8397604666571725,
          -3.824111791019935,
          -4.033093078369304,
          -4.270275467339089
         ],
         "yaxis": "y"
        }
       ],
       "layout": {
        "template": {
         "data": {
          "bar": [
           {
            "error_x": {
             "color": "#2a3f5f"
            },
            "error_y": {
             "color": "#2a3f5f"
            },
            "marker": {
             "line": {
              "color": "#E5ECF6",
              "width": 0.5
             },
             "pattern": {
              "fillmode": "overlay",
              "size": 10,
              "solidity": 0.2
             }
            },
            "type": "bar"
           }
          ],
          "barpolar": [
           {
            "marker": {
             "line": {
              "color": "#E5ECF6",
              "width": 0.5
             },
             "pattern": {
              "fillmode": "overlay",
              "size": 10,
              "solidity": 0.2
             }
            },
            "type": "barpolar"
           }
          ],
          "carpet": [
           {
            "aaxis": {
             "endlinecolor": "#2a3f5f",
             "gridcolor": "white",
             "linecolor": "white",
             "minorgridcolor": "white",
             "startlinecolor": "#2a3f5f"
            },
            "baxis": {
             "endlinecolor": "#2a3f5f",
             "gridcolor": "white",
             "linecolor": "white",
             "minorgridcolor": "white",
             "startlinecolor": "#2a3f5f"
            },
            "type": "carpet"
           }
          ],
          "choropleth": [
           {
            "colorbar": {
             "outlinewidth": 0,
             "ticks": ""
            },
            "type": "choropleth"
           }
          ],
          "contour": [
           {
            "colorbar": {
             "outlinewidth": 0,
             "ticks": ""
            },
            "colorscale": [
             [
              0,
              "#0d0887"
             ],
             [
              0.1111111111111111,
              "#46039f"
             ],
             [
              0.2222222222222222,
              "#7201a8"
             ],
             [
              0.3333333333333333,
              "#9c179e"
             ],
             [
              0.4444444444444444,
              "#bd3786"
             ],
             [
              0.5555555555555556,
              "#d8576b"
             ],
             [
              0.6666666666666666,
              "#ed7953"
             ],
             [
              0.7777777777777778,
              "#fb9f3a"
             ],
             [
              0.8888888888888888,
              "#fdca26"
             ],
             [
              1,
              "#f0f921"
             ]
            ],
            "type": "contour"
           }
          ],
          "contourcarpet": [
           {
            "colorbar": {
             "outlinewidth": 0,
             "ticks": ""
            },
            "type": "contourcarpet"
           }
          ],
          "heatmap": [
           {
            "colorbar": {
             "outlinewidth": 0,
             "ticks": ""
            },
            "colorscale": [
             [
              0,
              "#0d0887"
             ],
             [
              0.1111111111111111,
              "#46039f"
             ],
             [
              0.2222222222222222,
              "#7201a8"
             ],
             [
              0.3333333333333333,
              "#9c179e"
             ],
             [
              0.4444444444444444,
              "#bd3786"
             ],
             [
              0.5555555555555556,
              "#d8576b"
             ],
             [
              0.6666666666666666,
              "#ed7953"
             ],
             [
              0.7777777777777778,
              "#fb9f3a"
             ],
             [
              0.8888888888888888,
              "#fdca26"
             ],
             [
              1,
              "#f0f921"
             ]
            ],
            "type": "heatmap"
           }
          ],
          "heatmapgl": [
           {
            "colorbar": {
             "outlinewidth": 0,
             "ticks": ""
            },
            "colorscale": [
             [
              0,
              "#0d0887"
             ],
             [
              0.1111111111111111,
              "#46039f"
             ],
             [
              0.2222222222222222,
              "#7201a8"
             ],
             [
              0.3333333333333333,
              "#9c179e"
             ],
             [
              0.4444444444444444,
              "#bd3786"
             ],
             [
              0.5555555555555556,
              "#d8576b"
             ],
             [
              0.6666666666666666,
              "#ed7953"
             ],
             [
              0.7777777777777778,
              "#fb9f3a"
             ],
             [
              0.8888888888888888,
              "#fdca26"
             ],
             [
              1,
              "#f0f921"
             ]
            ],
            "type": "heatmapgl"
           }
          ],
          "histogram": [
           {
            "marker": {
             "pattern": {
              "fillmode": "overlay",
              "size": 10,
              "solidity": 0.2
             }
            },
            "type": "histogram"
           }
          ],
          "histogram2d": [
           {
            "colorbar": {
             "outlinewidth": 0,
             "ticks": ""
            },
            "colorscale": [
             [
              0,
              "#0d0887"
             ],
             [
              0.1111111111111111,
              "#46039f"
             ],
             [
              0.2222222222222222,
              "#7201a8"
             ],
             [
              0.3333333333333333,
              "#9c179e"
             ],
             [
              0.4444444444444444,
              "#bd3786"
             ],
             [
              0.5555555555555556,
              "#d8576b"
             ],
             [
              0.6666666666666666,
              "#ed7953"
             ],
             [
              0.7777777777777778,
              "#fb9f3a"
             ],
             [
              0.8888888888888888,
              "#fdca26"
             ],
             [
              1,
              "#f0f921"
             ]
            ],
            "type": "histogram2d"
           }
          ],
          "histogram2dcontour": [
           {
            "colorbar": {
             "outlinewidth": 0,
             "ticks": ""
            },
            "colorscale": [
             [
              0,
              "#0d0887"
             ],
             [
              0.1111111111111111,
              "#46039f"
             ],
             [
              0.2222222222222222,
              "#7201a8"
             ],
             [
              0.3333333333333333,
              "#9c179e"
             ],
             [
              0.4444444444444444,
              "#bd3786"
             ],
             [
              0.5555555555555556,
              "#d8576b"
             ],
             [
              0.6666666666666666,
              "#ed7953"
             ],
             [
              0.7777777777777778,
              "#fb9f3a"
             ],
             [
              0.8888888888888888,
              "#fdca26"
             ],
             [
              1,
              "#f0f921"
             ]
            ],
            "type": "histogram2dcontour"
           }
          ],
          "mesh3d": [
           {
            "colorbar": {
             "outlinewidth": 0,
             "ticks": ""
            },
            "type": "mesh3d"
           }
          ],
          "parcoords": [
           {
            "line": {
             "colorbar": {
              "outlinewidth": 0,
              "ticks": ""
             }
            },
            "type": "parcoords"
           }
          ],
          "pie": [
           {
            "automargin": true,
            "type": "pie"
           }
          ],
          "scatter": [
           {
            "fillpattern": {
             "fillmode": "overlay",
             "size": 10,
             "solidity": 0.2
            },
            "type": "scatter"
           }
          ],
          "scatter3d": [
           {
            "line": {
             "colorbar": {
              "outlinewidth": 0,
              "ticks": ""
             }
            },
            "marker": {
             "colorbar": {
              "outlinewidth": 0,
              "ticks": ""
             }
            },
            "type": "scatter3d"
           }
          ],
          "scattercarpet": [
           {
            "marker": {
             "colorbar": {
              "outlinewidth": 0,
              "ticks": ""
             }
            },
            "type": "scattercarpet"
           }
          ],
          "scattergeo": [
           {
            "marker": {
             "colorbar": {
              "outlinewidth": 0,
              "ticks": ""
             }
            },
            "type": "scattergeo"
           }
          ],
          "scattergl": [
           {
            "marker": {
             "colorbar": {
              "outlinewidth": 0,
              "ticks": ""
             }
            },
            "type": "scattergl"
           }
          ],
          "scattermapbox": [
           {
            "marker": {
             "colorbar": {
              "outlinewidth": 0,
              "ticks": ""
             }
            },
            "type": "scattermapbox"
           }
          ],
          "scatterpolar": [
           {
            "marker": {
             "colorbar": {
              "outlinewidth": 0,
              "ticks": ""
             }
            },
            "type": "scatterpolar"
           }
          ],
          "scatterpolargl": [
           {
            "marker": {
             "colorbar": {
              "outlinewidth": 0,
              "ticks": ""
             }
            },
            "type": "scatterpolargl"
           }
          ],
          "scatterternary": [
           {
            "marker": {
             "colorbar": {
              "outlinewidth": 0,
              "ticks": ""
             }
            },
            "type": "scatterternary"
           }
          ],
          "surface": [
           {
            "colorbar": {
             "outlinewidth": 0,
             "ticks": ""
            },
            "colorscale": [
             [
              0,
              "#0d0887"
             ],
             [
              0.1111111111111111,
              "#46039f"
             ],
             [
              0.2222222222222222,
              "#7201a8"
             ],
             [
              0.3333333333333333,
              "#9c179e"
             ],
             [
              0.4444444444444444,
              "#bd3786"
             ],
             [
              0.5555555555555556,
              "#d8576b"
             ],
             [
              0.6666666666666666,
              "#ed7953"
             ],
             [
              0.7777777777777778,
              "#fb9f3a"
             ],
             [
              0.8888888888888888,
              "#fdca26"
             ],
             [
              1,
              "#f0f921"
             ]
            ],
            "type": "surface"
           }
          ],
          "table": [
           {
            "cells": {
             "fill": {
              "color": "#EBF0F8"
             },
             "line": {
              "color": "white"
             }
            },
            "header": {
             "fill": {
              "color": "#C8D4E3"
             },
             "line": {
              "color": "white"
             }
            },
            "type": "table"
           }
          ]
         },
         "layout": {
          "annotationdefaults": {
           "arrowcolor": "#2a3f5f",
           "arrowhead": 0,
           "arrowwidth": 1
          },
          "autotypenumbers": "strict",
          "coloraxis": {
           "colorbar": {
            "outlinewidth": 0,
            "ticks": ""
           }
          },
          "colorscale": {
           "diverging": [
            [
             0,
             "#8e0152"
            ],
            [
             0.1,
             "#c51b7d"
            ],
            [
             0.2,
             "#de77ae"
            ],
            [
             0.3,
             "#f1b6da"
            ],
            [
             0.4,
             "#fde0ef"
            ],
            [
             0.5,
             "#f7f7f7"
            ],
            [
             0.6,
             "#e6f5d0"
            ],
            [
             0.7,
             "#b8e186"
            ],
            [
             0.8,
             "#7fbc41"
            ],
            [
             0.9,
             "#4d9221"
            ],
            [
             1,
             "#276419"
            ]
           ],
           "sequential": [
            [
             0,
             "#0d0887"
            ],
            [
             0.1111111111111111,
             "#46039f"
            ],
            [
             0.2222222222222222,
             "#7201a8"
            ],
            [
             0.3333333333333333,
             "#9c179e"
            ],
            [
             0.4444444444444444,
             "#bd3786"
            ],
            [
             0.5555555555555556,
             "#d8576b"
            ],
            [
             0.6666666666666666,
             "#ed7953"
            ],
            [
             0.7777777777777778,
             "#fb9f3a"
            ],
            [
             0.8888888888888888,
             "#fdca26"
            ],
            [
             1,
             "#f0f921"
            ]
           ],
           "sequentialminus": [
            [
             0,
             "#0d0887"
            ],
            [
             0.1111111111111111,
             "#46039f"
            ],
            [
             0.2222222222222222,
             "#7201a8"
            ],
            [
             0.3333333333333333,
             "#9c179e"
            ],
            [
             0.4444444444444444,
             "#bd3786"
            ],
            [
             0.5555555555555556,
             "#d8576b"
            ],
            [
             0.6666666666666666,
             "#ed7953"
            ],
            [
             0.7777777777777778,
             "#fb9f3a"
            ],
            [
             0.8888888888888888,
             "#fdca26"
            ],
            [
             1,
             "#f0f921"
            ]
           ]
          },
          "colorway": [
           "#636efa",
           "#EF553B",
           "#00cc96",
           "#ab63fa",
           "#FFA15A",
           "#19d3f3",
           "#FF6692",
           "#B6E880",
           "#FF97FF",
           "#FECB52"
          ],
          "font": {
           "color": "#2a3f5f"
          },
          "geo": {
           "bgcolor": "white",
           "lakecolor": "white",
           "landcolor": "#E5ECF6",
           "showlakes": true,
           "showland": true,
           "subunitcolor": "white"
          },
          "hoverlabel": {
           "align": "left"
          },
          "hovermode": "closest",
          "mapbox": {
           "style": "light"
          },
          "paper_bgcolor": "white",
          "plot_bgcolor": "#E5ECF6",
          "polar": {
           "angularaxis": {
            "gridcolor": "white",
            "linecolor": "white",
            "ticks": ""
           },
           "bgcolor": "#E5ECF6",
           "radialaxis": {
            "gridcolor": "white",
            "linecolor": "white",
            "ticks": ""
           }
          },
          "scene": {
           "xaxis": {
            "backgroundcolor": "#E5ECF6",
            "gridcolor": "white",
            "gridwidth": 2,
            "linecolor": "white",
            "showbackground": true,
            "ticks": "",
            "zerolinecolor": "white"
           },
           "yaxis": {
            "backgroundcolor": "#E5ECF6",
            "gridcolor": "white",
            "gridwidth": 2,
            "linecolor": "white",
            "showbackground": true,
            "ticks": "",
            "zerolinecolor": "white"
           },
           "zaxis": {
            "backgroundcolor": "#E5ECF6",
            "gridcolor": "white",
            "gridwidth": 2,
            "linecolor": "white",
            "showbackground": true,
            "ticks": "",
            "zerolinecolor": "white"
           }
          },
          "shapedefaults": {
           "line": {
            "color": "#2a3f5f"
           }
          },
          "ternary": {
           "aaxis": {
            "gridcolor": "white",
            "linecolor": "white",
            "ticks": ""
           },
           "baxis": {
            "gridcolor": "white",
            "linecolor": "white",
            "ticks": ""
           },
           "bgcolor": "#E5ECF6",
           "caxis": {
            "gridcolor": "white",
            "linecolor": "white",
            "ticks": ""
           }
          },
          "title": {
           "x": 0.05
          },
          "xaxis": {
           "automargin": true,
           "gridcolor": "white",
           "linecolor": "white",
           "ticks": "",
           "title": {
            "standoff": 15
           },
           "zerolinecolor": "white",
           "zerolinewidth": 2
          },
          "yaxis": {
           "automargin": true,
           "gridcolor": "white",
           "linecolor": "white",
           "ticks": "",
           "title": {
            "standoff": 15
           },
           "zerolinecolor": "white",
           "zerolinewidth": 2
          }
         }
        },
        "title": {
         "text": "Decision Boundary with predictions of training dataset"
        }
       }
      }
     },
     "metadata": {},
     "output_type": "display_data"
    }
   ],
   "source": [
    "fig1_outliers = px.line(pd.DataFrame(dict(x1=x1, x2=x2)), x='x1', y='x2')\n",
<<<<<<< HEAD
    "fig2_outliers = px.scatter(pd.DataFrame(dict(prediction=2-t_train_outliers_pred, x1 = np.concatenate((X, X_outliers))[:,1], x2 = np.concatenate((X, X_outliers))[:,2])),x='x1', y='x2', color='prediction')\n",
    "fig_boundary_outliers = go.Figure(data = fig1.data + fig1_outliers.data + fig2_outliers.data)\n",
=======
    "fig2_outliers = px.scatter(pd.DataFrame(dict(prediction=t_train_outliers_pred, \n",
    "                                            x1 = np.concatenate((X, X_outliers))[:,1], \n",
    "                                            x2 = np.concatenate((X, X_outliers))[:,2])),\n",
    "                                            x='x1', y='x2', \n",
    "                                            color='prediction')\n",
    "fig_boundary_outliers = go.Figure(data = fig1_outliers.data + fig2_outliers.data)\n",
>>>>>>> 4fde8d9bc65d556f448315158eed2de00c4bbbb7
    "fig_boundary_outliers.update_layout(dict(title='Decision Boundary with predictions of training dataset'))\n",
    "fig_boundary_outliers.show()"
   ]
  },
  {
   "cell_type": "markdown",
   "metadata": {},
   "source": [
<<<<<<< HEAD
    "As we can see, for the logistic regression, the decision frontier did not move at all. The use of the sigma function allows to limit the impact of the out:liers on the decision frontier "
   ]
  },
  {
   "cell_type": "markdown",
   "metadata": {},
   "source": [
    "LDA implementation from TP2 : "
   ]
  },
  {
   "cell_type": "code",
   "execution_count": null,
   "metadata": {},
   "outputs": [],
   "source": [
    "class LDA():\n",
    "    \"\"\"This class implement the linear discriminant analysis specifically for the loaded dataset synth. This class need to be loaded with a train and test dataset.\n",
    "    \"\"\"\n",
    "    def __init__(self, train, test):\n",
    "        self.train_df = pd.DataFrame(train,columns = ['classe', 'x1', 'x2'])\n",
    "        self.test_df = pd.DataFrame(test,columns = ['classe', 'x1', 'x2'])\n",
    "        self.type = \"LDA\"\n",
    "        \n",
    "        \n",
    "    def get_pi_estimators(self)->list:\n",
    "        \"\"\"Returns the pi estimators for each class.\n",
    "\n",
    "        Returns:\n",
    "            list: list of floats\n",
    "        \"\"\"\n",
    "        return [pi for pi in self.train_df.classe.value_counts(normalize=True, ascending=True).values]\n",
    "    \n",
    "    def get_mu_estimators(self)->np.ndarray:\n",
    "        \"\"\"Returns the mu estimators for each class.\n",
    "\n",
    "        Returns:\n",
    "            np.ndarray: an array where each line returns the vector mu (estimator) for the concerned class\n",
    "        \"\"\"\n",
    "        classes = [1,2]\n",
    "        mu = np.zeros((len(classes), 2))\n",
    "        for i, c in enumerate(classes):\n",
    "            mu[i] = self.train_df[self.train_df.classe==c][['x1', 'x2']].sum(axis=0).to_numpy() / self.train_df[self.train_df.classe==c].shape[0]\n",
    "        return mu\n",
    "    \n",
    "    def get_sigma_estimators(self)->np.ndarray:\n",
    "        \"\"\"Returns the average sigma estimator.\n",
    "\n",
    "        Returns:\n",
    "            np.ndarray: Sigma array in dimension 2x2\n",
    "        \"\"\"\n",
    "        mu = self.get_mu_estimators()\n",
    "        classes = [1,2]\n",
    "        sigma_moy = np.zeros((2,2))\n",
    "        for i, c in enumerate(classes):\n",
    "            train_df_c = self.train_df[self.train_df.classe==c]\n",
    "            sigma = np.zeros((2,2))\n",
    "            for j in range(train_df_c.shape[0]):\n",
    "                xn = train_df_c[['x1', 'x2']].iloc[j].to_numpy().reshape((2,1))\n",
    "                sigma += ( train_df_c[['x1', 'x2']].iloc[j].to_numpy().reshape((2,1)) - mu[i].reshape((2,1)) ) @ ( train_df_c[['x1', 'x2']].iloc[j].to_numpy().reshape((2,1)) - mu[i].reshape((2,1)) ).T\n",
    "            sigma_moy += sigma\n",
    "        \n",
    "        return sigma_moy/self.train_df.shape[0]\n",
    "    \n",
    "    def get_log_probabilities(self, df:pd.DataFrame)->np.ndarray:\n",
    "        \"\"\"Compute the log_probability for the entries.\n",
    "\n",
    "        Args:\n",
    "            df (pd.DataFrame): DataFrame with the columns x1 and x2\n",
    "\n",
    "        Returns:\n",
    "            np.ndarray: Matrix in dim Nx2 where N is the shape of entries\n",
    "        \"\"\"\n",
    "        pi = self.get_pi_estimators()\n",
    "        mu = self.get_mu_estimators()\n",
    "        sigma = self.get_sigma_estimators()\n",
    "        prediction = np.zeros((len(df), mu.shape[0]))\n",
    "        for i in range(df.shape[0]):\n",
    "            x = df[['x1', 'x2']].iloc[i].to_numpy().reshape((2,1))\n",
    "            y = np.zeros(mu.shape[0])\n",
    "            for j in range(mu.shape[0]):\n",
    "                y[j] = np.log(pi[j]) + x.T @ la.inv(sigma) @ mu[j].reshape((2,1)) - 1/2 * mu[j].reshape((2,1)).T @ la.inv(sigma) @ mu[j].reshape((2,1))\n",
    "            prediction[i] = y\n",
    "        return prediction\n",
    "    \n",
    "    def classification(self, train=True)->np.ndarray:\n",
    "        \"\"\"Returns the classification using discriminant analysis.\n",
    "\n",
    "        Args:\n",
    "            train (bool, optional): Use the trainset if True and the testset if not. Defaults to True.\n",
    "\n",
    "        Returns:\n",
    "            np.ndarray: Vector with class id for each entry.\n",
    "        \"\"\"\n",
    "        if train:\n",
    "            df = self.train_df\n",
    "        else:\n",
    "            df = self.test_df\n",
    "        prediction = self.get_log_probabilities(df)\n",
    "        return np.argmax(prediction, axis=1) + 1\n",
    "    \n",
    "    def error_rate(self, train=True)->float:\n",
    "        classes = self.classification(train=train)\n",
    "        if train:\n",
    "            results = (classes == self.train_df.classe.to_numpy())\n",
    "            error_rate = 1 - np.count_nonzero(results)/self.train_df.shape[0]\n",
    "        else:\n",
    "            results = (classes == self.test_df.classe.to_numpy())\n",
    "            error_rate = 1 - np.count_nonzero(results)/self.test_df.shape[0]\n",
    "        return error_rate\n",
    "        \n",
    "    \n",
    "    def plot_decision_boundary(self):\n",
    "        \"\"\"Plot the decision boundary\n",
    "        \"\"\"\n",
    "        Nx1=100 # number of samples for display\n",
    "        Nx2=100\n",
    "        x1=np.linspace(-2.5,1.5,Nx1)  # sampling of the x1 axis \n",
    "        x2=np.linspace(-0.5,3.5,Nx2)  # sampling of the x2 axis\n",
    "        [X1,X2]=np.meshgrid(x1,x2)  \n",
    "        df = pd.DataFrame({'x1': X1.flatten('F'), 'x2': X2.flatten('F')})\n",
    "        prediction = self.get_log_probabilities(df)\n",
    "        classe = list(np.argmax(prediction, axis=1) + 1)\n",
    "        df['classe'] = [f'classe {i}' for i in classe]\n",
    "        fig = px.scatter(df, x=\"x1\", y=\"x2\", color = \"classe\", title=f\"Decision boundary with {self.type}\")\n",
    "        return fig"
   ]
  },
  {
   "cell_type": "code",
   "execution_count": null,
   "metadata": {},
   "outputs": [],
   "source": [
    "lda_classifier = LDA(np.concatenate((synth_train, np.concatenate((classe_outliers.reshape(-1,1), outliers_points), axis=1))), synth_test)\n",
    "fig_boundary_lda = lda_classifier.plot_decision_boundary()"
   ]
  },
  {
   "cell_type": "code",
   "execution_count": null,
   "metadata": {},
   "outputs": [],
   "source": [
    "fig_boundary_outliers_lda = go.Figure(data = fig1.data + fig_boundary_lda.data)\n",
    "fig_boundary_outliers_lda.update_layout(dict(title='Decision Boundary with LDA and outliers'))\n",
    "fig_boundary_outliers_lda.show()"
   ]
  },
  {
   "cell_type": "markdown",
   "metadata": {},
   "source": [
    "If the dataset used includes outliers, using LDA is really not the right choice (same for QDA) and in this case, it is better to use logistic regression."
=======
    "TO ADD : LDA comparison"
>>>>>>> 4fde8d9bc65d556f448315158eed2de00c4bbbb7
   ]
  },
  {
   "cell_type": "markdown",
   "metadata": {},
   "source": [
    "## 2. Application: handwritten digits recognition 5 & 6\n",
    "We load 2 matrices which contain each a sequence of examples of 16x16 images \n",
    "of handwritten digits which are 5 and 6 here. Each line of the matrix\n",
    "contains 256 pixel values coding for the gray level of a 16x16 image."
   ]
  },
  {
   "cell_type": "code",
   "execution_count": 137,
   "metadata": {
    "collapsed": true
   },
   "outputs": [],
   "source": [
    "train_5 = np.loadtxt('train_5.txt',delimiter=',')   # 556 samples\n",
    "train_6 = np.loadtxt('train_6.txt',delimiter=',')   # 664 samples"
   ]
  },
  {
   "cell_type": "markdown",
   "metadata": {},
   "source": [
    "### Examples of images\n"
   ]
  },
  {
   "cell_type": "code",
   "execution_count": 138,
   "metadata": {},
   "outputs": [
    {
     "data": {
      "image/png": "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",
      "text/plain": [
       "<Figure size 432x288 with 1 Axes>"
      ]
     },
     "metadata": {
      "needs_background": "light"
     },
     "output_type": "display_data"
    }
   ],
   "source": [
    "# Digit 5\n",
    "n=9\n",
    "I = np.reshape(train_5[n,:],(16,16))\n",
    "\n",
    "plt.imshow(I,cmap='gray')\n",
    "plt.show()"
   ]
  },
  {
   "cell_type": "code",
   "execution_count": 139,
   "metadata": {},
   "outputs": [
    {
     "data": {
      "image/png": "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",
      "text/plain": [
       "<Figure size 432x288 with 1 Axes>"
      ]
     },
     "metadata": {
      "needs_background": "light"
     },
     "output_type": "display_data"
    }
   ],
   "source": [
    "# Digit 6\n",
    "n=5\n",
    "I = reshape(train_6[n,:],(16,16))\n",
    "\n",
    "plt.imshow(I,cmap='gray')\n",
    "plt.show()"
   ]
  },
  {
   "cell_type": "markdown",
   "metadata": {},
   "source": [
    "The images we have are in 16x16 size which returns an extremely pixilated image. Ideally, working with a better quality image should help to get better results. However, by using compressed images, we greatly reduce the computation time of the algorithm, so if the algorithm performs well with compressed images, we should not deprive ourselves! "
   ]
  },
  {
   "cell_type": "markdown",
   "metadata": {},
   "source": [
    "### Separating the training and test sets\n",
    "\n",
    "We keep in the training set the 145 first images of 5s and the 200 first\n",
    "images of 6s:\n"
   ]
  },
  {
   "cell_type": "code",
   "execution_count": 140,
   "metadata": {
    "collapsed": true
   },
   "outputs": [],
   "source": [
    "x_train_brut = np.vstack((train_5[:145,:], train_6[:200,:]))\n",
    "N_train = np.size(x_train_brut,axis=0)\n",
    "class_train = np.ones((345,1))   # label 1 for digit 6\n",
    "class_train[:145] = 0       # label 0 for digit 5\n",
    "class_train = np.squeeze(class_train)\n",
    "\n",
    "x_test_brut = np.vstack((train_5[145:,:], train_6[200:,:]))\n",
    "N_test = np.size(train_5,axis=0)+np.size(train_6,axis=0)-N_train\n",
    "class_test = np.ones((875,1))\n",
    "class_test[:(556-145)] = 0\n",
    "class_test = np.squeeze(class_test)"
   ]
  },
  {
   "cell_type": "markdown",
   "metadata": {},
   "source": [
    "## Exercise 2: logistic regression to classify 5 & 6\n",
    "\n",
    "1. Note that pixel values are between -1 and 1 by using the functions\n",
    " `min(I(:))` and `max(I(:))`.\n",
    "2. Identify the indices of the most significant pixels, which are defined \n",
    "as having a standard deviation greater than 0.5 here. We denote by `lis_sig`\n",
    "the list of positions of these significant pixels in the image vector.\n",
    "_Indication : the function `std` gives the standard deviation (columnwise\n",
    "in matrices) and you should find 173 pixel positions.\n",
    "3. Show a binary image to locate these pixels.\n",
    "_Indication : `Isig = zeros(16); Isig(list_sig)=1; Isig=Isig';`._\n",
    "4. Define the training set `x_train` from `x_train_brut` from the significant pixels only.\n",
    "5. Do the same with `x_test_brut` to extract `x_test`.\n",
    "6. Use `regression_logistique.m` to estimate the logistic regression vector\n",
    "`w` from the training set `x_train`. \n",
    "Choose `Nitermax = 13; eps_conv = 1e-3;`\n",
    "7. Compute the decision function and the labels of the test set `x_test`. \n",
    "_Indication : do not forget the column of ones !_\n",
    "8. Estimate the classification error rate by using :\n",
    "`erreur = sum(abs(class-class_test))/N_test;`.\n",
    "9. Locate some misclassified examples and visualize the corresponding image.\n",
    "Comment on your results and observations.\n"
   ]
  },
  {
   "cell_type": "code",
   "execution_count": 141,
   "metadata": {
    "collapsed": true
   },
   "outputs": [],
   "source": [
    "lis_sig = np.where(np.std(x_train_brut, axis=0) > 0.5)[0].tolist()"
   ]
  },
  {
   "cell_type": "code",
   "execution_count": 142,
   "metadata": {},
   "outputs": [
    {
     "data": {
      "text/plain": [
       "<matplotlib.image.AxesImage at 0x1edff90c9d0>"
      ]
     },
     "execution_count": 142,
     "metadata": {},
     "output_type": "execute_result"
    },
    {
     "data": {
      "image/png": "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",
      "text/plain": [
       "<Figure size 432x288 with 1 Axes>"
      ]
     },
     "metadata": {
      "needs_background": "light"
     },
     "output_type": "display_data"
    }
   ],
   "source": [
    "Isig = np.zeros(256)\n",
    "Isig[lis_sig]=1\n",
    "Isig = np.reshape(np.array(Isig), (16,16))\n",
    "plt.imshow(Isig, cmap=\"gray\")"
   ]
  },
  {
   "cell_type": "code",
<<<<<<< HEAD
   "execution_count": null,
   "metadata": {},
   "outputs": [],
   "source": [
    "x_train = x_train_brut[:, list_sig]\n",
    "x_test = x_test_brut[:, list_sig]"
=======
   "execution_count": 143,
   "metadata": {},
   "outputs": [],
   "source": [
    "x_train = x_train_brut[:, lis_sig]\n",
    "x_test = x_test_brut[:, lis_sig]"
>>>>>>> 4fde8d9bc65d556f448315158eed2de00c4bbbb7
   ]
  },
  {
   "cell_type": "code",
<<<<<<< HEAD
   "execution_count": null,
   "metadata": {},
   "outputs": [],
   "source": [
    "try:\n",
    "    w, Niter = regression_logistique(x_train, np.squeeze(class_train), Nitermax=13, eps_conv=1e-3)\n",
    "except:\n",
    "    print(\"Singular matrix\")"
   ]
  },
  {
   "cell_type": "markdown",
   "metadata": {},
   "source": [
    "Unfortunately, we have problems with the inversion of the R matrix, so we need to find a way around this. "
   ]
  },
  {
   "cell_type": "markdown",
   "metadata": {},
   "source": [
    "Proposition 1 : Use of a constant in the matrix R to make it invertible\n",
    "\n",
    "Proposition 2 : Stop the algorithm as soon as the matrix R is not invertible."
   ]
  },
  {
   "cell_type": "code",
   "execution_count": null,
   "metadata": {},
   "outputs": [],
   "source": [
    "from sklearn.metrics import confusion_matrix\n",
    "\n",
    "class Logistique_Regression_early_stop():\n",
    "    \"\"\"This class implement the logistic regression using IRLS algorithm and an early stop if R matrix is not invertible.\n",
    "    \"\"\"\n",
    "    def __init__(self, train:np.ndarray, class_train:np.ndarray, test:np.ndarray, class_test:np.ndarray, Nitermax:int = 13, eps_conv:float=1e-3):\n",
    "        \"\"\"\n",
    "        Args:\n",
    "            train (np.ndarray): training dataset \n",
    "            class_train (np.ndarray): respective class for the training dataset\n",
    "            test (np.ndarray): test dataset \n",
    "            class_test (np.ndarray): respective class for the test dataset\n",
    "            Nitermax (int, optional): The maximum number of iteration before the algorithm stop. Defaults to 13.\n",
    "            eps_conv (float, optional): The tolerance criterion before the algorithm stop. Defaults to 1e-3.\n",
    "        \"\"\"\n",
    "        self.train = train\n",
    "        self.class_train = class_train\n",
    "        self.N_train = train.shape[0]\n",
    "        self.test = test\n",
    "        self.class_test = class_test\n",
    "        self.N_test = test.shape[0]\n",
    "        self.Nitermax = Nitermax\n",
    "        self.eps_conv = eps_conv\n",
    "    \n",
    "    def preprocessing(self, value:float=0.5):\n",
    "        \"\"\"Do the preprocessing of the images before the training\n",
    "\n",
    "        Args:\n",
    "            value (float, optional): The threshold used to select pixels. Defaults to 0.5.\n",
    "        \"\"\"\n",
    "        lis_sig = np.where(np.std(self.train, axis=0) > value)[0].tolist()\n",
    "        self.x_train = self.train[:, lis_sig]\n",
    "        self.x_test = self.test[:, lis_sig]\n",
    "        self.X_train = np.hstack((np.ones((self.N_train,1)),self.x_train))\n",
    "        self.X_test = np.hstack((np.ones((self.N_test,1)),self.x_test))\n",
    "    \n",
    "    def fit(self):\n",
    "        \"\"\"Implementation of the IRLS algorithm method. If the matrix R is no longer invertible, the algorithm stop. Returns w and the number of iterations.\n",
    "        \"\"\"\n",
    "        #initialisation : 1 pas de l'algorithme IRLS\n",
    "        t = self.class_train\n",
    "        X = self.X_train\n",
    "        w = np.zeros((self.X_train.shape[1],))\n",
    "        w_old = w \n",
    "        y = 1/2*np.ones((self.N_train,))\n",
    "        R = np.diag(y*(1-y))   # diag(y_n(1-y_n))\n",
    "        z = X.dot(w_old)-la.inv(R).dot(y-t)\n",
    "        w = la.inv(X.T.dot(R).dot(X)).dot(X.T).dot(R).dot(z)\n",
    "\n",
    "        # boucle appliquant l'algortihme de Newton-Raphson\n",
    "        Niter = 1\n",
    "        while ( (la.norm(w-w_old)/la.norm(w)>self.eps_conv) and (Niter<self.Nitermax) ):\n",
    "            Niter = Niter+1\n",
    "            y = 1/(1+np.exp(-X.dot(w)))\n",
    "            R = np.diag(y*(1-y))  \n",
    "            w_old = w \n",
    "            try:\n",
    "                z = X.dot(w_old)-la.inv(R).dot(y-t) \n",
    "                w = la.inv(X.T.dot(R).dot(X)).dot(X.T).dot(R).dot(z)\n",
    "            except:\n",
    "                break\n",
    "        self.w = w\n",
    "        self.Niter = Niter\n",
    "    def predict(self):\n",
    "        \"\"\"Make predictions on the test dataset\n",
    "        \"\"\"\n",
    "        predictions = lambda x: np.where(np.exp(x)/( 1 + np.exp(x))<=0.5, 0 , 1)\n",
    "        self.t_test_pred = predictions(self.X_test @self.w)\n",
    "\n",
    "    def confusion_matrix(self, show:bool=True)->np.ndarray:\n",
    "        \"\"\"Compute the confusion matrix\n",
    "\n",
    "        Args:\n",
    "            show (bool, optional): If true plot the confusion matrix. Defaults to True.\n",
    "\n",
    "        Returns:\n",
    "            np.ndarray: Confusion matrix as an array\n",
    "        \"\"\"\n",
    "        cm = confusion_matrix(self.class_test, self.t_test_pred)\n",
    "        if show:\n",
    "            fig = px.imshow(cm, text_auto=True)\n",
    "            fig.show()\n",
    "        return cm\n",
    "\n",
    "class Logistique_Regression_with_constant(Logistique_Regression_early_stop):\n",
    "    def __init__(self, train:np.ndarray, class_train:np.ndarray, test:np.ndarray, class_test:np.ndarray, cst:float, Nitermax:int = 13, eps_conv:float=1e-3):\n",
    "        \"\"\"\n",
    "        Args:\n",
    "            train (np.ndarray): training dataset.\n",
    "            class_train (np.ndarray): respective class for the training dataset.\n",
    "            test (np.ndarray): test dataset.\n",
    "            class_test (np.ndarray): respective class for the test dataset.\n",
    "            cst (float): The value to add to the R matrix if it is not invertible.\n",
    "            Nitermax (int, optional): The maximum number of iteration before the algorithm stop. Defaults to 13.\n",
    "            eps_conv (float, optional): The tolerance criterion before the algorithm stop. Defaults to 1e-3.\n",
    "        \"\"\"\n",
    "        super().__init__(train, class_train, test, class_test, Nitermax, eps_conv)\n",
    "        self.cst = cst\n",
    "    \n",
    "    def fit(self):\n",
    "        \"\"\"Implementation of the IRLS algorithm method. If the matrix R is no longer invertible, we had the constant value cst to the R matrix before before computing the inverse. Returns w and the number of iterations.\n",
    "        \"\"\"\n",
    "        #initialisation : 1 pas de l'algorithme IRLS\n",
    "        t = self.class_train\n",
    "        X = self.X_train\n",
    "        w = np.zeros((self.X_train.shape[1],))\n",
    "        w_old = w \n",
    "        y = 1/2*np.ones((self.N_train,))\n",
    "        R = np.diag(y*(1-y))   # diag(y_n(1-y_n))\n",
    "        z = X.dot(w_old)-la.inv(R).dot(y-t)\n",
    "        w = la.inv(X.T.dot(R).dot(X)).dot(X.T).dot(R).dot(z)\n",
    "\n",
    "        # boucle appliquant l'algortihme de Newton-Raphson\n",
    "        Niter = 1\n",
    "        while ( (la.norm(w-w_old)/la.norm(w)>self.eps_conv) and (Niter<self.Nitermax) ):\n",
    "            Niter = Niter+1\n",
    "            y = 1/(1+np.exp(-X.dot(w)))\n",
    "            R = np.diag(y*(1-y))  \n",
    "            w_old = w \n",
    "            try:\n",
    "                z = X.dot(w_old)-la.inv(R).dot(y-t) \n",
    "            except:\n",
    "                R = np.diag(y*(1-y) + self.cst)\n",
    "                z = X.dot(w_old)-la.inv(R).dot(y-t) \n",
    "            w = la.inv(X.T.dot(R).dot(X)).dot(X.T).dot(R).dot(z)\n",
    "            \n",
    "        self.w = w\n",
    "        self.Niter = Niter"
   ]
  },
  {
   "cell_type": "code",
   "execution_count": null,
   "metadata": {},
   "outputs": [],
   "source": [
    "rl_early_stop = Logistique_Regression_early_stop(x_train_brut, class_train,  x_test_brut, class_test)\n",
    "rl_early_stop.preprocessing()\n",
    "rl_early_stop.fit()\n",
    "rl_early_stop.predict()"
   ]
  },
  {
   "cell_type": "code",
   "execution_count": null,
   "metadata": {},
   "outputs": [],
   "source": [
    "rl_early_stop.Niter"
   ]
  },
  {
   "cell_type": "markdown",
   "metadata": {},
   "source": [
    "We got Niter=Nitermax so we did not use the early stop."
   ]
  },
  {
   "cell_type": "code",
   "execution_count": null,
   "metadata": {},
   "outputs": [],
   "source": [
    "cm = rl_early_stop.confusion_matrix()"
   ]
  },
  {
   "cell_type": "code",
   "execution_count": null,
   "metadata": {},
   "outputs": [],
   "source": [
    "rl_early_stop = Logistique_Regression_early_stop(x_train_brut, class_train,  x_test_brut, class_test, Nitermax=200)\n",
    "rl_early_stop.preprocessing()\n",
    "rl_early_stop.fit()\n",
    "rl_early_stop.predict()"
   ]
  },
  {
   "cell_type": "code",
   "execution_count": null,
   "metadata": {},
   "outputs": [],
   "source": [
    "rl_early_stop.Niter"
   ]
  },
  {
   "cell_type": "markdown",
   "metadata": {},
   "source": [
    "Here we can see that there is an inversion problem at the 15th iteration !"
   ]
  },
  {
   "cell_type": "code",
   "execution_count": null,
   "metadata": {},
   "outputs": [],
   "source": [
    "cm = rl_early_stop.confusion_matrix()"
   ]
  },
  {
   "cell_type": "markdown",
   "metadata": {},
   "source": [
    "We get a better result, which makes sense since we did two more iterations."
   ]
  },
  {
   "cell_type": "code",
   "execution_count": null,
   "metadata": {},
   "outputs": [],
   "source": [
    "import matplotlib.pyplot as plt\n",
=======
   "execution_count": 144,
   "metadata": {},
   "outputs": [],
   "source": [
    "X = np.hstack((np.ones((N_train,1)),x_train))\n",
    "X_test = np.hstack((np.ones((N_test,1)),x_test))\n",
    "\n",
    "w, Niter = regression_logistique_no_error(X, np.squeeze(class_train), Nitermax=13, eps_conv=1e-3)"
   ]
  },
  {
   "cell_type": "code",
   "execution_count": 145,
   "metadata": {},
   "outputs": [],
   "source": [
    "predictions = lambda x: np.where(np.exp(x)/( 1 + np.exp(x))<=0.5, 0 , 1)"
   ]
  },
  {
   "cell_type": "code",
   "execution_count": 146,
   "metadata": {},
   "outputs": [],
   "source": [
    "t_train_pred = predictions(X @ w)\n",
    "t_test_pred = predictions(X_test @ w)"
   ]
  },
  {
   "cell_type": "code",
   "execution_count": 147,
   "metadata": {},
   "outputs": [
    {
     "name": "stdout",
     "output_type": "stream",
     "text": [
      "La valeur de l'erreur de la prédiction vaut : 0.079\n"
     ]
    }
   ],
   "source": [
    "erreur = sum(abs(t_test_pred-class_test))/N_test\n",
    "print(\"The error value of the prediction is : {:.3f}\".format(erreur))"
   ]
  },
  {
   "cell_type": "code",
   "execution_count": 167,
   "metadata": {},
   "outputs": [
    {
     "name": "stdout",
     "output_type": "stream",
     "text": [
      "There are 69 misclassified images in the test dataset.\n"
     ]
    },
    {
     "data": {
      "text/plain": [
       "<matplotlib.image.AxesImage at 0x1ed8d859d50>"
      ]
     },
     "execution_count": 167,
     "metadata": {},
     "output_type": "execute_result"
    },
    {
     "data": {
      "image/png": "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",
      "text/plain": [
       "<Figure size 1080x1080 with 3 Axes>"
      ]
     },
     "metadata": {
      "needs_background": "light"
     },
     "output_type": "display_data"
    }
   ],
   "source": [
    "print(f\"There are {np.where(t_test_pred-class_test != 0)[0].shape[0]} misclassified images in the test dataset.\")\n",
    "\n",
>>>>>>> 4fde8d9bc65d556f448315158eed2de00c4bbbb7
    "fig, ax = plt.subplots(1,3, figsize=(15, 15))\n",
    "\n",
    "# Exemple 1\n",
    "ax[0].set_title(\"Example 1\")\n",
<<<<<<< HEAD
    "ax[0].imshow(np.reshape(rl_early_stop.test[np.where(rl_early_stop.t_test_pred-rl_early_stop.class_test != 0)[0][0]], (16,16)))\n",
    "\n",
    "# Exemple 2\n",
    "ax[1].set_title(\"Example 2\")\n",
    "ax[1].imshow(np.reshape(rl_early_stop.test[np.where(rl_early_stop.t_test_pred-rl_early_stop.class_test != 0)[0][1]], (16,16)))\n",
    "\n",
    "# Exemple 3\n",
    "ax[2].set_title(\"Example 3\")\n",
    "ax[2].imshow(np.reshape(rl_early_stop.test[np.where(rl_early_stop.t_test_pred-rl_early_stop.class_test != 0)[0][-1]], (16,16)))"
=======
    "ax[0].imshow(np.reshape(x_test_brut[np.where(t_test_pred-class_test != 0)[0][0]], (16,16)))\n",
    "\n",
    "# Exemple 2\n",
    "ax[1].set_title(\"Example 2\")\n",
    "ax[1].imshow(np.reshape(x_test_brut[np.where(t_test_pred-class_test != 0)[0][1]], (16,16)))\n",
    "\n",
    "# Exemple 3\n",
    "ax[2].set_title(\"Example 3\")\n",
    "ax[2].imshow(np.reshape(x_test_brut[np.where(t_test_pred-class_test != 0)[0][-1]], (16,16)))\n"
>>>>>>> 4fde8d9bc65d556f448315158eed2de00c4bbbb7
   ]
  },
  {
   "cell_type": "markdown",
   "metadata": {},
   "source": [
<<<<<<< HEAD
    "The first two examples have been classified as 6 instead of 5 and the last example has been classified as 5 instead of 6. We notice that for the first two examples, the high bar of the 5 extends a lot and thus a non-negligible number of important pixels of the image are not taken into account when passing from x_test_brut to x_test (i.e. after reduction of the dataset by calculating the sigma on pixels). Since only a small number of pixels are kept, it is understandable that the classification is more erroneous than in the case where more information is kept with the raw dataset. Let's check this:"
=======
    "The first two examples have been classified as 6 instead of 5 and the last example has been classified as 5 instead of 6. We notice that for the first two examples, the high bar of the 5 extends a lot and thus a non-negligible number of important pixels of the image are not taken into account when passing from x_test_brut to x_test (i.e. after reduction of the dataset by calculating the sigma on pixels). Since only a small number of pixels are kept, it is understandable that the classification is more erroneous than in the case where all the information is kept with the raw dataset. Let's check this:"
>>>>>>> 4fde8d9bc65d556f448315158eed2de00c4bbbb7
   ]
  },
  {
   "cell_type": "code",
<<<<<<< HEAD
   "execution_count": null,
   "metadata": {},
   "outputs": [],
   "source": [
    "values = np.arange(0.01,0.901,0.01)\n",
    "false_positive = np.zeros(values.shape[0])\n",
    "false_negative = np.zeros(values.shape[0])\n",
    "number_of_iterations = np.zeros(values.shape[0])\n",
    "for i,value in enumerate(values):\n",
    "    rl_early_stop = Logistique_Regression_early_stop(x_train_brut, class_train,  x_test_brut, class_test, Nitermax=200)\n",
    "    rl_early_stop.preprocessing(value)\n",
    "    rl_early_stop.fit()\n",
    "    rl_early_stop.predict()\n",
    "    cm = rl_early_stop.confusion_matrix(show=False)\n",
    "    false_positive[i] = cm[0,1]\n",
    "    false_negative[i] = cm[1,0]\n",
    "    number_of_iterations[i] = rl_early_stop.Niter\n",
    "\n",
    "df_analyse = pd.DataFrame({\n",
    "    \"Value for preprocessing\": values,\n",
    "    \"Number of false positive\": false_positive,\n",
    "    \"Number of false negative\": false_negative,\n",
    "    \"Number of iterations\": number_of_iterations  \n",
    "})\n",
    "\n",
    "px.line(df_analyse, \"Value for preprocessing\",y= [\"Number of iterations\", \"Number of false positive\", \"Number of false negative\"])"
   ]
  },
  {
   "cell_type": "markdown",
   "metadata": {},
   "source": [
    "For our dataset, modifying the threshold for the pixels in the preprocessing allows to obtain better results. In any case, the estimator remains better with the 5 than with the 6 but changing the threshold to 0.52 allows to obtain optimal results on the test dataset."
   ]
  },
  {
   "cell_type": "markdown",
   "metadata": {},
   "source": [
    "By using the early stop method, we get good results. The estimator is however better at recognizing the 5 than the 6. We will compare this method to the added constant method."
   ]
  },
  {
   "cell_type": "code",
   "execution_count": null,
   "metadata": {},
   "outputs": [],
   "source": [
    "import seaborn as sns\n",
    "\n",
    "cst_values = np.array([1e-15, 1e-14, 1e-13, 1e-12, 1e-11, 1e-10, 1e-9,1e-8, 1e-7,  1e-6, 1e-5, 1e-4, 1e-3,1e-2, 1e-1])\n",
    "false_positive = np.zeros(cst_values.shape[0])\n",
    "false_negative = np.zeros(cst_values.shape[0])\n",
    "number_of_iterations = np.zeros(cst_values.shape[0])\n",
    "for i,cst in enumerate(cst_values):\n",
    "    rl_cst = Logistique_Regression_with_constant(x_train_brut, class_train,  x_test_brut, class_test, cst=cst, Nitermax=200)\n",
    "    rl_cst.preprocessing()\n",
    "    rl_cst.fit()\n",
    "    rl_cst.predict()\n",
    "    cm = rl_cst.confusion_matrix(show=False)\n",
    "    false_positive[i] = cm[0,1]\n",
    "    false_negative[i] = cm[1,0]\n",
    "    number_of_iterations[i] = rl_cst.Niter\n",
    "\n",
    "df_analyse = pd.DataFrame({\n",
    "    \"Constant value\": cst_values,\n",
    "    \"Number of false positive\": false_positive,\n",
    "    \"Number of false negative\": false_negative,\n",
    "    \"Number of iterations\": number_of_iterations  \n",
    "})"
   ]
  },
  {
   "cell_type": "code",
   "execution_count": null,
   "metadata": {},
   "outputs": [],
   "source": [
    "px.line(df_analyse, \"Constant value\",y= [\"Number of iterations\", \"Number of false positive\", \"Number of false negative\"], log_x=True, title=\"Analysis as a function of the constant value\")"
   ]
  },
  {
   "cell_type": "markdown",
   "metadata": {},
   "source": [
    "[ You can click on Number of iterations to see only the variations of the number of false positives and false negatives ]"
   ]
  },
  {
   "cell_type": "markdown",
   "metadata": {},
   "source": [
    "As we can see, the number of false positives and false negatives varies according to the value of the constant which shows that the value of the constant has a real impact on the training of the classifier. However, we manage to have a better result for a value of the constant equal to $10^{-7}$. However, the results remain similar and with the early stop technique the algorithm has a much shorter execution time."
   ]
  },
  {
   "cell_type": "code",
   "execution_count": null,
   "metadata": {},
   "outputs": [],
   "source": [
    "rl_cst = Logistique_Regression_with_constant(x_train_brut, class_train,  x_test_brut, class_test, cst=1e-7, Nitermax=200)\n",
    "rl_cst.preprocessing()\n",
    "rl_cst.fit()\n",
    "rl_cst.predict()\n",
    "cm = rl_cst.confusion_matrix()"
   ]
  },
  {
   "cell_type": "markdown",
   "metadata": {},
   "source": [
    "Another way to see how much of an impact adding this constant to the R matrix has is to look at the algorithm output w as a function of the constant."
   ]
  },
  {
   "cell_type": "code",
   "execution_count": null,
   "metadata": {},
   "outputs": [],
   "source": [
    "rl_cst_1 = Logistique_Regression_with_constant(x_train_brut, class_train,  x_test_brut, class_test, cst=1e-7, Nitermax=200)\n",
    "rl_cst_1.preprocessing()\n",
    "rl_cst_1.fit()\n",
    "rl_cst_2 = Logistique_Regression_with_constant(x_train_brut, class_train,  x_test_brut, class_test, cst=1e-4, Nitermax=200)\n",
    "rl_cst_2.preprocessing()\n",
    "rl_cst_2.fit()\n",
    "\n",
    "print(\"First values of w for cst=1e-7\\n\")\n",
    "print(rl_cst_1.w[0:5],\"\\n\")\n",
    "print(\"First values of w for cst=1e-4\\n\")\n",
    "print(rl_cst_2.w[0:5],\"\\n\")"
=======
   "execution_count": 149,
   "metadata": {},
   "outputs": [
    {
     "ename": "LinAlgError",
     "evalue": "Singular matrix",
     "output_type": "error",
     "traceback": [
      "\u001b[1;31m---------------------------------------------------------------------------\u001b[0m",
      "\u001b[1;31mLinAlgError\u001b[0m                               Traceback (most recent call last)",
      "\u001b[1;32mc:\\Users\\geyma\\OneDrive\\Documents\\GitHub\\g3_decision\\TP3_Gey_Jean\\TP3_logistic_regression.ipynb Cellule 50\u001b[0m in \u001b[0;36m<cell line: 4>\u001b[1;34m()\u001b[0m\n\u001b[0;32m      <a href='vscode-notebook-cell:/c%3A/Users/geyma/OneDrive/Documents/GitHub/g3_decision/TP3_Gey_Jean/TP3_logistic_regression.ipynb#Y101sZmlsZQ%3D%3D?line=0'>1</a>\u001b[0m X \u001b[39m=\u001b[39m np\u001b[39m.\u001b[39mhstack((np\u001b[39m.\u001b[39mones((N_train,\u001b[39m1\u001b[39m)),x_train_brut))\n\u001b[0;32m      <a href='vscode-notebook-cell:/c%3A/Users/geyma/OneDrive/Documents/GitHub/g3_decision/TP3_Gey_Jean/TP3_logistic_regression.ipynb#Y101sZmlsZQ%3D%3D?line=1'>2</a>\u001b[0m X_test \u001b[39m=\u001b[39m np\u001b[39m.\u001b[39mhstack((np\u001b[39m.\u001b[39mones((N_test,\u001b[39m1\u001b[39m)),x_test_brut))\n\u001b[1;32m----> <a href='vscode-notebook-cell:/c%3A/Users/geyma/OneDrive/Documents/GitHub/g3_decision/TP3_Gey_Jean/TP3_logistic_regression.ipynb#Y101sZmlsZQ%3D%3D?line=3'>4</a>\u001b[0m w, Niter \u001b[39m=\u001b[39m regression_logistique_no_error(X, np\u001b[39m.\u001b[39;49msqueeze(class_train), Nitermax\u001b[39m=\u001b[39;49m\u001b[39m13\u001b[39;49m, eps_conv\u001b[39m=\u001b[39;49m\u001b[39m1e-3\u001b[39;49m)\n\u001b[0;32m      <a href='vscode-notebook-cell:/c%3A/Users/geyma/OneDrive/Documents/GitHub/g3_decision/TP3_Gey_Jean/TP3_logistic_regression.ipynb#Y101sZmlsZQ%3D%3D?line=4'>5</a>\u001b[0m predictions \u001b[39m=\u001b[39m \u001b[39mlambda\u001b[39;00m x: np\u001b[39m.\u001b[39mwhere(np\u001b[39m.\u001b[39mexp(x)\u001b[39m/\u001b[39m( \u001b[39m1\u001b[39m \u001b[39m+\u001b[39m np\u001b[39m.\u001b[39mexp(x))\u001b[39m<\u001b[39m\u001b[39m=\u001b[39m\u001b[39m0.5\u001b[39m, \u001b[39m0\u001b[39m , \u001b[39m1\u001b[39m)\n\u001b[0;32m      <a href='vscode-notebook-cell:/c%3A/Users/geyma/OneDrive/Documents/GitHub/g3_decision/TP3_Gey_Jean/TP3_logistic_regression.ipynb#Y101sZmlsZQ%3D%3D?line=6'>7</a>\u001b[0m t_test_pred \u001b[39m=\u001b[39m predictions(X_test \u001b[39m@\u001b[39m w)\n",
      "\u001b[1;32mc:\\Users\\geyma\\OneDrive\\Documents\\GitHub\\g3_decision\\TP3_Gey_Jean\\TP3_logistic_regression.ipynb Cellule 50\u001b[0m in \u001b[0;36mregression_logistique_no_error\u001b[1;34m(X, t, Nitermax, eps_conv)\u001b[0m\n\u001b[0;32m     <a href='vscode-notebook-cell:/c%3A/Users/geyma/OneDrive/Documents/GitHub/g3_decision/TP3_Gey_Jean/TP3_logistic_regression.ipynb#Y101sZmlsZQ%3D%3D?line=25'>26</a>\u001b[0m R \u001b[39m=\u001b[39m np\u001b[39m.\u001b[39mdiag(y\u001b[39m*\u001b[39m(\u001b[39m1\u001b[39m\u001b[39m-\u001b[39my))   \u001b[39m# diag(y_n(1-y_n))\u001b[39;00m\n\u001b[0;32m     <a href='vscode-notebook-cell:/c%3A/Users/geyma/OneDrive/Documents/GitHub/g3_decision/TP3_Gey_Jean/TP3_logistic_regression.ipynb#Y101sZmlsZQ%3D%3D?line=26'>27</a>\u001b[0m z \u001b[39m=\u001b[39m X\u001b[39m.\u001b[39mdot(w_old)\u001b[39m-\u001b[39mla\u001b[39m.\u001b[39minv(R)\u001b[39m.\u001b[39mdot(y\u001b[39m-\u001b[39mt)\n\u001b[1;32m---> <a href='vscode-notebook-cell:/c%3A/Users/geyma/OneDrive/Documents/GitHub/g3_decision/TP3_Gey_Jean/TP3_logistic_regression.ipynb#Y101sZmlsZQ%3D%3D?line=27'>28</a>\u001b[0m w \u001b[39m=\u001b[39m la\u001b[39m.\u001b[39;49minv(X\u001b[39m.\u001b[39;49mT\u001b[39m.\u001b[39;49mdot(R)\u001b[39m.\u001b[39;49mdot(X))\u001b[39m.\u001b[39mdot(X\u001b[39m.\u001b[39mT)\u001b[39m.\u001b[39mdot(R)\u001b[39m.\u001b[39mdot(z)\n\u001b[0;32m     <a href='vscode-notebook-cell:/c%3A/Users/geyma/OneDrive/Documents/GitHub/g3_decision/TP3_Gey_Jean/TP3_logistic_regression.ipynb#Y101sZmlsZQ%3D%3D?line=29'>30</a>\u001b[0m \u001b[39m# boucle appliquant l'algortihme de Newton-Raphson\u001b[39;00m\n\u001b[0;32m     <a href='vscode-notebook-cell:/c%3A/Users/geyma/OneDrive/Documents/GitHub/g3_decision/TP3_Gey_Jean/TP3_logistic_regression.ipynb#Y101sZmlsZQ%3D%3D?line=30'>31</a>\u001b[0m Niter \u001b[39m=\u001b[39m \u001b[39m1\u001b[39m\n",
      "File \u001b[1;32m<__array_function__ internals>:180\u001b[0m, in \u001b[0;36minv\u001b[1;34m(*args, **kwargs)\u001b[0m\n",
      "File \u001b[1;32mc:\\Users\\geyma\\AppData\\Local\\Programs\\Python\\Python310\\lib\\site-packages\\numpy\\linalg\\linalg.py:545\u001b[0m, in \u001b[0;36minv\u001b[1;34m(a)\u001b[0m\n\u001b[0;32m    543\u001b[0m signature \u001b[39m=\u001b[39m \u001b[39m'\u001b[39m\u001b[39mD->D\u001b[39m\u001b[39m'\u001b[39m \u001b[39mif\u001b[39;00m isComplexType(t) \u001b[39melse\u001b[39;00m \u001b[39m'\u001b[39m\u001b[39md->d\u001b[39m\u001b[39m'\u001b[39m\n\u001b[0;32m    544\u001b[0m extobj \u001b[39m=\u001b[39m get_linalg_error_extobj(_raise_linalgerror_singular)\n\u001b[1;32m--> 545\u001b[0m ainv \u001b[39m=\u001b[39m _umath_linalg\u001b[39m.\u001b[39;49minv(a, signature\u001b[39m=\u001b[39;49msignature, extobj\u001b[39m=\u001b[39;49mextobj)\n\u001b[0;32m    546\u001b[0m \u001b[39mreturn\u001b[39;00m wrap(ainv\u001b[39m.\u001b[39mastype(result_t, copy\u001b[39m=\u001b[39m\u001b[39mFalse\u001b[39;00m))\n",
      "File \u001b[1;32mc:\\Users\\geyma\\AppData\\Local\\Programs\\Python\\Python310\\lib\\site-packages\\numpy\\linalg\\linalg.py:88\u001b[0m, in \u001b[0;36m_raise_linalgerror_singular\u001b[1;34m(err, flag)\u001b[0m\n\u001b[0;32m     87\u001b[0m \u001b[39mdef\u001b[39;00m \u001b[39m_raise_linalgerror_singular\u001b[39m(err, flag):\n\u001b[1;32m---> 88\u001b[0m     \u001b[39mraise\u001b[39;00m LinAlgError(\u001b[39m\"\u001b[39m\u001b[39mSingular matrix\u001b[39m\u001b[39m\"\u001b[39m)\n",
      "\u001b[1;31mLinAlgError\u001b[0m: Singular matrix"
     ]
    }
   ],
   "source": [
    "X = np.hstack((np.ones((N_train,1)),x_train_brut))\n",
    "X_test = np.hstack((np.ones((N_test,1)),x_test_brut))\n",
    "\n",
    "w, Niter = regression_logistique_no_error(X, np.squeeze(class_train), Nitermax=13, eps_conv=1e-3)\n",
    "predictions = lambda x: np.where(np.exp(x)/( 1 + np.exp(x))<=0.5, 0 , 1)\n",
    "\n",
    "t_test_pred = predictions(X_test @ w)\n",
    "erreur = sum(abs(t_test_pred-class_test))/N_test\n",
    "\n",
    "print(\"La valeur de la nouvelle erreur de la prédiction vaut : {:.3f}\".format(erreur))\n",
    "print(f\"Il y a {np.where(t_test_pred-class_test != 0)[0].shape[0]} images mal classifiées dans le jeu de données test.\")\n",
    "\n",
    "fig, ax = plt.subplots(1,3, figsize=(15, 15))\n",
    "\n",
    "# Exemple 1\n",
    "ax[0].set_title(\"Example 1\")\n",
    "ax[0].imshow(np.reshape(x_test_brut[np.where(t_test_pred-class_test != 0)[0][0]], (16,16)))\n",
    "\n",
    "# Exemple 2\n",
    "ax[1].set_title(\"Example 2\")\n",
    "ax[1].imshow(np.reshape(x_test_brut[np.where(t_test_pred-class_test != 0)[0][1]], (16,16)))\n",
    "\n",
    "# Exemple 3\n",
    "ax[2].set_title(\"Example 3\")\n",
    "ax[2].imshow(np.reshape(x_test_brut[np.where(t_test_pred-class_test != 0)[0][-1]], (16,16)))"
>>>>>>> 4fde8d9bc65d556f448315158eed2de00c4bbbb7
   ]
  },
  {
   "cell_type": "markdown",
   "metadata": {
    "collapsed": true
   },
   "source": [
    "## 3. Logistic regression using `scikit-learn`"
   ]
  },
  {
   "cell_type": "markdown",
   "metadata": {
    "collapsed": true
   },
   "source": [
    "1. **Go to** http://scikit-learn.org/stable/modules/generated/sklearn.linear_model.LogisticRegression.html for a presentation of the logistic regression model in `scikit-learn`.\n",
    "\n",
    "2. **Apply** it to the present data set.\n",
    "\n",
    "3. **Comment** on the use of logistic regression.\n",
    "\n",
    "*Indication : you may have a look at* \n",
    "\n",
    "a) Theory : http://openclassroom.stanford.edu/MainFolder/DocumentPage.php?course=MachineLearning&doc=exercises/ex5/ex5.html\n",
    "\n",
    "b) Video :  https://www.coursera.org/learn/machine-learning/lecture/4BHEy/regularized-logistic-regression \n",
    "\n",
    "c) Example : http://scikit-learn.org/stable/auto_examples/exercises/plot_digits_classification_exercise.html#sphx-glr-auto-examples-exercises-plot-digits-classification-exercise-py\n",
    "\n",
    "*for a short presentation of regularized logistic regression.*"
   ]
  },
  {
   "cell_type": "markdown",
   "metadata": {},
   "source": [
    "---------------------------------------"
   ]
  },
  {
   "cell_type": "markdown",
   "metadata": {},
   "source": [
    "For the dataset of the first exercise :"
   ]
  },
  {
   "cell_type": "code",
   "execution_count": 153,
   "metadata": {},
   "outputs": [],
   "source": [
    "from sklearn.linear_model import LogisticRegression\n",
    "from sklearn.metrics import accuracy_score"
   ]
  },
  {
   "cell_type": "code",
<<<<<<< HEAD
   "execution_count": null,
=======
   "execution_count": 154,
>>>>>>> 4fde8d9bc65d556f448315158eed2de00c4bbbb7
   "metadata": {},
   "outputs": [],
   "source": [
    "# Training set\n",
    "synth_train = np.loadtxt('synth_train.txt') \n",
    "class_train = synth_train[:,0]\n",
    "class_train_1 = np.where(synth_train[:,0]==1)[0]\n",
    "class_train_2 = np.where(synth_train[:,0]==2)[0]\n",
    "x_train = synth_train[:,1:]\n",
    "N_train = np.size(x_train,axis=0)\n",
    "\n",
    "# Test set\n",
    "synth_test = np.loadtxt('synth_test.txt')\n",
    "class_test = synth_test[:,0]\n",
    "class_test_1 = np.where(synth_test[:,0]==1)[0]\n",
    "class_test_2 = np.where(synth_test[:,0]==2)[0]\n",
    "x_test = synth_test[:,1:]\n",
    "N_test = np.size(x_test,axis=0)"
   ]
  },
  {
   "cell_type": "code",
<<<<<<< HEAD
   "execution_count": null,
   "metadata": {},
   "outputs": [],
   "source": [
    "clf = LogisticRegression(random_state=0, fit_intercept=True, tol=1e-3).fit(x_train, class_train)\n",
=======
   "execution_count": 155,
   "metadata": {},
   "outputs": [],
   "source": [
    "clf = LogisticRegression(random_state=0, fit_intercept=True).fit(x_train, class_train)\n",
>>>>>>> 4fde8d9bc65d556f448315158eed2de00c4bbbb7
    "w = clf.coef_[0]\n",
    "bias = clf.intercept_[0]"
   ]
  },
  {
   "cell_type": "code",
<<<<<<< HEAD
   "execution_count": null,
   "metadata": {},
   "outputs": [],
=======
   "execution_count": 156,
   "metadata": {},
   "outputs": [
    {
     "name": "stdout",
     "output_type": "stream",
     "text": [
      "Score : 94.0%\n",
      "Coefficients de la régression : (5.461599788267235, array([ 2.6307682 , -2.12754345]))\n"
     ]
    }
   ],
>>>>>>> 4fde8d9bc65d556f448315158eed2de00c4bbbb7
   "source": [
    "# print(f\"Prédiction : {clf.predict(x_test)}\")\n",
    "print(f\"Score : {clf.score(x_test, class_test)*100}%\")\n",
    "print(f\"Coefficients de la régression : {bias, w}\")"
   ]
  },
  {
   "cell_type": "markdown",
   "metadata": {},
   "source": [
    "Using the scikit-learn regression method, we find a regression function of the form :\n",
    "\n",
    "$y(x) =  5.46 + 2.63 x_0 - 2.12 x_1$"
   ]
  },
  {
   "cell_type": "markdown",
   "metadata": {},
   "source": [
    "---------------------------------------"
   ]
  },
  {
   "cell_type": "markdown",
   "metadata": {},
   "source": [
    "For the dataset of the second exercise :"
   ]
  },
  {
   "cell_type": "code",
   "execution_count": 162,
   "metadata": {
    "collapsed": true
   },
   "outputs": [],
   "source": [
    "x_train_brut = np.vstack((train_5[:145,:], train_6[:200,:]))\n",
    "N_train = np.size(x_train_brut,axis=0)\n",
    "class_train = np.ones((345,1))   # label 1 for digit 6\n",
    "class_train[:145] = 0       # label 0 for digit 5\n",
    "class_train = np.squeeze(class_train)\n",
    "\n",
    "x_test_brut = np.vstack((train_5[145:,:], train_6[200:,:]))\n",
    "N_test = np.size(train_5,axis=0)+np.size(train_6,axis=0)-N_train\n",
    "class_test = np.ones((875,1))\n",
    "class_test[:(556-145)] = 0\n",
    "class_test = np.squeeze(class_test)\n",
    "\n",
    "x_train = x_train_brut[:, lis_sig]\n",
    "x_test = x_test_brut[:, lis_sig]"
   ]
  },
  {
   "cell_type": "code",
   "execution_count": 163,
   "metadata": {},
   "outputs": [],
   "source": [
    "clf = LogisticRegression(random_state=0, fit_intercept=True).fit(x_train_brut, class_train)\n",
    "w = clf.coef_[0]\n",
    "bias = clf.intercept_[0]"
   ]
  },
  {
   "cell_type": "code",
   "execution_count": 164,
   "metadata": {},
   "outputs": [
    {
     "name": "stdout",
     "output_type": "stream",
     "text": [
      "Score on brut dataset : 97.25714285714285%\n"
     ]
    }
   ],
   "source": [
    "# print(f\"Prédiction : {clf.predict(x_test)}\")\n",
    "print(f\"Score on brut dataset : {clf.score(x_test_brut, class_test)*100}%\")\n",
    "# print(f\"Coefficients de la régression : {bias, w}\")"
   ]
  },
  {
   "cell_type": "code",
   "execution_count": 165,
   "metadata": {},
   "outputs": [],
   "source": [
    "clf = LogisticRegression(random_state=0, fit_intercept=True).fit(x_train, class_train)\n",
    "w = clf.coef_[0]\n",
    "bias = clf.intercept_[0]"
   ]
  },
  {
   "cell_type": "code",
   "execution_count": 166,
   "metadata": {},
   "outputs": [
    {
     "name": "stdout",
     "output_type": "stream",
     "text": [
      "Score on dataset with lis_sig : 97.37142857142858%\n"
     ]
    }
   ],
   "source": [
    "# print(f\"Prédiction : {clf.predict(x_test)}\")\n",
    "print(f\"Score on dataset with lis_sig : {clf.score(x_test, class_test)*100}%\")\n",
    "# print(f\"Coefficients de la régression : {bias, w}\")"
   ]
  },
  {
   "cell_type": "markdown",
   "metadata": {},
   "source": [
    "We note that keeping specific pixels based on the standard deviation increases the score of the prediction !"
   ]
  },
  {
   "cell_type": "code",
   "execution_count": null,
   "metadata": {},
   "outputs": [],
   "source": [
    "error_rate_train = 1 - clf.score(x_train, class_train)\n",
    "error_rate_test = 1 - clf.score(x_test, class_test)\n",
    "\n",
    "df_error_rate_comparison.loc['Logistic Regression with Sklearn'] = [error_rate_train, error_rate_test]"
   ]
  },
  {
   "cell_type": "code",
   "execution_count": null,
   "metadata": {},
   "outputs": [],
   "source": [
    "df_error_rate_comparison"
   ]
  },
  {
   "cell_type": "markdown",
   "metadata": {},
   "source": [
    "We obtain strange results on the error rate for the training dataset which does not seem to be better than the test one and which is worse than the one implemented at the beginning of the TP."
   ]
  },
  {
   "cell_type": "markdown",
   "metadata": {},
   "source": [
    "For this dataset, the algorithm converged before the max iteration number so assuming we have the same input parameters as for Sklearn, we should have the same results."
   ]
  },
  {
   "cell_type": "markdown",
   "metadata": {},
   "source": [
    "----------------------------------------------"
   ]
  },
  {
   "cell_type": "markdown",
   "metadata": {},
   "source": [
    "For the dataset of the second exercise :"
   ]
  },
  {
   "cell_type": "code",
   "execution_count": null,
   "metadata": {},
   "outputs": [],
   "source": [
    "lis_sig = np.where(np.std(x_train_brut, axis=0) > 0.5)[0].tolist()\n",
    "\n",
    "x_train_brut = np.vstack((train_5[:145,:], train_6[:200,:]))\n",
    "N_train = np.size(x_train_brut,axis=0)\n",
    "class_train = np.ones((345,1))   # label 1 for digit 6\n",
    "class_train[:145] = 0       # label 0 for digit 5\n",
    "class_train = np.squeeze(class_train)\n",
    "\n",
    "x_test_brut = np.vstack((train_5[145:,:], train_6[200:,:]))\n",
    "N_test = np.size(train_5,axis=0)+np.size(train_6,axis=0)-N_train\n",
    "class_test = np.ones((875,1))\n",
    "class_test[:(556-145)] = 0\n",
    "class_test = np.squeeze(class_test)\n",
    "\n",
    "lis_sig = np.where(np.std(x_train_brut, axis=0) > 0.5)[0].tolist()\n",
    "\n",
    "x_train = x_train_brut[:, lis_sig]\n",
    "x_test = x_test_brut[:, lis_sig]\n"
   ]
  },
  {
   "cell_type": "code",
   "execution_count": null,
   "metadata": {},
   "outputs": [],
   "source": [
    "clf = LogisticRegression(random_state=0, fit_intercept=True, tol=1e-3).fit(x_train_brut, class_train)\n",
    "w = clf.coef_[0]\n",
    "bias = clf.intercept_[0]"
   ]
  },
  {
   "cell_type": "code",
   "execution_count": null,
   "metadata": {},
   "outputs": [],
   "source": [
    "# print(f\"Prédiction : {clf.predict(x_test)}\")\n",
    "print(f\"Score on brut dataset : {clf.score(x_test_brut, class_test)*100}%\")\n",
    "# print(f\"Coefficients de la régression : {bias, w}\")"
   ]
  },
  {
   "cell_type": "code",
   "execution_count": null,
   "metadata": {},
   "outputs": [],
   "source": [
    "clf = LogisticRegression(random_state=0, fit_intercept=True,tol=1e-3).fit(x_train, class_train)\n",
    "w = clf.coef_[0]\n",
    "bias = clf.intercept_[0]"
   ]
  },
  {
   "cell_type": "code",
   "execution_count": null,
   "metadata": {},
   "outputs": [],
   "source": [
    "# print(f\"Prédiction : {clf.predict(x_test)}\")\n",
    "print(f\"Score on dataset with lis_sig : {clf.score(x_test, class_test)*100}%\")\n",
    "# print(f\"Coefficients de la régression : {bias, w}\")"
   ]
  },
  {
   "cell_type": "markdown",
   "metadata": {},
   "source": [
    "We note that keeping specific pixels based on the standard deviation increases the score of the prediction !"
   ]
  },
  {
   "cell_type": "markdown",
   "metadata": {},
   "source": [
    "### Comparison with our implementation"
   ]
  },
  {
   "cell_type": "code",
   "execution_count": null,
   "metadata": {},
   "outputs": [],
   "source": [
    "from sklearn.metrics import plot_confusion_matrix"
   ]
  },
  {
   "cell_type": "code",
   "execution_count": null,
   "metadata": {},
   "outputs": [],
   "source": [
    "plot_confusion_matrix(clf, x_test, class_test)"
   ]
  },
  {
   "cell_type": "code",
   "execution_count": null,
   "metadata": {},
   "outputs": [],
   "source": [
    "clf = LogisticRegression(random_state=0,tol=1e-5, solver='liblinear').fit(x_train, class_train)\n",
    "plot_confusion_matrix(clf, x_test, class_test)"
   ]
  },
  {
   "cell_type": "markdown",
   "metadata": {},
   "source": [
    "We get much better results with the sklearn implementation. Moreover, depending on the solver used, the results are different. In the sklearn implementation, we can choose several logistic regression implementation methods that will not converge to the same solution, as we can see with the different confusion matrices above.\n",
    "\n",
    "The algorithm seen in class for logistic regression is much less efficient than all the algorithms used by sklearn.\n",
    "\n",
    "According to the Sklearn implementation, some methods are faster than other and more useful in some cases."
   ]
  },
  {
   "cell_type": "markdown",
   "metadata": {},
   "source": [
    "### Comparison of the execution time"
   ]
  },
  {
   "cell_type": "code",
   "execution_count": null,
   "metadata": {},
   "outputs": [],
   "source": [
    "import timeit\n",
    "\n",
    "rl_cst = Logistique_Regression_with_constant(x_train_brut, class_train,  x_test_brut, class_test, cst=1e-7, Nitermax=100)\n",
    "rl_early_stop = Logistique_Regression_early_stop(x_train_brut, class_train,  x_test_brut, class_test, Nitermax=100)\n",
    "rl_early_stop.preprocessing()\n",
    "rl_cst.preprocessing()\n",
    "loop = 10\n",
    "execution_time_early_stop = timeit.timeit(lambda: rl_early_stop.fit(), number=loop) / loop\n",
    "execution_time_cst= timeit.timeit(lambda: rl_cst.fit(), number=loop) / loop\n",
    "execution_time_sklearn = timeit.timeit(lambda: LogisticRegression(random_state=0,tol=1e-3).fit(x_train, class_train), number=loop) / loop\n",
    "\n",
    "print(f\"The sklearn implementation is {int(execution_time_early_stop / execution_time_sklearn)} faster than our implementation with early stop.\\nThe sklearn implementation is {int(execution_time_cst / execution_time_sklearn)} faster than our implementation with constant.\")"
   ]
  }
 ],
 "metadata": {
  "kernelspec": {
   "display_name": "Python 3.10.4 64-bit",
   "language": "python",
   "name": "python3"
  },
  "language_info": {
   "codemirror_mode": {
    "name": "ipython",
    "version": 3
   },
   "file_extension": ".py",
   "mimetype": "text/x-python",
   "name": "python",
   "nbconvert_exporter": "python",
   "pygments_lexer": "ipython3",
   "version": "3.10.4"
  },
  "vscode": {
   "interpreter": {
    "hash": "3e86c5fcaeb7504a0c486c54f5e7f20bce8324b88f64f392f8b6244d9f0e8929"
   }
  }
 },
 "nbformat": 4,
 "nbformat_minor": 2
}

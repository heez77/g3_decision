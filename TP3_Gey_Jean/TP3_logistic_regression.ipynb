{
 "cells": [
  {
   "cell_type": "markdown",
   "metadata": {},
   "source": [
    "## TP3 : Logistic regression\n",
    "\n",
    "The purpose of this tutorial is to implement and use the Logistic Regression for binary classification. We will apply this\n",
    "method to the problem of handwritten characters to learn how to\n",
    "distinguish two numbers (here 5 and 6).\n"
   ]
  },
  {
   "cell_type": "code",
   "execution_count": 174,
   "metadata": {
    "collapsed": true
   },
   "outputs": [],
   "source": [
    "from pylab import *\n",
    "#import numpy as np\n",
    "#import matplotlib.pyplot as plt\n",
    "\n",
    "from numpy import linalg as la"
   ]
  },
  {
   "cell_type": "markdown",
   "metadata": {},
   "source": [
    "## 1. Logistic regression, IRLS algorithm."
   ]
  },
  {
   "cell_type": "markdown",
   "metadata": {},
   "source": [
    "### Preliminary question: the algorithm"
   ]
  },
  {
   "cell_type": "markdown",
   "metadata": {},
   "source": [
    "#### Have a look at the function `regression_logistique.m` and locate the main steps of the algorithm you have been taught (see course).\n",
    "You can comment the code in the cell below."
   ]
  },
  {
   "cell_type": "code",
   "execution_count": 175,
   "metadata": {
    "collapsed": true
   },
   "outputs": [],
   "source": [
    "def regression_logistique(X,t,Nitermax=20,eps_conv=1e-3):\n",
    "    '''Entrees :\n",
    "    X = [ones(N_train,1) x_train];\n",
    "    t = class_train \n",
    "    Nitermax = nombre maximale d'itérations (20 par défaut)\n",
    "    eps_conv = critère de convergence sur norm(w-w_old)/norm(w) ; \n",
    "    eps_conv=1e-3 par défaut\n",
    "    \n",
    "    Sorties : \n",
    "    w : vecteur des coefficients de régression logistique\n",
    "   Niter : nombre d'itérations utilisées effectivement\n",
    "   \n",
    "   Fonction de régression logistique pour la classification binaire.\n",
    "   \n",
    "   Utilisation :\n",
    "       Nitermax = 50\n",
    "       eps_conv = 1e-4\n",
    "       [w,Niter] = regression_logistique(X,t,Nitermax,eps_conv)\n",
    "    '''\n",
    "    N_train = X.shape[0]\n",
    "\n",
    "    #initialisation : 1 pas de l'algorithme IRLS\n",
    "    w = np.zeros((X.shape[1],))\n",
    "    w_old = w \n",
    "    y = 1/2*np.ones((N_train,))\n",
    "    R = np.diag(y*(1-y))   # diag(y_n(1-y_n))\n",
    "    z = X.dot(w_old)-la.inv(R).dot(y-t)\n",
    "    w = la.inv(X.T.dot(R).dot(X)).dot(X.T).dot(R).dot(z)\n",
    "\n",
    "    # boucle appliquant l'algortihme de Newton-Raphson\n",
    "    Niter = 1\n",
    "    while ( (la.norm(w-w_old)/la.norm(w)>eps_conv) | (Niter<Nitermax) ):\n",
    "        Niter = Niter+1\n",
    "        y = 1/(1+np.exp(-X.dot(w)))\n",
    "        R = np.diag(y*(1-y))  \n",
    "        w_old = w \n",
    "        z = X.dot(w_old)-la.inv(R).dot(y-t) \n",
    "        w = la.inv(X.T.dot(R).dot(X)).dot(X.T).dot(R).dot(z)\n",
    "         \n",
    "    return w, Niter\n"
   ]
  },
  {
   "cell_type": "markdown",
   "metadata": {},
   "source": [
    "### Reading & preparing synthetic data\n",
    "\n",
    "Load the training and test data sets `synth_train.txt`\n",
    "and `synth_test.txt`. The targets t belong to {1,2} and the features  \n",
    "x belong to R^2. \n",
    "\n",
    "We have 100 training samples and 200 test samples\n",
    "\n",
    "* the 1st column contains the label of each sample, \n",
    "* columns 2 and 3 contain the coordinate of each point."
   ]
  },
  {
   "cell_type": "code",
   "execution_count": 176,
   "metadata": {
    "collapsed": true
   },
   "outputs": [],
   "source": [
    "# Training set\n",
    "synth_train = np.loadtxt('synth_train.txt') \n",
    "class_train = synth_train[:,0]\n",
    "class_train_1 = np.where(synth_train[:,0]==1)[0]\n",
    "class_train_2 = np.where(synth_train[:,0]==2)[0]\n",
    "x_train = synth_train[:,1:]\n",
    "N_train = np.size(x_train,axis=0)\n",
    "\n",
    "# Test set\n",
    "synth_test = np.loadtxt('synth_test.txt')\n",
    "class_test = synth_test[:,0]\n",
    "class_test_1 = np.where(synth_test[:,0]==1)[0]\n",
    "class_test_2 = np.where(synth_test[:,0]==2)[0]\n",
    "x_test = synth_test[:,1:]\n",
    "N_test = np.size(x_test,axis=0)\n"
   ]
  },
  {
   "cell_type": "code",
   "execution_count": 177,
   "metadata": {},
   "outputs": [
    {
     "data": {
      "application/vnd.plotly.v1+json": {
       "config": {
        "plotlyServerURL": "https://plot.ly"
       },
       "data": [
        {
         "hovertemplate": "x1=%{x}<br>x2=%{y}<br>classe=%{marker.color}<extra></extra>",
         "legendgroup": "",
         "marker": {
          "color": [
           2,
           2,
           2,
           2,
           1,
           2,
           2,
           1,
           2,
           2,
           2,
           2,
           2,
           2,
           1,
           2,
           2,
           2,
           2,
           2,
           2,
           2,
           2,
           2,
           2,
           2,
           2,
           2,
           2,
           2,
           2,
           1,
           1,
           2,
           1,
           2,
           2,
           2,
           2,
           2,
           2,
           2,
           2,
           2,
           2,
           2,
           1,
           2,
           2,
           2,
           2,
           2,
           1,
           2,
           2,
           1,
           2,
           1,
           2,
           2,
           2,
           2,
           2,
           2,
           2,
           1,
           2,
           2,
           1,
           1,
           2,
           2,
           2,
           2,
           2,
           2,
           2,
           2,
           2,
           2,
           1,
           1,
           2,
           1,
           2,
           2,
           2,
           2,
           2,
           2,
           2,
           2,
           2,
           2,
           1,
           1,
           1,
           1,
           1,
           1
          ],
          "coloraxis": "coloraxis",
          "symbol": "circle"
         },
         "mode": "markers",
         "name": "",
         "orientation": "v",
         "showlegend": false,
         "type": "scatter",
         "x": [
          -0.7222114129586,
          -0.924679116842047,
          -0.766022814943256,
          -0.0732894788556321,
          -1.39291197731283,
          -0.202233388934873,
          0.481737671784873,
          -1.8655121173883,
          -0.152468727259032,
          0.38635648749537,
          0.0875764309449853,
          -0.162870803458684,
          0.205627604169169,
          -0.678880330634291,
          -0.631309441163341,
          0.451357146792761,
          -0.379447056101144,
          -0.67808924696543,
          -0.6353679482783,
          -0.394503312110074,
          0.361462943689775,
          -0.528663281188422,
          -0.251051039074415,
          0.0782884526153436,
          -0.508588755690403,
          0.408869378842243,
          -0.365647127226042,
          1.41253669598274,
          0.185369078583416,
          -0.236029032268647,
          -0.614293392873263,
          -2.30408372892482,
          -1.6439848395597,
          -0.099631142781541,
          -1.86566438019087,
          0.29707583331245,
          0.241635652911538,
          -0.308059142141273,
          -0.297331480776794,
          0.0425462999904274,
          -0.293494487190976,
          0.0472196732520648,
          0.511434878557491,
          -0.439766514299069,
          0.579727620807449,
          -0.22587568551299,
          -1.31699917881368,
          0.403359817740187,
          0.0639802809331373,
          -0.200549408990853,
          0.179212309999251,
          -0.684781628987495,
          -1.26626456003945,
          -0.0732275755712657,
          -0.278834870223322,
          -1.66770622666567,
          -0.932784740334326,
          -0.222492292076254,
          -0.419301102755586,
          -0.102320397506266,
          0.246029751804449,
          0.477011782112795,
          0.166124402475656,
          0.392487504719149,
          0.26880633054516,
          -1.1892336014914,
          -0.353530726637597,
          0.205995439006312,
          0.357859266241446,
          -1.07534587024242,
          0.610733203164708,
          0.34783794294932,
          0.133976431089943,
          0.487540109560409,
          0.328137396161017,
          -0.307134275715141,
          0.622456405195283,
          0.023923605235643,
          1.25632667782585,
          -0.207777444410633,
          -1.07196807487457,
          -1.40721089942489,
          0.643678850830891,
          -1.45327218253849,
          0.891230481942523,
          0.252066390681576,
          0.504207545290246,
          0.299918390809922,
          0.490412055618484,
          1.06136639629653,
          0.365892980043387,
          -1.1024698611437,
          0.115280444945432,
          0.222190799619655,
          0.317452811019433,
          -0.693623079484142,
          -0.651352405455385,
          -2.24047850877093,
          -0.688766771564921,
          -2.06428441900782
         ],
         "xaxis": "x",
         "y": [
          2.00447087136242,
          0.483669283303616,
          0.794328908264858,
          0.969929147538923,
          0.999697089649905,
          1.35033191198506,
          0.984418575841914,
          1.54773159042401,
          0.922489686034523,
          0.366336720871723,
          0.932411534685466,
          0.630517186027526,
          0.902728059891789,
          0.519282489082532,
          1.66060671402444,
          1.02281328367944,
          0.892502892723954,
          0.969433620547686,
          1.29934918685766,
          0.327163230000664,
          1.25890893821093,
          1.26110462471585,
          0.3041819401222,
          1.44882862257848,
          1.2875665675783,
          1.49537607406398,
          0.943434089491931,
          1.54855990106491,
          1.0947339566202,
          1.55526095979461,
          1.38945066226994,
          1.38069898840687,
          1.52199681104139,
          1.12167183608714,
          0.292956871515864,
          0.685937988358744,
          1.44307731093209,
          0.616810573192588,
          1.64968595570792,
          0.808982969980399,
          0.944090798130192,
          1.50461364233168,
          0.590927353613734,
          1.1721005687771,
          1.49159036959202,
          0.787129098143246,
          0.932311221709179,
          1.06184402730383,
          1.71779511292622,
          1.07531583235228,
          1.33051886263733,
          1.22567327645858,
          2.28600726481963,
          1.27133904319531,
          0.396216850503442,
          1.21968201824743,
          1.10552625678307,
          1.98252437260598,
          0.695197243837259,
          0.765296493992673,
          1.82964712136056,
          0.0611918456353968,
          0.832661929923749,
          1.46224249843351,
          0.698569846489762,
          1.99198866550859,
          0.781098791781922,
          2.33022515439259,
          3.35842349881369,
          1.83307889669395,
          0.26755191141353,
          0.754523597335553,
          1.13245178008424,
          0.839583040875595,
          1.05381391421355,
          1.21094298929596,
          0.398273208283436,
          -0.0473318420892674,
          0.896163773144661,
          1.17187213473804,
          2.87218367130169,
          1.71273051006468,
          1.90840839163394,
          2.02246219076283,
          1.73158341544632,
          0.848664430272533,
          1.06331255073084,
          0.950756757796549,
          0.821936045253742,
          0.788056076691746,
          1.71060938237464,
          0.618737913541539,
          1.87763315549822,
          1.03704295357252,
          2.8662885931298,
          2.24206585399344,
          1.80895864388631,
          1.04991147162741,
          1.33671775150787,
          2.38517335491812
         ],
         "yaxis": "y"
        }
       ],
       "layout": {
        "coloraxis": {
         "colorbar": {
          "title": {
           "text": "classe"
          }
         },
         "colorscale": [
          [
           0,
           "#0d0887"
          ],
          [
           0.1111111111111111,
           "#46039f"
          ],
          [
           0.2222222222222222,
           "#7201a8"
          ],
          [
           0.3333333333333333,
           "#9c179e"
          ],
          [
           0.4444444444444444,
           "#bd3786"
          ],
          [
           0.5555555555555556,
           "#d8576b"
          ],
          [
           0.6666666666666666,
           "#ed7953"
          ],
          [
           0.7777777777777778,
           "#fb9f3a"
          ],
          [
           0.8888888888888888,
           "#fdca26"
          ],
          [
           1,
           "#f0f921"
          ]
         ]
        },
        "legend": {
         "tracegroupgap": 0
        },
        "template": {
         "data": {
          "bar": [
           {
            "error_x": {
             "color": "#2a3f5f"
            },
            "error_y": {
             "color": "#2a3f5f"
            },
            "marker": {
             "line": {
              "color": "#E5ECF6",
              "width": 0.5
             },
             "pattern": {
              "fillmode": "overlay",
              "size": 10,
              "solidity": 0.2
             }
            },
            "type": "bar"
           }
          ],
          "barpolar": [
           {
            "marker": {
             "line": {
              "color": "#E5ECF6",
              "width": 0.5
             },
             "pattern": {
              "fillmode": "overlay",
              "size": 10,
              "solidity": 0.2
             }
            },
            "type": "barpolar"
           }
          ],
          "carpet": [
           {
            "aaxis": {
             "endlinecolor": "#2a3f5f",
             "gridcolor": "white",
             "linecolor": "white",
             "minorgridcolor": "white",
             "startlinecolor": "#2a3f5f"
            },
            "baxis": {
             "endlinecolor": "#2a3f5f",
             "gridcolor": "white",
             "linecolor": "white",
             "minorgridcolor": "white",
             "startlinecolor": "#2a3f5f"
            },
            "type": "carpet"
           }
          ],
          "choropleth": [
           {
            "colorbar": {
             "outlinewidth": 0,
             "ticks": ""
            },
            "type": "choropleth"
           }
          ],
          "contour": [
           {
            "colorbar": {
             "outlinewidth": 0,
             "ticks": ""
            },
            "colorscale": [
             [
              0,
              "#0d0887"
             ],
             [
              0.1111111111111111,
              "#46039f"
             ],
             [
              0.2222222222222222,
              "#7201a8"
             ],
             [
              0.3333333333333333,
              "#9c179e"
             ],
             [
              0.4444444444444444,
              "#bd3786"
             ],
             [
              0.5555555555555556,
              "#d8576b"
             ],
             [
              0.6666666666666666,
              "#ed7953"
             ],
             [
              0.7777777777777778,
              "#fb9f3a"
             ],
             [
              0.8888888888888888,
              "#fdca26"
             ],
             [
              1,
              "#f0f921"
             ]
            ],
            "type": "contour"
           }
          ],
          "contourcarpet": [
           {
            "colorbar": {
             "outlinewidth": 0,
             "ticks": ""
            },
            "type": "contourcarpet"
           }
          ],
          "heatmap": [
           {
            "colorbar": {
             "outlinewidth": 0,
             "ticks": ""
            },
            "colorscale": [
             [
              0,
              "#0d0887"
             ],
             [
              0.1111111111111111,
              "#46039f"
             ],
             [
              0.2222222222222222,
              "#7201a8"
             ],
             [
              0.3333333333333333,
              "#9c179e"
             ],
             [
              0.4444444444444444,
              "#bd3786"
             ],
             [
              0.5555555555555556,
              "#d8576b"
             ],
             [
              0.6666666666666666,
              "#ed7953"
             ],
             [
              0.7777777777777778,
              "#fb9f3a"
             ],
             [
              0.8888888888888888,
              "#fdca26"
             ],
             [
              1,
              "#f0f921"
             ]
            ],
            "type": "heatmap"
           }
          ],
          "heatmapgl": [
           {
            "colorbar": {
             "outlinewidth": 0,
             "ticks": ""
            },
            "colorscale": [
             [
              0,
              "#0d0887"
             ],
             [
              0.1111111111111111,
              "#46039f"
             ],
             [
              0.2222222222222222,
              "#7201a8"
             ],
             [
              0.3333333333333333,
              "#9c179e"
             ],
             [
              0.4444444444444444,
              "#bd3786"
             ],
             [
              0.5555555555555556,
              "#d8576b"
             ],
             [
              0.6666666666666666,
              "#ed7953"
             ],
             [
              0.7777777777777778,
              "#fb9f3a"
             ],
             [
              0.8888888888888888,
              "#fdca26"
             ],
             [
              1,
              "#f0f921"
             ]
            ],
            "type": "heatmapgl"
           }
          ],
          "histogram": [
           {
            "marker": {
             "pattern": {
              "fillmode": "overlay",
              "size": 10,
              "solidity": 0.2
             }
            },
            "type": "histogram"
           }
          ],
          "histogram2d": [
           {
            "colorbar": {
             "outlinewidth": 0,
             "ticks": ""
            },
            "colorscale": [
             [
              0,
              "#0d0887"
             ],
             [
              0.1111111111111111,
              "#46039f"
             ],
             [
              0.2222222222222222,
              "#7201a8"
             ],
             [
              0.3333333333333333,
              "#9c179e"
             ],
             [
              0.4444444444444444,
              "#bd3786"
             ],
             [
              0.5555555555555556,
              "#d8576b"
             ],
             [
              0.6666666666666666,
              "#ed7953"
             ],
             [
              0.7777777777777778,
              "#fb9f3a"
             ],
             [
              0.8888888888888888,
              "#fdca26"
             ],
             [
              1,
              "#f0f921"
             ]
            ],
            "type": "histogram2d"
           }
          ],
          "histogram2dcontour": [
           {
            "colorbar": {
             "outlinewidth": 0,
             "ticks": ""
            },
            "colorscale": [
             [
              0,
              "#0d0887"
             ],
             [
              0.1111111111111111,
              "#46039f"
             ],
             [
              0.2222222222222222,
              "#7201a8"
             ],
             [
              0.3333333333333333,
              "#9c179e"
             ],
             [
              0.4444444444444444,
              "#bd3786"
             ],
             [
              0.5555555555555556,
              "#d8576b"
             ],
             [
              0.6666666666666666,
              "#ed7953"
             ],
             [
              0.7777777777777778,
              "#fb9f3a"
             ],
             [
              0.8888888888888888,
              "#fdca26"
             ],
             [
              1,
              "#f0f921"
             ]
            ],
            "type": "histogram2dcontour"
           }
          ],
          "mesh3d": [
           {
            "colorbar": {
             "outlinewidth": 0,
             "ticks": ""
            },
            "type": "mesh3d"
           }
          ],
          "parcoords": [
           {
            "line": {
             "colorbar": {
              "outlinewidth": 0,
              "ticks": ""
             }
            },
            "type": "parcoords"
           }
          ],
          "pie": [
           {
            "automargin": true,
            "type": "pie"
           }
          ],
          "scatter": [
           {
            "fillpattern": {
             "fillmode": "overlay",
             "size": 10,
             "solidity": 0.2
            },
            "type": "scatter"
           }
          ],
          "scatter3d": [
           {
            "line": {
             "colorbar": {
              "outlinewidth": 0,
              "ticks": ""
             }
            },
            "marker": {
             "colorbar": {
              "outlinewidth": 0,
              "ticks": ""
             }
            },
            "type": "scatter3d"
           }
          ],
          "scattercarpet": [
           {
            "marker": {
             "colorbar": {
              "outlinewidth": 0,
              "ticks": ""
             }
            },
            "type": "scattercarpet"
           }
          ],
          "scattergeo": [
           {
            "marker": {
             "colorbar": {
              "outlinewidth": 0,
              "ticks": ""
             }
            },
            "type": "scattergeo"
           }
          ],
          "scattergl": [
           {
            "marker": {
             "colorbar": {
              "outlinewidth": 0,
              "ticks": ""
             }
            },
            "type": "scattergl"
           }
          ],
          "scattermapbox": [
           {
            "marker": {
             "colorbar": {
              "outlinewidth": 0,
              "ticks": ""
             }
            },
            "type": "scattermapbox"
           }
          ],
          "scatterpolar": [
           {
            "marker": {
             "colorbar": {
              "outlinewidth": 0,
              "ticks": ""
             }
            },
            "type": "scatterpolar"
           }
          ],
          "scatterpolargl": [
           {
            "marker": {
             "colorbar": {
              "outlinewidth": 0,
              "ticks": ""
             }
            },
            "type": "scatterpolargl"
           }
          ],
          "scatterternary": [
           {
            "marker": {
             "colorbar": {
              "outlinewidth": 0,
              "ticks": ""
             }
            },
            "type": "scatterternary"
           }
          ],
          "surface": [
           {
            "colorbar": {
             "outlinewidth": 0,
             "ticks": ""
            },
            "colorscale": [
             [
              0,
              "#0d0887"
             ],
             [
              0.1111111111111111,
              "#46039f"
             ],
             [
              0.2222222222222222,
              "#7201a8"
             ],
             [
              0.3333333333333333,
              "#9c179e"
             ],
             [
              0.4444444444444444,
              "#bd3786"
             ],
             [
              0.5555555555555556,
              "#d8576b"
             ],
             [
              0.6666666666666666,
              "#ed7953"
             ],
             [
              0.7777777777777778,
              "#fb9f3a"
             ],
             [
              0.8888888888888888,
              "#fdca26"
             ],
             [
              1,
              "#f0f921"
             ]
            ],
            "type": "surface"
           }
          ],
          "table": [
           {
            "cells": {
             "fill": {
              "color": "#EBF0F8"
             },
             "line": {
              "color": "white"
             }
            },
            "header": {
             "fill": {
              "color": "#C8D4E3"
             },
             "line": {
              "color": "white"
             }
            },
            "type": "table"
           }
          ]
         },
         "layout": {
          "annotationdefaults": {
           "arrowcolor": "#2a3f5f",
           "arrowhead": 0,
           "arrowwidth": 1
          },
          "autotypenumbers": "strict",
          "coloraxis": {
           "colorbar": {
            "outlinewidth": 0,
            "ticks": ""
           }
          },
          "colorscale": {
           "diverging": [
            [
             0,
             "#8e0152"
            ],
            [
             0.1,
             "#c51b7d"
            ],
            [
             0.2,
             "#de77ae"
            ],
            [
             0.3,
             "#f1b6da"
            ],
            [
             0.4,
             "#fde0ef"
            ],
            [
             0.5,
             "#f7f7f7"
            ],
            [
             0.6,
             "#e6f5d0"
            ],
            [
             0.7,
             "#b8e186"
            ],
            [
             0.8,
             "#7fbc41"
            ],
            [
             0.9,
             "#4d9221"
            ],
            [
             1,
             "#276419"
            ]
           ],
           "sequential": [
            [
             0,
             "#0d0887"
            ],
            [
             0.1111111111111111,
             "#46039f"
            ],
            [
             0.2222222222222222,
             "#7201a8"
            ],
            [
             0.3333333333333333,
             "#9c179e"
            ],
            [
             0.4444444444444444,
             "#bd3786"
            ],
            [
             0.5555555555555556,
             "#d8576b"
            ],
            [
             0.6666666666666666,
             "#ed7953"
            ],
            [
             0.7777777777777778,
             "#fb9f3a"
            ],
            [
             0.8888888888888888,
             "#fdca26"
            ],
            [
             1,
             "#f0f921"
            ]
           ],
           "sequentialminus": [
            [
             0,
             "#0d0887"
            ],
            [
             0.1111111111111111,
             "#46039f"
            ],
            [
             0.2222222222222222,
             "#7201a8"
            ],
            [
             0.3333333333333333,
             "#9c179e"
            ],
            [
             0.4444444444444444,
             "#bd3786"
            ],
            [
             0.5555555555555556,
             "#d8576b"
            ],
            [
             0.6666666666666666,
             "#ed7953"
            ],
            [
             0.7777777777777778,
             "#fb9f3a"
            ],
            [
             0.8888888888888888,
             "#fdca26"
            ],
            [
             1,
             "#f0f921"
            ]
           ]
          },
          "colorway": [
           "#636efa",
           "#EF553B",
           "#00cc96",
           "#ab63fa",
           "#FFA15A",
           "#19d3f3",
           "#FF6692",
           "#B6E880",
           "#FF97FF",
           "#FECB52"
          ],
          "font": {
           "color": "#2a3f5f"
          },
          "geo": {
           "bgcolor": "white",
           "lakecolor": "white",
           "landcolor": "#E5ECF6",
           "showlakes": true,
           "showland": true,
           "subunitcolor": "white"
          },
          "hoverlabel": {
           "align": "left"
          },
          "hovermode": "closest",
          "mapbox": {
           "style": "light"
          },
          "paper_bgcolor": "white",
          "plot_bgcolor": "#E5ECF6",
          "polar": {
           "angularaxis": {
            "gridcolor": "white",
            "linecolor": "white",
            "ticks": ""
           },
           "bgcolor": "#E5ECF6",
           "radialaxis": {
            "gridcolor": "white",
            "linecolor": "white",
            "ticks": ""
           }
          },
          "scene": {
           "xaxis": {
            "backgroundcolor": "#E5ECF6",
            "gridcolor": "white",
            "gridwidth": 2,
            "linecolor": "white",
            "showbackground": true,
            "ticks": "",
            "zerolinecolor": "white"
           },
           "yaxis": {
            "backgroundcolor": "#E5ECF6",
            "gridcolor": "white",
            "gridwidth": 2,
            "linecolor": "white",
            "showbackground": true,
            "ticks": "",
            "zerolinecolor": "white"
           },
           "zaxis": {
            "backgroundcolor": "#E5ECF6",
            "gridcolor": "white",
            "gridwidth": 2,
            "linecolor": "white",
            "showbackground": true,
            "ticks": "",
            "zerolinecolor": "white"
           }
          },
          "shapedefaults": {
           "line": {
            "color": "#2a3f5f"
           }
          },
          "ternary": {
           "aaxis": {
            "gridcolor": "white",
            "linecolor": "white",
            "ticks": ""
           },
           "baxis": {
            "gridcolor": "white",
            "linecolor": "white",
            "ticks": ""
           },
           "bgcolor": "#E5ECF6",
           "caxis": {
            "gridcolor": "white",
            "linecolor": "white",
            "ticks": ""
           }
          },
          "title": {
           "x": 0.05
          },
          "xaxis": {
           "automargin": true,
           "gridcolor": "white",
           "linecolor": "white",
           "ticks": "",
           "title": {
            "standoff": 15
           },
           "zerolinecolor": "white",
           "zerolinewidth": 2
          },
          "yaxis": {
           "automargin": true,
           "gridcolor": "white",
           "linecolor": "white",
           "ticks": "",
           "title": {
            "standoff": 15
           },
           "zerolinecolor": "white",
           "zerolinewidth": 2
          }
         }
        },
        "title": {
         "text": "Data visualization of training dataset"
        },
        "xaxis": {
         "anchor": "y",
         "domain": [
          0,
          1
         ],
         "title": {
          "text": "x1"
         }
        },
        "yaxis": {
         "anchor": "x",
         "domain": [
          0,
          1
         ],
         "title": {
          "text": "x2"
         }
        }
       }
      }
     },
     "metadata": {},
     "output_type": "display_data"
    }
   ],
   "source": [
    "import plotly.express as px\n",
    "import pandas as pd\n",
    "\n",
    "px.scatter(pd.DataFrame(synth_train, columns = ['classe', 'x1', 'x2']),x='x1', y='x2', color='classe', title = 'Data visualization of training dataset')"
   ]
  },
  {
   "cell_type": "code",
   "execution_count": 178,
   "metadata": {},
   "outputs": [
    {
     "data": {
      "application/vnd.plotly.v1+json": {
       "config": {
        "plotlyServerURL": "https://plot.ly"
       },
       "data": [
        {
         "hovertemplate": "x1=%{x}<br>x2=%{y}<br>classe=%{marker.color}<extra></extra>",
         "legendgroup": "",
         "marker": {
          "color": [
           2,
           2,
           2,
           2,
           2,
           2,
           2,
           2,
           2,
           1,
           2,
           1,
           1,
           2,
           1,
           2,
           1,
           1,
           1,
           2,
           2,
           1,
           2,
           1,
           2,
           2,
           1,
           2,
           2,
           1,
           2,
           1,
           2,
           1,
           2,
           2,
           1,
           1,
           2,
           2,
           2,
           2,
           1,
           2,
           2,
           1,
           2,
           1,
           1,
           2,
           2,
           1,
           1,
           1,
           2,
           2,
           1,
           2,
           2,
           2,
           2,
           2,
           2,
           1,
           2,
           2,
           2,
           1,
           2,
           2,
           2,
           1,
           2,
           2,
           1,
           1,
           1,
           2,
           1,
           1,
           1,
           2,
           1,
           2,
           2,
           2,
           1,
           1,
           2,
           2,
           2,
           2,
           1,
           2,
           2,
           2,
           2,
           2,
           1,
           2,
           2,
           2,
           2,
           2,
           2,
           2,
           2,
           1,
           2,
           2,
           2,
           2,
           2,
           2,
           2,
           2,
           1,
           2,
           2,
           2,
           2,
           2,
           2,
           1,
           2,
           1,
           2,
           2,
           2,
           2,
           2,
           2,
           2,
           2,
           1,
           1,
           2,
           2,
           2,
           2,
           2,
           2,
           1,
           1,
           1,
           1,
           2,
           2,
           1,
           2,
           2,
           2,
           2,
           2,
           1,
           2,
           2,
           2,
           1,
           2,
           1,
           2,
           2,
           2,
           2,
           2,
           2,
           1,
           2,
           2,
           1,
           2,
           2,
           2,
           1,
           2,
           2,
           1,
           2,
           2,
           2,
           2,
           2,
           2,
           1,
           2,
           2,
           1,
           1,
           2,
           1,
           1,
           1,
           2,
           2,
           2,
           2,
           2,
           2,
           1
          ],
          "coloraxis": "coloraxis",
          "symbol": "circle"
         },
         "mode": "markers",
         "name": "",
         "orientation": "v",
         "showlegend": false,
         "type": "scatter",
         "x": [
          0.548377329092262,
          -0.516182355090629,
          -0.928778331455398,
          0.0700040451666702,
          0.267028434070118,
          -0.57664073495068,
          -0.571998215013911,
          0.085910428686603,
          0.583964255424017,
          -1.06711927670054,
          -0.0562649176241551,
          -0.524936248287615,
          -1.23658248867188,
          -0.0778122418747806,
          -0.313748143992697,
          0.320501890715898,
          -0.0673953040731805,
          -1.47557179462652,
          -0.763320669217402,
          0.248011555664068,
          0.0507678126302484,
          -0.963208133408971,
          -0.0377217560626707,
          -0.845406922022226,
          -0.273976475842833,
          0.38706980512753,
          -0.515453361384079,
          -0.236570845966961,
          0.118125542055563,
          -1.57193989511746,
          0.108560055833345,
          -0.297763681076058,
          -0.082606122419637,
          -0.475767227078988,
          0.225359536365398,
          -0.450367581684656,
          -1.58918210776721,
          -0.528189115491888,
          -0.00913710710419539,
          0.0236993292805952,
          -1.12197108420919,
          -0.21084067686791,
          -0.439299420755364,
          0.253558969854388,
          0.0565460586650199,
          -0.845790721905697,
          -0.138891085533467,
          -0.76761402096743,
          -2.32044284842924,
          0.181205251422961,
          0.0616237373447102,
          -1.97950817180784,
          -1.82865193442128,
          -0.396859461129857,
          0.185940765129506,
          0.242214624825961,
          -1.75949747969882,
          -0.786570617189198,
          -0.272972303183431,
          -0.0683492981766457,
          0.37981736198006,
          0.411877216201486,
          0.624493102281784,
          0.374218223862995,
          -0.359385981243246,
          0.00204001381345192,
          -0.627939689758823,
          -0.979911850180111,
          -0.00309670876357458,
          0.472659867667311,
          -0.364861430898182,
          -1.14092922451121,
          0.598031033306676,
          -0.433484838905137,
          -0.661738017621415,
          -0.928490569809406,
          0.27261739929014,
          0.469379751784666,
          -0.982806734175102,
          -0.807872183354628,
          -0.906407397212613,
          0.31765713019852,
          -1.24450837985478,
          -0.82866299406517,
          0.125223148439006,
          0.402829030561488,
          -0.644725983097092,
          -0.125024565346589,
          0.122509414877926,
          -0.117159122572216,
          -0.414896196261272,
          0.667010909236402,
          -0.323341542211205,
          0.195800676442436,
          0.920280892517893,
          -0.419813896561999,
          0.764522987550377,
          -0.200450391687225,
          -0.55655771380751,
          -0.817012805111886,
          -0.307481598054774,
          0.518372391847711,
          -0.0522216419534324,
          -0.0891407688754548,
          -0.376213459453058,
          -0.185552176146169,
          0.0452703118049876,
          -2.04640660336104,
          0.142624578327731,
          0.217884224653961,
          -0.262772779044171,
          -0.392743472179356,
          -0.152963735156414,
          -0.308434594884213,
          -0.443331282774128,
          0.559985594073934,
          -0.778445111924726,
          0.00291103772014825,
          0.878565647971821,
          -0.256930499000692,
          0.106636130049651,
          0.263023271301074,
          -0.848661483702527,
          -2.41274778914931,
          0.111993914007595,
          -1.5751001895214,
          -0.613221147103123,
          -0.183816194525588,
          -0.0951863339009769,
          -0.197407853093086,
          0.0577566802760603,
          -0.204539823602067,
          0.360912290485671,
          -0.0410813411605664,
          -1.67968565591973,
          -0.335028542147327,
          0.414599190404883,
          0.398756392775222,
          -0.0214172068763818,
          -0.407777798342725,
          0.137821731307878,
          -0.0654821026982211,
          -0.721912456145992,
          -2.07619414954803,
          -2.18751664037211,
          -0.11972063948537,
          0.10808938448526,
          0.0856221746993185,
          -0.660248501392843,
          0.486436846381095,
          -0.28266599485881,
          -0.656915674428285,
          -0.0959839891294414,
          0.567023048354512,
          -1.31006571799162,
          1.13367514460339,
          -0.37462009367161,
          -0.0882190485399166,
          -0.366464808541563,
          0.378566605790398,
          -1.2811001910453,
          -0.462213860714353,
          -0.221525979700414,
          -0.767846621637193,
          -0.228390635621761,
          -0.653706799045404,
          -0.206821060457646,
          -2.28497955503337,
          -0.474856259090633,
          -0.0453717649712496,
          -0.709988961904898,
          0.884545558214667,
          1.05557165018865,
          0.872624954343398,
          0.427147660303257,
          0.204898647470406,
          -0.172981388528198,
          -1.04231905579272,
          0.105330755657552,
          -0.0364707620161139,
          0.0147315986681518,
          0.164811724028962,
          0.405739102948624,
          -0.0515259327825909,
          -1.45041108194038,
          -0.797775408401822,
          -0.420441119348396,
          0.148730085791825,
          -1.65439614364615,
          0.123099745855633,
          -0.882529286727313,
          -0.202186253686245,
          -2.46134068800087,
          -0.0365213174471908,
          -0.476107082766443,
          0.130861021802204,
          -0.580202218502463,
          -0.375980352154764,
          0.873127955012507,
          -1.15937100968576
         ],
         "xaxis": "x",
         "y": [
          1.22134530320384,
          1.56239592449128,
          0.921072165138784,
          0.619767465541004,
          1.10944063877699,
          1.02574324318762,
          0.974854417635832,
          1.44378449089036,
          0.67384451671234,
          2.74219238560352,
          0.733069928570148,
          2.29796093295549,
          0.823154359689919,
          1.7295137874625,
          2.49300606083952,
          1.53374220909852,
          1.87508167643949,
          2.13126284536764,
          2.37500357939566,
          0.4754874626989,
          1.32648867332763,
          2.51852029397605,
          0.171075479369506,
          2.54204914836556,
          2.00372610905544,
          0.81409488853711,
          2.87772459691337,
          0.271951143982723,
          0.495924901657298,
          2.3135992655951,
          1.10754480056025,
          2.61729223829357,
          0.954502725050198,
          3.10209136481352,
          0.632175514292634,
          0.725781341889401,
          1.86042125160628,
          2.73299470572279,
          1.27680423497737,
          0.920445134663086,
          0.7958071087491,
          0.749413480812492,
          1.14285779774138,
          0.999354716011732,
          1.30449333429873,
          1.20634140606149,
          1.29306998631839,
          2.73570473850442,
          0.171197394520336,
          0.685852110209349,
          0.2903518963329,
          1.95246043302185,
          1.17634595003463,
          2.63190361397327,
          1.01921892792935,
          0.632780279051705,
          2.03619486150151,
          0.933769474337435,
          1.34032051703064,
          0.750718278326924,
          1.20988055252001,
          0.594430318070608,
          0.915164135655217,
          2.68485101770858,
          1.12862284849947,
          1.14583204172884,
          1.09193081673849,
          3.10411731926305,
          0.848733736775521,
          1.00659220415066,
          0.106574959049199,
          1.70457752218246,
          0.277160947604507,
          0.787972492206155,
          1.61404577705731,
          2.65609878011815,
          2.2666868972584,
          1.59170534624135,
          1.91846738563112,
          2.31815604101098,
          3.56856180544402,
          0.793146108496185,
          2.17265707623045,
          1.02379892650343,
          1.03783690300666,
          0.407156531969976,
          2.38648557396108,
          2.5436596197055,
          1.33727320272511,
          0.226014805816382,
          1.55619073245446,
          0.639555638368627,
          1.63493665735755,
          0.935928805334338,
          0.832502840166526,
          0.636208571220306,
          0.825398949540176,
          1.31947881606818,
          1.51297128257285,
          1.23967181253111,
          1.14202419588134,
          1.05741688533421,
          0.710072807880766,
          1.39429475350813,
          0.930751730428528,
          0.705457629580737,
          0.837793024286457,
          1.45891620125888,
          0.348612563391087,
          0.299383442314548,
          1.13515761639336,
          -0.279656874506229,
          0.732629391972008,
          1.30016575884308,
          1.37424172975457,
          0.600807012737275,
          2.51026387013278,
          0.894505802368102,
          1.39559806874246,
          1.22349527642813,
          1.34804317190085,
          1.61623094247131,
          0.204548253002303,
          0.950345028608157,
          1.12797549271742,
          2.1037561499471,
          1.0046096337541,
          1.29675358084876,
          0.980307141171275,
          0.528213483269454,
          1.22782327403443,
          1.26668939932374,
          0.959838993946066,
          0.588009715512682,
          2.60184083230963,
          2.59649552566908,
          0.451285087858727,
          1.12888050856698,
          0.305985290184502,
          1.02210784646806,
          1.13400243003218,
          0.953905305734864,
          2.72702090766505,
          1.70558055574531,
          1.73380235316174,
          1.79715246994205,
          1.24567640765825,
          0.897228099467897,
          1.98502531176568,
          -0.00593180577588948,
          1.58873800816582,
          1.0791292384075,
          1.21747217361587,
          1.48769277880538,
          2.00811550104692,
          1.19616820337039,
          0.415267053961969,
          1.29030996498609,
          1.35425827849543,
          1.04926274038355,
          1.97519047077594,
          1.57920723668429,
          1.20963831562312,
          1.6576361357988,
          1.05070837937926,
          -0.289019908581884,
          0.742116116078059,
          0.933876862644036,
          1.20146692486729,
          0.360884390676445,
          1.72715318002346,
          1.3556539583376,
          1.52565266866653,
          0.595425374671883,
          3.11330391010599,
          0.88187115119512,
          0.752246828554789,
          1.64951776813502,
          1.45677347946852,
          1.56270505396944,
          1.75689923666271,
          1.98029252522278,
          1.17989595414942,
          1.81482319573317,
          1.62295011874497,
          1.23660620038195,
          0.884043351004991,
          2.90052857688239,
          1.66317302424411,
          1.15799581361209,
          2.50954582521607,
          3.87335148713437,
          1.08212758026752,
          0.929128589900525,
          0.264818829305995,
          0.468885297641863,
          0.945542697692527,
          0.843711905343365,
          1.20528156413835,
          1.74582541854328
         ],
         "yaxis": "y"
        }
       ],
       "layout": {
        "coloraxis": {
         "colorbar": {
          "title": {
           "text": "classe"
          }
         },
         "colorscale": [
          [
           0,
           "#0d0887"
          ],
          [
           0.1111111111111111,
           "#46039f"
          ],
          [
           0.2222222222222222,
           "#7201a8"
          ],
          [
           0.3333333333333333,
           "#9c179e"
          ],
          [
           0.4444444444444444,
           "#bd3786"
          ],
          [
           0.5555555555555556,
           "#d8576b"
          ],
          [
           0.6666666666666666,
           "#ed7953"
          ],
          [
           0.7777777777777778,
           "#fb9f3a"
          ],
          [
           0.8888888888888888,
           "#fdca26"
          ],
          [
           1,
           "#f0f921"
          ]
         ]
        },
        "legend": {
         "tracegroupgap": 0
        },
        "template": {
         "data": {
          "bar": [
           {
            "error_x": {
             "color": "#2a3f5f"
            },
            "error_y": {
             "color": "#2a3f5f"
            },
            "marker": {
             "line": {
              "color": "#E5ECF6",
              "width": 0.5
             },
             "pattern": {
              "fillmode": "overlay",
              "size": 10,
              "solidity": 0.2
             }
            },
            "type": "bar"
           }
          ],
          "barpolar": [
           {
            "marker": {
             "line": {
              "color": "#E5ECF6",
              "width": 0.5
             },
             "pattern": {
              "fillmode": "overlay",
              "size": 10,
              "solidity": 0.2
             }
            },
            "type": "barpolar"
           }
          ],
          "carpet": [
           {
            "aaxis": {
             "endlinecolor": "#2a3f5f",
             "gridcolor": "white",
             "linecolor": "white",
             "minorgridcolor": "white",
             "startlinecolor": "#2a3f5f"
            },
            "baxis": {
             "endlinecolor": "#2a3f5f",
             "gridcolor": "white",
             "linecolor": "white",
             "minorgridcolor": "white",
             "startlinecolor": "#2a3f5f"
            },
            "type": "carpet"
           }
          ],
          "choropleth": [
           {
            "colorbar": {
             "outlinewidth": 0,
             "ticks": ""
            },
            "type": "choropleth"
           }
          ],
          "contour": [
           {
            "colorbar": {
             "outlinewidth": 0,
             "ticks": ""
            },
            "colorscale": [
             [
              0,
              "#0d0887"
             ],
             [
              0.1111111111111111,
              "#46039f"
             ],
             [
              0.2222222222222222,
              "#7201a8"
             ],
             [
              0.3333333333333333,
              "#9c179e"
             ],
             [
              0.4444444444444444,
              "#bd3786"
             ],
             [
              0.5555555555555556,
              "#d8576b"
             ],
             [
              0.6666666666666666,
              "#ed7953"
             ],
             [
              0.7777777777777778,
              "#fb9f3a"
             ],
             [
              0.8888888888888888,
              "#fdca26"
             ],
             [
              1,
              "#f0f921"
             ]
            ],
            "type": "contour"
           }
          ],
          "contourcarpet": [
           {
            "colorbar": {
             "outlinewidth": 0,
             "ticks": ""
            },
            "type": "contourcarpet"
           }
          ],
          "heatmap": [
           {
            "colorbar": {
             "outlinewidth": 0,
             "ticks": ""
            },
            "colorscale": [
             [
              0,
              "#0d0887"
             ],
             [
              0.1111111111111111,
              "#46039f"
             ],
             [
              0.2222222222222222,
              "#7201a8"
             ],
             [
              0.3333333333333333,
              "#9c179e"
             ],
             [
              0.4444444444444444,
              "#bd3786"
             ],
             [
              0.5555555555555556,
              "#d8576b"
             ],
             [
              0.6666666666666666,
              "#ed7953"
             ],
             [
              0.7777777777777778,
              "#fb9f3a"
             ],
             [
              0.8888888888888888,
              "#fdca26"
             ],
             [
              1,
              "#f0f921"
             ]
            ],
            "type": "heatmap"
           }
          ],
          "heatmapgl": [
           {
            "colorbar": {
             "outlinewidth": 0,
             "ticks": ""
            },
            "colorscale": [
             [
              0,
              "#0d0887"
             ],
             [
              0.1111111111111111,
              "#46039f"
             ],
             [
              0.2222222222222222,
              "#7201a8"
             ],
             [
              0.3333333333333333,
              "#9c179e"
             ],
             [
              0.4444444444444444,
              "#bd3786"
             ],
             [
              0.5555555555555556,
              "#d8576b"
             ],
             [
              0.6666666666666666,
              "#ed7953"
             ],
             [
              0.7777777777777778,
              "#fb9f3a"
             ],
             [
              0.8888888888888888,
              "#fdca26"
             ],
             [
              1,
              "#f0f921"
             ]
            ],
            "type": "heatmapgl"
           }
          ],
          "histogram": [
           {
            "marker": {
             "pattern": {
              "fillmode": "overlay",
              "size": 10,
              "solidity": 0.2
             }
            },
            "type": "histogram"
           }
          ],
          "histogram2d": [
           {
            "colorbar": {
             "outlinewidth": 0,
             "ticks": ""
            },
            "colorscale": [
             [
              0,
              "#0d0887"
             ],
             [
              0.1111111111111111,
              "#46039f"
             ],
             [
              0.2222222222222222,
              "#7201a8"
             ],
             [
              0.3333333333333333,
              "#9c179e"
             ],
             [
              0.4444444444444444,
              "#bd3786"
             ],
             [
              0.5555555555555556,
              "#d8576b"
             ],
             [
              0.6666666666666666,
              "#ed7953"
             ],
             [
              0.7777777777777778,
              "#fb9f3a"
             ],
             [
              0.8888888888888888,
              "#fdca26"
             ],
             [
              1,
              "#f0f921"
             ]
            ],
            "type": "histogram2d"
           }
          ],
          "histogram2dcontour": [
           {
            "colorbar": {
             "outlinewidth": 0,
             "ticks": ""
            },
            "colorscale": [
             [
              0,
              "#0d0887"
             ],
             [
              0.1111111111111111,
              "#46039f"
             ],
             [
              0.2222222222222222,
              "#7201a8"
             ],
             [
              0.3333333333333333,
              "#9c179e"
             ],
             [
              0.4444444444444444,
              "#bd3786"
             ],
             [
              0.5555555555555556,
              "#d8576b"
             ],
             [
              0.6666666666666666,
              "#ed7953"
             ],
             [
              0.7777777777777778,
              "#fb9f3a"
             ],
             [
              0.8888888888888888,
              "#fdca26"
             ],
             [
              1,
              "#f0f921"
             ]
            ],
            "type": "histogram2dcontour"
           }
          ],
          "mesh3d": [
           {
            "colorbar": {
             "outlinewidth": 0,
             "ticks": ""
            },
            "type": "mesh3d"
           }
          ],
          "parcoords": [
           {
            "line": {
             "colorbar": {
              "outlinewidth": 0,
              "ticks": ""
             }
            },
            "type": "parcoords"
           }
          ],
          "pie": [
           {
            "automargin": true,
            "type": "pie"
           }
          ],
          "scatter": [
           {
            "fillpattern": {
             "fillmode": "overlay",
             "size": 10,
             "solidity": 0.2
            },
            "type": "scatter"
           }
          ],
          "scatter3d": [
           {
            "line": {
             "colorbar": {
              "outlinewidth": 0,
              "ticks": ""
             }
            },
            "marker": {
             "colorbar": {
              "outlinewidth": 0,
              "ticks": ""
             }
            },
            "type": "scatter3d"
           }
          ],
          "scattercarpet": [
           {
            "marker": {
             "colorbar": {
              "outlinewidth": 0,
              "ticks": ""
             }
            },
            "type": "scattercarpet"
           }
          ],
          "scattergeo": [
           {
            "marker": {
             "colorbar": {
              "outlinewidth": 0,
              "ticks": ""
             }
            },
            "type": "scattergeo"
           }
          ],
          "scattergl": [
           {
            "marker": {
             "colorbar": {
              "outlinewidth": 0,
              "ticks": ""
             }
            },
            "type": "scattergl"
           }
          ],
          "scattermapbox": [
           {
            "marker": {
             "colorbar": {
              "outlinewidth": 0,
              "ticks": ""
             }
            },
            "type": "scattermapbox"
           }
          ],
          "scatterpolar": [
           {
            "marker": {
             "colorbar": {
              "outlinewidth": 0,
              "ticks": ""
             }
            },
            "type": "scatterpolar"
           }
          ],
          "scatterpolargl": [
           {
            "marker": {
             "colorbar": {
              "outlinewidth": 0,
              "ticks": ""
             }
            },
            "type": "scatterpolargl"
           }
          ],
          "scatterternary": [
           {
            "marker": {
             "colorbar": {
              "outlinewidth": 0,
              "ticks": ""
             }
            },
            "type": "scatterternary"
           }
          ],
          "surface": [
           {
            "colorbar": {
             "outlinewidth": 0,
             "ticks": ""
            },
            "colorscale": [
             [
              0,
              "#0d0887"
             ],
             [
              0.1111111111111111,
              "#46039f"
             ],
             [
              0.2222222222222222,
              "#7201a8"
             ],
             [
              0.3333333333333333,
              "#9c179e"
             ],
             [
              0.4444444444444444,
              "#bd3786"
             ],
             [
              0.5555555555555556,
              "#d8576b"
             ],
             [
              0.6666666666666666,
              "#ed7953"
             ],
             [
              0.7777777777777778,
              "#fb9f3a"
             ],
             [
              0.8888888888888888,
              "#fdca26"
             ],
             [
              1,
              "#f0f921"
             ]
            ],
            "type": "surface"
           }
          ],
          "table": [
           {
            "cells": {
             "fill": {
              "color": "#EBF0F8"
             },
             "line": {
              "color": "white"
             }
            },
            "header": {
             "fill": {
              "color": "#C8D4E3"
             },
             "line": {
              "color": "white"
             }
            },
            "type": "table"
           }
          ]
         },
         "layout": {
          "annotationdefaults": {
           "arrowcolor": "#2a3f5f",
           "arrowhead": 0,
           "arrowwidth": 1
          },
          "autotypenumbers": "strict",
          "coloraxis": {
           "colorbar": {
            "outlinewidth": 0,
            "ticks": ""
           }
          },
          "colorscale": {
           "diverging": [
            [
             0,
             "#8e0152"
            ],
            [
             0.1,
             "#c51b7d"
            ],
            [
             0.2,
             "#de77ae"
            ],
            [
             0.3,
             "#f1b6da"
            ],
            [
             0.4,
             "#fde0ef"
            ],
            [
             0.5,
             "#f7f7f7"
            ],
            [
             0.6,
             "#e6f5d0"
            ],
            [
             0.7,
             "#b8e186"
            ],
            [
             0.8,
             "#7fbc41"
            ],
            [
             0.9,
             "#4d9221"
            ],
            [
             1,
             "#276419"
            ]
           ],
           "sequential": [
            [
             0,
             "#0d0887"
            ],
            [
             0.1111111111111111,
             "#46039f"
            ],
            [
             0.2222222222222222,
             "#7201a8"
            ],
            [
             0.3333333333333333,
             "#9c179e"
            ],
            [
             0.4444444444444444,
             "#bd3786"
            ],
            [
             0.5555555555555556,
             "#d8576b"
            ],
            [
             0.6666666666666666,
             "#ed7953"
            ],
            [
             0.7777777777777778,
             "#fb9f3a"
            ],
            [
             0.8888888888888888,
             "#fdca26"
            ],
            [
             1,
             "#f0f921"
            ]
           ],
           "sequentialminus": [
            [
             0,
             "#0d0887"
            ],
            [
             0.1111111111111111,
             "#46039f"
            ],
            [
             0.2222222222222222,
             "#7201a8"
            ],
            [
             0.3333333333333333,
             "#9c179e"
            ],
            [
             0.4444444444444444,
             "#bd3786"
            ],
            [
             0.5555555555555556,
             "#d8576b"
            ],
            [
             0.6666666666666666,
             "#ed7953"
            ],
            [
             0.7777777777777778,
             "#fb9f3a"
            ],
            [
             0.8888888888888888,
             "#fdca26"
            ],
            [
             1,
             "#f0f921"
            ]
           ]
          },
          "colorway": [
           "#636efa",
           "#EF553B",
           "#00cc96",
           "#ab63fa",
           "#FFA15A",
           "#19d3f3",
           "#FF6692",
           "#B6E880",
           "#FF97FF",
           "#FECB52"
          ],
          "font": {
           "color": "#2a3f5f"
          },
          "geo": {
           "bgcolor": "white",
           "lakecolor": "white",
           "landcolor": "#E5ECF6",
           "showlakes": true,
           "showland": true,
           "subunitcolor": "white"
          },
          "hoverlabel": {
           "align": "left"
          },
          "hovermode": "closest",
          "mapbox": {
           "style": "light"
          },
          "paper_bgcolor": "white",
          "plot_bgcolor": "#E5ECF6",
          "polar": {
           "angularaxis": {
            "gridcolor": "white",
            "linecolor": "white",
            "ticks": ""
           },
           "bgcolor": "#E5ECF6",
           "radialaxis": {
            "gridcolor": "white",
            "linecolor": "white",
            "ticks": ""
           }
          },
          "scene": {
           "xaxis": {
            "backgroundcolor": "#E5ECF6",
            "gridcolor": "white",
            "gridwidth": 2,
            "linecolor": "white",
            "showbackground": true,
            "ticks": "",
            "zerolinecolor": "white"
           },
           "yaxis": {
            "backgroundcolor": "#E5ECF6",
            "gridcolor": "white",
            "gridwidth": 2,
            "linecolor": "white",
            "showbackground": true,
            "ticks": "",
            "zerolinecolor": "white"
           },
           "zaxis": {
            "backgroundcolor": "#E5ECF6",
            "gridcolor": "white",
            "gridwidth": 2,
            "linecolor": "white",
            "showbackground": true,
            "ticks": "",
            "zerolinecolor": "white"
           }
          },
          "shapedefaults": {
           "line": {
            "color": "#2a3f5f"
           }
          },
          "ternary": {
           "aaxis": {
            "gridcolor": "white",
            "linecolor": "white",
            "ticks": ""
           },
           "baxis": {
            "gridcolor": "white",
            "linecolor": "white",
            "ticks": ""
           },
           "bgcolor": "#E5ECF6",
           "caxis": {
            "gridcolor": "white",
            "linecolor": "white",
            "ticks": ""
           }
          },
          "title": {
           "x": 0.05
          },
          "xaxis": {
           "automargin": true,
           "gridcolor": "white",
           "linecolor": "white",
           "ticks": "",
           "title": {
            "standoff": 15
           },
           "zerolinecolor": "white",
           "zerolinewidth": 2
          },
          "yaxis": {
           "automargin": true,
           "gridcolor": "white",
           "linecolor": "white",
           "ticks": "",
           "title": {
            "standoff": 15
           },
           "zerolinecolor": "white",
           "zerolinewidth": 2
          }
         }
        },
        "title": {
         "text": "Data visualization of test dataset"
        },
        "xaxis": {
         "anchor": "y",
         "domain": [
          0,
          1
         ],
         "title": {
          "text": "x1"
         }
        },
        "yaxis": {
         "anchor": "x",
         "domain": [
          0,
          1
         ],
         "title": {
          "text": "x2"
         }
        }
       }
      }
     },
     "metadata": {},
     "output_type": "display_data"
    }
   ],
   "source": [
    "px.scatter(pd.DataFrame(synth_test, columns = ['classe', 'x1', 'x2']),x='x1', y='x2', color='classe', title = 'Data visualization of test dataset')"
   ]
  },
  {
   "cell_type": "markdown",
   "metadata": {},
   "source": [
    "### Preparing features for logistic regression (binary classification)\n",
    "First, we prepare the feature matrix and the target vector associated to \n",
    "the training and test sets:\n"
   ]
  },
  {
   "cell_type": "code",
   "execution_count": 179,
   "metadata": {},
   "outputs": [],
   "source": [
    "X = np.hstack((np.ones((N_train,1)),x_train))\n",
    "t = 2-class_train   # 0 if class=2, 1 if class=1\n",
    "\n",
    "X_test = np.hstack((np.ones((N_test,1)),x_test))\n",
    "t_test = 2-class_test   # 0 if class=2, 1 if class=1"
   ]
  },
  {
   "cell_type": "markdown",
   "metadata": {},
   "source": [
    "### Exercise 1 : the logistic function of decision\n",
    "\n",
    "1. Use the function `regression_logistique.m` to estimate the logistic\n",
    "regression vector `w`. *Indication : use `Nitermax = 50;\n",
    "eps_conv=1e-3;`.*\n",
    "2. Compute the decision function $f(x) = argmax_k P(C_k|x)$ on the test set\n",
    "to get the classification results. Recall that $y_n=\\sigma(w^T x)$ (logistic function)\n",
    "and that *using vectors* you may directly write $y=\\sigma(Xw)$, with the\n",
    "column of ones in X.\n",
    "3. Display the results by plotting the points from both the training set\n",
    "and the test set.\n",
    "4. Write the equation which defines the decision boundary.\n",
    "5. Artificially add a few points to the training set far from the decision boundary to check the robustness of logistic regression to outliers. Check the behaviour of LDA for comparison in this case and comment. \n"
   ]
  },
  {
   "cell_type": "code",
   "execution_count": 180,
   "metadata": {},
   "outputs": [],
   "source": [
    "#Exercise 1\n",
    "w, Niter = regression_logistique(X, t)"
   ]
  },
  {
   "cell_type": "code",
   "execution_count": 181,
   "metadata": {},
   "outputs": [],
   "source": [
    "predictions = lambda x: np.where(np.exp(x)/( 1 + np.exp(x))<=0.5, 0 , 1)"
   ]
  },
  {
   "cell_type": "code",
   "execution_count": 182,
   "metadata": {},
   "outputs": [],
   "source": [
    "t_train_pred = predictions(X @ w)\n",
    "t_test_pred = predictions(X_test @ w)"
   ]
  },
  {
   "cell_type": "code",
   "execution_count": 183,
   "metadata": {},
   "outputs": [
    {
     "data": {
      "application/vnd.plotly.v1+json": {
       "config": {
        "plotlyServerURL": "https://plot.ly"
       },
       "data": [
        {
         "hovertemplate": "x1=%{x}<br>x2=%{y}<br>prediction=%{marker.color}<extra></extra>",
         "legendgroup": "",
         "marker": {
          "color": [
           1,
           2,
           2,
           2,
           1,
           2,
           2,
           1,
           2,
           2,
           2,
           2,
           2,
           2,
           1,
           2,
           2,
           2,
           2,
           2,
           2,
           2,
           2,
           2,
           2,
           2,
           2,
           2,
           2,
           2,
           2,
           1,
           1,
           2,
           1,
           2,
           2,
           2,
           2,
           2,
           2,
           2,
           2,
           2,
           2,
           2,
           1,
           2,
           2,
           2,
           2,
           2,
           1,
           2,
           2,
           1,
           2,
           2,
           2,
           2,
           2,
           2,
           2,
           2,
           2,
           1,
           2,
           2,
           1,
           1,
           2,
           2,
           2,
           2,
           2,
           2,
           2,
           2,
           2,
           2,
           1,
           1,
           2,
           1,
           2,
           2,
           2,
           2,
           2,
           2,
           2,
           2,
           2,
           2,
           1,
           1,
           1,
           1,
           2,
           1
          ],
          "coloraxis": "coloraxis",
          "symbol": "circle"
         },
         "mode": "markers",
         "name": "",
         "orientation": "v",
         "showlegend": false,
         "type": "scatter",
         "x": [
          -0.7222114129586,
          -0.924679116842047,
          -0.766022814943256,
          -0.0732894788556321,
          -1.39291197731283,
          -0.202233388934873,
          0.481737671784873,
          -1.8655121173883,
          -0.152468727259032,
          0.38635648749537,
          0.0875764309449853,
          -0.162870803458684,
          0.205627604169169,
          -0.678880330634291,
          -0.631309441163341,
          0.451357146792761,
          -0.379447056101144,
          -0.67808924696543,
          -0.6353679482783,
          -0.394503312110074,
          0.361462943689775,
          -0.528663281188422,
          -0.251051039074415,
          0.0782884526153436,
          -0.508588755690403,
          0.408869378842243,
          -0.365647127226042,
          1.41253669598274,
          0.185369078583416,
          -0.236029032268647,
          -0.614293392873263,
          -2.30408372892482,
          -1.6439848395597,
          -0.099631142781541,
          -1.86566438019087,
          0.29707583331245,
          0.241635652911538,
          -0.308059142141273,
          -0.297331480776794,
          0.0425462999904274,
          -0.293494487190976,
          0.0472196732520648,
          0.511434878557491,
          -0.439766514299069,
          0.579727620807449,
          -0.22587568551299,
          -1.31699917881368,
          0.403359817740187,
          0.0639802809331373,
          -0.200549408990853,
          0.179212309999251,
          -0.684781628987495,
          -1.26626456003945,
          -0.0732275755712657,
          -0.278834870223322,
          -1.66770622666567,
          -0.932784740334326,
          -0.222492292076254,
          -0.419301102755586,
          -0.102320397506266,
          0.246029751804449,
          0.477011782112795,
          0.166124402475656,
          0.392487504719149,
          0.26880633054516,
          -1.1892336014914,
          -0.353530726637597,
          0.205995439006312,
          0.357859266241446,
          -1.07534587024242,
          0.610733203164708,
          0.34783794294932,
          0.133976431089943,
          0.487540109560409,
          0.328137396161017,
          -0.307134275715141,
          0.622456405195283,
          0.023923605235643,
          1.25632667782585,
          -0.207777444410633,
          -1.07196807487457,
          -1.40721089942489,
          0.643678850830891,
          -1.45327218253849,
          0.891230481942523,
          0.252066390681576,
          0.504207545290246,
          0.299918390809922,
          0.490412055618484,
          1.06136639629653,
          0.365892980043387,
          -1.1024698611437,
          0.115280444945432,
          0.222190799619655,
          0.317452811019433,
          -0.693623079484142,
          -0.651352405455385,
          -2.24047850877093,
          -0.688766771564921,
          -2.06428441900782
         ],
         "xaxis": "x",
         "y": [
          2.00447087136242,
          0.483669283303616,
          0.794328908264858,
          0.969929147538923,
          0.999697089649905,
          1.35033191198506,
          0.984418575841914,
          1.54773159042401,
          0.922489686034523,
          0.366336720871723,
          0.932411534685466,
          0.630517186027526,
          0.902728059891789,
          0.519282489082532,
          1.66060671402444,
          1.02281328367944,
          0.892502892723954,
          0.969433620547686,
          1.29934918685766,
          0.327163230000664,
          1.25890893821093,
          1.26110462471585,
          0.3041819401222,
          1.44882862257848,
          1.2875665675783,
          1.49537607406398,
          0.943434089491931,
          1.54855990106491,
          1.0947339566202,
          1.55526095979461,
          1.38945066226994,
          1.38069898840687,
          1.52199681104139,
          1.12167183608714,
          0.292956871515864,
          0.685937988358744,
          1.44307731093209,
          0.616810573192588,
          1.64968595570792,
          0.808982969980399,
          0.944090798130192,
          1.50461364233168,
          0.590927353613734,
          1.1721005687771,
          1.49159036959202,
          0.787129098143246,
          0.932311221709179,
          1.06184402730383,
          1.71779511292622,
          1.07531583235228,
          1.33051886263733,
          1.22567327645858,
          2.28600726481963,
          1.27133904319531,
          0.396216850503442,
          1.21968201824743,
          1.10552625678307,
          1.98252437260598,
          0.695197243837259,
          0.765296493992673,
          1.82964712136056,
          0.0611918456353968,
          0.832661929923749,
          1.46224249843351,
          0.698569846489762,
          1.99198866550859,
          0.781098791781922,
          2.33022515439259,
          3.35842349881369,
          1.83307889669395,
          0.26755191141353,
          0.754523597335553,
          1.13245178008424,
          0.839583040875595,
          1.05381391421355,
          1.21094298929596,
          0.398273208283436,
          -0.0473318420892674,
          0.896163773144661,
          1.17187213473804,
          2.87218367130169,
          1.71273051006468,
          1.90840839163394,
          2.02246219076283,
          1.73158341544632,
          0.848664430272533,
          1.06331255073084,
          0.950756757796549,
          0.821936045253742,
          0.788056076691746,
          1.71060938237464,
          0.618737913541539,
          1.87763315549822,
          1.03704295357252,
          2.8662885931298,
          2.24206585399344,
          1.80895864388631,
          1.04991147162741,
          1.33671775150787,
          2.38517335491812
         ],
         "yaxis": "y"
        }
       ],
       "layout": {
        "coloraxis": {
         "colorbar": {
          "title": {
           "text": "prediction"
          }
         },
         "colorscale": [
          [
           0,
           "#0d0887"
          ],
          [
           0.1111111111111111,
           "#46039f"
          ],
          [
           0.2222222222222222,
           "#7201a8"
          ],
          [
           0.3333333333333333,
           "#9c179e"
          ],
          [
           0.4444444444444444,
           "#bd3786"
          ],
          [
           0.5555555555555556,
           "#d8576b"
          ],
          [
           0.6666666666666666,
           "#ed7953"
          ],
          [
           0.7777777777777778,
           "#fb9f3a"
          ],
          [
           0.8888888888888888,
           "#fdca26"
          ],
          [
           1,
           "#f0f921"
          ]
         ]
        },
        "legend": {
         "tracegroupgap": 0
        },
        "template": {
         "data": {
          "bar": [
           {
            "error_x": {
             "color": "#2a3f5f"
            },
            "error_y": {
             "color": "#2a3f5f"
            },
            "marker": {
             "line": {
              "color": "#E5ECF6",
              "width": 0.5
             },
             "pattern": {
              "fillmode": "overlay",
              "size": 10,
              "solidity": 0.2
             }
            },
            "type": "bar"
           }
          ],
          "barpolar": [
           {
            "marker": {
             "line": {
              "color": "#E5ECF6",
              "width": 0.5
             },
             "pattern": {
              "fillmode": "overlay",
              "size": 10,
              "solidity": 0.2
             }
            },
            "type": "barpolar"
           }
          ],
          "carpet": [
           {
            "aaxis": {
             "endlinecolor": "#2a3f5f",
             "gridcolor": "white",
             "linecolor": "white",
             "minorgridcolor": "white",
             "startlinecolor": "#2a3f5f"
            },
            "baxis": {
             "endlinecolor": "#2a3f5f",
             "gridcolor": "white",
             "linecolor": "white",
             "minorgridcolor": "white",
             "startlinecolor": "#2a3f5f"
            },
            "type": "carpet"
           }
          ],
          "choropleth": [
           {
            "colorbar": {
             "outlinewidth": 0,
             "ticks": ""
            },
            "type": "choropleth"
           }
          ],
          "contour": [
           {
            "colorbar": {
             "outlinewidth": 0,
             "ticks": ""
            },
            "colorscale": [
             [
              0,
              "#0d0887"
             ],
             [
              0.1111111111111111,
              "#46039f"
             ],
             [
              0.2222222222222222,
              "#7201a8"
             ],
             [
              0.3333333333333333,
              "#9c179e"
             ],
             [
              0.4444444444444444,
              "#bd3786"
             ],
             [
              0.5555555555555556,
              "#d8576b"
             ],
             [
              0.6666666666666666,
              "#ed7953"
             ],
             [
              0.7777777777777778,
              "#fb9f3a"
             ],
             [
              0.8888888888888888,
              "#fdca26"
             ],
             [
              1,
              "#f0f921"
             ]
            ],
            "type": "contour"
           }
          ],
          "contourcarpet": [
           {
            "colorbar": {
             "outlinewidth": 0,
             "ticks": ""
            },
            "type": "contourcarpet"
           }
          ],
          "heatmap": [
           {
            "colorbar": {
             "outlinewidth": 0,
             "ticks": ""
            },
            "colorscale": [
             [
              0,
              "#0d0887"
             ],
             [
              0.1111111111111111,
              "#46039f"
             ],
             [
              0.2222222222222222,
              "#7201a8"
             ],
             [
              0.3333333333333333,
              "#9c179e"
             ],
             [
              0.4444444444444444,
              "#bd3786"
             ],
             [
              0.5555555555555556,
              "#d8576b"
             ],
             [
              0.6666666666666666,
              "#ed7953"
             ],
             [
              0.7777777777777778,
              "#fb9f3a"
             ],
             [
              0.8888888888888888,
              "#fdca26"
             ],
             [
              1,
              "#f0f921"
             ]
            ],
            "type": "heatmap"
           }
          ],
          "heatmapgl": [
           {
            "colorbar": {
             "outlinewidth": 0,
             "ticks": ""
            },
            "colorscale": [
             [
              0,
              "#0d0887"
             ],
             [
              0.1111111111111111,
              "#46039f"
             ],
             [
              0.2222222222222222,
              "#7201a8"
             ],
             [
              0.3333333333333333,
              "#9c179e"
             ],
             [
              0.4444444444444444,
              "#bd3786"
             ],
             [
              0.5555555555555556,
              "#d8576b"
             ],
             [
              0.6666666666666666,
              "#ed7953"
             ],
             [
              0.7777777777777778,
              "#fb9f3a"
             ],
             [
              0.8888888888888888,
              "#fdca26"
             ],
             [
              1,
              "#f0f921"
             ]
            ],
            "type": "heatmapgl"
           }
          ],
          "histogram": [
           {
            "marker": {
             "pattern": {
              "fillmode": "overlay",
              "size": 10,
              "solidity": 0.2
             }
            },
            "type": "histogram"
           }
          ],
          "histogram2d": [
           {
            "colorbar": {
             "outlinewidth": 0,
             "ticks": ""
            },
            "colorscale": [
             [
              0,
              "#0d0887"
             ],
             [
              0.1111111111111111,
              "#46039f"
             ],
             [
              0.2222222222222222,
              "#7201a8"
             ],
             [
              0.3333333333333333,
              "#9c179e"
             ],
             [
              0.4444444444444444,
              "#bd3786"
             ],
             [
              0.5555555555555556,
              "#d8576b"
             ],
             [
              0.6666666666666666,
              "#ed7953"
             ],
             [
              0.7777777777777778,
              "#fb9f3a"
             ],
             [
              0.8888888888888888,
              "#fdca26"
             ],
             [
              1,
              "#f0f921"
             ]
            ],
            "type": "histogram2d"
           }
          ],
          "histogram2dcontour": [
           {
            "colorbar": {
             "outlinewidth": 0,
             "ticks": ""
            },
            "colorscale": [
             [
              0,
              "#0d0887"
             ],
             [
              0.1111111111111111,
              "#46039f"
             ],
             [
              0.2222222222222222,
              "#7201a8"
             ],
             [
              0.3333333333333333,
              "#9c179e"
             ],
             [
              0.4444444444444444,
              "#bd3786"
             ],
             [
              0.5555555555555556,
              "#d8576b"
             ],
             [
              0.6666666666666666,
              "#ed7953"
             ],
             [
              0.7777777777777778,
              "#fb9f3a"
             ],
             [
              0.8888888888888888,
              "#fdca26"
             ],
             [
              1,
              "#f0f921"
             ]
            ],
            "type": "histogram2dcontour"
           }
          ],
          "mesh3d": [
           {
            "colorbar": {
             "outlinewidth": 0,
             "ticks": ""
            },
            "type": "mesh3d"
           }
          ],
          "parcoords": [
           {
            "line": {
             "colorbar": {
              "outlinewidth": 0,
              "ticks": ""
             }
            },
            "type": "parcoords"
           }
          ],
          "pie": [
           {
            "automargin": true,
            "type": "pie"
           }
          ],
          "scatter": [
           {
            "fillpattern": {
             "fillmode": "overlay",
             "size": 10,
             "solidity": 0.2
            },
            "type": "scatter"
           }
          ],
          "scatter3d": [
           {
            "line": {
             "colorbar": {
              "outlinewidth": 0,
              "ticks": ""
             }
            },
            "marker": {
             "colorbar": {
              "outlinewidth": 0,
              "ticks": ""
             }
            },
            "type": "scatter3d"
           }
          ],
          "scattercarpet": [
           {
            "marker": {
             "colorbar": {
              "outlinewidth": 0,
              "ticks": ""
             }
            },
            "type": "scattercarpet"
           }
          ],
          "scattergeo": [
           {
            "marker": {
             "colorbar": {
              "outlinewidth": 0,
              "ticks": ""
             }
            },
            "type": "scattergeo"
           }
          ],
          "scattergl": [
           {
            "marker": {
             "colorbar": {
              "outlinewidth": 0,
              "ticks": ""
             }
            },
            "type": "scattergl"
           }
          ],
          "scattermapbox": [
           {
            "marker": {
             "colorbar": {
              "outlinewidth": 0,
              "ticks": ""
             }
            },
            "type": "scattermapbox"
           }
          ],
          "scatterpolar": [
           {
            "marker": {
             "colorbar": {
              "outlinewidth": 0,
              "ticks": ""
             }
            },
            "type": "scatterpolar"
           }
          ],
          "scatterpolargl": [
           {
            "marker": {
             "colorbar": {
              "outlinewidth": 0,
              "ticks": ""
             }
            },
            "type": "scatterpolargl"
           }
          ],
          "scatterternary": [
           {
            "marker": {
             "colorbar": {
              "outlinewidth": 0,
              "ticks": ""
             }
            },
            "type": "scatterternary"
           }
          ],
          "surface": [
           {
            "colorbar": {
             "outlinewidth": 0,
             "ticks": ""
            },
            "colorscale": [
             [
              0,
              "#0d0887"
             ],
             [
              0.1111111111111111,
              "#46039f"
             ],
             [
              0.2222222222222222,
              "#7201a8"
             ],
             [
              0.3333333333333333,
              "#9c179e"
             ],
             [
              0.4444444444444444,
              "#bd3786"
             ],
             [
              0.5555555555555556,
              "#d8576b"
             ],
             [
              0.6666666666666666,
              "#ed7953"
             ],
             [
              0.7777777777777778,
              "#fb9f3a"
             ],
             [
              0.8888888888888888,
              "#fdca26"
             ],
             [
              1,
              "#f0f921"
             ]
            ],
            "type": "surface"
           }
          ],
          "table": [
           {
            "cells": {
             "fill": {
              "color": "#EBF0F8"
             },
             "line": {
              "color": "white"
             }
            },
            "header": {
             "fill": {
              "color": "#C8D4E3"
             },
             "line": {
              "color": "white"
             }
            },
            "type": "table"
           }
          ]
         },
         "layout": {
          "annotationdefaults": {
           "arrowcolor": "#2a3f5f",
           "arrowhead": 0,
           "arrowwidth": 1
          },
          "autotypenumbers": "strict",
          "coloraxis": {
           "colorbar": {
            "outlinewidth": 0,
            "ticks": ""
           }
          },
          "colorscale": {
           "diverging": [
            [
             0,
             "#8e0152"
            ],
            [
             0.1,
             "#c51b7d"
            ],
            [
             0.2,
             "#de77ae"
            ],
            [
             0.3,
             "#f1b6da"
            ],
            [
             0.4,
             "#fde0ef"
            ],
            [
             0.5,
             "#f7f7f7"
            ],
            [
             0.6,
             "#e6f5d0"
            ],
            [
             0.7,
             "#b8e186"
            ],
            [
             0.8,
             "#7fbc41"
            ],
            [
             0.9,
             "#4d9221"
            ],
            [
             1,
             "#276419"
            ]
           ],
           "sequential": [
            [
             0,
             "#0d0887"
            ],
            [
             0.1111111111111111,
             "#46039f"
            ],
            [
             0.2222222222222222,
             "#7201a8"
            ],
            [
             0.3333333333333333,
             "#9c179e"
            ],
            [
             0.4444444444444444,
             "#bd3786"
            ],
            [
             0.5555555555555556,
             "#d8576b"
            ],
            [
             0.6666666666666666,
             "#ed7953"
            ],
            [
             0.7777777777777778,
             "#fb9f3a"
            ],
            [
             0.8888888888888888,
             "#fdca26"
            ],
            [
             1,
             "#f0f921"
            ]
           ],
           "sequentialminus": [
            [
             0,
             "#0d0887"
            ],
            [
             0.1111111111111111,
             "#46039f"
            ],
            [
             0.2222222222222222,
             "#7201a8"
            ],
            [
             0.3333333333333333,
             "#9c179e"
            ],
            [
             0.4444444444444444,
             "#bd3786"
            ],
            [
             0.5555555555555556,
             "#d8576b"
            ],
            [
             0.6666666666666666,
             "#ed7953"
            ],
            [
             0.7777777777777778,
             "#fb9f3a"
            ],
            [
             0.8888888888888888,
             "#fdca26"
            ],
            [
             1,
             "#f0f921"
            ]
           ]
          },
          "colorway": [
           "#636efa",
           "#EF553B",
           "#00cc96",
           "#ab63fa",
           "#FFA15A",
           "#19d3f3",
           "#FF6692",
           "#B6E880",
           "#FF97FF",
           "#FECB52"
          ],
          "font": {
           "color": "#2a3f5f"
          },
          "geo": {
           "bgcolor": "white",
           "lakecolor": "white",
           "landcolor": "#E5ECF6",
           "showlakes": true,
           "showland": true,
           "subunitcolor": "white"
          },
          "hoverlabel": {
           "align": "left"
          },
          "hovermode": "closest",
          "mapbox": {
           "style": "light"
          },
          "paper_bgcolor": "white",
          "plot_bgcolor": "#E5ECF6",
          "polar": {
           "angularaxis": {
            "gridcolor": "white",
            "linecolor": "white",
            "ticks": ""
           },
           "bgcolor": "#E5ECF6",
           "radialaxis": {
            "gridcolor": "white",
            "linecolor": "white",
            "ticks": ""
           }
          },
          "scene": {
           "xaxis": {
            "backgroundcolor": "#E5ECF6",
            "gridcolor": "white",
            "gridwidth": 2,
            "linecolor": "white",
            "showbackground": true,
            "ticks": "",
            "zerolinecolor": "white"
           },
           "yaxis": {
            "backgroundcolor": "#E5ECF6",
            "gridcolor": "white",
            "gridwidth": 2,
            "linecolor": "white",
            "showbackground": true,
            "ticks": "",
            "zerolinecolor": "white"
           },
           "zaxis": {
            "backgroundcolor": "#E5ECF6",
            "gridcolor": "white",
            "gridwidth": 2,
            "linecolor": "white",
            "showbackground": true,
            "ticks": "",
            "zerolinecolor": "white"
           }
          },
          "shapedefaults": {
           "line": {
            "color": "#2a3f5f"
           }
          },
          "ternary": {
           "aaxis": {
            "gridcolor": "white",
            "linecolor": "white",
            "ticks": ""
           },
           "baxis": {
            "gridcolor": "white",
            "linecolor": "white",
            "ticks": ""
           },
           "bgcolor": "#E5ECF6",
           "caxis": {
            "gridcolor": "white",
            "linecolor": "white",
            "ticks": ""
           }
          },
          "title": {
           "x": 0.05
          },
          "xaxis": {
           "automargin": true,
           "gridcolor": "white",
           "linecolor": "white",
           "ticks": "",
           "title": {
            "standoff": 15
           },
           "zerolinecolor": "white",
           "zerolinewidth": 2
          },
          "yaxis": {
           "automargin": true,
           "gridcolor": "white",
           "linecolor": "white",
           "ticks": "",
           "title": {
            "standoff": 15
           },
           "zerolinecolor": "white",
           "zerolinewidth": 2
          }
         }
        },
        "title": {
         "text": "Data visualization of predictions for training dataset"
        },
        "xaxis": {
         "anchor": "y",
         "domain": [
          0,
          1
         ],
         "title": {
          "text": "x1"
         }
        },
        "yaxis": {
         "anchor": "x",
         "domain": [
          0,
          1
         ],
         "title": {
          "text": "x2"
         }
        }
       }
      }
     },
     "metadata": {},
     "output_type": "display_data"
    }
   ],
   "source": [
    "px.scatter(pd.DataFrame(dict(prediction=2-t_train_pred, x1 = synth_train[:,1], x2 = synth_train[:,2])),x='x1', y='x2', color='prediction', title = 'Data visualization of predictions for training dataset')"
   ]
  },
  {
   "cell_type": "code",
   "execution_count": 184,
   "metadata": {},
   "outputs": [
    {
     "data": {
      "application/vnd.plotly.v1+json": {
       "config": {
        "plotlyServerURL": "https://plot.ly"
       },
       "data": [
        {
         "hovertemplate": "x1=%{x}<br>x2=%{y}<br>prediction=%{marker.color}<extra></extra>",
         "legendgroup": "",
         "marker": {
          "color": [
           2,
           2,
           2,
           2,
           2,
           2,
           2,
           2,
           2,
           1,
           2,
           1,
           2,
           2,
           1,
           2,
           2,
           1,
           1,
           2,
           2,
           1,
           2,
           1,
           1,
           2,
           1,
           2,
           2,
           1,
           2,
           1,
           2,
           1,
           2,
           2,
           1,
           1,
           2,
           2,
           2,
           2,
           2,
           2,
           2,
           2,
           2,
           1,
           1,
           2,
           2,
           1,
           1,
           1,
           2,
           2,
           1,
           2,
           2,
           2,
           2,
           2,
           2,
           2,
           2,
           2,
           2,
           1,
           2,
           2,
           2,
           1,
           2,
           2,
           1,
           1,
           2,
           2,
           1,
           1,
           1,
           2,
           1,
           2,
           2,
           2,
           1,
           1,
           2,
           2,
           2,
           2,
           2,
           2,
           2,
           2,
           2,
           2,
           2,
           2,
           2,
           2,
           2,
           2,
           2,
           2,
           2,
           1,
           2,
           2,
           2,
           2,
           2,
           2,
           2,
           2,
           1,
           2,
           2,
           2,
           2,
           2,
           2,
           1,
           2,
           1,
           2,
           2,
           2,
           2,
           2,
           2,
           2,
           2,
           1,
           1,
           2,
           2,
           2,
           2,
           2,
           2,
           1,
           1,
           1,
           2,
           2,
           2,
           1,
           2,
           2,
           2,
           2,
           2,
           1,
           2,
           2,
           2,
           2,
           2,
           1,
           2,
           2,
           1,
           2,
           2,
           2,
           1,
           2,
           2,
           1,
           2,
           2,
           2,
           1,
           2,
           2,
           1,
           2,
           2,
           2,
           2,
           2,
           2,
           1,
           2,
           2,
           1,
           1,
           2,
           1,
           1,
           1,
           2,
           2,
           2,
           2,
           2,
           2,
           1
          ],
          "coloraxis": "coloraxis",
          "symbol": "circle"
         },
         "mode": "markers",
         "name": "",
         "orientation": "v",
         "showlegend": false,
         "type": "scatter",
         "x": [
          0.548377329092262,
          -0.516182355090629,
          -0.928778331455398,
          0.0700040451666702,
          0.267028434070118,
          -0.57664073495068,
          -0.571998215013911,
          0.085910428686603,
          0.583964255424017,
          -1.06711927670054,
          -0.0562649176241551,
          -0.524936248287615,
          -1.23658248867188,
          -0.0778122418747806,
          -0.313748143992697,
          0.320501890715898,
          -0.0673953040731805,
          -1.47557179462652,
          -0.763320669217402,
          0.248011555664068,
          0.0507678126302484,
          -0.963208133408971,
          -0.0377217560626707,
          -0.845406922022226,
          -0.273976475842833,
          0.38706980512753,
          -0.515453361384079,
          -0.236570845966961,
          0.118125542055563,
          -1.57193989511746,
          0.108560055833345,
          -0.297763681076058,
          -0.082606122419637,
          -0.475767227078988,
          0.225359536365398,
          -0.450367581684656,
          -1.58918210776721,
          -0.528189115491888,
          -0.00913710710419539,
          0.0236993292805952,
          -1.12197108420919,
          -0.21084067686791,
          -0.439299420755364,
          0.253558969854388,
          0.0565460586650199,
          -0.845790721905697,
          -0.138891085533467,
          -0.76761402096743,
          -2.32044284842924,
          0.181205251422961,
          0.0616237373447102,
          -1.97950817180784,
          -1.82865193442128,
          -0.396859461129857,
          0.185940765129506,
          0.242214624825961,
          -1.75949747969882,
          -0.786570617189198,
          -0.272972303183431,
          -0.0683492981766457,
          0.37981736198006,
          0.411877216201486,
          0.624493102281784,
          0.374218223862995,
          -0.359385981243246,
          0.00204001381345192,
          -0.627939689758823,
          -0.979911850180111,
          -0.00309670876357458,
          0.472659867667311,
          -0.364861430898182,
          -1.14092922451121,
          0.598031033306676,
          -0.433484838905137,
          -0.661738017621415,
          -0.928490569809406,
          0.27261739929014,
          0.469379751784666,
          -0.982806734175102,
          -0.807872183354628,
          -0.906407397212613,
          0.31765713019852,
          -1.24450837985478,
          -0.82866299406517,
          0.125223148439006,
          0.402829030561488,
          -0.644725983097092,
          -0.125024565346589,
          0.122509414877926,
          -0.117159122572216,
          -0.414896196261272,
          0.667010909236402,
          -0.323341542211205,
          0.195800676442436,
          0.920280892517893,
          -0.419813896561999,
          0.764522987550377,
          -0.200450391687225,
          -0.55655771380751,
          -0.817012805111886,
          -0.307481598054774,
          0.518372391847711,
          -0.0522216419534324,
          -0.0891407688754548,
          -0.376213459453058,
          -0.185552176146169,
          0.0452703118049876,
          -2.04640660336104,
          0.142624578327731,
          0.217884224653961,
          -0.262772779044171,
          -0.392743472179356,
          -0.152963735156414,
          -0.308434594884213,
          -0.443331282774128,
          0.559985594073934,
          -0.778445111924726,
          0.00291103772014825,
          0.878565647971821,
          -0.256930499000692,
          0.106636130049651,
          0.263023271301074,
          -0.848661483702527,
          -2.41274778914931,
          0.111993914007595,
          -1.5751001895214,
          -0.613221147103123,
          -0.183816194525588,
          -0.0951863339009769,
          -0.197407853093086,
          0.0577566802760603,
          -0.204539823602067,
          0.360912290485671,
          -0.0410813411605664,
          -1.67968565591973,
          -0.335028542147327,
          0.414599190404883,
          0.398756392775222,
          -0.0214172068763818,
          -0.407777798342725,
          0.137821731307878,
          -0.0654821026982211,
          -0.721912456145992,
          -2.07619414954803,
          -2.18751664037211,
          -0.11972063948537,
          0.10808938448526,
          0.0856221746993185,
          -0.660248501392843,
          0.486436846381095,
          -0.28266599485881,
          -0.656915674428285,
          -0.0959839891294414,
          0.567023048354512,
          -1.31006571799162,
          1.13367514460339,
          -0.37462009367161,
          -0.0882190485399166,
          -0.366464808541563,
          0.378566605790398,
          -1.2811001910453,
          -0.462213860714353,
          -0.221525979700414,
          -0.767846621637193,
          -0.228390635621761,
          -0.653706799045404,
          -0.206821060457646,
          -2.28497955503337,
          -0.474856259090633,
          -0.0453717649712496,
          -0.709988961904898,
          0.884545558214667,
          1.05557165018865,
          0.872624954343398,
          0.427147660303257,
          0.204898647470406,
          -0.172981388528198,
          -1.04231905579272,
          0.105330755657552,
          -0.0364707620161139,
          0.0147315986681518,
          0.164811724028962,
          0.405739102948624,
          -0.0515259327825909,
          -1.45041108194038,
          -0.797775408401822,
          -0.420441119348396,
          0.148730085791825,
          -1.65439614364615,
          0.123099745855633,
          -0.882529286727313,
          -0.202186253686245,
          -2.46134068800087,
          -0.0365213174471908,
          -0.476107082766443,
          0.130861021802204,
          -0.580202218502463,
          -0.375980352154764,
          0.873127955012507,
          -1.15937100968576
         ],
         "xaxis": "x",
         "y": [
          1.22134530320384,
          1.56239592449128,
          0.921072165138784,
          0.619767465541004,
          1.10944063877699,
          1.02574324318762,
          0.974854417635832,
          1.44378449089036,
          0.67384451671234,
          2.74219238560352,
          0.733069928570148,
          2.29796093295549,
          0.823154359689919,
          1.7295137874625,
          2.49300606083952,
          1.53374220909852,
          1.87508167643949,
          2.13126284536764,
          2.37500357939566,
          0.4754874626989,
          1.32648867332763,
          2.51852029397605,
          0.171075479369506,
          2.54204914836556,
          2.00372610905544,
          0.81409488853711,
          2.87772459691337,
          0.271951143982723,
          0.495924901657298,
          2.3135992655951,
          1.10754480056025,
          2.61729223829357,
          0.954502725050198,
          3.10209136481352,
          0.632175514292634,
          0.725781341889401,
          1.86042125160628,
          2.73299470572279,
          1.27680423497737,
          0.920445134663086,
          0.7958071087491,
          0.749413480812492,
          1.14285779774138,
          0.999354716011732,
          1.30449333429873,
          1.20634140606149,
          1.29306998631839,
          2.73570473850442,
          0.171197394520336,
          0.685852110209349,
          0.2903518963329,
          1.95246043302185,
          1.17634595003463,
          2.63190361397327,
          1.01921892792935,
          0.632780279051705,
          2.03619486150151,
          0.933769474337435,
          1.34032051703064,
          0.750718278326924,
          1.20988055252001,
          0.594430318070608,
          0.915164135655217,
          2.68485101770858,
          1.12862284849947,
          1.14583204172884,
          1.09193081673849,
          3.10411731926305,
          0.848733736775521,
          1.00659220415066,
          0.106574959049199,
          1.70457752218246,
          0.277160947604507,
          0.787972492206155,
          1.61404577705731,
          2.65609878011815,
          2.2666868972584,
          1.59170534624135,
          1.91846738563112,
          2.31815604101098,
          3.56856180544402,
          0.793146108496185,
          2.17265707623045,
          1.02379892650343,
          1.03783690300666,
          0.407156531969976,
          2.38648557396108,
          2.5436596197055,
          1.33727320272511,
          0.226014805816382,
          1.55619073245446,
          0.639555638368627,
          1.63493665735755,
          0.935928805334338,
          0.832502840166526,
          0.636208571220306,
          0.825398949540176,
          1.31947881606818,
          1.51297128257285,
          1.23967181253111,
          1.14202419588134,
          1.05741688533421,
          0.710072807880766,
          1.39429475350813,
          0.930751730428528,
          0.705457629580737,
          0.837793024286457,
          1.45891620125888,
          0.348612563391087,
          0.299383442314548,
          1.13515761639336,
          -0.279656874506229,
          0.732629391972008,
          1.30016575884308,
          1.37424172975457,
          0.600807012737275,
          2.51026387013278,
          0.894505802368102,
          1.39559806874246,
          1.22349527642813,
          1.34804317190085,
          1.61623094247131,
          0.204548253002303,
          0.950345028608157,
          1.12797549271742,
          2.1037561499471,
          1.0046096337541,
          1.29675358084876,
          0.980307141171275,
          0.528213483269454,
          1.22782327403443,
          1.26668939932374,
          0.959838993946066,
          0.588009715512682,
          2.60184083230963,
          2.59649552566908,
          0.451285087858727,
          1.12888050856698,
          0.305985290184502,
          1.02210784646806,
          1.13400243003218,
          0.953905305734864,
          2.72702090766505,
          1.70558055574531,
          1.73380235316174,
          1.79715246994205,
          1.24567640765825,
          0.897228099467897,
          1.98502531176568,
          -0.00593180577588948,
          1.58873800816582,
          1.0791292384075,
          1.21747217361587,
          1.48769277880538,
          2.00811550104692,
          1.19616820337039,
          0.415267053961969,
          1.29030996498609,
          1.35425827849543,
          1.04926274038355,
          1.97519047077594,
          1.57920723668429,
          1.20963831562312,
          1.6576361357988,
          1.05070837937926,
          -0.289019908581884,
          0.742116116078059,
          0.933876862644036,
          1.20146692486729,
          0.360884390676445,
          1.72715318002346,
          1.3556539583376,
          1.52565266866653,
          0.595425374671883,
          3.11330391010599,
          0.88187115119512,
          0.752246828554789,
          1.64951776813502,
          1.45677347946852,
          1.56270505396944,
          1.75689923666271,
          1.98029252522278,
          1.17989595414942,
          1.81482319573317,
          1.62295011874497,
          1.23660620038195,
          0.884043351004991,
          2.90052857688239,
          1.66317302424411,
          1.15799581361209,
          2.50954582521607,
          3.87335148713437,
          1.08212758026752,
          0.929128589900525,
          0.264818829305995,
          0.468885297641863,
          0.945542697692527,
          0.843711905343365,
          1.20528156413835,
          1.74582541854328
         ],
         "yaxis": "y"
        }
       ],
       "layout": {
        "coloraxis": {
         "colorbar": {
          "title": {
           "text": "prediction"
          }
         },
         "colorscale": [
          [
           0,
           "#0d0887"
          ],
          [
           0.1111111111111111,
           "#46039f"
          ],
          [
           0.2222222222222222,
           "#7201a8"
          ],
          [
           0.3333333333333333,
           "#9c179e"
          ],
          [
           0.4444444444444444,
           "#bd3786"
          ],
          [
           0.5555555555555556,
           "#d8576b"
          ],
          [
           0.6666666666666666,
           "#ed7953"
          ],
          [
           0.7777777777777778,
           "#fb9f3a"
          ],
          [
           0.8888888888888888,
           "#fdca26"
          ],
          [
           1,
           "#f0f921"
          ]
         ]
        },
        "legend": {
         "tracegroupgap": 0
        },
        "template": {
         "data": {
          "bar": [
           {
            "error_x": {
             "color": "#2a3f5f"
            },
            "error_y": {
             "color": "#2a3f5f"
            },
            "marker": {
             "line": {
              "color": "#E5ECF6",
              "width": 0.5
             },
             "pattern": {
              "fillmode": "overlay",
              "size": 10,
              "solidity": 0.2
             }
            },
            "type": "bar"
           }
          ],
          "barpolar": [
           {
            "marker": {
             "line": {
              "color": "#E5ECF6",
              "width": 0.5
             },
             "pattern": {
              "fillmode": "overlay",
              "size": 10,
              "solidity": 0.2
             }
            },
            "type": "barpolar"
           }
          ],
          "carpet": [
           {
            "aaxis": {
             "endlinecolor": "#2a3f5f",
             "gridcolor": "white",
             "linecolor": "white",
             "minorgridcolor": "white",
             "startlinecolor": "#2a3f5f"
            },
            "baxis": {
             "endlinecolor": "#2a3f5f",
             "gridcolor": "white",
             "linecolor": "white",
             "minorgridcolor": "white",
             "startlinecolor": "#2a3f5f"
            },
            "type": "carpet"
           }
          ],
          "choropleth": [
           {
            "colorbar": {
             "outlinewidth": 0,
             "ticks": ""
            },
            "type": "choropleth"
           }
          ],
          "contour": [
           {
            "colorbar": {
             "outlinewidth": 0,
             "ticks": ""
            },
            "colorscale": [
             [
              0,
              "#0d0887"
             ],
             [
              0.1111111111111111,
              "#46039f"
             ],
             [
              0.2222222222222222,
              "#7201a8"
             ],
             [
              0.3333333333333333,
              "#9c179e"
             ],
             [
              0.4444444444444444,
              "#bd3786"
             ],
             [
              0.5555555555555556,
              "#d8576b"
             ],
             [
              0.6666666666666666,
              "#ed7953"
             ],
             [
              0.7777777777777778,
              "#fb9f3a"
             ],
             [
              0.8888888888888888,
              "#fdca26"
             ],
             [
              1,
              "#f0f921"
             ]
            ],
            "type": "contour"
           }
          ],
          "contourcarpet": [
           {
            "colorbar": {
             "outlinewidth": 0,
             "ticks": ""
            },
            "type": "contourcarpet"
           }
          ],
          "heatmap": [
           {
            "colorbar": {
             "outlinewidth": 0,
             "ticks": ""
            },
            "colorscale": [
             [
              0,
              "#0d0887"
             ],
             [
              0.1111111111111111,
              "#46039f"
             ],
             [
              0.2222222222222222,
              "#7201a8"
             ],
             [
              0.3333333333333333,
              "#9c179e"
             ],
             [
              0.4444444444444444,
              "#bd3786"
             ],
             [
              0.5555555555555556,
              "#d8576b"
             ],
             [
              0.6666666666666666,
              "#ed7953"
             ],
             [
              0.7777777777777778,
              "#fb9f3a"
             ],
             [
              0.8888888888888888,
              "#fdca26"
             ],
             [
              1,
              "#f0f921"
             ]
            ],
            "type": "heatmap"
           }
          ],
          "heatmapgl": [
           {
            "colorbar": {
             "outlinewidth": 0,
             "ticks": ""
            },
            "colorscale": [
             [
              0,
              "#0d0887"
             ],
             [
              0.1111111111111111,
              "#46039f"
             ],
             [
              0.2222222222222222,
              "#7201a8"
             ],
             [
              0.3333333333333333,
              "#9c179e"
             ],
             [
              0.4444444444444444,
              "#bd3786"
             ],
             [
              0.5555555555555556,
              "#d8576b"
             ],
             [
              0.6666666666666666,
              "#ed7953"
             ],
             [
              0.7777777777777778,
              "#fb9f3a"
             ],
             [
              0.8888888888888888,
              "#fdca26"
             ],
             [
              1,
              "#f0f921"
             ]
            ],
            "type": "heatmapgl"
           }
          ],
          "histogram": [
           {
            "marker": {
             "pattern": {
              "fillmode": "overlay",
              "size": 10,
              "solidity": 0.2
             }
            },
            "type": "histogram"
           }
          ],
          "histogram2d": [
           {
            "colorbar": {
             "outlinewidth": 0,
             "ticks": ""
            },
            "colorscale": [
             [
              0,
              "#0d0887"
             ],
             [
              0.1111111111111111,
              "#46039f"
             ],
             [
              0.2222222222222222,
              "#7201a8"
             ],
             [
              0.3333333333333333,
              "#9c179e"
             ],
             [
              0.4444444444444444,
              "#bd3786"
             ],
             [
              0.5555555555555556,
              "#d8576b"
             ],
             [
              0.6666666666666666,
              "#ed7953"
             ],
             [
              0.7777777777777778,
              "#fb9f3a"
             ],
             [
              0.8888888888888888,
              "#fdca26"
             ],
             [
              1,
              "#f0f921"
             ]
            ],
            "type": "histogram2d"
           }
          ],
          "histogram2dcontour": [
           {
            "colorbar": {
             "outlinewidth": 0,
             "ticks": ""
            },
            "colorscale": [
             [
              0,
              "#0d0887"
             ],
             [
              0.1111111111111111,
              "#46039f"
             ],
             [
              0.2222222222222222,
              "#7201a8"
             ],
             [
              0.3333333333333333,
              "#9c179e"
             ],
             [
              0.4444444444444444,
              "#bd3786"
             ],
             [
              0.5555555555555556,
              "#d8576b"
             ],
             [
              0.6666666666666666,
              "#ed7953"
             ],
             [
              0.7777777777777778,
              "#fb9f3a"
             ],
             [
              0.8888888888888888,
              "#fdca26"
             ],
             [
              1,
              "#f0f921"
             ]
            ],
            "type": "histogram2dcontour"
           }
          ],
          "mesh3d": [
           {
            "colorbar": {
             "outlinewidth": 0,
             "ticks": ""
            },
            "type": "mesh3d"
           }
          ],
          "parcoords": [
           {
            "line": {
             "colorbar": {
              "outlinewidth": 0,
              "ticks": ""
             }
            },
            "type": "parcoords"
           }
          ],
          "pie": [
           {
            "automargin": true,
            "type": "pie"
           }
          ],
          "scatter": [
           {
            "fillpattern": {
             "fillmode": "overlay",
             "size": 10,
             "solidity": 0.2
            },
            "type": "scatter"
           }
          ],
          "scatter3d": [
           {
            "line": {
             "colorbar": {
              "outlinewidth": 0,
              "ticks": ""
             }
            },
            "marker": {
             "colorbar": {
              "outlinewidth": 0,
              "ticks": ""
             }
            },
            "type": "scatter3d"
           }
          ],
          "scattercarpet": [
           {
            "marker": {
             "colorbar": {
              "outlinewidth": 0,
              "ticks": ""
             }
            },
            "type": "scattercarpet"
           }
          ],
          "scattergeo": [
           {
            "marker": {
             "colorbar": {
              "outlinewidth": 0,
              "ticks": ""
             }
            },
            "type": "scattergeo"
           }
          ],
          "scattergl": [
           {
            "marker": {
             "colorbar": {
              "outlinewidth": 0,
              "ticks": ""
             }
            },
            "type": "scattergl"
           }
          ],
          "scattermapbox": [
           {
            "marker": {
             "colorbar": {
              "outlinewidth": 0,
              "ticks": ""
             }
            },
            "type": "scattermapbox"
           }
          ],
          "scatterpolar": [
           {
            "marker": {
             "colorbar": {
              "outlinewidth": 0,
              "ticks": ""
             }
            },
            "type": "scatterpolar"
           }
          ],
          "scatterpolargl": [
           {
            "marker": {
             "colorbar": {
              "outlinewidth": 0,
              "ticks": ""
             }
            },
            "type": "scatterpolargl"
           }
          ],
          "scatterternary": [
           {
            "marker": {
             "colorbar": {
              "outlinewidth": 0,
              "ticks": ""
             }
            },
            "type": "scatterternary"
           }
          ],
          "surface": [
           {
            "colorbar": {
             "outlinewidth": 0,
             "ticks": ""
            },
            "colorscale": [
             [
              0,
              "#0d0887"
             ],
             [
              0.1111111111111111,
              "#46039f"
             ],
             [
              0.2222222222222222,
              "#7201a8"
             ],
             [
              0.3333333333333333,
              "#9c179e"
             ],
             [
              0.4444444444444444,
              "#bd3786"
             ],
             [
              0.5555555555555556,
              "#d8576b"
             ],
             [
              0.6666666666666666,
              "#ed7953"
             ],
             [
              0.7777777777777778,
              "#fb9f3a"
             ],
             [
              0.8888888888888888,
              "#fdca26"
             ],
             [
              1,
              "#f0f921"
             ]
            ],
            "type": "surface"
           }
          ],
          "table": [
           {
            "cells": {
             "fill": {
              "color": "#EBF0F8"
             },
             "line": {
              "color": "white"
             }
            },
            "header": {
             "fill": {
              "color": "#C8D4E3"
             },
             "line": {
              "color": "white"
             }
            },
            "type": "table"
           }
          ]
         },
         "layout": {
          "annotationdefaults": {
           "arrowcolor": "#2a3f5f",
           "arrowhead": 0,
           "arrowwidth": 1
          },
          "autotypenumbers": "strict",
          "coloraxis": {
           "colorbar": {
            "outlinewidth": 0,
            "ticks": ""
           }
          },
          "colorscale": {
           "diverging": [
            [
             0,
             "#8e0152"
            ],
            [
             0.1,
             "#c51b7d"
            ],
            [
             0.2,
             "#de77ae"
            ],
            [
             0.3,
             "#f1b6da"
            ],
            [
             0.4,
             "#fde0ef"
            ],
            [
             0.5,
             "#f7f7f7"
            ],
            [
             0.6,
             "#e6f5d0"
            ],
            [
             0.7,
             "#b8e186"
            ],
            [
             0.8,
             "#7fbc41"
            ],
            [
             0.9,
             "#4d9221"
            ],
            [
             1,
             "#276419"
            ]
           ],
           "sequential": [
            [
             0,
             "#0d0887"
            ],
            [
             0.1111111111111111,
             "#46039f"
            ],
            [
             0.2222222222222222,
             "#7201a8"
            ],
            [
             0.3333333333333333,
             "#9c179e"
            ],
            [
             0.4444444444444444,
             "#bd3786"
            ],
            [
             0.5555555555555556,
             "#d8576b"
            ],
            [
             0.6666666666666666,
             "#ed7953"
            ],
            [
             0.7777777777777778,
             "#fb9f3a"
            ],
            [
             0.8888888888888888,
             "#fdca26"
            ],
            [
             1,
             "#f0f921"
            ]
           ],
           "sequentialminus": [
            [
             0,
             "#0d0887"
            ],
            [
             0.1111111111111111,
             "#46039f"
            ],
            [
             0.2222222222222222,
             "#7201a8"
            ],
            [
             0.3333333333333333,
             "#9c179e"
            ],
            [
             0.4444444444444444,
             "#bd3786"
            ],
            [
             0.5555555555555556,
             "#d8576b"
            ],
            [
             0.6666666666666666,
             "#ed7953"
            ],
            [
             0.7777777777777778,
             "#fb9f3a"
            ],
            [
             0.8888888888888888,
             "#fdca26"
            ],
            [
             1,
             "#f0f921"
            ]
           ]
          },
          "colorway": [
           "#636efa",
           "#EF553B",
           "#00cc96",
           "#ab63fa",
           "#FFA15A",
           "#19d3f3",
           "#FF6692",
           "#B6E880",
           "#FF97FF",
           "#FECB52"
          ],
          "font": {
           "color": "#2a3f5f"
          },
          "geo": {
           "bgcolor": "white",
           "lakecolor": "white",
           "landcolor": "#E5ECF6",
           "showlakes": true,
           "showland": true,
           "subunitcolor": "white"
          },
          "hoverlabel": {
           "align": "left"
          },
          "hovermode": "closest",
          "mapbox": {
           "style": "light"
          },
          "paper_bgcolor": "white",
          "plot_bgcolor": "#E5ECF6",
          "polar": {
           "angularaxis": {
            "gridcolor": "white",
            "linecolor": "white",
            "ticks": ""
           },
           "bgcolor": "#E5ECF6",
           "radialaxis": {
            "gridcolor": "white",
            "linecolor": "white",
            "ticks": ""
           }
          },
          "scene": {
           "xaxis": {
            "backgroundcolor": "#E5ECF6",
            "gridcolor": "white",
            "gridwidth": 2,
            "linecolor": "white",
            "showbackground": true,
            "ticks": "",
            "zerolinecolor": "white"
           },
           "yaxis": {
            "backgroundcolor": "#E5ECF6",
            "gridcolor": "white",
            "gridwidth": 2,
            "linecolor": "white",
            "showbackground": true,
            "ticks": "",
            "zerolinecolor": "white"
           },
           "zaxis": {
            "backgroundcolor": "#E5ECF6",
            "gridcolor": "white",
            "gridwidth": 2,
            "linecolor": "white",
            "showbackground": true,
            "ticks": "",
            "zerolinecolor": "white"
           }
          },
          "shapedefaults": {
           "line": {
            "color": "#2a3f5f"
           }
          },
          "ternary": {
           "aaxis": {
            "gridcolor": "white",
            "linecolor": "white",
            "ticks": ""
           },
           "baxis": {
            "gridcolor": "white",
            "linecolor": "white",
            "ticks": ""
           },
           "bgcolor": "#E5ECF6",
           "caxis": {
            "gridcolor": "white",
            "linecolor": "white",
            "ticks": ""
           }
          },
          "title": {
           "x": 0.05
          },
          "xaxis": {
           "automargin": true,
           "gridcolor": "white",
           "linecolor": "white",
           "ticks": "",
           "title": {
            "standoff": 15
           },
           "zerolinecolor": "white",
           "zerolinewidth": 2
          },
          "yaxis": {
           "automargin": true,
           "gridcolor": "white",
           "linecolor": "white",
           "ticks": "",
           "title": {
            "standoff": 15
           },
           "zerolinecolor": "white",
           "zerolinewidth": 2
          }
         }
        },
        "title": {
         "text": "Data visualization of predictions for training dataset"
        },
        "xaxis": {
         "anchor": "y",
         "domain": [
          0,
          1
         ],
         "title": {
          "text": "x1"
         }
        },
        "yaxis": {
         "anchor": "x",
         "domain": [
          0,
          1
         ],
         "title": {
          "text": "x2"
         }
        }
       }
      }
     },
     "metadata": {},
     "output_type": "display_data"
    }
   ],
   "source": [
    "px.scatter(pd.DataFrame(dict(prediction=2-t_test_pred, x1 = synth_test[:,1], x2 = synth_test[:,2])),x='x1', y='x2', color='prediction', title = 'Data visualization of predictions for training dataset')"
   ]
  },
  {
   "cell_type": "markdown",
   "metadata": {},
   "source": [
    "You can draw the decision boundary $w^Tx = 0$ by using: \n"
   ]
  },
  {
   "cell_type": "code",
   "execution_count": 185,
   "metadata": {},
   "outputs": [
    {
     "data": {
      "application/vnd.plotly.v1+json": {
       "config": {
        "plotlyServerURL": "https://plot.ly"
       },
       "data": [
        {
         "hovertemplate": "x1=%{x}<br>x2=%{y}<extra></extra>",
         "legendgroup": "",
         "line": {
          "color": "#636efa",
          "dash": "solid"
         },
         "marker": {
          "symbol": "circle"
         },
         "mode": "lines",
         "name": "",
         "orientation": "v",
         "showlegend": false,
         "type": "scatter",
         "x": [
          -2.5,
          -2.0555555555555554,
          -1.6111111111111112,
          -1.1666666666666667,
          -0.7222222222222223,
          -0.2777777777777777,
          0.16666666666666652,
          0.6111111111111107,
          1.0555555555555554,
          1.5
         ],
         "xaxis": "x",
         "y": [
          -0.6994360741017862,
          -0.16313999995286682,
          0.37315607419605257,
          0.9094521483449719,
          1.4457482224938913,
          1.9820442966428113,
          2.5183403707917305,
          3.0546364449406496,
          3.5909325190895696,
          4.127228593238489
         ],
         "yaxis": "y"
        },
        {
         "hovertemplate": "x1=%{x}<br>x2=%{y}<br>prediction=%{marker.color}<extra></extra>",
         "legendgroup": "",
         "marker": {
          "color": [
           1,
           2,
           2,
           2,
           1,
           2,
           2,
           1,
           2,
           2,
           2,
           2,
           2,
           2,
           1,
           2,
           2,
           2,
           2,
           2,
           2,
           2,
           2,
           2,
           2,
           2,
           2,
           2,
           2,
           2,
           2,
           1,
           1,
           2,
           1,
           2,
           2,
           2,
           2,
           2,
           2,
           2,
           2,
           2,
           2,
           2,
           1,
           2,
           2,
           2,
           2,
           2,
           1,
           2,
           2,
           1,
           2,
           2,
           2,
           2,
           2,
           2,
           2,
           2,
           2,
           1,
           2,
           2,
           1,
           1,
           2,
           2,
           2,
           2,
           2,
           2,
           2,
           2,
           2,
           2,
           1,
           1,
           2,
           1,
           2,
           2,
           2,
           2,
           2,
           2,
           2,
           2,
           2,
           2,
           1,
           1,
           1,
           1,
           2,
           1
          ],
          "coloraxis": "coloraxis",
          "symbol": "circle"
         },
         "mode": "markers",
         "name": "",
         "orientation": "v",
         "showlegend": false,
         "type": "scatter",
         "x": [
          -0.7222114129586,
          -0.924679116842047,
          -0.766022814943256,
          -0.0732894788556321,
          -1.39291197731283,
          -0.202233388934873,
          0.481737671784873,
          -1.8655121173883,
          -0.152468727259032,
          0.38635648749537,
          0.0875764309449853,
          -0.162870803458684,
          0.205627604169169,
          -0.678880330634291,
          -0.631309441163341,
          0.451357146792761,
          -0.379447056101144,
          -0.67808924696543,
          -0.6353679482783,
          -0.394503312110074,
          0.361462943689775,
          -0.528663281188422,
          -0.251051039074415,
          0.0782884526153436,
          -0.508588755690403,
          0.408869378842243,
          -0.365647127226042,
          1.41253669598274,
          0.185369078583416,
          -0.236029032268647,
          -0.614293392873263,
          -2.30408372892482,
          -1.6439848395597,
          -0.099631142781541,
          -1.86566438019087,
          0.29707583331245,
          0.241635652911538,
          -0.308059142141273,
          -0.297331480776794,
          0.0425462999904274,
          -0.293494487190976,
          0.0472196732520648,
          0.511434878557491,
          -0.439766514299069,
          0.579727620807449,
          -0.22587568551299,
          -1.31699917881368,
          0.403359817740187,
          0.0639802809331373,
          -0.200549408990853,
          0.179212309999251,
          -0.684781628987495,
          -1.26626456003945,
          -0.0732275755712657,
          -0.278834870223322,
          -1.66770622666567,
          -0.932784740334326,
          -0.222492292076254,
          -0.419301102755586,
          -0.102320397506266,
          0.246029751804449,
          0.477011782112795,
          0.166124402475656,
          0.392487504719149,
          0.26880633054516,
          -1.1892336014914,
          -0.353530726637597,
          0.205995439006312,
          0.357859266241446,
          -1.07534587024242,
          0.610733203164708,
          0.34783794294932,
          0.133976431089943,
          0.487540109560409,
          0.328137396161017,
          -0.307134275715141,
          0.622456405195283,
          0.023923605235643,
          1.25632667782585,
          -0.207777444410633,
          -1.07196807487457,
          -1.40721089942489,
          0.643678850830891,
          -1.45327218253849,
          0.891230481942523,
          0.252066390681576,
          0.504207545290246,
          0.299918390809922,
          0.490412055618484,
          1.06136639629653,
          0.365892980043387,
          -1.1024698611437,
          0.115280444945432,
          0.222190799619655,
          0.317452811019433,
          -0.693623079484142,
          -0.651352405455385,
          -2.24047850877093,
          -0.688766771564921,
          -2.06428441900782
         ],
         "xaxis": "x",
         "y": [
          2.00447087136242,
          0.483669283303616,
          0.794328908264858,
          0.969929147538923,
          0.999697089649905,
          1.35033191198506,
          0.984418575841914,
          1.54773159042401,
          0.922489686034523,
          0.366336720871723,
          0.932411534685466,
          0.630517186027526,
          0.902728059891789,
          0.519282489082532,
          1.66060671402444,
          1.02281328367944,
          0.892502892723954,
          0.969433620547686,
          1.29934918685766,
          0.327163230000664,
          1.25890893821093,
          1.26110462471585,
          0.3041819401222,
          1.44882862257848,
          1.2875665675783,
          1.49537607406398,
          0.943434089491931,
          1.54855990106491,
          1.0947339566202,
          1.55526095979461,
          1.38945066226994,
          1.38069898840687,
          1.52199681104139,
          1.12167183608714,
          0.292956871515864,
          0.685937988358744,
          1.44307731093209,
          0.616810573192588,
          1.64968595570792,
          0.808982969980399,
          0.944090798130192,
          1.50461364233168,
          0.590927353613734,
          1.1721005687771,
          1.49159036959202,
          0.787129098143246,
          0.932311221709179,
          1.06184402730383,
          1.71779511292622,
          1.07531583235228,
          1.33051886263733,
          1.22567327645858,
          2.28600726481963,
          1.27133904319531,
          0.396216850503442,
          1.21968201824743,
          1.10552625678307,
          1.98252437260598,
          0.695197243837259,
          0.765296493992673,
          1.82964712136056,
          0.0611918456353968,
          0.832661929923749,
          1.46224249843351,
          0.698569846489762,
          1.99198866550859,
          0.781098791781922,
          2.33022515439259,
          3.35842349881369,
          1.83307889669395,
          0.26755191141353,
          0.754523597335553,
          1.13245178008424,
          0.839583040875595,
          1.05381391421355,
          1.21094298929596,
          0.398273208283436,
          -0.0473318420892674,
          0.896163773144661,
          1.17187213473804,
          2.87218367130169,
          1.71273051006468,
          1.90840839163394,
          2.02246219076283,
          1.73158341544632,
          0.848664430272533,
          1.06331255073084,
          0.950756757796549,
          0.821936045253742,
          0.788056076691746,
          1.71060938237464,
          0.618737913541539,
          1.87763315549822,
          1.03704295357252,
          2.8662885931298,
          2.24206585399344,
          1.80895864388631,
          1.04991147162741,
          1.33671775150787,
          2.38517335491812
         ],
         "yaxis": "y"
        }
       ],
       "layout": {
        "template": {
         "data": {
          "bar": [
           {
            "error_x": {
             "color": "#2a3f5f"
            },
            "error_y": {
             "color": "#2a3f5f"
            },
            "marker": {
             "line": {
              "color": "#E5ECF6",
              "width": 0.5
             },
             "pattern": {
              "fillmode": "overlay",
              "size": 10,
              "solidity": 0.2
             }
            },
            "type": "bar"
           }
          ],
          "barpolar": [
           {
            "marker": {
             "line": {
              "color": "#E5ECF6",
              "width": 0.5
             },
             "pattern": {
              "fillmode": "overlay",
              "size": 10,
              "solidity": 0.2
             }
            },
            "type": "barpolar"
           }
          ],
          "carpet": [
           {
            "aaxis": {
             "endlinecolor": "#2a3f5f",
             "gridcolor": "white",
             "linecolor": "white",
             "minorgridcolor": "white",
             "startlinecolor": "#2a3f5f"
            },
            "baxis": {
             "endlinecolor": "#2a3f5f",
             "gridcolor": "white",
             "linecolor": "white",
             "minorgridcolor": "white",
             "startlinecolor": "#2a3f5f"
            },
            "type": "carpet"
           }
          ],
          "choropleth": [
           {
            "colorbar": {
             "outlinewidth": 0,
             "ticks": ""
            },
            "type": "choropleth"
           }
          ],
          "contour": [
           {
            "colorbar": {
             "outlinewidth": 0,
             "ticks": ""
            },
            "colorscale": [
             [
              0,
              "#0d0887"
             ],
             [
              0.1111111111111111,
              "#46039f"
             ],
             [
              0.2222222222222222,
              "#7201a8"
             ],
             [
              0.3333333333333333,
              "#9c179e"
             ],
             [
              0.4444444444444444,
              "#bd3786"
             ],
             [
              0.5555555555555556,
              "#d8576b"
             ],
             [
              0.6666666666666666,
              "#ed7953"
             ],
             [
              0.7777777777777778,
              "#fb9f3a"
             ],
             [
              0.8888888888888888,
              "#fdca26"
             ],
             [
              1,
              "#f0f921"
             ]
            ],
            "type": "contour"
           }
          ],
          "contourcarpet": [
           {
            "colorbar": {
             "outlinewidth": 0,
             "ticks": ""
            },
            "type": "contourcarpet"
           }
          ],
          "heatmap": [
           {
            "colorbar": {
             "outlinewidth": 0,
             "ticks": ""
            },
            "colorscale": [
             [
              0,
              "#0d0887"
             ],
             [
              0.1111111111111111,
              "#46039f"
             ],
             [
              0.2222222222222222,
              "#7201a8"
             ],
             [
              0.3333333333333333,
              "#9c179e"
             ],
             [
              0.4444444444444444,
              "#bd3786"
             ],
             [
              0.5555555555555556,
              "#d8576b"
             ],
             [
              0.6666666666666666,
              "#ed7953"
             ],
             [
              0.7777777777777778,
              "#fb9f3a"
             ],
             [
              0.8888888888888888,
              "#fdca26"
             ],
             [
              1,
              "#f0f921"
             ]
            ],
            "type": "heatmap"
           }
          ],
          "heatmapgl": [
           {
            "colorbar": {
             "outlinewidth": 0,
             "ticks": ""
            },
            "colorscale": [
             [
              0,
              "#0d0887"
             ],
             [
              0.1111111111111111,
              "#46039f"
             ],
             [
              0.2222222222222222,
              "#7201a8"
             ],
             [
              0.3333333333333333,
              "#9c179e"
             ],
             [
              0.4444444444444444,
              "#bd3786"
             ],
             [
              0.5555555555555556,
              "#d8576b"
             ],
             [
              0.6666666666666666,
              "#ed7953"
             ],
             [
              0.7777777777777778,
              "#fb9f3a"
             ],
             [
              0.8888888888888888,
              "#fdca26"
             ],
             [
              1,
              "#f0f921"
             ]
            ],
            "type": "heatmapgl"
           }
          ],
          "histogram": [
           {
            "marker": {
             "pattern": {
              "fillmode": "overlay",
              "size": 10,
              "solidity": 0.2
             }
            },
            "type": "histogram"
           }
          ],
          "histogram2d": [
           {
            "colorbar": {
             "outlinewidth": 0,
             "ticks": ""
            },
            "colorscale": [
             [
              0,
              "#0d0887"
             ],
             [
              0.1111111111111111,
              "#46039f"
             ],
             [
              0.2222222222222222,
              "#7201a8"
             ],
             [
              0.3333333333333333,
              "#9c179e"
             ],
             [
              0.4444444444444444,
              "#bd3786"
             ],
             [
              0.5555555555555556,
              "#d8576b"
             ],
             [
              0.6666666666666666,
              "#ed7953"
             ],
             [
              0.7777777777777778,
              "#fb9f3a"
             ],
             [
              0.8888888888888888,
              "#fdca26"
             ],
             [
              1,
              "#f0f921"
             ]
            ],
            "type": "histogram2d"
           }
          ],
          "histogram2dcontour": [
           {
            "colorbar": {
             "outlinewidth": 0,
             "ticks": ""
            },
            "colorscale": [
             [
              0,
              "#0d0887"
             ],
             [
              0.1111111111111111,
              "#46039f"
             ],
             [
              0.2222222222222222,
              "#7201a8"
             ],
             [
              0.3333333333333333,
              "#9c179e"
             ],
             [
              0.4444444444444444,
              "#bd3786"
             ],
             [
              0.5555555555555556,
              "#d8576b"
             ],
             [
              0.6666666666666666,
              "#ed7953"
             ],
             [
              0.7777777777777778,
              "#fb9f3a"
             ],
             [
              0.8888888888888888,
              "#fdca26"
             ],
             [
              1,
              "#f0f921"
             ]
            ],
            "type": "histogram2dcontour"
           }
          ],
          "mesh3d": [
           {
            "colorbar": {
             "outlinewidth": 0,
             "ticks": ""
            },
            "type": "mesh3d"
           }
          ],
          "parcoords": [
           {
            "line": {
             "colorbar": {
              "outlinewidth": 0,
              "ticks": ""
             }
            },
            "type": "parcoords"
           }
          ],
          "pie": [
           {
            "automargin": true,
            "type": "pie"
           }
          ],
          "scatter": [
           {
            "fillpattern": {
             "fillmode": "overlay",
             "size": 10,
             "solidity": 0.2
            },
            "type": "scatter"
           }
          ],
          "scatter3d": [
           {
            "line": {
             "colorbar": {
              "outlinewidth": 0,
              "ticks": ""
             }
            },
            "marker": {
             "colorbar": {
              "outlinewidth": 0,
              "ticks": ""
             }
            },
            "type": "scatter3d"
           }
          ],
          "scattercarpet": [
           {
            "marker": {
             "colorbar": {
              "outlinewidth": 0,
              "ticks": ""
             }
            },
            "type": "scattercarpet"
           }
          ],
          "scattergeo": [
           {
            "marker": {
             "colorbar": {
              "outlinewidth": 0,
              "ticks": ""
             }
            },
            "type": "scattergeo"
           }
          ],
          "scattergl": [
           {
            "marker": {
             "colorbar": {
              "outlinewidth": 0,
              "ticks": ""
             }
            },
            "type": "scattergl"
           }
          ],
          "scattermapbox": [
           {
            "marker": {
             "colorbar": {
              "outlinewidth": 0,
              "ticks": ""
             }
            },
            "type": "scattermapbox"
           }
          ],
          "scatterpolar": [
           {
            "marker": {
             "colorbar": {
              "outlinewidth": 0,
              "ticks": ""
             }
            },
            "type": "scatterpolar"
           }
          ],
          "scatterpolargl": [
           {
            "marker": {
             "colorbar": {
              "outlinewidth": 0,
              "ticks": ""
             }
            },
            "type": "scatterpolargl"
           }
          ],
          "scatterternary": [
           {
            "marker": {
             "colorbar": {
              "outlinewidth": 0,
              "ticks": ""
             }
            },
            "type": "scatterternary"
           }
          ],
          "surface": [
           {
            "colorbar": {
             "outlinewidth": 0,
             "ticks": ""
            },
            "colorscale": [
             [
              0,
              "#0d0887"
             ],
             [
              0.1111111111111111,
              "#46039f"
             ],
             [
              0.2222222222222222,
              "#7201a8"
             ],
             [
              0.3333333333333333,
              "#9c179e"
             ],
             [
              0.4444444444444444,
              "#bd3786"
             ],
             [
              0.5555555555555556,
              "#d8576b"
             ],
             [
              0.6666666666666666,
              "#ed7953"
             ],
             [
              0.7777777777777778,
              "#fb9f3a"
             ],
             [
              0.8888888888888888,
              "#fdca26"
             ],
             [
              1,
              "#f0f921"
             ]
            ],
            "type": "surface"
           }
          ],
          "table": [
           {
            "cells": {
             "fill": {
              "color": "#EBF0F8"
             },
             "line": {
              "color": "white"
             }
            },
            "header": {
             "fill": {
              "color": "#C8D4E3"
             },
             "line": {
              "color": "white"
             }
            },
            "type": "table"
           }
          ]
         },
         "layout": {
          "annotationdefaults": {
           "arrowcolor": "#2a3f5f",
           "arrowhead": 0,
           "arrowwidth": 1
          },
          "autotypenumbers": "strict",
          "coloraxis": {
           "colorbar": {
            "outlinewidth": 0,
            "ticks": ""
           }
          },
          "colorscale": {
           "diverging": [
            [
             0,
             "#8e0152"
            ],
            [
             0.1,
             "#c51b7d"
            ],
            [
             0.2,
             "#de77ae"
            ],
            [
             0.3,
             "#f1b6da"
            ],
            [
             0.4,
             "#fde0ef"
            ],
            [
             0.5,
             "#f7f7f7"
            ],
            [
             0.6,
             "#e6f5d0"
            ],
            [
             0.7,
             "#b8e186"
            ],
            [
             0.8,
             "#7fbc41"
            ],
            [
             0.9,
             "#4d9221"
            ],
            [
             1,
             "#276419"
            ]
           ],
           "sequential": [
            [
             0,
             "#0d0887"
            ],
            [
             0.1111111111111111,
             "#46039f"
            ],
            [
             0.2222222222222222,
             "#7201a8"
            ],
            [
             0.3333333333333333,
             "#9c179e"
            ],
            [
             0.4444444444444444,
             "#bd3786"
            ],
            [
             0.5555555555555556,
             "#d8576b"
            ],
            [
             0.6666666666666666,
             "#ed7953"
            ],
            [
             0.7777777777777778,
             "#fb9f3a"
            ],
            [
             0.8888888888888888,
             "#fdca26"
            ],
            [
             1,
             "#f0f921"
            ]
           ],
           "sequentialminus": [
            [
             0,
             "#0d0887"
            ],
            [
             0.1111111111111111,
             "#46039f"
            ],
            [
             0.2222222222222222,
             "#7201a8"
            ],
            [
             0.3333333333333333,
             "#9c179e"
            ],
            [
             0.4444444444444444,
             "#bd3786"
            ],
            [
             0.5555555555555556,
             "#d8576b"
            ],
            [
             0.6666666666666666,
             "#ed7953"
            ],
            [
             0.7777777777777778,
             "#fb9f3a"
            ],
            [
             0.8888888888888888,
             "#fdca26"
            ],
            [
             1,
             "#f0f921"
            ]
           ]
          },
          "colorway": [
           "#636efa",
           "#EF553B",
           "#00cc96",
           "#ab63fa",
           "#FFA15A",
           "#19d3f3",
           "#FF6692",
           "#B6E880",
           "#FF97FF",
           "#FECB52"
          ],
          "font": {
           "color": "#2a3f5f"
          },
          "geo": {
           "bgcolor": "white",
           "lakecolor": "white",
           "landcolor": "#E5ECF6",
           "showlakes": true,
           "showland": true,
           "subunitcolor": "white"
          },
          "hoverlabel": {
           "align": "left"
          },
          "hovermode": "closest",
          "mapbox": {
           "style": "light"
          },
          "paper_bgcolor": "white",
          "plot_bgcolor": "#E5ECF6",
          "polar": {
           "angularaxis": {
            "gridcolor": "white",
            "linecolor": "white",
            "ticks": ""
           },
           "bgcolor": "#E5ECF6",
           "radialaxis": {
            "gridcolor": "white",
            "linecolor": "white",
            "ticks": ""
           }
          },
          "scene": {
           "xaxis": {
            "backgroundcolor": "#E5ECF6",
            "gridcolor": "white",
            "gridwidth": 2,
            "linecolor": "white",
            "showbackground": true,
            "ticks": "",
            "zerolinecolor": "white"
           },
           "yaxis": {
            "backgroundcolor": "#E5ECF6",
            "gridcolor": "white",
            "gridwidth": 2,
            "linecolor": "white",
            "showbackground": true,
            "ticks": "",
            "zerolinecolor": "white"
           },
           "zaxis": {
            "backgroundcolor": "#E5ECF6",
            "gridcolor": "white",
            "gridwidth": 2,
            "linecolor": "white",
            "showbackground": true,
            "ticks": "",
            "zerolinecolor": "white"
           }
          },
          "shapedefaults": {
           "line": {
            "color": "#2a3f5f"
           }
          },
          "ternary": {
           "aaxis": {
            "gridcolor": "white",
            "linecolor": "white",
            "ticks": ""
           },
           "baxis": {
            "gridcolor": "white",
            "linecolor": "white",
            "ticks": ""
           },
           "bgcolor": "#E5ECF6",
           "caxis": {
            "gridcolor": "white",
            "linecolor": "white",
            "ticks": ""
           }
          },
          "title": {
           "x": 0.05
          },
          "xaxis": {
           "automargin": true,
           "gridcolor": "white",
           "linecolor": "white",
           "ticks": "",
           "title": {
            "standoff": 15
           },
           "zerolinecolor": "white",
           "zerolinewidth": 2
          },
          "yaxis": {
           "automargin": true,
           "gridcolor": "white",
           "linecolor": "white",
           "ticks": "",
           "title": {
            "standoff": 15
           },
           "zerolinecolor": "white",
           "zerolinewidth": 2
          }
         }
        },
        "title": {
         "text": "Decision Boundary with predictions of training dataset"
        }
       }
      }
     },
     "metadata": {},
     "output_type": "display_data"
    }
   ],
   "source": [
    "import plotly.graph_objects as go\n",
    "\n",
    "# First compute w... then: \n",
    "x1 = np.linspace(-2.5,1.5,10) \n",
    "x2 = (-w[0]-w[1]*x1)/w[2]\n",
    "fig1 = px.line(pd.DataFrame(dict(x1=x1, x2=x2)), x='x1', y='x2')\n",
    "fig2 = px.scatter(pd.DataFrame(dict(prediction=2-t_train_pred, x1 = synth_train[:,1], x2 = synth_train[:,2])),x='x1', y='x2', color='prediction')\n",
    "fig_boundary = go.Figure(data = fig1.data + fig2.data)\n",
    "fig_boundary.update_layout(dict(title='Decision Boundary with predictions of training dataset'))\n",
    "fig_boundary.show()"
   ]
  },
  {
   "cell_type": "code",
   "execution_count": 186,
   "metadata": {},
   "outputs": [
    {
     "data": {
      "application/vnd.plotly.v1+json": {
       "config": {
        "plotlyServerURL": "https://plot.ly"
       },
       "data": [
        {
         "hovertemplate": "x1=%{x}<br>x2=%{y}<extra></extra>",
         "legendgroup": "",
         "line": {
          "color": "#636efa",
          "dash": "solid"
         },
         "marker": {
          "symbol": "circle"
         },
         "mode": "lines",
         "name": "",
         "orientation": "v",
         "showlegend": false,
         "type": "scatter",
         "x": [
          -2.5,
          -2.0555555555555554,
          -1.6111111111111112,
          -1.1666666666666667,
          -0.7222222222222223,
          -0.2777777777777777,
          0.16666666666666652,
          0.6111111111111107,
          1.0555555555555554,
          1.5
         ],
         "xaxis": "x",
         "y": [
          -0.6994360741017862,
          -0.16313999995286682,
          0.37315607419605257,
          0.9094521483449719,
          1.4457482224938913,
          1.9820442966428113,
          2.5183403707917305,
          3.0546364449406496,
          3.5909325190895696,
          4.127228593238489
         ],
         "yaxis": "y"
        },
        {
         "hovertemplate": "x1=%{x}<br>x2=%{y}<br>prediction=%{marker.color}<extra></extra>",
         "legendgroup": "",
         "marker": {
          "color": [
           2,
           2,
           2,
           2,
           2,
           2,
           2,
           2,
           2,
           1,
           2,
           1,
           2,
           2,
           1,
           2,
           2,
           1,
           1,
           2,
           2,
           1,
           2,
           1,
           1,
           2,
           1,
           2,
           2,
           1,
           2,
           1,
           2,
           1,
           2,
           2,
           1,
           1,
           2,
           2,
           2,
           2,
           2,
           2,
           2,
           2,
           2,
           1,
           1,
           2,
           2,
           1,
           1,
           1,
           2,
           2,
           1,
           2,
           2,
           2,
           2,
           2,
           2,
           2,
           2,
           2,
           2,
           1,
           2,
           2,
           2,
           1,
           2,
           2,
           1,
           1,
           2,
           2,
           1,
           1,
           1,
           2,
           1,
           2,
           2,
           2,
           1,
           1,
           2,
           2,
           2,
           2,
           2,
           2,
           2,
           2,
           2,
           2,
           2,
           2,
           2,
           2,
           2,
           2,
           2,
           2,
           2,
           1,
           2,
           2,
           2,
           2,
           2,
           2,
           2,
           2,
           1,
           2,
           2,
           2,
           2,
           2,
           2,
           1,
           2,
           1,
           2,
           2,
           2,
           2,
           2,
           2,
           2,
           2,
           1,
           1,
           2,
           2,
           2,
           2,
           2,
           2,
           1,
           1,
           1,
           2,
           2,
           2,
           1,
           2,
           2,
           2,
           2,
           2,
           1,
           2,
           2,
           2,
           2,
           2,
           1,
           2,
           2,
           1,
           2,
           2,
           2,
           1,
           2,
           2,
           1,
           2,
           2,
           2,
           1,
           2,
           2,
           1,
           2,
           2,
           2,
           2,
           2,
           2,
           1,
           2,
           2,
           1,
           1,
           2,
           1,
           1,
           1,
           2,
           2,
           2,
           2,
           2,
           2,
           1
          ],
          "coloraxis": "coloraxis",
          "symbol": "circle"
         },
         "mode": "markers",
         "name": "",
         "orientation": "v",
         "showlegend": false,
         "type": "scatter",
         "x": [
          0.548377329092262,
          -0.516182355090629,
          -0.928778331455398,
          0.0700040451666702,
          0.267028434070118,
          -0.57664073495068,
          -0.571998215013911,
          0.085910428686603,
          0.583964255424017,
          -1.06711927670054,
          -0.0562649176241551,
          -0.524936248287615,
          -1.23658248867188,
          -0.0778122418747806,
          -0.313748143992697,
          0.320501890715898,
          -0.0673953040731805,
          -1.47557179462652,
          -0.763320669217402,
          0.248011555664068,
          0.0507678126302484,
          -0.963208133408971,
          -0.0377217560626707,
          -0.845406922022226,
          -0.273976475842833,
          0.38706980512753,
          -0.515453361384079,
          -0.236570845966961,
          0.118125542055563,
          -1.57193989511746,
          0.108560055833345,
          -0.297763681076058,
          -0.082606122419637,
          -0.475767227078988,
          0.225359536365398,
          -0.450367581684656,
          -1.58918210776721,
          -0.528189115491888,
          -0.00913710710419539,
          0.0236993292805952,
          -1.12197108420919,
          -0.21084067686791,
          -0.439299420755364,
          0.253558969854388,
          0.0565460586650199,
          -0.845790721905697,
          -0.138891085533467,
          -0.76761402096743,
          -2.32044284842924,
          0.181205251422961,
          0.0616237373447102,
          -1.97950817180784,
          -1.82865193442128,
          -0.396859461129857,
          0.185940765129506,
          0.242214624825961,
          -1.75949747969882,
          -0.786570617189198,
          -0.272972303183431,
          -0.0683492981766457,
          0.37981736198006,
          0.411877216201486,
          0.624493102281784,
          0.374218223862995,
          -0.359385981243246,
          0.00204001381345192,
          -0.627939689758823,
          -0.979911850180111,
          -0.00309670876357458,
          0.472659867667311,
          -0.364861430898182,
          -1.14092922451121,
          0.598031033306676,
          -0.433484838905137,
          -0.661738017621415,
          -0.928490569809406,
          0.27261739929014,
          0.469379751784666,
          -0.982806734175102,
          -0.807872183354628,
          -0.906407397212613,
          0.31765713019852,
          -1.24450837985478,
          -0.82866299406517,
          0.125223148439006,
          0.402829030561488,
          -0.644725983097092,
          -0.125024565346589,
          0.122509414877926,
          -0.117159122572216,
          -0.414896196261272,
          0.667010909236402,
          -0.323341542211205,
          0.195800676442436,
          0.920280892517893,
          -0.419813896561999,
          0.764522987550377,
          -0.200450391687225,
          -0.55655771380751,
          -0.817012805111886,
          -0.307481598054774,
          0.518372391847711,
          -0.0522216419534324,
          -0.0891407688754548,
          -0.376213459453058,
          -0.185552176146169,
          0.0452703118049876,
          -2.04640660336104,
          0.142624578327731,
          0.217884224653961,
          -0.262772779044171,
          -0.392743472179356,
          -0.152963735156414,
          -0.308434594884213,
          -0.443331282774128,
          0.559985594073934,
          -0.778445111924726,
          0.00291103772014825,
          0.878565647971821,
          -0.256930499000692,
          0.106636130049651,
          0.263023271301074,
          -0.848661483702527,
          -2.41274778914931,
          0.111993914007595,
          -1.5751001895214,
          -0.613221147103123,
          -0.183816194525588,
          -0.0951863339009769,
          -0.197407853093086,
          0.0577566802760603,
          -0.204539823602067,
          0.360912290485671,
          -0.0410813411605664,
          -1.67968565591973,
          -0.335028542147327,
          0.414599190404883,
          0.398756392775222,
          -0.0214172068763818,
          -0.407777798342725,
          0.137821731307878,
          -0.0654821026982211,
          -0.721912456145992,
          -2.07619414954803,
          -2.18751664037211,
          -0.11972063948537,
          0.10808938448526,
          0.0856221746993185,
          -0.660248501392843,
          0.486436846381095,
          -0.28266599485881,
          -0.656915674428285,
          -0.0959839891294414,
          0.567023048354512,
          -1.31006571799162,
          1.13367514460339,
          -0.37462009367161,
          -0.0882190485399166,
          -0.366464808541563,
          0.378566605790398,
          -1.2811001910453,
          -0.462213860714353,
          -0.221525979700414,
          -0.767846621637193,
          -0.228390635621761,
          -0.653706799045404,
          -0.206821060457646,
          -2.28497955503337,
          -0.474856259090633,
          -0.0453717649712496,
          -0.709988961904898,
          0.884545558214667,
          1.05557165018865,
          0.872624954343398,
          0.427147660303257,
          0.204898647470406,
          -0.172981388528198,
          -1.04231905579272,
          0.105330755657552,
          -0.0364707620161139,
          0.0147315986681518,
          0.164811724028962,
          0.405739102948624,
          -0.0515259327825909,
          -1.45041108194038,
          -0.797775408401822,
          -0.420441119348396,
          0.148730085791825,
          -1.65439614364615,
          0.123099745855633,
          -0.882529286727313,
          -0.202186253686245,
          -2.46134068800087,
          -0.0365213174471908,
          -0.476107082766443,
          0.130861021802204,
          -0.580202218502463,
          -0.375980352154764,
          0.873127955012507,
          -1.15937100968576
         ],
         "xaxis": "x",
         "y": [
          1.22134530320384,
          1.56239592449128,
          0.921072165138784,
          0.619767465541004,
          1.10944063877699,
          1.02574324318762,
          0.974854417635832,
          1.44378449089036,
          0.67384451671234,
          2.74219238560352,
          0.733069928570148,
          2.29796093295549,
          0.823154359689919,
          1.7295137874625,
          2.49300606083952,
          1.53374220909852,
          1.87508167643949,
          2.13126284536764,
          2.37500357939566,
          0.4754874626989,
          1.32648867332763,
          2.51852029397605,
          0.171075479369506,
          2.54204914836556,
          2.00372610905544,
          0.81409488853711,
          2.87772459691337,
          0.271951143982723,
          0.495924901657298,
          2.3135992655951,
          1.10754480056025,
          2.61729223829357,
          0.954502725050198,
          3.10209136481352,
          0.632175514292634,
          0.725781341889401,
          1.86042125160628,
          2.73299470572279,
          1.27680423497737,
          0.920445134663086,
          0.7958071087491,
          0.749413480812492,
          1.14285779774138,
          0.999354716011732,
          1.30449333429873,
          1.20634140606149,
          1.29306998631839,
          2.73570473850442,
          0.171197394520336,
          0.685852110209349,
          0.2903518963329,
          1.95246043302185,
          1.17634595003463,
          2.63190361397327,
          1.01921892792935,
          0.632780279051705,
          2.03619486150151,
          0.933769474337435,
          1.34032051703064,
          0.750718278326924,
          1.20988055252001,
          0.594430318070608,
          0.915164135655217,
          2.68485101770858,
          1.12862284849947,
          1.14583204172884,
          1.09193081673849,
          3.10411731926305,
          0.848733736775521,
          1.00659220415066,
          0.106574959049199,
          1.70457752218246,
          0.277160947604507,
          0.787972492206155,
          1.61404577705731,
          2.65609878011815,
          2.2666868972584,
          1.59170534624135,
          1.91846738563112,
          2.31815604101098,
          3.56856180544402,
          0.793146108496185,
          2.17265707623045,
          1.02379892650343,
          1.03783690300666,
          0.407156531969976,
          2.38648557396108,
          2.5436596197055,
          1.33727320272511,
          0.226014805816382,
          1.55619073245446,
          0.639555638368627,
          1.63493665735755,
          0.935928805334338,
          0.832502840166526,
          0.636208571220306,
          0.825398949540176,
          1.31947881606818,
          1.51297128257285,
          1.23967181253111,
          1.14202419588134,
          1.05741688533421,
          0.710072807880766,
          1.39429475350813,
          0.930751730428528,
          0.705457629580737,
          0.837793024286457,
          1.45891620125888,
          0.348612563391087,
          0.299383442314548,
          1.13515761639336,
          -0.279656874506229,
          0.732629391972008,
          1.30016575884308,
          1.37424172975457,
          0.600807012737275,
          2.51026387013278,
          0.894505802368102,
          1.39559806874246,
          1.22349527642813,
          1.34804317190085,
          1.61623094247131,
          0.204548253002303,
          0.950345028608157,
          1.12797549271742,
          2.1037561499471,
          1.0046096337541,
          1.29675358084876,
          0.980307141171275,
          0.528213483269454,
          1.22782327403443,
          1.26668939932374,
          0.959838993946066,
          0.588009715512682,
          2.60184083230963,
          2.59649552566908,
          0.451285087858727,
          1.12888050856698,
          0.305985290184502,
          1.02210784646806,
          1.13400243003218,
          0.953905305734864,
          2.72702090766505,
          1.70558055574531,
          1.73380235316174,
          1.79715246994205,
          1.24567640765825,
          0.897228099467897,
          1.98502531176568,
          -0.00593180577588948,
          1.58873800816582,
          1.0791292384075,
          1.21747217361587,
          1.48769277880538,
          2.00811550104692,
          1.19616820337039,
          0.415267053961969,
          1.29030996498609,
          1.35425827849543,
          1.04926274038355,
          1.97519047077594,
          1.57920723668429,
          1.20963831562312,
          1.6576361357988,
          1.05070837937926,
          -0.289019908581884,
          0.742116116078059,
          0.933876862644036,
          1.20146692486729,
          0.360884390676445,
          1.72715318002346,
          1.3556539583376,
          1.52565266866653,
          0.595425374671883,
          3.11330391010599,
          0.88187115119512,
          0.752246828554789,
          1.64951776813502,
          1.45677347946852,
          1.56270505396944,
          1.75689923666271,
          1.98029252522278,
          1.17989595414942,
          1.81482319573317,
          1.62295011874497,
          1.23660620038195,
          0.884043351004991,
          2.90052857688239,
          1.66317302424411,
          1.15799581361209,
          2.50954582521607,
          3.87335148713437,
          1.08212758026752,
          0.929128589900525,
          0.264818829305995,
          0.468885297641863,
          0.945542697692527,
          0.843711905343365,
          1.20528156413835,
          1.74582541854328
         ],
         "yaxis": "y"
        }
       ],
       "layout": {
        "template": {
         "data": {
          "bar": [
           {
            "error_x": {
             "color": "#2a3f5f"
            },
            "error_y": {
             "color": "#2a3f5f"
            },
            "marker": {
             "line": {
              "color": "#E5ECF6",
              "width": 0.5
             },
             "pattern": {
              "fillmode": "overlay",
              "size": 10,
              "solidity": 0.2
             }
            },
            "type": "bar"
           }
          ],
          "barpolar": [
           {
            "marker": {
             "line": {
              "color": "#E5ECF6",
              "width": 0.5
             },
             "pattern": {
              "fillmode": "overlay",
              "size": 10,
              "solidity": 0.2
             }
            },
            "type": "barpolar"
           }
          ],
          "carpet": [
           {
            "aaxis": {
             "endlinecolor": "#2a3f5f",
             "gridcolor": "white",
             "linecolor": "white",
             "minorgridcolor": "white",
             "startlinecolor": "#2a3f5f"
            },
            "baxis": {
             "endlinecolor": "#2a3f5f",
             "gridcolor": "white",
             "linecolor": "white",
             "minorgridcolor": "white",
             "startlinecolor": "#2a3f5f"
            },
            "type": "carpet"
           }
          ],
          "choropleth": [
           {
            "colorbar": {
             "outlinewidth": 0,
             "ticks": ""
            },
            "type": "choropleth"
           }
          ],
          "contour": [
           {
            "colorbar": {
             "outlinewidth": 0,
             "ticks": ""
            },
            "colorscale": [
             [
              0,
              "#0d0887"
             ],
             [
              0.1111111111111111,
              "#46039f"
             ],
             [
              0.2222222222222222,
              "#7201a8"
             ],
             [
              0.3333333333333333,
              "#9c179e"
             ],
             [
              0.4444444444444444,
              "#bd3786"
             ],
             [
              0.5555555555555556,
              "#d8576b"
             ],
             [
              0.6666666666666666,
              "#ed7953"
             ],
             [
              0.7777777777777778,
              "#fb9f3a"
             ],
             [
              0.8888888888888888,
              "#fdca26"
             ],
             [
              1,
              "#f0f921"
             ]
            ],
            "type": "contour"
           }
          ],
          "contourcarpet": [
           {
            "colorbar": {
             "outlinewidth": 0,
             "ticks": ""
            },
            "type": "contourcarpet"
           }
          ],
          "heatmap": [
           {
            "colorbar": {
             "outlinewidth": 0,
             "ticks": ""
            },
            "colorscale": [
             [
              0,
              "#0d0887"
             ],
             [
              0.1111111111111111,
              "#46039f"
             ],
             [
              0.2222222222222222,
              "#7201a8"
             ],
             [
              0.3333333333333333,
              "#9c179e"
             ],
             [
              0.4444444444444444,
              "#bd3786"
             ],
             [
              0.5555555555555556,
              "#d8576b"
             ],
             [
              0.6666666666666666,
              "#ed7953"
             ],
             [
              0.7777777777777778,
              "#fb9f3a"
             ],
             [
              0.8888888888888888,
              "#fdca26"
             ],
             [
              1,
              "#f0f921"
             ]
            ],
            "type": "heatmap"
           }
          ],
          "heatmapgl": [
           {
            "colorbar": {
             "outlinewidth": 0,
             "ticks": ""
            },
            "colorscale": [
             [
              0,
              "#0d0887"
             ],
             [
              0.1111111111111111,
              "#46039f"
             ],
             [
              0.2222222222222222,
              "#7201a8"
             ],
             [
              0.3333333333333333,
              "#9c179e"
             ],
             [
              0.4444444444444444,
              "#bd3786"
             ],
             [
              0.5555555555555556,
              "#d8576b"
             ],
             [
              0.6666666666666666,
              "#ed7953"
             ],
             [
              0.7777777777777778,
              "#fb9f3a"
             ],
             [
              0.8888888888888888,
              "#fdca26"
             ],
             [
              1,
              "#f0f921"
             ]
            ],
            "type": "heatmapgl"
           }
          ],
          "histogram": [
           {
            "marker": {
             "pattern": {
              "fillmode": "overlay",
              "size": 10,
              "solidity": 0.2
             }
            },
            "type": "histogram"
           }
          ],
          "histogram2d": [
           {
            "colorbar": {
             "outlinewidth": 0,
             "ticks": ""
            },
            "colorscale": [
             [
              0,
              "#0d0887"
             ],
             [
              0.1111111111111111,
              "#46039f"
             ],
             [
              0.2222222222222222,
              "#7201a8"
             ],
             [
              0.3333333333333333,
              "#9c179e"
             ],
             [
              0.4444444444444444,
              "#bd3786"
             ],
             [
              0.5555555555555556,
              "#d8576b"
             ],
             [
              0.6666666666666666,
              "#ed7953"
             ],
             [
              0.7777777777777778,
              "#fb9f3a"
             ],
             [
              0.8888888888888888,
              "#fdca26"
             ],
             [
              1,
              "#f0f921"
             ]
            ],
            "type": "histogram2d"
           }
          ],
          "histogram2dcontour": [
           {
            "colorbar": {
             "outlinewidth": 0,
             "ticks": ""
            },
            "colorscale": [
             [
              0,
              "#0d0887"
             ],
             [
              0.1111111111111111,
              "#46039f"
             ],
             [
              0.2222222222222222,
              "#7201a8"
             ],
             [
              0.3333333333333333,
              "#9c179e"
             ],
             [
              0.4444444444444444,
              "#bd3786"
             ],
             [
              0.5555555555555556,
              "#d8576b"
             ],
             [
              0.6666666666666666,
              "#ed7953"
             ],
             [
              0.7777777777777778,
              "#fb9f3a"
             ],
             [
              0.8888888888888888,
              "#fdca26"
             ],
             [
              1,
              "#f0f921"
             ]
            ],
            "type": "histogram2dcontour"
           }
          ],
          "mesh3d": [
           {
            "colorbar": {
             "outlinewidth": 0,
             "ticks": ""
            },
            "type": "mesh3d"
           }
          ],
          "parcoords": [
           {
            "line": {
             "colorbar": {
              "outlinewidth": 0,
              "ticks": ""
             }
            },
            "type": "parcoords"
           }
          ],
          "pie": [
           {
            "automargin": true,
            "type": "pie"
           }
          ],
          "scatter": [
           {
            "fillpattern": {
             "fillmode": "overlay",
             "size": 10,
             "solidity": 0.2
            },
            "type": "scatter"
           }
          ],
          "scatter3d": [
           {
            "line": {
             "colorbar": {
              "outlinewidth": 0,
              "ticks": ""
             }
            },
            "marker": {
             "colorbar": {
              "outlinewidth": 0,
              "ticks": ""
             }
            },
            "type": "scatter3d"
           }
          ],
          "scattercarpet": [
           {
            "marker": {
             "colorbar": {
              "outlinewidth": 0,
              "ticks": ""
             }
            },
            "type": "scattercarpet"
           }
          ],
          "scattergeo": [
           {
            "marker": {
             "colorbar": {
              "outlinewidth": 0,
              "ticks": ""
             }
            },
            "type": "scattergeo"
           }
          ],
          "scattergl": [
           {
            "marker": {
             "colorbar": {
              "outlinewidth": 0,
              "ticks": ""
             }
            },
            "type": "scattergl"
           }
          ],
          "scattermapbox": [
           {
            "marker": {
             "colorbar": {
              "outlinewidth": 0,
              "ticks": ""
             }
            },
            "type": "scattermapbox"
           }
          ],
          "scatterpolar": [
           {
            "marker": {
             "colorbar": {
              "outlinewidth": 0,
              "ticks": ""
             }
            },
            "type": "scatterpolar"
           }
          ],
          "scatterpolargl": [
           {
            "marker": {
             "colorbar": {
              "outlinewidth": 0,
              "ticks": ""
             }
            },
            "type": "scatterpolargl"
           }
          ],
          "scatterternary": [
           {
            "marker": {
             "colorbar": {
              "outlinewidth": 0,
              "ticks": ""
             }
            },
            "type": "scatterternary"
           }
          ],
          "surface": [
           {
            "colorbar": {
             "outlinewidth": 0,
             "ticks": ""
            },
            "colorscale": [
             [
              0,
              "#0d0887"
             ],
             [
              0.1111111111111111,
              "#46039f"
             ],
             [
              0.2222222222222222,
              "#7201a8"
             ],
             [
              0.3333333333333333,
              "#9c179e"
             ],
             [
              0.4444444444444444,
              "#bd3786"
             ],
             [
              0.5555555555555556,
              "#d8576b"
             ],
             [
              0.6666666666666666,
              "#ed7953"
             ],
             [
              0.7777777777777778,
              "#fb9f3a"
             ],
             [
              0.8888888888888888,
              "#fdca26"
             ],
             [
              1,
              "#f0f921"
             ]
            ],
            "type": "surface"
           }
          ],
          "table": [
           {
            "cells": {
             "fill": {
              "color": "#EBF0F8"
             },
             "line": {
              "color": "white"
             }
            },
            "header": {
             "fill": {
              "color": "#C8D4E3"
             },
             "line": {
              "color": "white"
             }
            },
            "type": "table"
           }
          ]
         },
         "layout": {
          "annotationdefaults": {
           "arrowcolor": "#2a3f5f",
           "arrowhead": 0,
           "arrowwidth": 1
          },
          "autotypenumbers": "strict",
          "coloraxis": {
           "colorbar": {
            "outlinewidth": 0,
            "ticks": ""
           }
          },
          "colorscale": {
           "diverging": [
            [
             0,
             "#8e0152"
            ],
            [
             0.1,
             "#c51b7d"
            ],
            [
             0.2,
             "#de77ae"
            ],
            [
             0.3,
             "#f1b6da"
            ],
            [
             0.4,
             "#fde0ef"
            ],
            [
             0.5,
             "#f7f7f7"
            ],
            [
             0.6,
             "#e6f5d0"
            ],
            [
             0.7,
             "#b8e186"
            ],
            [
             0.8,
             "#7fbc41"
            ],
            [
             0.9,
             "#4d9221"
            ],
            [
             1,
             "#276419"
            ]
           ],
           "sequential": [
            [
             0,
             "#0d0887"
            ],
            [
             0.1111111111111111,
             "#46039f"
            ],
            [
             0.2222222222222222,
             "#7201a8"
            ],
            [
             0.3333333333333333,
             "#9c179e"
            ],
            [
             0.4444444444444444,
             "#bd3786"
            ],
            [
             0.5555555555555556,
             "#d8576b"
            ],
            [
             0.6666666666666666,
             "#ed7953"
            ],
            [
             0.7777777777777778,
             "#fb9f3a"
            ],
            [
             0.8888888888888888,
             "#fdca26"
            ],
            [
             1,
             "#f0f921"
            ]
           ],
           "sequentialminus": [
            [
             0,
             "#0d0887"
            ],
            [
             0.1111111111111111,
             "#46039f"
            ],
            [
             0.2222222222222222,
             "#7201a8"
            ],
            [
             0.3333333333333333,
             "#9c179e"
            ],
            [
             0.4444444444444444,
             "#bd3786"
            ],
            [
             0.5555555555555556,
             "#d8576b"
            ],
            [
             0.6666666666666666,
             "#ed7953"
            ],
            [
             0.7777777777777778,
             "#fb9f3a"
            ],
            [
             0.8888888888888888,
             "#fdca26"
            ],
            [
             1,
             "#f0f921"
            ]
           ]
          },
          "colorway": [
           "#636efa",
           "#EF553B",
           "#00cc96",
           "#ab63fa",
           "#FFA15A",
           "#19d3f3",
           "#FF6692",
           "#B6E880",
           "#FF97FF",
           "#FECB52"
          ],
          "font": {
           "color": "#2a3f5f"
          },
          "geo": {
           "bgcolor": "white",
           "lakecolor": "white",
           "landcolor": "#E5ECF6",
           "showlakes": true,
           "showland": true,
           "subunitcolor": "white"
          },
          "hoverlabel": {
           "align": "left"
          },
          "hovermode": "closest",
          "mapbox": {
           "style": "light"
          },
          "paper_bgcolor": "white",
          "plot_bgcolor": "#E5ECF6",
          "polar": {
           "angularaxis": {
            "gridcolor": "white",
            "linecolor": "white",
            "ticks": ""
           },
           "bgcolor": "#E5ECF6",
           "radialaxis": {
            "gridcolor": "white",
            "linecolor": "white",
            "ticks": ""
           }
          },
          "scene": {
           "xaxis": {
            "backgroundcolor": "#E5ECF6",
            "gridcolor": "white",
            "gridwidth": 2,
            "linecolor": "white",
            "showbackground": true,
            "ticks": "",
            "zerolinecolor": "white"
           },
           "yaxis": {
            "backgroundcolor": "#E5ECF6",
            "gridcolor": "white",
            "gridwidth": 2,
            "linecolor": "white",
            "showbackground": true,
            "ticks": "",
            "zerolinecolor": "white"
           },
           "zaxis": {
            "backgroundcolor": "#E5ECF6",
            "gridcolor": "white",
            "gridwidth": 2,
            "linecolor": "white",
            "showbackground": true,
            "ticks": "",
            "zerolinecolor": "white"
           }
          },
          "shapedefaults": {
           "line": {
            "color": "#2a3f5f"
           }
          },
          "ternary": {
           "aaxis": {
            "gridcolor": "white",
            "linecolor": "white",
            "ticks": ""
           },
           "baxis": {
            "gridcolor": "white",
            "linecolor": "white",
            "ticks": ""
           },
           "bgcolor": "#E5ECF6",
           "caxis": {
            "gridcolor": "white",
            "linecolor": "white",
            "ticks": ""
           }
          },
          "title": {
           "x": 0.05
          },
          "xaxis": {
           "automargin": true,
           "gridcolor": "white",
           "linecolor": "white",
           "ticks": "",
           "title": {
            "standoff": 15
           },
           "zerolinecolor": "white",
           "zerolinewidth": 2
          },
          "yaxis": {
           "automargin": true,
           "gridcolor": "white",
           "linecolor": "white",
           "ticks": "",
           "title": {
            "standoff": 15
           },
           "zerolinecolor": "white",
           "zerolinewidth": 2
          }
         }
        },
        "title": {
         "text": "Decision Boundary with predictions of test dataset"
        }
       }
      }
     },
     "metadata": {},
     "output_type": "display_data"
    }
   ],
   "source": [
    "fig2_test = px.scatter(pd.DataFrame(dict(prediction=2-t_test_pred, x1 = synth_test[:,1], x2 = synth_test[:,2])),x='x1', y='x2', color='prediction')\n",
    "fig_boundary_test = go.Figure(data = fig1.data + fig2_test.data)\n",
    "fig_boundary_test.update_layout(dict(title='Decision Boundary with predictions of test dataset'))\n",
    "fig_boundary_test.show()"
   ]
  },
  {
   "cell_type": "markdown",
   "metadata": {},
   "source": [
    "Adding artificial outliers : \n",
    "\n",
    "Il ne faut pas ajouter des points trop éloignés des points du dataset sinon la matrice R dans l'implementation de l'algorithme ne sera plus inversible : Pourquoi -> Pour de très grosses valeur on a un sigma très proche de 0 ou de 1 et donc y-t très proche de zero donc plus inversible."
   ]
  },
  {
   "cell_type": "code",
   "execution_count": 187,
   "metadata": {},
   "outputs": [],
   "source": [
    "from scipy.stats import norm\n",
    "nb_points = 5\n",
    "outliers_points = np.repeat([[-4,3],[2,-4]],[nb_points,nb_points], axis=0) + norm.rvs(loc = 0, scale = 0.2, size = nb_points*4).reshape((nb_points*2,2))\n",
    "classe_outliers = np.concatenate((np.full(nb_points,1), np.full(nb_points,2)))"
   ]
  },
  {
   "cell_type": "code",
   "execution_count": 188,
   "metadata": {},
   "outputs": [
    {
     "data": {
      "application/vnd.plotly.v1+json": {
       "config": {
        "plotlyServerURL": "https://plot.ly"
       },
       "data": [
        {
         "hovertemplate": "x1=%{x}<br>x2=%{y}<br>classe=%{marker.color}<extra></extra>",
         "legendgroup": "",
         "marker": {
          "color": [
           1,
           1,
           1,
           1,
           1,
           2,
           2,
           2,
           2,
           2
          ],
          "coloraxis": "coloraxis",
          "symbol": "circle"
         },
         "mode": "markers",
         "name": "",
         "orientation": "v",
         "showlegend": false,
         "type": "scatter",
         "x": [
          -3.872624156753078,
          -3.971635735260185,
          -4.039423123863928,
          -4.084255412227624,
          -4.026963303316291,
          1.9948513626676911,
          2.237410585370369,
          1.7127560610260284,
          2.091115441951872,
          2.223649011865193
         ],
         "xaxis": "x",
         "y": [
          3.033002870916896,
          2.689833149089598,
          3.02978030670319,
          3.3253412877833446,
          2.8262474219519294,
          -4.030858282531137,
          -3.7061625102970335,
          -4.0552017023823295,
          -3.8689237404336088,
          -4.216361326491125
         ],
         "yaxis": "y"
        }
       ],
       "layout": {
        "coloraxis": {
         "colorbar": {
          "title": {
           "text": "classe"
          }
         },
         "colorscale": [
          [
           0,
           "#0d0887"
          ],
          [
           0.1111111111111111,
           "#46039f"
          ],
          [
           0.2222222222222222,
           "#7201a8"
          ],
          [
           0.3333333333333333,
           "#9c179e"
          ],
          [
           0.4444444444444444,
           "#bd3786"
          ],
          [
           0.5555555555555556,
           "#d8576b"
          ],
          [
           0.6666666666666666,
           "#ed7953"
          ],
          [
           0.7777777777777778,
           "#fb9f3a"
          ],
          [
           0.8888888888888888,
           "#fdca26"
          ],
          [
           1,
           "#f0f921"
          ]
         ]
        },
        "legend": {
         "tracegroupgap": 0
        },
        "template": {
         "data": {
          "bar": [
           {
            "error_x": {
             "color": "#2a3f5f"
            },
            "error_y": {
             "color": "#2a3f5f"
            },
            "marker": {
             "line": {
              "color": "#E5ECF6",
              "width": 0.5
             },
             "pattern": {
              "fillmode": "overlay",
              "size": 10,
              "solidity": 0.2
             }
            },
            "type": "bar"
           }
          ],
          "barpolar": [
           {
            "marker": {
             "line": {
              "color": "#E5ECF6",
              "width": 0.5
             },
             "pattern": {
              "fillmode": "overlay",
              "size": 10,
              "solidity": 0.2
             }
            },
            "type": "barpolar"
           }
          ],
          "carpet": [
           {
            "aaxis": {
             "endlinecolor": "#2a3f5f",
             "gridcolor": "white",
             "linecolor": "white",
             "minorgridcolor": "white",
             "startlinecolor": "#2a3f5f"
            },
            "baxis": {
             "endlinecolor": "#2a3f5f",
             "gridcolor": "white",
             "linecolor": "white",
             "minorgridcolor": "white",
             "startlinecolor": "#2a3f5f"
            },
            "type": "carpet"
           }
          ],
          "choropleth": [
           {
            "colorbar": {
             "outlinewidth": 0,
             "ticks": ""
            },
            "type": "choropleth"
           }
          ],
          "contour": [
           {
            "colorbar": {
             "outlinewidth": 0,
             "ticks": ""
            },
            "colorscale": [
             [
              0,
              "#0d0887"
             ],
             [
              0.1111111111111111,
              "#46039f"
             ],
             [
              0.2222222222222222,
              "#7201a8"
             ],
             [
              0.3333333333333333,
              "#9c179e"
             ],
             [
              0.4444444444444444,
              "#bd3786"
             ],
             [
              0.5555555555555556,
              "#d8576b"
             ],
             [
              0.6666666666666666,
              "#ed7953"
             ],
             [
              0.7777777777777778,
              "#fb9f3a"
             ],
             [
              0.8888888888888888,
              "#fdca26"
             ],
             [
              1,
              "#f0f921"
             ]
            ],
            "type": "contour"
           }
          ],
          "contourcarpet": [
           {
            "colorbar": {
             "outlinewidth": 0,
             "ticks": ""
            },
            "type": "contourcarpet"
           }
          ],
          "heatmap": [
           {
            "colorbar": {
             "outlinewidth": 0,
             "ticks": ""
            },
            "colorscale": [
             [
              0,
              "#0d0887"
             ],
             [
              0.1111111111111111,
              "#46039f"
             ],
             [
              0.2222222222222222,
              "#7201a8"
             ],
             [
              0.3333333333333333,
              "#9c179e"
             ],
             [
              0.4444444444444444,
              "#bd3786"
             ],
             [
              0.5555555555555556,
              "#d8576b"
             ],
             [
              0.6666666666666666,
              "#ed7953"
             ],
             [
              0.7777777777777778,
              "#fb9f3a"
             ],
             [
              0.8888888888888888,
              "#fdca26"
             ],
             [
              1,
              "#f0f921"
             ]
            ],
            "type": "heatmap"
           }
          ],
          "heatmapgl": [
           {
            "colorbar": {
             "outlinewidth": 0,
             "ticks": ""
            },
            "colorscale": [
             [
              0,
              "#0d0887"
             ],
             [
              0.1111111111111111,
              "#46039f"
             ],
             [
              0.2222222222222222,
              "#7201a8"
             ],
             [
              0.3333333333333333,
              "#9c179e"
             ],
             [
              0.4444444444444444,
              "#bd3786"
             ],
             [
              0.5555555555555556,
              "#d8576b"
             ],
             [
              0.6666666666666666,
              "#ed7953"
             ],
             [
              0.7777777777777778,
              "#fb9f3a"
             ],
             [
              0.8888888888888888,
              "#fdca26"
             ],
             [
              1,
              "#f0f921"
             ]
            ],
            "type": "heatmapgl"
           }
          ],
          "histogram": [
           {
            "marker": {
             "pattern": {
              "fillmode": "overlay",
              "size": 10,
              "solidity": 0.2
             }
            },
            "type": "histogram"
           }
          ],
          "histogram2d": [
           {
            "colorbar": {
             "outlinewidth": 0,
             "ticks": ""
            },
            "colorscale": [
             [
              0,
              "#0d0887"
             ],
             [
              0.1111111111111111,
              "#46039f"
             ],
             [
              0.2222222222222222,
              "#7201a8"
             ],
             [
              0.3333333333333333,
              "#9c179e"
             ],
             [
              0.4444444444444444,
              "#bd3786"
             ],
             [
              0.5555555555555556,
              "#d8576b"
             ],
             [
              0.6666666666666666,
              "#ed7953"
             ],
             [
              0.7777777777777778,
              "#fb9f3a"
             ],
             [
              0.8888888888888888,
              "#fdca26"
             ],
             [
              1,
              "#f0f921"
             ]
            ],
            "type": "histogram2d"
           }
          ],
          "histogram2dcontour": [
           {
            "colorbar": {
             "outlinewidth": 0,
             "ticks": ""
            },
            "colorscale": [
             [
              0,
              "#0d0887"
             ],
             [
              0.1111111111111111,
              "#46039f"
             ],
             [
              0.2222222222222222,
              "#7201a8"
             ],
             [
              0.3333333333333333,
              "#9c179e"
             ],
             [
              0.4444444444444444,
              "#bd3786"
             ],
             [
              0.5555555555555556,
              "#d8576b"
             ],
             [
              0.6666666666666666,
              "#ed7953"
             ],
             [
              0.7777777777777778,
              "#fb9f3a"
             ],
             [
              0.8888888888888888,
              "#fdca26"
             ],
             [
              1,
              "#f0f921"
             ]
            ],
            "type": "histogram2dcontour"
           }
          ],
          "mesh3d": [
           {
            "colorbar": {
             "outlinewidth": 0,
             "ticks": ""
            },
            "type": "mesh3d"
           }
          ],
          "parcoords": [
           {
            "line": {
             "colorbar": {
              "outlinewidth": 0,
              "ticks": ""
             }
            },
            "type": "parcoords"
           }
          ],
          "pie": [
           {
            "automargin": true,
            "type": "pie"
           }
          ],
          "scatter": [
           {
            "fillpattern": {
             "fillmode": "overlay",
             "size": 10,
             "solidity": 0.2
            },
            "type": "scatter"
           }
          ],
          "scatter3d": [
           {
            "line": {
             "colorbar": {
              "outlinewidth": 0,
              "ticks": ""
             }
            },
            "marker": {
             "colorbar": {
              "outlinewidth": 0,
              "ticks": ""
             }
            },
            "type": "scatter3d"
           }
          ],
          "scattercarpet": [
           {
            "marker": {
             "colorbar": {
              "outlinewidth": 0,
              "ticks": ""
             }
            },
            "type": "scattercarpet"
           }
          ],
          "scattergeo": [
           {
            "marker": {
             "colorbar": {
              "outlinewidth": 0,
              "ticks": ""
             }
            },
            "type": "scattergeo"
           }
          ],
          "scattergl": [
           {
            "marker": {
             "colorbar": {
              "outlinewidth": 0,
              "ticks": ""
             }
            },
            "type": "scattergl"
           }
          ],
          "scattermapbox": [
           {
            "marker": {
             "colorbar": {
              "outlinewidth": 0,
              "ticks": ""
             }
            },
            "type": "scattermapbox"
           }
          ],
          "scatterpolar": [
           {
            "marker": {
             "colorbar": {
              "outlinewidth": 0,
              "ticks": ""
             }
            },
            "type": "scatterpolar"
           }
          ],
          "scatterpolargl": [
           {
            "marker": {
             "colorbar": {
              "outlinewidth": 0,
              "ticks": ""
             }
            },
            "type": "scatterpolargl"
           }
          ],
          "scatterternary": [
           {
            "marker": {
             "colorbar": {
              "outlinewidth": 0,
              "ticks": ""
             }
            },
            "type": "scatterternary"
           }
          ],
          "surface": [
           {
            "colorbar": {
             "outlinewidth": 0,
             "ticks": ""
            },
            "colorscale": [
             [
              0,
              "#0d0887"
             ],
             [
              0.1111111111111111,
              "#46039f"
             ],
             [
              0.2222222222222222,
              "#7201a8"
             ],
             [
              0.3333333333333333,
              "#9c179e"
             ],
             [
              0.4444444444444444,
              "#bd3786"
             ],
             [
              0.5555555555555556,
              "#d8576b"
             ],
             [
              0.6666666666666666,
              "#ed7953"
             ],
             [
              0.7777777777777778,
              "#fb9f3a"
             ],
             [
              0.8888888888888888,
              "#fdca26"
             ],
             [
              1,
              "#f0f921"
             ]
            ],
            "type": "surface"
           }
          ],
          "table": [
           {
            "cells": {
             "fill": {
              "color": "#EBF0F8"
             },
             "line": {
              "color": "white"
             }
            },
            "header": {
             "fill": {
              "color": "#C8D4E3"
             },
             "line": {
              "color": "white"
             }
            },
            "type": "table"
           }
          ]
         },
         "layout": {
          "annotationdefaults": {
           "arrowcolor": "#2a3f5f",
           "arrowhead": 0,
           "arrowwidth": 1
          },
          "autotypenumbers": "strict",
          "coloraxis": {
           "colorbar": {
            "outlinewidth": 0,
            "ticks": ""
           }
          },
          "colorscale": {
           "diverging": [
            [
             0,
             "#8e0152"
            ],
            [
             0.1,
             "#c51b7d"
            ],
            [
             0.2,
             "#de77ae"
            ],
            [
             0.3,
             "#f1b6da"
            ],
            [
             0.4,
             "#fde0ef"
            ],
            [
             0.5,
             "#f7f7f7"
            ],
            [
             0.6,
             "#e6f5d0"
            ],
            [
             0.7,
             "#b8e186"
            ],
            [
             0.8,
             "#7fbc41"
            ],
            [
             0.9,
             "#4d9221"
            ],
            [
             1,
             "#276419"
            ]
           ],
           "sequential": [
            [
             0,
             "#0d0887"
            ],
            [
             0.1111111111111111,
             "#46039f"
            ],
            [
             0.2222222222222222,
             "#7201a8"
            ],
            [
             0.3333333333333333,
             "#9c179e"
            ],
            [
             0.4444444444444444,
             "#bd3786"
            ],
            [
             0.5555555555555556,
             "#d8576b"
            ],
            [
             0.6666666666666666,
             "#ed7953"
            ],
            [
             0.7777777777777778,
             "#fb9f3a"
            ],
            [
             0.8888888888888888,
             "#fdca26"
            ],
            [
             1,
             "#f0f921"
            ]
           ],
           "sequentialminus": [
            [
             0,
             "#0d0887"
            ],
            [
             0.1111111111111111,
             "#46039f"
            ],
            [
             0.2222222222222222,
             "#7201a8"
            ],
            [
             0.3333333333333333,
             "#9c179e"
            ],
            [
             0.4444444444444444,
             "#bd3786"
            ],
            [
             0.5555555555555556,
             "#d8576b"
            ],
            [
             0.6666666666666666,
             "#ed7953"
            ],
            [
             0.7777777777777778,
             "#fb9f3a"
            ],
            [
             0.8888888888888888,
             "#fdca26"
            ],
            [
             1,
             "#f0f921"
            ]
           ]
          },
          "colorway": [
           "#636efa",
           "#EF553B",
           "#00cc96",
           "#ab63fa",
           "#FFA15A",
           "#19d3f3",
           "#FF6692",
           "#B6E880",
           "#FF97FF",
           "#FECB52"
          ],
          "font": {
           "color": "#2a3f5f"
          },
          "geo": {
           "bgcolor": "white",
           "lakecolor": "white",
           "landcolor": "#E5ECF6",
           "showlakes": true,
           "showland": true,
           "subunitcolor": "white"
          },
          "hoverlabel": {
           "align": "left"
          },
          "hovermode": "closest",
          "mapbox": {
           "style": "light"
          },
          "paper_bgcolor": "white",
          "plot_bgcolor": "#E5ECF6",
          "polar": {
           "angularaxis": {
            "gridcolor": "white",
            "linecolor": "white",
            "ticks": ""
           },
           "bgcolor": "#E5ECF6",
           "radialaxis": {
            "gridcolor": "white",
            "linecolor": "white",
            "ticks": ""
           }
          },
          "scene": {
           "xaxis": {
            "backgroundcolor": "#E5ECF6",
            "gridcolor": "white",
            "gridwidth": 2,
            "linecolor": "white",
            "showbackground": true,
            "ticks": "",
            "zerolinecolor": "white"
           },
           "yaxis": {
            "backgroundcolor": "#E5ECF6",
            "gridcolor": "white",
            "gridwidth": 2,
            "linecolor": "white",
            "showbackground": true,
            "ticks": "",
            "zerolinecolor": "white"
           },
           "zaxis": {
            "backgroundcolor": "#E5ECF6",
            "gridcolor": "white",
            "gridwidth": 2,
            "linecolor": "white",
            "showbackground": true,
            "ticks": "",
            "zerolinecolor": "white"
           }
          },
          "shapedefaults": {
           "line": {
            "color": "#2a3f5f"
           }
          },
          "ternary": {
           "aaxis": {
            "gridcolor": "white",
            "linecolor": "white",
            "ticks": ""
           },
           "baxis": {
            "gridcolor": "white",
            "linecolor": "white",
            "ticks": ""
           },
           "bgcolor": "#E5ECF6",
           "caxis": {
            "gridcolor": "white",
            "linecolor": "white",
            "ticks": ""
           }
          },
          "title": {
           "x": 0.05
          },
          "xaxis": {
           "automargin": true,
           "gridcolor": "white",
           "linecolor": "white",
           "ticks": "",
           "title": {
            "standoff": 15
           },
           "zerolinecolor": "white",
           "zerolinewidth": 2
          },
          "yaxis": {
           "automargin": true,
           "gridcolor": "white",
           "linecolor": "white",
           "ticks": "",
           "title": {
            "standoff": 15
           },
           "zerolinecolor": "white",
           "zerolinewidth": 2
          }
         }
        },
        "title": {
         "text": "Outliers who where be add"
        },
        "xaxis": {
         "anchor": "y",
         "domain": [
          0,
          1
         ],
         "title": {
          "text": "x1"
         }
        },
        "yaxis": {
         "anchor": "x",
         "domain": [
          0,
          1
         ],
         "title": {
          "text": "x2"
         }
        }
       }
      }
     },
     "metadata": {},
     "output_type": "display_data"
    }
   ],
   "source": [
    "px.scatter(pd.DataFrame(dict(x1=outliers_points[:,0], x2=outliers_points[:,1], classe=classe_outliers)),\n",
    "           x='x1',\n",
    "           y='x2',\n",
    "           color='classe',\n",
    "           title = 'Outliers who where be add')"
   ]
  },
  {
   "cell_type": "code",
   "execution_count": 189,
   "metadata": {},
   "outputs": [],
   "source": [
    "X_outliers = np.hstack((np.ones((outliers_points.shape[0],1)),outliers_points))\n",
    "t_outliers = 2-classe_outliers"
   ]
  },
  {
   "cell_type": "code",
   "execution_count": 190,
   "metadata": {},
   "outputs": [
    {
     "ename": "LinAlgError",
     "evalue": "Singular matrix",
     "output_type": "error",
     "traceback": [
      "\u001b[1;31m---------------------------------------------------------------------------\u001b[0m",
      "\u001b[1;31mLinAlgError\u001b[0m                               Traceback (most recent call last)",
      "\u001b[1;32mc:\\Users\\geyma\\OneDrive\\Documents\\GitHub\\g3_decision\\TP3_Gey_Jean\\TP3_logistic_regression.ipynb Cellule 26\u001b[0m in \u001b[0;36m<cell line: 1>\u001b[1;34m()\u001b[0m\n\u001b[1;32m----> <a href='vscode-notebook-cell:/c%3A/Users/geyma/OneDrive/Documents/GitHub/g3_decision/TP3_Gey_Jean/TP3_logistic_regression.ipynb#Y156sZmlsZQ%3D%3D?line=0'>1</a>\u001b[0m w_outliers, Niter_outliers \u001b[39m=\u001b[39m regression_logistique(np\u001b[39m.\u001b[39;49mconcatenate((X, X_outliers)), np\u001b[39m.\u001b[39;49mconcatenate((t, t_outliers)))\n",
      "\u001b[1;32mc:\\Users\\geyma\\OneDrive\\Documents\\GitHub\\g3_decision\\TP3_Gey_Jean\\TP3_logistic_regression.ipynb Cellule 26\u001b[0m in \u001b[0;36mregression_logistique\u001b[1;34m(X, t, Nitermax, eps_conv)\u001b[0m\n\u001b[0;32m     <a href='vscode-notebook-cell:/c%3A/Users/geyma/OneDrive/Documents/GitHub/g3_decision/TP3_Gey_Jean/TP3_logistic_regression.ipynb#Y156sZmlsZQ%3D%3D?line=34'>35</a>\u001b[0m     R \u001b[39m=\u001b[39m np\u001b[39m.\u001b[39mdiag(y\u001b[39m*\u001b[39m(\u001b[39m1\u001b[39m\u001b[39m-\u001b[39my))  \n\u001b[0;32m     <a href='vscode-notebook-cell:/c%3A/Users/geyma/OneDrive/Documents/GitHub/g3_decision/TP3_Gey_Jean/TP3_logistic_regression.ipynb#Y156sZmlsZQ%3D%3D?line=35'>36</a>\u001b[0m     w_old \u001b[39m=\u001b[39m w \n\u001b[1;32m---> <a href='vscode-notebook-cell:/c%3A/Users/geyma/OneDrive/Documents/GitHub/g3_decision/TP3_Gey_Jean/TP3_logistic_regression.ipynb#Y156sZmlsZQ%3D%3D?line=36'>37</a>\u001b[0m     z \u001b[39m=\u001b[39m X\u001b[39m.\u001b[39mdot(w_old)\u001b[39m-\u001b[39mla\u001b[39m.\u001b[39;49minv(R)\u001b[39m.\u001b[39mdot(y\u001b[39m-\u001b[39mt) \n\u001b[0;32m     <a href='vscode-notebook-cell:/c%3A/Users/geyma/OneDrive/Documents/GitHub/g3_decision/TP3_Gey_Jean/TP3_logistic_regression.ipynb#Y156sZmlsZQ%3D%3D?line=37'>38</a>\u001b[0m     w \u001b[39m=\u001b[39m la\u001b[39m.\u001b[39minv(X\u001b[39m.\u001b[39mT\u001b[39m.\u001b[39mdot(R)\u001b[39m.\u001b[39mdot(X))\u001b[39m.\u001b[39mdot(X\u001b[39m.\u001b[39mT)\u001b[39m.\u001b[39mdot(R)\u001b[39m.\u001b[39mdot(z)\n\u001b[0;32m     <a href='vscode-notebook-cell:/c%3A/Users/geyma/OneDrive/Documents/GitHub/g3_decision/TP3_Gey_Jean/TP3_logistic_regression.ipynb#Y156sZmlsZQ%3D%3D?line=39'>40</a>\u001b[0m \u001b[39mreturn\u001b[39;00m w, Niter\n",
      "File \u001b[1;32m<__array_function__ internals>:180\u001b[0m, in \u001b[0;36minv\u001b[1;34m(*args, **kwargs)\u001b[0m\n",
      "File \u001b[1;32mc:\\Users\\geyma\\AppData\\Local\\Programs\\Python\\Python310\\lib\\site-packages\\numpy\\linalg\\linalg.py:545\u001b[0m, in \u001b[0;36minv\u001b[1;34m(a)\u001b[0m\n\u001b[0;32m    543\u001b[0m signature \u001b[39m=\u001b[39m \u001b[39m'\u001b[39m\u001b[39mD->D\u001b[39m\u001b[39m'\u001b[39m \u001b[39mif\u001b[39;00m isComplexType(t) \u001b[39melse\u001b[39;00m \u001b[39m'\u001b[39m\u001b[39md->d\u001b[39m\u001b[39m'\u001b[39m\n\u001b[0;32m    544\u001b[0m extobj \u001b[39m=\u001b[39m get_linalg_error_extobj(_raise_linalgerror_singular)\n\u001b[1;32m--> 545\u001b[0m ainv \u001b[39m=\u001b[39m _umath_linalg\u001b[39m.\u001b[39;49minv(a, signature\u001b[39m=\u001b[39;49msignature, extobj\u001b[39m=\u001b[39;49mextobj)\n\u001b[0;32m    546\u001b[0m \u001b[39mreturn\u001b[39;00m wrap(ainv\u001b[39m.\u001b[39mastype(result_t, copy\u001b[39m=\u001b[39m\u001b[39mFalse\u001b[39;00m))\n",
      "File \u001b[1;32mc:\\Users\\geyma\\AppData\\Local\\Programs\\Python\\Python310\\lib\\site-packages\\numpy\\linalg\\linalg.py:88\u001b[0m, in \u001b[0;36m_raise_linalgerror_singular\u001b[1;34m(err, flag)\u001b[0m\n\u001b[0;32m     87\u001b[0m \u001b[39mdef\u001b[39;00m \u001b[39m_raise_linalgerror_singular\u001b[39m(err, flag):\n\u001b[1;32m---> 88\u001b[0m     \u001b[39mraise\u001b[39;00m LinAlgError(\u001b[39m\"\u001b[39m\u001b[39mSingular matrix\u001b[39m\u001b[39m\"\u001b[39m)\n",
      "\u001b[1;31mLinAlgError\u001b[0m: Singular matrix"
     ]
    }
   ],
   "source": [
    "w_outliers, Niter_outliers = regression_logistique(np.concatenate((X, X_outliers)), np.concatenate((t, t_outliers)))"
   ]
  },
  {
   "cell_type": "code",
   "execution_count": null,
   "metadata": {},
   "outputs": [],
   "source": [
    "t_train_outliers_pred = predictions(np.concatenate((X, X_outliers)) @ w_outliers)"
   ]
  },
  {
   "cell_type": "code",
   "execution_count": null,
   "metadata": {},
   "outputs": [],
   "source": [
    "x2_outliers = (-w_outliers[0]-w_outliers[1]*x1)/w_outliers[2]"
   ]
  },
  {
   "cell_type": "code",
   "execution_count": null,
   "metadata": {},
   "outputs": [],
   "source": [
    "fig1_outliers = px.line(pd.DataFrame(dict(x1=x1, x2=x2)), x='x1', y='x2')\n",
    "fig2_outliers = px.scatter(pd.DataFrame(dict(prediction=2-t_train_outliers_pred, x1 = np.concatenate((X, X_outliers))[:,1], x2 = np.concatenate((X, X_outliers))[:,2])),x='x1', y='x2', color='prediction')\n",
    "fig_boundary_outliers = go.Figure(data = fig1_outliers.data + fig2_outliers.data)\n",
    "fig_boundary_outliers.update_layout(dict(title='Decision Boundary with predictions of training dataset'))\n",
    "fig_boundary_outliers.show()"
   ]
  },
  {
   "cell_type": "markdown",
   "metadata": {},
   "source": [
    "## 2. Application: handwritten digits recognition 5 & 6\n",
    "We load 2 matrices which contain each a sequence of examples of 16x16 images \n",
    "of handwritten digits which are 5 and 6 here. Each line of the matrix\n",
    "contains 256 pixel values coding for the gray level of a 16x16 image."
   ]
  },
  {
   "cell_type": "code",
   "execution_count": null,
   "metadata": {
    "collapsed": true
   },
   "outputs": [],
   "source": [
    "train_5 = np.loadtxt('train_5.txt',delimiter=',')   # 556 samples\n",
    "train_6 = np.loadtxt('train_6.txt',delimiter=',')   # 664 samples"
   ]
  },
  {
   "cell_type": "markdown",
   "metadata": {},
   "source": [
    "### Examples of images\n"
   ]
  },
  {
   "cell_type": "code",
   "execution_count": null,
   "metadata": {},
   "outputs": [],
   "source": [
    "# Digit 5\n",
    "n=9\n",
    "I = np.reshape(train_5[n,:],(16,16))\n",
    "\n",
    "plt.imshow(I,cmap='gray')\n",
    "plt.show()"
   ]
  },
  {
   "cell_type": "code",
   "execution_count": null,
   "metadata": {},
   "outputs": [],
   "source": [
    "# Digit 6\n",
    "n=5\n",
    "I = reshape(train_6[n,:],(16,16))\n",
    "\n",
    "plt.imshow(I,cmap='gray')\n",
    "plt.show()"
   ]
  },
  {
   "cell_type": "markdown",
   "metadata": {},
   "source": [
    "### Separating the training and test sets\n",
    "\n",
    "We keep in the training set the 145 first images of 5s and the 200 first\n",
    "images of 6s:\n"
   ]
  },
  {
   "cell_type": "code",
   "execution_count": null,
   "metadata": {
    "collapsed": true
   },
   "outputs": [],
   "source": [
    "x_train_brut = np.vstack((train_5[:145,:], train_6[:200,:]))\n",
    "N_train = np.size(x_train_brut,axis=0)\n",
    "class_train = np.ones((345,1))   # label 1 for digit 6\n",
    "class_train[:145] = 0       # label 0 for digit 5\n",
    "\n",
    "x_test_brut = np.vstack((train_5[145:,:], train_6[200:,:]))\n",
    "N_test = np.size(train_5,axis=0)+np.size(train_6,axis=0)-N_train"
   ]
  },
  {
   "cell_type": "markdown",
   "metadata": {},
   "source": [
    "## Exercise 2: logistic regression to classify 5 & 6\n",
    "\n",
    "1. Note that pixel values are between -1 and 1 by using the functions\n",
    " `min(I(:))` and `max(I(:))`.\n",
    "2. Identify the indices of the most significant pixels, which are defined \n",
    "as having a standard deviation greater than 0.5 here. We denote by `lis_sig`\n",
    "the list of positions of these significant pixels in the image vector.\n",
    "_Indication : the function `std` gives the standard deviation (columnwise\n",
    "in matrices) and you should find 173 pixel positions.\n",
    "3. Show a binary image to locate these pixels.\n",
    "_Indication : `Isig = zeros(16); Isig(list_sig)=1; Isig=Isig';`._\n",
    "4. Define the training set `x_train` from `x_train_brut` from the significant pixels only.\n",
    "5. Do the same with `x_test_brut` to extract `x_test`.\n",
    "6. Use `regression_logistique.m` to estimate the logistic regression vector\n",
    "`w` from the training set `x_train`. \n",
    "Choose `Nitermax = 13; eps_conv = 1e-3;`\n",
    "7. Compute the decision function and the labels of the test set `x_test`. \n",
    "_Indication : do not forget the column of ones !_\n",
    "8. Estimate the classification error rate by using :\n",
    "`erreur = sum(abs(class-class_test))/N_test;`.\n",
    "9. Locate some misclassified examples and visualize the corresponding image.\n",
    "Comment on your results and observations.\n"
   ]
  },
  {
   "cell_type": "code",
   "execution_count": null,
   "metadata": {
    "collapsed": true
   },
   "outputs": [],
   "source": [
    "list_sig = np.where(np.std(x_train_brut, axis=0) > 0.5)[0].tolist()\n",
    "\n",
    "Isig = np.zeros(256)\n",
    "Isig[list_sig]=1\n",
    "Isig = np.reshape(np.array(Isig), (16,16))\n",
    "plt.imshow(Isig, cmap=\"gray\")\n",
    "\n",
    "x_train = x_train_brut[:, list_sig]\n",
    "x_test = x_test_brut[:, list_sig]\n",
    "\n",
    "w, Niter = regression_logistique(x_train, np.squeeze(class_train), Nitermax=13, eps_conv=1e-3)"
   ]
  },
  {
   "cell_type": "markdown",
   "metadata": {
    "collapsed": true
   },
   "source": [
    "## 3. Logistic regression using `scikit-learn`"
   ]
  },
  {
   "cell_type": "markdown",
   "metadata": {
    "collapsed": true
   },
   "source": [
    "1. **Go to** http://scikit-learn.org/stable/modules/generated/sklearn.linear_model.LogisticRegression.html for a presentation of the logistic regression model in `scikit-learn`.\n",
    "\n",
    "2. **Apply** it to the present data set.\n",
    "\n",
    "3. **Comment** on the use of logistic regression.\n",
    "\n",
    "*Indication : you may have a look at* \n",
    "\n",
    "a) Theory : http://openclassroom.stanford.edu/MainFolder/DocumentPage.php?course=MachineLearning&doc=exercises/ex5/ex5.html\n",
    "\n",
    "b) Video :  https://www.coursera.org/learn/machine-learning/lecture/4BHEy/regularized-logistic-regression \n",
    "\n",
    "c) Example : http://scikit-learn.org/stable/auto_examples/exercises/plot_digits_classification_exercise.html#sphx-glr-auto-examples-exercises-plot-digits-classification-exercise-py\n",
    "\n",
    "*for a short presentation of regularized logistic regression.*"
   ]
  },
  {
   "cell_type": "code",
   "execution_count": null,
   "metadata": {},
   "outputs": [],
   "source": [
    "# Include your code here\n",
    "from sklearn.linear_model import LogisticRegression\n",
    "from sklearn.metrics import accuracy_score\n",
    "\n",
    "clf = LogisticRegression(random_state=0, fit_intercept=True).fit(x_train, class_train)\n",
    "w = clf.coef_[0]\n",
    "bias = clf.intercept_[0]\n",
    "print(f\"Prédiction : {clf.predict(x_test)}\")\n",
    "print(f\"Score : {clf.score(x_test, class_test)*100}%\")\n",
    "print(f\"Coefficients de la régression : {bias, w}\")\n"
   ]
  },
  {
   "cell_type": "markdown",
   "metadata": {},
   "source": [
    "Grâce à la méthode de régression par scikit-learn, on trouve une fonction de régression de la forme :\n",
    "\n",
    "$y = 2.63*x[0] - 2.12*x[1] + 5.46$"
   ]
  }
 ],
 "metadata": {
  "kernelspec": {
   "display_name": "Python 3.9.12 ('base')",
   "language": "python",
   "name": "python3"
  },
  "language_info": {
   "codemirror_mode": {
    "name": "ipython",
    "version": 3
   },
   "file_extension": ".py",
   "mimetype": "text/x-python",
   "name": "python",
   "nbconvert_exporter": "python",
   "pygments_lexer": "ipython3",
   "version": "3.9.12"
  },
  "vscode": {
   "interpreter": {
    "hash": "f35fc4c302fa05141946eeee87a02543093a5f9fe4b255be016c8b1114de3b55"
   }
  }
 },
 "nbformat": 4,
 "nbformat_minor": 2
}

{
 "cells": [
  {
   "cell_type": "markdown",
   "metadata": {},
   "source": [
    "# TP1 : Linear regression"
   ]
  },
  {
   "cell_type": "markdown",
   "metadata": {},
   "source": [
    "The purpose of this work is to implement least square linear regression to medical data. The problem is based on an example described in the book by Hastie & Tibshirani (2009) pp. 3-4 & 49-63. Data come from a study published by Stamey et al. (1989). This study aims at the prediction of the level of prostate specific antigen, denoted by `lpsa` below, from the\n",
    "results of clinical exams. These exams are carried out before a possible\n",
    "prostatectomy.\n",
    "\n",
    "The measurements are log cancer volume `lcavol`, log prostate \n",
    "weight `lweight`, age of the patient `age`, log of benign prostatic \n",
    "hyperplasia amount `lbph`, seminal vesicle invasion `svi`, log of capsular \n",
    "penetration `lcp`, Gleason score `gleason`, and percent of Gleason scores 4 or \n",
    "5 `pgg45`. The variables `svi` and `gleason` are categorical, others are\n",
    "quantitative. There are `p=8` entries.\n",
    "The work is decomposed in the following tasks:\n",
    "\n",
    "* read and format the data : extraction of the training and test sets,\n",
    "* apply least square regression method to predict `lpsa` from the entries,\n",
    "* study the estimated error on the test set (validation),\n",
    "* identify the most significant entries by using a rejection test,\n",
    "* apply regularized least square regression method (ridge regression),\n",
    "* search for an optimal regularization parameter thanks to\n",
    "cross-validation."
   ]
  },
  {
   "cell_type": "code",
   "execution_count": 1,
   "metadata": {},
   "outputs": [],
   "source": [
    "import csv\n",
    "# import os\n",
    "from pylab import *\n",
    "import numpy as np\n",
    "from numpy import linalg\n",
    "\n",
    "import pandas as pd\n",
    "import seaborn as sns"
   ]
  },
  {
   "cell_type": "markdown",
   "metadata": {},
   "source": [
    "## Read & Normalize data\n",
    "Data are stored in ASCII format: \n",
    "\n",
    "* the first column enumerates the data from 1 à 97 (97 male subjects). \n",
    "* columns 2 to 9 contain the entries themselves. \n",
    "* column 10 contains target values. \n",
    "* column 11 contains label 1 for the training set, \n",
    "and 2 for the test set."
   ]
  },
  {
   "cell_type": "code",
   "execution_count": 2,
   "metadata": {},
   "outputs": [],
   "source": [
    "#%% To read data from spaced separated float numbers\n",
    "# x, y = np.loadtxt(c, delimiter=',', usecols=(0, 2), unpack=True)\n",
    "\n",
    "data_init = np.loadtxt('prostate_data_sansheader.txt')\n",
    "\n",
    "data = data_init[:,1:]   # we get rid of the indices (1 to 97)\n",
    "\n",
    "#%% Extraction of training/test sets\n",
    "Itrain = np.nonzero(data[:,-1]==1)\n",
    "data_train=data[Itrain]   # original data\n",
    "\n",
    "Itest = np.nonzero(data[:,-1]==0)\n",
    "data_test = data[Itest]   # original data"
   ]
  },
  {
   "cell_type": "markdown",
   "metadata": {},
   "source": [
    "**Normalization of the data** *with respect to the mean and standard deviation of the training set*."
   ]
  },
  {
   "cell_type": "code",
   "execution_count": 7,
   "metadata": {},
   "outputs": [],
   "source": [
    "# Alternative WITHOUT FOR\n",
    "normalize = lambda vec: (vec-np.mean(vec))/np.std(vec)    # inline function \n",
    "M_train = np.array( [ normalize(vec) for vec in data_train[:,0:8].T ] ).T  # iterate on vec direct / ARRAY not LIST\n",
    "moy = np.array( [ np.mean(vec) for vec in data_train[:,0:8].T ] )\n",
    "sigma = np.array( [ np.std(vec, ddof=0) for vec in data_train[:,0:8].T ] )\n",
    "\n",
    "M_test = np.array([ (data_test[:,k]-moy[k])/sigma[k] for k in range(M_train.shape[1]) ] ).T"
   ]
  },
  {
   "cell_type": "markdown",
   "metadata": {},
   "source": [
    "# Part 1 : simple least square regression"
   ]
  },
  {
   "cell_type": "markdown",
   "metadata": {},
   "source": [
    "## Preliminary questions\n",
    " \n",
    " * Compute the autocovariance matrix from the training set.\n",
    " * Observe carefully & Comment. What kind of information can you get ? "
   ]
  },
  {
   "cell_type": "code",
   "execution_count": 9,
   "metadata": {},
   "outputs": [
    {
     "data": {
      "image/png": "[encoded data removed]",
      "text/plain": [
       "<Figure size 640x480 with 2 Axes>"
      ]
     },
     "metadata": {},
     "output_type": "display_data"
    }
   ],
   "source": [
    "# Preliminary questions\n",
    "%matplotlib inline\n",
    "autocov = np.cov(M_train[:,0:8].T)\n",
    "sns.heatmap(autocov, cmap='hot')\n",
    "plt.show()"
   ]
  },
  {
   "cell_type": "markdown",
   "metadata": {},
   "source": [
    "D'après la matrice d'autocovariance, nous pouvons remarquer que la majorité des attributs sont peu corrélés entre eux. Nous pouvons induire que l'augmenté (X_tilde qui sera en réalité appelé X_train) sera de rang plein et donc qu'une regression linéaire sera possible."
   ]
  },
  {
   "cell_type": "markdown",
   "metadata": {},
   "source": [
    "Nous pouvons de plus calculer la matrice de covariance entre les attributs et la cible."
   ]
  },
  {
   "cell_type": "code",
   "execution_count": 10,
   "metadata": {},
   "outputs": [
    {
     "data": {
      "image/png": "[encoded data removed]",
      "text/plain": [
       "<Figure size 640x480 with 2 Axes>"
      ]
     },
     "metadata": {},
     "output_type": "display_data"
    }
   ],
   "source": [
    "%matplotlib inline\n",
    "autocov_cible = np.cov(np.concatenate([M_train[:,0:8], np.array([data_train[:,8]]).T], axis=1).T)\n",
    "sns.heatmap(autocov_cible, cmap='hot')\n",
    "plt.show()"
   ]
  },
  {
   "cell_type": "markdown",
   "metadata": {},
   "source": [
    "Quelques rappels à propos de la notion de covariance : https://fr.wikipedia.org/wiki/Covariance"
   ]
  },
  {
   "cell_type": "markdown",
   "metadata": {},
   "source": [
    "## Exercise 1 : least square regression \n",
    " * Build the matrix of features `X_train` for the training set, the first column is made of ones.\n",
    " * Estimate the regression vector `beta_hat` (estimates= `X*beta_hat`)\n",
    " _Indication: you may either use the function `inv` or another more efficient way to compute $A^{-1}B$ (think of `A\\B`)._ \n",
    " * What is the value of the first coefficient `beta_hat[0]` ? What does it correspond to ?\n",
    " * Estimate the prediction error (quadratic error) from the test set.\n",
    "\n",
    "\n",
    "*Indication: be careful of using `X_test` defined above, normalized w.r.t. the training data set. You can estimate this error by using:*"
   ]
  },
  {
   "cell_type": "markdown",
   "metadata": {},
   "source": [
    "### Construction de X_train"
   ]
  },
  {
   "cell_type": "code",
   "execution_count": 11,
   "metadata": {},
   "outputs": [],
   "source": [
    "t_test = data_test[:,8]   # target column\n",
    "N_test = data_test.shape[0]\n",
    "X_test = np.concatenate((np.ones((N_test,1)), M_test), axis=1) \n",
    "# don't forget the 1st column of ones and normalization !"
   ]
  },
  {
   "cell_type": "code",
   "execution_count": 12,
   "metadata": {},
   "outputs": [],
   "source": [
    "X_train = np.concatenate((np.ones((M_train.shape[0],1)), M_train), axis=1) \n",
    "t_train = data_train[:,8]"
   ]
  },
  {
   "cell_type": "code",
   "execution_count": 13,
   "metadata": {},
   "outputs": [
    {
     "name": "stdout",
     "output_type": "stream",
     "text": [
      "La matrice X_train est de rang 9\n"
     ]
    }
   ],
   "source": [
    "print(f\"La matrice X_train est de rang {np.linalg.matrix_rank(X_train)}\")"
   ]
  },
  {
   "cell_type": "markdown",
   "metadata": {},
   "source": [
    "On remarque de plus que, comme prévu,  X_train est de rang plein, donc §X_train^T X_train§ définie positive, donc inversible : La regression linéaire est bien possible."
   ]
  },
  {
   "cell_type": "markdown",
   "metadata": {},
   "source": [
    "### Calcul du vecteur de regression"
   ]
  },
  {
   "cell_type": "code",
   "execution_count": 14,
   "metadata": {},
   "outputs": [],
   "source": [
    "beta_hat = np.dot(np.dot(linalg.inv(np.dot(X_train.T,X_train)), X_train.T),t_train)"
   ]
  },
  {
   "cell_type": "code",
   "execution_count": 15,
   "metadata": {},
   "outputs": [
    {
     "name": "stdout",
     "output_type": "stream",
     "text": [
      "Le coefficient beta_hat[0] vaut 2.452, qui correspond au biais du modèle de regression linéaire. Les variations de la prédiction vont se faire autour de cette valeur.\n"
     ]
    }
   ],
   "source": [
    "print(f\"Le coefficient beta_hat[0] vaut {np.round(beta_hat[0],3)}, qui correspond au biais du modèle de regression linéaire. Les variations de la prédiction vont se faire autour de cette valeur.\")"
   ]
  },
  {
   "cell_type": "markdown",
   "metadata": {},
   "source": [
    "### Estimation de l'erreur"
   ]
  },
  {
   "cell_type": "code",
   "execution_count": 16,
   "metadata": {},
   "outputs": [
    {
     "name": "stdout",
     "output_type": "stream",
     "text": [
      "On estime l'erreur quadratique E_LS pour les données de test à 15.638.\n"
     ]
    }
   ],
   "source": [
    "pred_error = np.dot((t_test - np.dot(X_test, beta_hat)).T,(t_test - np.dot(X_test, beta_hat)))\n",
    "print(f\"On estime l'erreur quadratique E_LS pour les données de test à {np.round(pred_error,3)}.\")"
   ]
  },
  {
   "cell_type": "markdown",
   "metadata": {},
   "source": [
    "## Rejection test, computation of Z-scores\n",
    "Now we turn to the selection of the most significant entries so that our predictor be more robust. The essential idea is that our estimates will be more robust if only the most significant entries are taken into account. As a consequence, note that we will *reduce the dimension* of the problem from |p=8| to some smaller dimension. The present approach uses a statistical test to decide whether the regression coefficient corresponding to some entry is significantly non-zero. Then we can decide either to put non significant coefficients to zero, or to select the significant entries only and estimate the new reduced regression vector.\n",
    "\n",
    "Let's assume that target values are noisy due to some white Gaussian\n",
    "noise with variance $\\sigma^2$ (see Hastie & Tibshirani p. 47). One can show that the estimated regression vector |beta_hat| is also Gaussian with variance\n",
    "\n",
    "$$ var (\\widehat{\\beta}) = (X^TX)^{-1}\\sigma^2.$$  \n",
    "\n",
    "One can also show that the estimator of the variance (from the training set)\n",
    "\n",
    "$$\\widehat{\\sigma^2}=\\frac{1}{(N-p-1)}\\sum (t_n-\\widehat{t}_n)^2$$\n",
    "\n",
    "obeys a Chi-2 distribution. As a consequence a Chi-square statistical test can be used to determine whether some coefficient $\\beta_j$ is\n",
    "significantly non-zero. To this aim, one defines the variables $z_j$\n",
    "named Z-scores which in turn obey a Fisher law, also called\n",
    "$t$-distribution, which are often used in statistics:\n",
    "\n",
    "$$ z_j = \\frac{\\beta_j}{\\widehat{\\sigma}\\sqrt{v_j}} $$\n",
    "\n",
    "where $v_j$ is the $j$-th diagonal element of the matrix $(X^TX)^{-1}$.\n",
    "For sake of simplicity, we will consider that the null hypothesis of\n",
    "$\\beta_j$ is rejected with probability 95% if the Z-score is greater than 2."
   ]
  },
  {
   "cell_type": "markdown",
   "metadata": {},
   "source": [
    "## Exercise 2\n",
    "1. Compute the Z-scores and select the most significant entries.\n",
    "2. Estimate the prediction error over the test set if only these significant \n",
    "entries are taken into account for regression by putting other regression \n",
    "coefficients to zero.\n",
    "3. Estimate the new regression vector when only the significant features\n",
    "are taken into account.\n",
    "4. Compare to previous results (Exercise 1).\n",
    "\n",
    "*Indication 1 : to sort a vector `Z` in descending order*\n",
    "`val = np.sort(np.abs(Z))[-1:0:-1]`\n",
    "\n",
    "\n",
    "*Indication 2 :* to extract the diagonal of a matrix,\n",
    "`vXX = np.diag(inv(X.T.dot(X),k=0)`"
   ]
  },
  {
   "cell_type": "markdown",
   "metadata": {},
   "source": [
    "### Calcul des Z-scores"
   ]
  },
  {
   "cell_type": "code",
   "execution_count": 17,
   "metadata": {},
   "outputs": [
    {
     "name": "stdout",
     "output_type": "stream",
     "text": [
      "[ 5.36629046  2.75078939 -1.39590898  2.05584563  2.46925518 -1.86691264\n",
      " -0.14668121  1.73783972]\n"
     ]
    },
    {
     "data": {
      "text/plain": [
       "array([5.36629046, 2.75078939, 2.46925518, 2.05584563, 1.86691264,\n",
       "       1.73783972, 1.39590898])"
      ]
     },
     "execution_count": 17,
     "metadata": {},
     "output_type": "execute_result"
    }
   ],
   "source": [
    "# Exercise 2\n",
    "sigma = np.sqrt((1/(M_train.shape[0]-8-1)) * sum([((t_train[n]-np.dot(X_train[n],beta_hat))**2) for n in range(M_train.shape[0])]))\n",
    "\n",
    "z_scores = np.zeros(beta_hat.shape[0]-1)\n",
    "for j in range(1,beta_hat.shape[0]):\n",
    "    z_scores[j-1] = beta_hat[j] / (sigma*sqrt(np.diag(linalg.inv(X_train.T.dot(X_train)), k=0)[j]))\n",
    "\n",
    "print(z_scores)\n",
    "np.sort(np.abs(z_scores))[-1:0:-1]"
   ]
  },
  {
   "cell_type": "markdown",
   "metadata": {},
   "source": [
    "D'après les valeurs de Z-score pour les différents attributs, on remarque que seuls 4 d'entre eux permettent de vérifier la \"null-hypothesis\" de la composante de beta-hat. Les attributs correspondants sont les attributs suivants donnés par \"indice : nom\" :\n",
    "- 0 : lcalvol\n",
    "- 1 : lweight\n",
    "- 3 : lbph\n",
    "- 4 : svi\n",
    "\n",
    "On estime par la suite le nouveau vecteur de régression en tenant compte simplement des attributs gardés, c'est à dire en mettant artificiellement à zéros les coefficients dont le Z-score n'était pas supérieur à 2."
   ]
  },
  {
   "cell_type": "code",
   "execution_count": 18,
   "metadata": {},
   "outputs": [
    {
     "name": "stdout",
     "output_type": "stream",
     "text": [
      "Le nouveau vecteur de régression vaut maintenant [2.45234509 0.62345    0.25488273 0.         0.20339287 0.2800554\n",
      " 0.         0.         0.        ]\n",
      "Le coefficient beta_hat[0] vaut toujours 2.452.\n",
      "On estime la nouvelle erreur quadratique E_LS pour les données de test à 13.69\n"
     ]
    }
   ],
   "source": [
    "new_M_train = np.concatenate((M_train[:,0:2],M_train[:,3:5]), axis=1)\n",
    "new_M_test = np.concatenate((M_test[:,0:2],M_test[:,3:5]), axis=1)\n",
    "\n",
    "new_X_train = np.concatenate((np.ones((new_M_train.shape[0],1)), new_M_train), axis=1) \n",
    "new_X_test = np.concatenate((np.ones((new_M_test.shape[0],1)), new_M_test), axis=1) \n",
    "\n",
    "beta_hat_coeffs = np.dot(np.dot(linalg.inv(np.dot(new_X_train.T,new_X_train)), new_X_train.T),t_train)\n",
    "new_beta_hat = np.zeros(X_train.shape[1])\n",
    "new_beta_hat[0] = beta_hat_coeffs[0]\n",
    "new_beta_hat[1] = beta_hat_coeffs[1]\n",
    "new_beta_hat[2] = beta_hat_coeffs[2]\n",
    "new_beta_hat[4] = beta_hat_coeffs[3]\n",
    "new_beta_hat[5] = beta_hat_coeffs[4]\n",
    "\n",
    "print(f\"Le nouveau vecteur de régression vaut maintenant {new_beta_hat}\")\n",
    "print(f\"Le coefficient beta_hat[0] vaut toujours {np.round(new_beta_hat[0],3)}.\")\n",
    "\n",
    "new_pred_error = np.dot((t_test - np.dot(X_test, new_beta_hat)).T,(t_test - np.dot(X_test, new_beta_hat)))\n",
    "print(f\"On estime la nouvelle erreur quadratique E_LS pour les données de test à {np.round(new_pred_error,3)}\")"
   ]
  },
  {
   "cell_type": "markdown",
   "metadata": {},
   "source": [
    "<u>Interprétation</u> : On constate  une erreur quadratique plus élevée sans réduction de dimension. Tout ce que l'on sait de la réduction de dimension est qu'elle réduit la variance mais augmente le biais. On sait également que l'erreur quadratique se décompose en un terme relatif aux bruits inhérent aux données, en un terme relatif au biais (au carré) et en un terme relatif à la variance. On ne pouvait pas prédire la valeur de la nouvelle erreur quadratique, tout ce que l'on peut dire est que dans cette dimension, on constate une plus faible erreur entre la prédiction et la valeur réelle. Nous pouvons dire que le modèle est plus fidèle à la réalité et plus pertinent pour faire de nouvelles prédictions que l'ancien. Il faudrait calculer un optimum global de l'erreur quadratique pour remonter à la sous-section optimale des attributs."
   ]
  },
  {
   "cell_type": "markdown",
   "metadata": {},
   "source": [
    "# Part 2: Regularized least squares\n",
    "This part deals with regularized least square regression. We denote\n",
    "by `beta_hat_reg` the resulting coefficients. This approach is an alternative to the selection based on statistical tests above. The idea is now to penalize large values of regression coefficients, *except for the bias*.\n",
    "\n",
    "We use the result:\n",
    "\n",
    "$$\\hat{\\beta} = (\\lambda I_p + X_c^T X_c)^{-1} X_c^T t_c$$\n",
    "\n",
    "where $X_c$ contains the normalized entries of the training data set with \n",
    "no column of ones (the bias should no be penalized and is processed). \n",
    "The targets `t_c` are therefore also centered, `t_c=t-mean(t)`.\n",
    " \n",
    "First, we estimate the bias $t_0$ to center the targets which yields the coefficient $\\beta_0$, that is `beta_hat_reg[0]` in Python.\n",
    "\n",
    "*Remark : the bias is estimated as the empirical average of targets.\n",
    "For tests, entries should be normalized with respect to the means and\n",
    "variances of the training data set (see exercise 3.5 p. 95 in Hastie & Tibshirani). Then work on the vector of entries with no column of ones.*"
   ]
  },
  {
   "cell_type": "markdown",
   "metadata": {},
   "source": [
    "## Exercise 3\n",
    "1. Use _ridge regression_ for penalty `lambda = 25` to estimate the regression vector. \n",
    "2. Estimate the prediction error from the test set.\n",
    "3. Compare the results (coefficients $\\beta$, error...) to previous ones.\n",
    "4. You may also compare these results to the result of best subset selection below:\n",
    "\n",
    "`beta_best = [2.477 0.74 0.316 0 0 0 0 0 0]`.\n",
    "\n",
    "*Indication : a simple way to obtain predictions for the test data set is the code below:*"
   ]
  },
  {
   "cell_type": "markdown",
   "metadata": {},
   "source": [
    "### Calcul du vecteur de régression"
   ]
  },
  {
   "cell_type": "code",
   "execution_count": 50,
   "metadata": {},
   "outputs": [],
   "source": [
    "t_train = data_train[:,8]\n",
    "t_test = data_test[:,8]\n",
    "t0 = np.mean(t_train)\n",
    "t_train_norm = t_train-t0\n",
    "t_test_norm = t_test-t0\n",
    "\n",
    "lbd = 2\n",
    "\n",
    "N_test = data_test.shape[0]\n",
    "X_test = np.concatenate((np.ones((N_test,1)), M_test[:,0:8]), axis=1) \n",
    "\n",
    "def compute_beta_hat_reg(lbd):\n",
    "    # lbd = lambda\n",
    "    beta_hat_reg_no_bias = np.dot(np.dot(linalg.inv(lbd*np.identity(M_train[:,0:8].shape[1]) + np.dot(M_train[:,0:8].T,M_train[:,0:8])), M_train[:,0:8].T),t_train_norm)\n",
    "    beta_hat_reg = np.concatenate((np.array([t0]).T, beta_hat_reg_no_bias), axis=0)\n",
    "    return beta_hat_reg\n",
    "\n",
    "beta_hat_reg_no_bias = np.dot(np.dot(linalg.inv(lbd*np.identity(M_train[:,0:8].shape[1]) + np.dot(M_train[:,0:8].T,M_train[:,0:8])), M_train[:,0:8].T),t_train_norm)\n",
    "beta_hat_reg = compute_beta_hat_reg(lbd) # contient le biais\n",
    "t_hat_reg = X_test.dot(beta_hat_reg) # prédiction"
   ]
  },
  {
   "cell_type": "code",
   "execution_count": 51,
   "metadata": {},
   "outputs": [
    {
     "data": {
      "text/plain": [
       "array([ 2.45234509, -0.11720753,  0.08983946, -0.2999865 , -0.00842061,\n",
       "        0.24485123, -0.14079899,  0.17830032, -0.05320873])"
      ]
     },
     "execution_count": 51,
     "metadata": {},
     "output_type": "execute_result"
    }
   ],
   "source": [
    "beta_hat_reg"
   ]
  },
  {
   "cell_type": "code",
   "execution_count": 52,
   "metadata": {},
   "outputs": [
    {
     "name": "stdout",
     "output_type": "stream",
     "text": [
      "Le nouveau vecteur de régression pour la \"ridge regression\" (avec lambda = 25) vaut :\n",
      "[ 2.45234509 -0.11720753  0.08983946 -0.2999865  -0.00842061  0.24485123\n",
      " -0.14079899  0.17830032 -0.05320873].\n",
      "On note que le biais vaut toujours 2.452.\n"
     ]
    }
   ],
   "source": [
    "print(f\"\"\"Le nouveau vecteur de régression pour la \"ridge regression\" (avec lambda = 25) vaut :\n",
    "{beta_hat_reg}.\n",
    "On note que le biais vaut toujours {np.round(beta_hat_reg[0],3)}.\"\"\")"
   ]
  },
  {
   "cell_type": "markdown",
   "metadata": {},
   "source": [
    "### Estimation de l'erreur prédictive"
   ]
  },
  {
   "cell_type": "code",
   "execution_count": 58,
   "metadata": {},
   "outputs": [
    {
     "name": "stdout",
     "output_type": "stream",
     "text": [
      "On estime la nouvelle erreur quadratique E_RR pour les données de test à 32.868\n",
      "On estime la nouvelle erreur quadratique E_LS pour les données de test à 32.416\n"
     ]
    }
   ],
   "source": [
    "pred_error_ls = np.dot((t_test_norm - np.dot(M_test[:,0:8], beta_hat_reg_no_bias)).T,(t_test_norm - np.dot(M_test[:,0:8], beta_hat_reg_no_bias)))\n",
    "pred_error_rr = pred_error_ls + lbd * np.dot(beta_hat_reg_no_bias.T,beta_hat_reg_no_bias)\n",
    "print(f\"On estime la nouvelle erreur quadratique E_RR pour les données de test à {np.round(pred_error_rr,3)}\")\n",
    "print(f\"On estime la nouvelle erreur quadratique E_LS pour les données de test à {np.round(pred_error_ls,3)}\")"
   ]
  },
  {
   "cell_type": "code",
   "execution_count": 23,
   "metadata": {},
   "outputs": [
    {
     "name": "stdout",
     "output_type": "stream",
     "text": [
      "On estime l'erreur quadratique E_LS théoriquement minimale pour les données de test avec la méthode de sélection des attributs à 14.811\n"
     ]
    }
   ],
   "source": [
    "beta_best = np.array([2.477, 0.74, 0.316, 0, 0, 0, 0, 0, 0])\n",
    "\n",
    "pred_error_ls = np.dot((t_test - np.dot(X_test, beta_best)).T,(t_test - np.dot(X_test, beta_best)))\n",
    "print(f\"On estime l'erreur quadratique E_LS théoriquement minimale pour les données de test avec la méthode de sélection des attributs à {np.round(pred_error_ls,3)}\")"
   ]
  },
  {
   "cell_type": "markdown",
   "metadata": {},
   "source": [
    "<u>Interprétation</u> : On constate que l'on obtient une valeur d'erreur plus élevée dans le cas des moindres carrés régularisés (avec lambda = 25) que dans le cas des moindres carrés avec sélection des attributs. Toutefois, il faut noter qu'une vraie interprétation peut être faite seulement dans le cas où l'on teste la méthode des moindres carrés régularisés pour de nombreuses valeurs différentes de lambda. Si l'on parvient à obtenir (pour une valeur l de lambda) une erreur prédictive plus faible que celle donnée par beta_best pour la méthode de sélection d'attributs, on pourra en conclure que la méthode des moindres carrés régularisés permet une meilleure prédiction avec l = lambda que la méthode de sélection des attributs. "
   ]
  },
  {
   "cell_type": "markdown",
   "metadata": {},
   "source": [
    "**IMPORTANT** : Dans la partie 2, on a calculé une erreur de 14.771 lorsqu'on ne garde que les 2 premiers attributs et de 13.69 quand on en garde 4. Or, théoriquement, le meilleur beta pour la partie 2 est beta_best donné dans la partie 3. On constate pourtant que la valeur du biais n'est pas la même que celle trouvée à chaque fois : 2.477 != 2.452. Il y a donc un problème ici, est-ce notre valeur ou celle de l'énoncé qui est fausse ? Cela se répercute juste après dans la partie 3 car avec le beta_best on calcule une erreur LS théoriquement minimale de 14.811 qui est supérieure à celles trouvées avec nos valeurs pour 2 et 4 attributs... Il semblerait qu'il faille comparer nos résultats avec les autres groupes et discuter de ce beta_best avec le prof."
   ]
  },
  {
   "cell_type": "markdown",
   "metadata": {},
   "source": []
  },
  {
   "cell_type": "markdown",
   "metadata": {},
   "source": []
  },
  {
   "cell_type": "markdown",
   "metadata": {},
   "source": []
  },
  {
   "cell_type": "markdown",
   "metadata": {},
   "source": [
    "# Part 3: Cross-Validation \n",
    "\n",
    "## How to choose lambda from the training data set only ? \n",
    "\n",
    "The idea is to decompose the training set in 2 subsets: one subset for\n",
    "linear regression (say 9/10 of the data), the other to estimate the prediction error (say 1/10 of the data).\n",
    "\n",
    "We can repeat this operation 10 times over the 10 possible couples of\n",
    "subsets to estimate the average prediction error. We will choose the\n",
    "value of `lambda` which minimizes this error. The algorithm goes as\n",
    "follows:\n",
    "\n",
    "For the 10 cross-validation cases\n",
    "    \n",
    "    Extraction of test & training subsets `testset` & `trainset`\n",
    "    \n",
    "    For lambda in 0:40\n",
    "        Estimate `beta_hat` from normalized `trainset` (mean=0, var=1)\n",
    "        Estimate the error from  `testset`\n",
    "    EndFor lambda\n",
    "\n",
    "EndFor 10 cases\n",
    "\n",
    "Compute the average error for each lambda\n",
    "\n",
    "Choose `lambda` which minimizes the error \n"
   ]
  },
  {
   "cell_type": "markdown",
   "metadata": {},
   "source": [
    "## Exercise 4\n",
    "* Use 6-fold cross-validation in the present study to optimize the choice of `lambda`. \n",
    "Try values of `lambda` ranging from 0 to 40 for instance (0:40).\n",
    "* Plot the estimated error as a function of `lambda`.\n",
    "* Propose a well chosen value of `lambda` and give the estimated corresponding\n",
    "error on the test set.\n",
    "* Comment on your results.\n",
    "\n",
    "*Indication 1 : think of shuffling the dataset first.*\n",
    "\n",
    "*Indication 2 : you can build 6 training and test subsets by using the code below*"
   ]
  },
  {
   "cell_type": "code",
   "execution_count": null,
   "metadata": {},
   "outputs": [
    {
     "ename": "",
     "evalue": "",
     "output_type": "error",
     "traceback": [
      "\u001b[1;31mÉchec du démarrage du noyau. \n",
      "\u001b[1;31mImpossible de démarrer le noyau 'base (Python 3.9.12)' en raison du délai d’expiration de la connexion. \n",
      "\u001b[1;31mPour plus d’informations, consultez Jupyter <a href='command:jupyter.viewOutput'>log</a>."
     ]
    }
   ],
   "source": [
    "from sklearn.utils import shuffle\n",
    "\n",
    "# shuffling dataset (features and targets accordingly)\n",
    "data_train = shuffle(data_train)\n",
    "\n",
    "#t_train = data_train[:,8]\n",
    "#t_test = data_test[:,8]"
   ]
  },
  {
   "cell_type": "code",
   "execution_count": null,
   "metadata": {},
   "outputs": [
    {
     "ename": "",
     "evalue": "",
     "output_type": "error",
     "traceback": [
      "\u001b[1;31mÉchec du démarrage du noyau. \n",
      "\u001b[1;31mImpossible de démarrer le noyau 'base (Python 3.9.12)' en raison du délai d’expiration de la connexion. \n",
      "\u001b[1;31mPour plus d’informations, consultez Jupyter <a href='command:jupyter.viewOutput'>log</a>."
     ]
    }
   ],
   "source": [
    "data_train"
   ]
  },
  {
   "cell_type": "code",
   "execution_count": 76,
   "metadata": {},
   "outputs": [
    {
     "name": "stdout",
     "output_type": "stream",
     "text": [
      "[15.638220165227992, 16.21206730567603, 16.732814645215488, 17.210689663635247, 17.653204217104047, 18.06601804541774, 18.453490365030323, 18.819043957447352, 19.165412398514544, 19.49481213724201, 19.809064901004778, 20.10968646213901, 20.397952129510003, 20.674945823221776, 20.94159736796058, 21.198711198403174, 21.446988714929805, 21.68704588318327, 21.91942722837302, 22.14461706652015, 22.363048596435604, 22.575111319649995, 22.78115714188756, 22.98150542627846, 23.17644720664482, 23.366248722860302, 23.55115440525542, 23.731389408332053, 23.907161773520134, 24.07866428480691, 24.24607606866209, 24.40956397993675, 24.569283807708345, 24.725381328915233, 24.877993232719316, 25.02724793458953, 25.173266295906597, 25.316162262293975, 25.456043431759554, 25.593011561991826, 25.727163024718973]\n",
      "Le lambda optimal trouvé par la cross-validation vaut 0.\n"
     ]
    }
   ],
   "source": [
    "lmax = 40\n",
    "lambda_pos = arange(0,lmax+1)\n",
    "N_test = 10\n",
    "\n",
    "results = [0 for _ in range(len(lambda_pos))]\n",
    "erreur = np.zeros((6,lmax+1))\n",
    "erreur_rel = np.zeros((6,lmax+1))\n",
    "for p in range(6):   # loop on test subsets\n",
    "    # extraction of testset\n",
    "    testset = data_train[arange(p*N_test,(p+1)*N_test),0:9]\n",
    "    # extraction of trainset\n",
    "    trainset = data_train[hstack((arange(p*N_test),arange((p+1)*N_test,data_train.shape[0]))),0:9]\n",
    "\n",
    "    # normalizing trainset and testset (mean = 0, std = 1)\n",
    "\n",
    "    normalize = lambda vec: (vec-np.mean(vec))/np.std(vec)    # inline function \n",
    "    M_train = np.array( [ normalize(vec) for vec in data_train[:,0:8].T ] ).T  # iterate on vec direct / ARRAY not LIST\n",
    "    moy = np.array( [ np.mean(vec) for vec in data_train[:,0:8].T ] )\n",
    "    sigma = np.array( [ np.std(vec, ddof=0) for vec in data_train[:,0:8].T ] )\n",
    "\n",
    "    M_test = np.array([ (data_test[:,k]-moy[k])/sigma[k] for k in range(M_train.shape[1]) ] ).T\n",
    "\n",
    "    # normalizing targets\n",
    "    t0 = np.mean(t_train)\n",
    "    t_train_norm = t_train-t0\n",
    "    t_test_norm = t_test-t0\n",
    "\n",
    "    for l in range(lambda_pos.shape[0]):\n",
    "        # estimate beta_hat\n",
    "        beta_hat_reg_no_bias = np.dot(np.dot(linalg.inv(lambda_pos[l]*np.identity(M_train.shape[1]) + np.dot(M_train.T,M_train)), M_train.T),t_train_norm)\n",
    "        pred_error_ls = np.dot((t_test_norm - np.dot(M_test[:,0:8], beta_hat_reg_no_bias)).T,(t_test_norm - np.dot(M_test[:,0:8], beta_hat_reg_no_bias)))\n",
    "        pred_error_rr = pred_error_ls + lambda_pos[l] * np.dot(beta_hat_reg_no_bias.T,beta_hat_reg_no_bias)\n",
    "        erreur[p,l] = pred_error_rr\n",
    "        results[l] += pred_error_rr\n",
    "\n",
    "# average error for each lambda\n",
    "results = [r/6 for r in results]\n",
    "print(results)\n",
    "lambda_opt = lambda_pos[results.index(min(results))]\n",
    "print(f\"Le lambda optimal trouvé par la cross-validation vaut {lambda_opt}.\")"
   ]
  },
  {
   "cell_type": "code",
   "execution_count": 87,
   "metadata": {},
   "outputs": [
    {
     "name": "stdout",
     "output_type": "stream",
     "text": [
      "Le lambda optimal trouvé par la cross-validation vaut 2.\n"
     ]
    }
   ],
   "source": [
    "\"\"\"\n",
    "Nouvelle version : J'ai modifier le M et le t qui doit être prit dans le nouveau dataset d'entrainement et de\n",
    "\"\"\"\n",
    "\n",
    "lmax = 40\n",
    "lambda_pos = arange(0,lmax+1)\n",
    "N_test = 10\n",
    "\n",
    "\n",
    "results = [0 for _ in range(len(lambda_pos))]\n",
    "erreur = np.zeros((6,lmax+1))\n",
    "erreur_rel = np.zeros((6,lmax+1))\n",
    "for p in range(6):   # loop on test subsets\n",
    "    # extraction of testset\n",
    "    testset = data_train[arange(p*N_test,(p+1)*N_test),0:9]\n",
    "    t_testk = testset[:,8]\n",
    "    # extraction of trainset\n",
    "    trainset = data_train[hstack((arange(p*N_test),arange((p+1)*N_test,data_train.shape[0]))),0:9]\n",
    "    t_traink = trainset[:,8]\n",
    "\n",
    "    # normalizing trainset and testset (mean = 0, std = 1)\n",
    "\n",
    "    normalize = lambda vec: (vec-np.mean(vec))/np.std(vec)    # inline function \n",
    "    M_traink = np.array( [ normalize(vec) for vec in trainset[:,0:8].T ] ).T  # iterate on vec direct / ARRAY not LIST\n",
    "    moyk = np.array( [ np.mean(vec) for vec in trainset[:,0:8].T ] )\n",
    "    sigmak = np.array( [ np.std(vec, ddof=0) for vec in trainset[:,0:8].T ] )\n",
    "\n",
    "    M_testk = np.array([ (testset[:,k]-moyk[k])/sigmak[k] for k in range(M_traink.shape[1]) ] ).T\n",
    "    X_testk = np.concatenate((np.ones((N_test,1)), M_testk), axis=1) \n",
    "    # normalizing targets\n",
    "    t0k = np.mean(t_traink)\n",
    "    \n",
    "    t_train_normk = t_traink-t0k\n",
    "    t_test_normk = t_testk-t0k\n",
    "\n",
    "    for i,l in enumerate(lambda_pos):\n",
    "        # estimate beta_hat\n",
    "        beta_hat_reg_no_biask = np.dot(np.dot(linalg.inv(l*np.identity(M_traink.shape[1]) + np.dot(M_traink.T,M_traink)), M_traink.T),t_train_normk)\n",
    "        pred_error_lsk = np.dot((t_test_normk - np.dot(M_testk, beta_hat_reg_no_biask)).T,(t_test_normk - np.dot(M_testk, beta_hat_reg_no_biask)))\n",
    "        pred_error_rrk = pred_error_lsk + l * np.dot(beta_hat_reg_no_biask.T,beta_hat_reg_no_biask)\n",
    "        erreur[p,i] = pred_error_lsk\n",
    "        erreur_rel[p,i] = pred_error_rrk\n",
    "        results[i] += pred_error_lsk\n",
    "\n",
    "results = [r/6 for r in results]\n",
    "lambda_opt = lambda_pos[results.index(min(results))]\n",
    "print(f\"Le lambda optimal trouvé par la cross-validation vaut {lambda_opt}.\")"
   ]
  },
  {
   "cell_type": "code",
   "execution_count": 88,
   "metadata": {},
   "outputs": [
    {
     "data": {
      "image/png": "[encoded data removed]",
      "text/plain": [
       "<Figure size 640x480 with 1 Axes>"
      ]
     },
     "metadata": {},
     "output_type": "display_data"
    }
   ],
   "source": [
    "# Exercise 4 FIGURE\n",
    "plt.plot(list(lambda_pos),results)\n",
    "plt.ylabel(\"E_RR\")\n",
    "plt.xlabel(\"Lambda\")\n",
    "plt.title(\"Evolution of the E_RR given lambda\")\n",
    "plt.show()"
   ]
  },
  {
   "cell_type": "markdown",
   "metadata": {},
   "source": [
    "**Résultat à vérifier** : On constate que l'on a un minimum pour lambda = 2 ce qui siginifie que le modèle des moindres carrés régularisés s'avère être moins efficace pour prédire la réalité que le modèle des moindres carrés avec sélection des attributs."
   ]
  },
  {
   "cell_type": "code",
   "execution_count": null,
   "metadata": {},
   "outputs": [],
   "source": [
    "# Exercise 4 (continued)"
   ]
  }
 ],
 "metadata": {
  "kernelspec": {
   "display_name": "Python 3.9.12 ('base')",
   "language": "python",
   "name": "python3"
  },
  "language_info": {
   "codemirror_mode": {
    "name": "ipython",
    "version": 3
   },
   "file_extension": ".py",
   "mimetype": "text/x-python",
   "name": "python",
   "nbconvert_exporter": "python",
   "pygments_lexer": "ipython3",
   "version": "3.9.12"
  },
  "vscode": {
   "interpreter": {
    "hash": "f35fc4c302fa05141946eeee87a02543093a5f9fe4b255be016c8b1114de3b55"
   }
  }
 },
 "nbformat": 4,
 "nbformat_minor": 2
}

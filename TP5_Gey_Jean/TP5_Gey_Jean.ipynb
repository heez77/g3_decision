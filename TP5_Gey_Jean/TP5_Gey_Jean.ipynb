{
 "cells": [
  {
   "attachments": {},
   "cell_type": "markdown",
   "metadata": {},
   "source": [
    "# TP5: Decision trees & random forests\n",
    "The aim of this tutorial is to get familiar with the use of decision trees and their generalizations on simple examples using `scikit-learn` tools."
   ]
  },
  {
   "cell_type": "markdown",
   "metadata": {},
   "source": [
    "## Completing your installation first\n",
    "You will need to install packages `python-graphviz` first. If needed, uncomment the `conda` command below:"
   ]
  },
  {
   "cell_type": "code",
   "execution_count": 1,
   "metadata": {
    "collapsed": true
   },
   "outputs": [],
   "source": [
    "# If needed, uncomment the line below:\n",
    "# pip install graphviz"
   ]
  },
  {
   "cell_type": "code",
   "execution_count": 41,
   "metadata": {
    "collapsed": true
   },
   "outputs": [],
   "source": [
    "from pylab import *\n",
    "import numpy as np\n",
    "import matplotlib.pyplot as plt\n",
    "from sklearn.datasets import load_iris, load_wine\n",
    "from sklearn import tree\n",
    "from sklearn.ensemble import RandomForestClassifier, RandomForestRegressor\n",
    "import graphviz \n",
    "import pandas as pd\n",
    "import random\n",
    "\n",
    "rng_seed = np.random.seed(0)\n",
    "\n",
    "import warnings\n",
    "warnings.filterwarnings(\"ignore\")"
   ]
  },
  {
   "cell_type": "markdown",
   "metadata": {},
   "source": [
    "The data for this tutorial is famous. Called, **the iris dataset**, it contains four variables measuring various parts of iris flowers of three related species, and then a fourth variable with the species name. The reason it is so famous in machine learning and statistics communities is because the data requires very little preprocessing (i.e. no missing values, all features are floating numbers, etc.)."
   ]
  },
  {
   "cell_type": "code",
   "execution_count": 3,
   "metadata": {},
   "outputs": [],
   "source": [
    "iris = load_iris()"
   ]
  },
  {
   "cell_type": "markdown",
   "metadata": {},
   "source": [
    "## Step 1: explore the data set\n",
    "1. What is the structure of the object `iris` ?\n",
    "\n",
    "2. Plot this dataset in a well chosen set of representations to explore the data."
   ]
  },
  {
   "attachments": {},
   "cell_type": "markdown",
   "metadata": {},
   "source": [
    "--> Given that iris is a dictionary, we use the pandas library to tranform it into a DataFrame and explore the data in a well chosen set."
   ]
  },
  {
   "cell_type": "markdown",
   "metadata": {},
   "source": [
    "## Using `pandas` to manipulate the data\n",
    "Pandas is great to manipulate data in a Microsoft Excel like way."
   ]
  },
  {
   "cell_type": "code",
   "execution_count": 4,
   "metadata": {},
   "outputs": [
    {
     "data": {
      "text/html": [
       "<div>\n",
       "<style scoped>\n",
       "    .dataframe tbody tr th:only-of-type {\n",
       "        vertical-align: middle;\n",
       "    }\n",
       "\n",
       "    .dataframe tbody tr th {\n",
       "        vertical-align: top;\n",
       "    }\n",
       "\n",
       "    .dataframe thead th {\n",
       "        text-align: right;\n",
       "    }\n",
       "</style>\n",
       "<table border=\"1\" class=\"dataframe\">\n",
       "  <thead>\n",
       "    <tr style=\"text-align: right;\">\n",
       "      <th></th>\n",
       "      <th>sepal length (cm)</th>\n",
       "      <th>sepal width (cm)</th>\n",
       "      <th>petal length (cm)</th>\n",
       "      <th>petal width (cm)</th>\n",
       "    </tr>\n",
       "  </thead>\n",
       "  <tbody>\n",
       "    <tr>\n",
       "      <th>0</th>\n",
       "      <td>5.1</td>\n",
       "      <td>3.5</td>\n",
       "      <td>1.4</td>\n",
       "      <td>0.2</td>\n",
       "    </tr>\n",
       "    <tr>\n",
       "      <th>1</th>\n",
       "      <td>4.9</td>\n",
       "      <td>3.0</td>\n",
       "      <td>1.4</td>\n",
       "      <td>0.2</td>\n",
       "    </tr>\n",
       "    <tr>\n",
       "      <th>2</th>\n",
       "      <td>4.7</td>\n",
       "      <td>3.2</td>\n",
       "      <td>1.3</td>\n",
       "      <td>0.2</td>\n",
       "    </tr>\n",
       "    <tr>\n",
       "      <th>3</th>\n",
       "      <td>4.6</td>\n",
       "      <td>3.1</td>\n",
       "      <td>1.5</td>\n",
       "      <td>0.2</td>\n",
       "    </tr>\n",
       "    <tr>\n",
       "      <th>4</th>\n",
       "      <td>5.0</td>\n",
       "      <td>3.6</td>\n",
       "      <td>1.4</td>\n",
       "      <td>0.2</td>\n",
       "    </tr>\n",
       "  </tbody>\n",
       "</table>\n",
       "</div>"
      ],
      "text/plain": [
       "   sepal length (cm)  sepal width (cm)  petal length (cm)  petal width (cm)\n",
       "0                5.1               3.5                1.4               0.2\n",
       "1                4.9               3.0                1.4               0.2\n",
       "2                4.7               3.2                1.3               0.2\n",
       "3                4.6               3.1                1.5               0.2\n",
       "4                5.0               3.6                1.4               0.2"
      ]
     },
     "execution_count": 4,
     "metadata": {},
     "output_type": "execute_result"
    }
   ],
   "source": [
    "df = pd.DataFrame(iris.data, columns=iris.feature_names)\n",
    "df.head()"
   ]
  },
  {
   "cell_type": "code",
   "execution_count": 5,
   "metadata": {},
   "outputs": [
    {
     "data": {
      "text/html": [
       "<div>\n",
       "<style scoped>\n",
       "    .dataframe tbody tr th:only-of-type {\n",
       "        vertical-align: middle;\n",
       "    }\n",
       "\n",
       "    .dataframe tbody tr th {\n",
       "        vertical-align: top;\n",
       "    }\n",
       "\n",
       "    .dataframe thead th {\n",
       "        text-align: right;\n",
       "    }\n",
       "</style>\n",
       "<table border=\"1\" class=\"dataframe\">\n",
       "  <thead>\n",
       "    <tr style=\"text-align: right;\">\n",
       "      <th></th>\n",
       "      <th>sepal length (cm)</th>\n",
       "      <th>sepal width (cm)</th>\n",
       "      <th>petal length (cm)</th>\n",
       "      <th>petal width (cm)</th>\n",
       "      <th>species</th>\n",
       "    </tr>\n",
       "  </thead>\n",
       "  <tbody>\n",
       "    <tr>\n",
       "      <th>0</th>\n",
       "      <td>5.1</td>\n",
       "      <td>3.5</td>\n",
       "      <td>1.4</td>\n",
       "      <td>0.2</td>\n",
       "      <td>setosa</td>\n",
       "    </tr>\n",
       "    <tr>\n",
       "      <th>1</th>\n",
       "      <td>4.9</td>\n",
       "      <td>3.0</td>\n",
       "      <td>1.4</td>\n",
       "      <td>0.2</td>\n",
       "      <td>setosa</td>\n",
       "    </tr>\n",
       "    <tr>\n",
       "      <th>2</th>\n",
       "      <td>4.7</td>\n",
       "      <td>3.2</td>\n",
       "      <td>1.3</td>\n",
       "      <td>0.2</td>\n",
       "      <td>setosa</td>\n",
       "    </tr>\n",
       "    <tr>\n",
       "      <th>3</th>\n",
       "      <td>4.6</td>\n",
       "      <td>3.1</td>\n",
       "      <td>1.5</td>\n",
       "      <td>0.2</td>\n",
       "      <td>setosa</td>\n",
       "    </tr>\n",
       "    <tr>\n",
       "      <th>4</th>\n",
       "      <td>5.0</td>\n",
       "      <td>3.6</td>\n",
       "      <td>1.4</td>\n",
       "      <td>0.2</td>\n",
       "      <td>setosa</td>\n",
       "    </tr>\n",
       "  </tbody>\n",
       "</table>\n",
       "</div>"
      ],
      "text/plain": [
       "   sepal length (cm)  sepal width (cm)  petal length (cm)  petal width (cm)  \\\n",
       "0                5.1               3.5                1.4               0.2   \n",
       "1                4.9               3.0                1.4               0.2   \n",
       "2                4.7               3.2                1.3               0.2   \n",
       "3                4.6               3.1                1.5               0.2   \n",
       "4                5.0               3.6                1.4               0.2   \n",
       "\n",
       "  species  \n",
       "0  setosa  \n",
       "1  setosa  \n",
       "2  setosa  \n",
       "3  setosa  \n",
       "4  setosa  "
      ]
     },
     "execution_count": 5,
     "metadata": {},
     "output_type": "execute_result"
    }
   ],
   "source": [
    "# Add a new column with the species names, this is what we are going to try to predict\n",
    "df['species'] = pd.Categorical.from_codes(iris.target, iris.target_names)\n",
    "df.head()"
   ]
  },
  {
   "cell_type": "markdown",
   "metadata": {},
   "source": [
    "## Step 2: create training and test sets"
   ]
  },
  {
   "cell_type": "markdown",
   "metadata": {},
   "source": [
    "Create a new column that for each row, generates a random number between 0 and 1, and if that value is less than or equal to .75, then sets the value of that cell as True and false otherwise. This is a quick and dirty way of randomly assigning some rows to be used as the training data and some as the test data."
   ]
  },
  {
   "cell_type": "code",
   "execution_count": 6,
   "metadata": {},
   "outputs": [
    {
     "data": {
      "text/html": [
       "<div>\n",
       "<style scoped>\n",
       "    .dataframe tbody tr th:only-of-type {\n",
       "        vertical-align: middle;\n",
       "    }\n",
       "\n",
       "    .dataframe tbody tr th {\n",
       "        vertical-align: top;\n",
       "    }\n",
       "\n",
       "    .dataframe thead th {\n",
       "        text-align: right;\n",
       "    }\n",
       "</style>\n",
       "<table border=\"1\" class=\"dataframe\">\n",
       "  <thead>\n",
       "    <tr style=\"text-align: right;\">\n",
       "      <th></th>\n",
       "      <th>sepal length (cm)</th>\n",
       "      <th>sepal width (cm)</th>\n",
       "      <th>petal length (cm)</th>\n",
       "      <th>petal width (cm)</th>\n",
       "      <th>species</th>\n",
       "      <th>is_train</th>\n",
       "    </tr>\n",
       "  </thead>\n",
       "  <tbody>\n",
       "    <tr>\n",
       "      <th>0</th>\n",
       "      <td>5.1</td>\n",
       "      <td>3.5</td>\n",
       "      <td>1.4</td>\n",
       "      <td>0.2</td>\n",
       "      <td>setosa</td>\n",
       "      <td>True</td>\n",
       "    </tr>\n",
       "    <tr>\n",
       "      <th>1</th>\n",
       "      <td>4.9</td>\n",
       "      <td>3.0</td>\n",
       "      <td>1.4</td>\n",
       "      <td>0.2</td>\n",
       "      <td>setosa</td>\n",
       "      <td>True</td>\n",
       "    </tr>\n",
       "    <tr>\n",
       "      <th>2</th>\n",
       "      <td>4.7</td>\n",
       "      <td>3.2</td>\n",
       "      <td>1.3</td>\n",
       "      <td>0.2</td>\n",
       "      <td>setosa</td>\n",
       "      <td>True</td>\n",
       "    </tr>\n",
       "    <tr>\n",
       "      <th>3</th>\n",
       "      <td>4.6</td>\n",
       "      <td>3.1</td>\n",
       "      <td>1.5</td>\n",
       "      <td>0.2</td>\n",
       "      <td>setosa</td>\n",
       "      <td>True</td>\n",
       "    </tr>\n",
       "    <tr>\n",
       "      <th>4</th>\n",
       "      <td>5.0</td>\n",
       "      <td>3.6</td>\n",
       "      <td>1.4</td>\n",
       "      <td>0.2</td>\n",
       "      <td>setosa</td>\n",
       "      <td>True</td>\n",
       "    </tr>\n",
       "  </tbody>\n",
       "</table>\n",
       "</div>"
      ],
      "text/plain": [
       "   sepal length (cm)  sepal width (cm)  petal length (cm)  petal width (cm)  \\\n",
       "0                5.1               3.5                1.4               0.2   \n",
       "1                4.9               3.0                1.4               0.2   \n",
       "2                4.7               3.2                1.3               0.2   \n",
       "3                4.6               3.1                1.5               0.2   \n",
       "4                5.0               3.6                1.4               0.2   \n",
       "\n",
       "  species  is_train  \n",
       "0  setosa      True  \n",
       "1  setosa      True  \n",
       "2  setosa      True  \n",
       "3  setosa      True  \n",
       "4  setosa      True  "
      ]
     },
     "execution_count": 6,
     "metadata": {},
     "output_type": "execute_result"
    }
   ],
   "source": [
    "df['is_train'] = np.random.uniform(0, 1, len(df)) <= .75\n",
    "df.head()"
   ]
  },
  {
   "cell_type": "code",
   "execution_count": 7,
   "metadata": {},
   "outputs": [],
   "source": [
    "# Create two new dataframes, one with the training rows, one with the test rows\n",
    "train, test = df[df['is_train']==True], df[df['is_train']==False]"
   ]
  },
  {
   "cell_type": "code",
   "execution_count": 8,
   "metadata": {},
   "outputs": [
    {
     "name": "stdout",
     "output_type": "stream",
     "text": [
      "Number of observations in the training data: 118\n",
      "Number of observations in the test data: 32\n"
     ]
    }
   ],
   "source": [
    "# Show the number of observations for the test and training dataframes\n",
    "print('Number of observations in the training data:', len(train))\n",
    "print('Number of observations in the test data:',len(test))"
   ]
  },
  {
   "cell_type": "code",
   "execution_count": 9,
   "metadata": {},
   "outputs": [
    {
     "data": {
      "text/plain": [
       "Index(['sepal length (cm)', 'sepal width (cm)', 'petal length (cm)',\n",
       "       'petal width (cm)'],\n",
       "      dtype='object')"
      ]
     },
     "execution_count": 9,
     "metadata": {},
     "output_type": "execute_result"
    }
   ],
   "source": [
    "# Create a list of the feature column's names\n",
    "features = df.columns[:4]\n",
    "\n",
    "# View features\n",
    "features"
   ]
  },
  {
   "cell_type": "code",
   "execution_count": 10,
   "metadata": {},
   "outputs": [],
   "source": [
    "# train['species'] contains the actual species names. Before we can use it,\n",
    "# we need to convert each species name into a digit. So, in this case there\n",
    "# are three species, which have been coded as 0, 1, or 2.\n",
    "y = pd.factorize(train['species'])[0]"
   ]
  },
  {
   "attachments": {},
   "cell_type": "markdown",
   "metadata": {},
   "source": [
    "## Step 3: Decision trees for the iris dataset\n",
    "The method `tree.DecisionTreeClassifier()` from `scikit-learn` builds decision trees objects as follows:"
   ]
  },
  {
   "cell_type": "code",
   "execution_count": 11,
   "metadata": {},
   "outputs": [],
   "source": [
    "clf = tree.DecisionTreeClassifier(random_state=rng_seed)\n",
    "clf = clf.fit(train[features], y)\n",
    "\n",
    "# Using the whole dataset you may use directly:\n",
    "#clf = clf.fit(iris.data, iris.target)"
   ]
  },
  {
   "cell_type": "markdown",
   "metadata": {},
   "source": [
    "The `export_graphviz` exporter supports a variety of aesthetic options, including coloring nodes by their class (or value for regression) and using explicit variable and class names if desired. Jupyter notebooks also render these plots inline automatically:"
   ]
  },
  {
   "cell_type": "code",
   "execution_count": 12,
   "metadata": {},
   "outputs": [
    {
     "data": {
      "image/svg+xml": "<?xml version=\"1.0\" encoding=\"UTF-8\" standalone=\"no\"?>\n<!DOCTYPE svg PUBLIC \"-//W3C//DTD SVG 1.1//EN\"\n \"http://www.w3.org/Graphics/SVG/1.1/DTD/svg11.dtd\">\n<!-- Generated by graphviz version 7.0.4 (20221203.1631)\n -->\n<!-- Title: Tree Pages: 1 -->\n<svg width=\"670pt\" height=\"790pt\"\n viewBox=\"0.00 0.00 669.50 790.00\" xmlns=\"http://www.w3.org/2000/svg\" xmlns:xlink=\"http://www.w3.org/1999/xlink\">\n<g id=\"graph0\" class=\"graph\" transform=\"scale(1 1) rotate(0) translate(4 786)\">\n<title>Tree</title>\n<polygon fill=\"white\" stroke=\"none\" points=\"-4,4 -4,-786 665.5,-786 665.5,4 -4,4\"/>\n<!-- 0 -->\n<g id=\"node1\" class=\"node\">\n<title>0</title>\n<path fill=\"#f3fdf7\" stroke=\"black\" d=\"M269,-782C269,-782 142,-782 142,-782 136,-782 130,-776 130,-770 130,-770 130,-711 130,-711 130,-705 136,-699 142,-699 142,-699 269,-699 269,-699 275,-699 281,-705 281,-711 281,-711 281,-770 281,-770 281,-776 275,-782 269,-782\"/>\n<text text-anchor=\"start\" x=\"138\" y=\"-766.8\" font-family=\"Helvetica,sans-Serif\" font-size=\"14.00\">petal width (cm) ≤ 0.8</text>\n<text text-anchor=\"start\" x=\"168\" y=\"-751.8\" font-family=\"Helvetica,sans-Serif\" font-size=\"14.00\">gini = 0.665</text>\n<text text-anchor=\"start\" x=\"158\" y=\"-736.8\" font-family=\"Helvetica,sans-Serif\" font-size=\"14.00\">samples = 118</text>\n<text text-anchor=\"start\" x=\"145\" y=\"-721.8\" font-family=\"Helvetica,sans-Serif\" font-size=\"14.00\">value = [37, 43, 38]</text>\n<text text-anchor=\"start\" x=\"150\" y=\"-706.8\" font-family=\"Helvetica,sans-Serif\" font-size=\"14.00\">class = versicolor</text>\n</g>\n<!-- 1 -->\n<g id=\"node2\" class=\"node\">\n<title>1</title>\n<path fill=\"#e58139\" stroke=\"black\" d=\"M174,-655.5C174,-655.5 77,-655.5 77,-655.5 71,-655.5 65,-649.5 65,-643.5 65,-643.5 65,-599.5 65,-599.5 65,-593.5 71,-587.5 77,-587.5 77,-587.5 174,-587.5 174,-587.5 180,-587.5 186,-593.5 186,-599.5 186,-599.5 186,-643.5 186,-643.5 186,-649.5 180,-655.5 174,-655.5\"/>\n<text text-anchor=\"start\" x=\"96.5\" y=\"-640.3\" font-family=\"Helvetica,sans-Serif\" font-size=\"14.00\">gini = 0.0</text>\n<text text-anchor=\"start\" x=\"82\" y=\"-625.3\" font-family=\"Helvetica,sans-Serif\" font-size=\"14.00\">samples = 37</text>\n<text text-anchor=\"start\" x=\"73\" y=\"-610.3\" font-family=\"Helvetica,sans-Serif\" font-size=\"14.00\">value = [37, 0, 0]</text>\n<text text-anchor=\"start\" x=\"79.5\" y=\"-595.3\" font-family=\"Helvetica,sans-Serif\" font-size=\"14.00\">class = setosa</text>\n</g>\n<!-- 0&#45;&gt;1 -->\n<g id=\"edge1\" class=\"edge\">\n<title>0&#45;&gt;1</title>\n<path fill=\"none\" stroke=\"black\" d=\"M177.52,-698.58C170.13,-687.77 162.14,-676.09 154.69,-665.19\"/>\n<polygon fill=\"black\" stroke=\"black\" points=\"157.7,-663.39 149.17,-657.11 151.92,-667.34 157.7,-663.39\"/>\n<text text-anchor=\"middle\" x=\"143.7\" y=\"-676.73\" font-family=\"Helvetica,sans-Serif\" font-size=\"14.00\">True</text>\n</g>\n<!-- 2 -->\n<g id=\"node3\" class=\"node\">\n<title>2</title>\n<path fill=\"#e8fcf0\" stroke=\"black\" d=\"M357,-663C357,-663 216,-663 216,-663 210,-663 204,-657 204,-651 204,-651 204,-592 204,-592 204,-586 210,-580 216,-580 216,-580 357,-580 357,-580 363,-580 369,-586 369,-592 369,-592 369,-651 369,-651 369,-657 363,-663 357,-663\"/>\n<text text-anchor=\"start\" x=\"212\" y=\"-647.8\" font-family=\"Helvetica,sans-Serif\" font-size=\"14.00\">petal length (cm) ≤ 4.75</text>\n<text text-anchor=\"start\" x=\"249\" y=\"-632.8\" font-family=\"Helvetica,sans-Serif\" font-size=\"14.00\">gini = 0.498</text>\n<text text-anchor=\"start\" x=\"243\" y=\"-617.8\" font-family=\"Helvetica,sans-Serif\" font-size=\"14.00\">samples = 81</text>\n<text text-anchor=\"start\" x=\"230\" y=\"-602.8\" font-family=\"Helvetica,sans-Serif\" font-size=\"14.00\">value = [0, 43, 38]</text>\n<text text-anchor=\"start\" x=\"231\" y=\"-587.8\" font-family=\"Helvetica,sans-Serif\" font-size=\"14.00\">class = versicolor</text>\n</g>\n<!-- 0&#45;&gt;2 -->\n<g id=\"edge2\" class=\"edge\">\n<title>0&#45;&gt;2</title>\n<path fill=\"none\" stroke=\"black\" d=\"M233.83,-698.58C239.66,-690.16 245.86,-681.2 251.88,-672.5\"/>\n<polygon fill=\"black\" stroke=\"black\" points=\"254.65,-674.66 257.46,-664.44 248.89,-670.67 254.65,-674.66\"/>\n<text text-anchor=\"middle\" x=\"262.8\" y=\"-684.1\" font-family=\"Helvetica,sans-Serif\" font-size=\"14.00\">False</text>\n</g>\n<!-- 3 -->\n<g id=\"node4\" class=\"node\">\n<title>3</title>\n<path fill=\"#3ee684\" stroke=\"black\" d=\"M266,-544C266,-544 131,-544 131,-544 125,-544 119,-538 119,-532 119,-532 119,-473 119,-473 119,-467 125,-461 131,-461 131,-461 266,-461 266,-461 272,-461 278,-467 278,-473 278,-473 278,-532 278,-532 278,-538 272,-544 266,-544\"/>\n<text text-anchor=\"start\" x=\"127\" y=\"-528.8\" font-family=\"Helvetica,sans-Serif\" font-size=\"14.00\">petal width (cm) ≤ 1.65</text>\n<text text-anchor=\"start\" x=\"161\" y=\"-513.8\" font-family=\"Helvetica,sans-Serif\" font-size=\"14.00\">gini = 0.048</text>\n<text text-anchor=\"start\" x=\"155\" y=\"-498.8\" font-family=\"Helvetica,sans-Serif\" font-size=\"14.00\">samples = 41</text>\n<text text-anchor=\"start\" x=\"146\" y=\"-483.8\" font-family=\"Helvetica,sans-Serif\" font-size=\"14.00\">value = [0, 40, 1]</text>\n<text text-anchor=\"start\" x=\"143\" y=\"-468.8\" font-family=\"Helvetica,sans-Serif\" font-size=\"14.00\">class = versicolor</text>\n</g>\n<!-- 2&#45;&gt;3 -->\n<g id=\"edge3\" class=\"edge\">\n<title>2&#45;&gt;3</title>\n<path fill=\"none\" stroke=\"black\" d=\"M255.72,-579.58C249.32,-571.07 242.51,-562.01 235.9,-553.23\"/>\n<polygon fill=\"black\" stroke=\"black\" points=\"238.83,-551.3 230.02,-545.41 233.24,-555.51 238.83,-551.3\"/>\n</g>\n<!-- 6 -->\n<g id=\"node7\" class=\"node\">\n<title>6</title>\n<path fill=\"#8b49e7\" stroke=\"black\" d=\"M443,-544C443,-544 308,-544 308,-544 302,-544 296,-538 296,-532 296,-532 296,-473 296,-473 296,-467 302,-461 308,-461 308,-461 443,-461 443,-461 449,-461 455,-467 455,-473 455,-473 455,-532 455,-532 455,-538 449,-544 443,-544\"/>\n<text text-anchor=\"start\" x=\"304\" y=\"-528.8\" font-family=\"Helvetica,sans-Serif\" font-size=\"14.00\">petal width (cm) ≤ 1.75</text>\n<text text-anchor=\"start\" x=\"338\" y=\"-513.8\" font-family=\"Helvetica,sans-Serif\" font-size=\"14.00\">gini = 0.139</text>\n<text text-anchor=\"start\" x=\"332\" y=\"-498.8\" font-family=\"Helvetica,sans-Serif\" font-size=\"14.00\">samples = 40</text>\n<text text-anchor=\"start\" x=\"323\" y=\"-483.8\" font-family=\"Helvetica,sans-Serif\" font-size=\"14.00\">value = [0, 3, 37]</text>\n<text text-anchor=\"start\" x=\"325.5\" y=\"-468.8\" font-family=\"Helvetica,sans-Serif\" font-size=\"14.00\">class = virginica</text>\n</g>\n<!-- 2&#45;&gt;6 -->\n<g id=\"edge6\" class=\"edge\">\n<title>2&#45;&gt;6</title>\n<path fill=\"none\" stroke=\"black\" d=\"M317.63,-579.58C324.1,-571.07 330.99,-562.01 337.67,-553.23\"/>\n<polygon fill=\"black\" stroke=\"black\" points=\"340.35,-555.48 343.62,-545.4 334.78,-551.24 340.35,-555.48\"/>\n</g>\n<!-- 4 -->\n<g id=\"node5\" class=\"node\">\n<title>4</title>\n<path fill=\"#39e581\" stroke=\"black\" d=\"M115,-417.5C115,-417.5 12,-417.5 12,-417.5 6,-417.5 0,-411.5 0,-405.5 0,-405.5 0,-361.5 0,-361.5 0,-355.5 6,-349.5 12,-349.5 12,-349.5 115,-349.5 115,-349.5 121,-349.5 127,-355.5 127,-361.5 127,-361.5 127,-405.5 127,-405.5 127,-411.5 121,-417.5 115,-417.5\"/>\n<text text-anchor=\"start\" x=\"34.5\" y=\"-402.3\" font-family=\"Helvetica,sans-Serif\" font-size=\"14.00\">gini = 0.0</text>\n<text text-anchor=\"start\" x=\"20\" y=\"-387.3\" font-family=\"Helvetica,sans-Serif\" font-size=\"14.00\">samples = 40</text>\n<text text-anchor=\"start\" x=\"11\" y=\"-372.3\" font-family=\"Helvetica,sans-Serif\" font-size=\"14.00\">value = [0, 40, 0]</text>\n<text text-anchor=\"start\" x=\"8\" y=\"-357.3\" font-family=\"Helvetica,sans-Serif\" font-size=\"14.00\">class = versicolor</text>\n</g>\n<!-- 3&#45;&gt;4 -->\n<g id=\"edge4\" class=\"edge\">\n<title>3&#45;&gt;4</title>\n<path fill=\"none\" stroke=\"black\" d=\"M151.28,-460.58C138.06,-449.12 123.69,-436.67 110.48,-425.22\"/>\n<polygon fill=\"black\" stroke=\"black\" points=\"112.99,-422.76 103.14,-418.85 108.4,-428.05 112.99,-422.76\"/>\n</g>\n<!-- 5 -->\n<g id=\"node6\" class=\"node\">\n<title>5</title>\n<path fill=\"#8139e5\" stroke=\"black\" d=\"M249.5,-417.5C249.5,-417.5 157.5,-417.5 157.5,-417.5 151.5,-417.5 145.5,-411.5 145.5,-405.5 145.5,-405.5 145.5,-361.5 145.5,-361.5 145.5,-355.5 151.5,-349.5 157.5,-349.5 157.5,-349.5 249.5,-349.5 249.5,-349.5 255.5,-349.5 261.5,-355.5 261.5,-361.5 261.5,-361.5 261.5,-405.5 261.5,-405.5 261.5,-411.5 255.5,-417.5 249.5,-417.5\"/>\n<text text-anchor=\"start\" x=\"174.5\" y=\"-402.3\" font-family=\"Helvetica,sans-Serif\" font-size=\"14.00\">gini = 0.0</text>\n<text text-anchor=\"start\" x=\"164\" y=\"-387.3\" font-family=\"Helvetica,sans-Serif\" font-size=\"14.00\">samples = 1</text>\n<text text-anchor=\"start\" x=\"155\" y=\"-372.3\" font-family=\"Helvetica,sans-Serif\" font-size=\"14.00\">value = [0, 0, 1]</text>\n<text text-anchor=\"start\" x=\"153.5\" y=\"-357.3\" font-family=\"Helvetica,sans-Serif\" font-size=\"14.00\">class = virginica</text>\n</g>\n<!-- 3&#45;&gt;5 -->\n<g id=\"edge5\" class=\"edge\">\n<title>3&#45;&gt;5</title>\n<path fill=\"none\" stroke=\"black\" d=\"M200.25,-460.58C200.68,-450.43 201.15,-439.5 201.59,-429.18\"/>\n<polygon fill=\"black\" stroke=\"black\" points=\"205.08,-429.51 202.01,-419.37 198.09,-429.21 205.08,-429.51\"/>\n</g>\n<!-- 7 -->\n<g id=\"node8\" class=\"node\">\n<title>7</title>\n<path fill=\"#e0cef8\" stroke=\"black\" d=\"M440,-425C440,-425 301,-425 301,-425 295,-425 289,-419 289,-413 289,-413 289,-354 289,-354 289,-348 295,-342 301,-342 301,-342 440,-342 440,-342 446,-342 452,-348 452,-354 452,-354 452,-413 452,-413 452,-419 446,-425 440,-425\"/>\n<text text-anchor=\"start\" x=\"297\" y=\"-409.8\" font-family=\"Helvetica,sans-Serif\" font-size=\"14.00\">sepal width (cm) ≤ 2.65</text>\n<text text-anchor=\"start\" x=\"337\" y=\"-394.8\" font-family=\"Helvetica,sans-Serif\" font-size=\"14.00\">gini = 0.49</text>\n<text text-anchor=\"start\" x=\"331\" y=\"-379.8\" font-family=\"Helvetica,sans-Serif\" font-size=\"14.00\">samples = 7</text>\n<text text-anchor=\"start\" x=\"322\" y=\"-364.8\" font-family=\"Helvetica,sans-Serif\" font-size=\"14.00\">value = [0, 3, 4]</text>\n<text text-anchor=\"start\" x=\"320.5\" y=\"-349.8\" font-family=\"Helvetica,sans-Serif\" font-size=\"14.00\">class = virginica</text>\n</g>\n<!-- 6&#45;&gt;7 -->\n<g id=\"edge7\" class=\"edge\">\n<title>6&#45;&gt;7</title>\n<path fill=\"none\" stroke=\"black\" d=\"M373.75,-460.58C373.42,-452.79 373.07,-444.53 372.72,-436.45\"/>\n<polygon fill=\"black\" stroke=\"black\" points=\"376.23,-436.55 372.3,-426.71 369.23,-436.85 376.23,-436.55\"/>\n</g>\n<!-- 14 -->\n<g id=\"node15\" class=\"node\">\n<title>14</title>\n<path fill=\"#8139e5\" stroke=\"black\" d=\"M579,-417.5C579,-417.5 482,-417.5 482,-417.5 476,-417.5 470,-411.5 470,-405.5 470,-405.5 470,-361.5 470,-361.5 470,-355.5 476,-349.5 482,-349.5 482,-349.5 579,-349.5 579,-349.5 585,-349.5 591,-355.5 591,-361.5 591,-361.5 591,-405.5 591,-405.5 591,-411.5 585,-417.5 579,-417.5\"/>\n<text text-anchor=\"start\" x=\"501.5\" y=\"-402.3\" font-family=\"Helvetica,sans-Serif\" font-size=\"14.00\">gini = 0.0</text>\n<text text-anchor=\"start\" x=\"487\" y=\"-387.3\" font-family=\"Helvetica,sans-Serif\" font-size=\"14.00\">samples = 33</text>\n<text text-anchor=\"start\" x=\"478\" y=\"-372.3\" font-family=\"Helvetica,sans-Serif\" font-size=\"14.00\">value = [0, 0, 33]</text>\n<text text-anchor=\"start\" x=\"480.5\" y=\"-357.3\" font-family=\"Helvetica,sans-Serif\" font-size=\"14.00\">class = virginica</text>\n</g>\n<!-- 6&#45;&gt;14 -->\n<g id=\"edge14\" class=\"edge\">\n<title>6&#45;&gt;14</title>\n<path fill=\"none\" stroke=\"black\" d=\"M429.71,-460.58C445.18,-448.9 462.02,-436.19 477.42,-424.57\"/>\n<polygon fill=\"black\" stroke=\"black\" points=\"479.22,-427.59 485.1,-418.77 475.01,-422 479.22,-427.59\"/>\n</g>\n<!-- 8 -->\n<g id=\"node9\" class=\"node\">\n<title>8</title>\n<path fill=\"#8139e5\" stroke=\"black\" d=\"M337.5,-298.5C337.5,-298.5 245.5,-298.5 245.5,-298.5 239.5,-298.5 233.5,-292.5 233.5,-286.5 233.5,-286.5 233.5,-242.5 233.5,-242.5 233.5,-236.5 239.5,-230.5 245.5,-230.5 245.5,-230.5 337.5,-230.5 337.5,-230.5 343.5,-230.5 349.5,-236.5 349.5,-242.5 349.5,-242.5 349.5,-286.5 349.5,-286.5 349.5,-292.5 343.5,-298.5 337.5,-298.5\"/>\n<text text-anchor=\"start\" x=\"262.5\" y=\"-283.3\" font-family=\"Helvetica,sans-Serif\" font-size=\"14.00\">gini = 0.0</text>\n<text text-anchor=\"start\" x=\"252\" y=\"-268.3\" font-family=\"Helvetica,sans-Serif\" font-size=\"14.00\">samples = 2</text>\n<text text-anchor=\"start\" x=\"243\" y=\"-253.3\" font-family=\"Helvetica,sans-Serif\" font-size=\"14.00\">value = [0, 0, 2]</text>\n<text text-anchor=\"start\" x=\"241.5\" y=\"-238.3\" font-family=\"Helvetica,sans-Serif\" font-size=\"14.00\">class = virginica</text>\n</g>\n<!-- 7&#45;&gt;8 -->\n<g id=\"edge8\" class=\"edge\">\n<title>7&#45;&gt;8</title>\n<path fill=\"none\" stroke=\"black\" d=\"M342.87,-341.58C335.57,-330.77 327.68,-319.09 320.33,-308.19\"/>\n<polygon fill=\"black\" stroke=\"black\" points=\"323.37,-306.44 314.87,-300.12 317.57,-310.36 323.37,-306.44\"/>\n</g>\n<!-- 9 -->\n<g id=\"node10\" class=\"node\">\n<title>9</title>\n<path fill=\"#bdf6d5\" stroke=\"black\" d=\"M521,-306C521,-306 380,-306 380,-306 374,-306 368,-300 368,-294 368,-294 368,-235 368,-235 368,-229 374,-223 380,-223 380,-223 521,-223 521,-223 527,-223 533,-229 533,-235 533,-235 533,-294 533,-294 533,-300 527,-306 521,-306\"/>\n<text text-anchor=\"start\" x=\"376\" y=\"-290.8\" font-family=\"Helvetica,sans-Serif\" font-size=\"14.00\">petal length (cm) ≤ 5.05</text>\n<text text-anchor=\"start\" x=\"417\" y=\"-275.8\" font-family=\"Helvetica,sans-Serif\" font-size=\"14.00\">gini = 0.48</text>\n<text text-anchor=\"start\" x=\"411\" y=\"-260.8\" font-family=\"Helvetica,sans-Serif\" font-size=\"14.00\">samples = 5</text>\n<text text-anchor=\"start\" x=\"402\" y=\"-245.8\" font-family=\"Helvetica,sans-Serif\" font-size=\"14.00\">value = [0, 3, 2]</text>\n<text text-anchor=\"start\" x=\"395\" y=\"-230.8\" font-family=\"Helvetica,sans-Serif\" font-size=\"14.00\">class = versicolor</text>\n</g>\n<!-- 7&#45;&gt;9 -->\n<g id=\"edge9\" class=\"edge\">\n<title>7&#45;&gt;9</title>\n<path fill=\"none\" stroke=\"black\" d=\"M398.48,-341.58C404.24,-333.16 410.36,-324.2 416.31,-315.5\"/>\n<polygon fill=\"black\" stroke=\"black\" points=\"419.06,-317.68 421.82,-307.45 413.28,-313.73 419.06,-317.68\"/>\n</g>\n<!-- 10 -->\n<g id=\"node11\" class=\"node\">\n<title>10</title>\n<path fill=\"#39e581\" stroke=\"black\" d=\"M419,-179.5C419,-179.5 316,-179.5 316,-179.5 310,-179.5 304,-173.5 304,-167.5 304,-167.5 304,-123.5 304,-123.5 304,-117.5 310,-111.5 316,-111.5 316,-111.5 419,-111.5 419,-111.5 425,-111.5 431,-117.5 431,-123.5 431,-123.5 431,-167.5 431,-167.5 431,-173.5 425,-179.5 419,-179.5\"/>\n<text text-anchor=\"start\" x=\"338.5\" y=\"-164.3\" font-family=\"Helvetica,sans-Serif\" font-size=\"14.00\">gini = 0.0</text>\n<text text-anchor=\"start\" x=\"328\" y=\"-149.3\" font-family=\"Helvetica,sans-Serif\" font-size=\"14.00\">samples = 2</text>\n<text text-anchor=\"start\" x=\"319\" y=\"-134.3\" font-family=\"Helvetica,sans-Serif\" font-size=\"14.00\">value = [0, 2, 0]</text>\n<text text-anchor=\"start\" x=\"312\" y=\"-119.3\" font-family=\"Helvetica,sans-Serif\" font-size=\"14.00\">class = versicolor</text>\n</g>\n<!-- 9&#45;&gt;10 -->\n<g id=\"edge10\" class=\"edge\">\n<title>9&#45;&gt;10</title>\n<path fill=\"none\" stroke=\"black\" d=\"M421.47,-222.58C413.81,-211.77 405.51,-200.09 397.78,-189.19\"/>\n<polygon fill=\"black\" stroke=\"black\" points=\"400.68,-187.23 392.04,-181.1 394.97,-191.28 400.68,-187.23\"/>\n</g>\n<!-- 11 -->\n<g id=\"node12\" class=\"node\">\n<title>11</title>\n<path fill=\"#c09cf2\" stroke=\"black\" d=\"M606,-187C606,-187 461,-187 461,-187 455,-187 449,-181 449,-175 449,-175 449,-116 449,-116 449,-110 455,-104 461,-104 461,-104 606,-104 606,-104 612,-104 618,-110 618,-116 618,-116 618,-175 618,-175 618,-181 612,-187 606,-187\"/>\n<text text-anchor=\"start\" x=\"457\" y=\"-171.8\" font-family=\"Helvetica,sans-Serif\" font-size=\"14.00\">sepal length (cm) ≤ 6.15</text>\n<text text-anchor=\"start\" x=\"496\" y=\"-156.8\" font-family=\"Helvetica,sans-Serif\" font-size=\"14.00\">gini = 0.444</text>\n<text text-anchor=\"start\" x=\"494\" y=\"-141.8\" font-family=\"Helvetica,sans-Serif\" font-size=\"14.00\">samples = 3</text>\n<text text-anchor=\"start\" x=\"485\" y=\"-126.8\" font-family=\"Helvetica,sans-Serif\" font-size=\"14.00\">value = [0, 1, 2]</text>\n<text text-anchor=\"start\" x=\"483.5\" y=\"-111.8\" font-family=\"Helvetica,sans-Serif\" font-size=\"14.00\">class = virginica</text>\n</g>\n<!-- 9&#45;&gt;11 -->\n<g id=\"edge11\" class=\"edge\">\n<title>9&#45;&gt;11</title>\n<path fill=\"none\" stroke=\"black\" d=\"M479.53,-222.58C485.5,-214.16 491.86,-205.2 498.03,-196.5\"/>\n<polygon fill=\"black\" stroke=\"black\" points=\"500.82,-198.62 503.75,-188.43 495.11,-194.57 500.82,-198.62\"/>\n</g>\n<!-- 12 -->\n<g id=\"node13\" class=\"node\">\n<title>12</title>\n<path fill=\"#39e581\" stroke=\"black\" d=\"M515,-68C515,-68 412,-68 412,-68 406,-68 400,-62 400,-56 400,-56 400,-12 400,-12 400,-6 406,0 412,0 412,0 515,0 515,0 521,0 527,-6 527,-12 527,-12 527,-56 527,-56 527,-62 521,-68 515,-68\"/>\n<text text-anchor=\"start\" x=\"434.5\" y=\"-52.8\" font-family=\"Helvetica,sans-Serif\" font-size=\"14.00\">gini = 0.0</text>\n<text text-anchor=\"start\" x=\"424\" y=\"-37.8\" font-family=\"Helvetica,sans-Serif\" font-size=\"14.00\">samples = 1</text>\n<text text-anchor=\"start\" x=\"415\" y=\"-22.8\" font-family=\"Helvetica,sans-Serif\" font-size=\"14.00\">value = [0, 1, 0]</text>\n<text text-anchor=\"start\" x=\"408\" y=\"-7.8\" font-family=\"Helvetica,sans-Serif\" font-size=\"14.00\">class = versicolor</text>\n</g>\n<!-- 11&#45;&gt;12 -->\n<g id=\"edge12\" class=\"edge\">\n<title>11&#45;&gt;12</title>\n<path fill=\"none\" stroke=\"black\" d=\"M507.43,-103.73C502.01,-95.24 496.28,-86.28 490.82,-77.73\"/>\n<polygon fill=\"black\" stroke=\"black\" points=\"493.94,-76.12 485.6,-69.57 488.04,-79.89 493.94,-76.12\"/>\n</g>\n<!-- 13 -->\n<g id=\"node14\" class=\"node\">\n<title>13</title>\n<path fill=\"#8139e5\" stroke=\"black\" d=\"M649.5,-68C649.5,-68 557.5,-68 557.5,-68 551.5,-68 545.5,-62 545.5,-56 545.5,-56 545.5,-12 545.5,-12 545.5,-6 551.5,0 557.5,0 557.5,0 649.5,0 649.5,0 655.5,0 661.5,-6 661.5,-12 661.5,-12 661.5,-56 661.5,-56 661.5,-62 655.5,-68 649.5,-68\"/>\n<text text-anchor=\"start\" x=\"574.5\" y=\"-52.8\" font-family=\"Helvetica,sans-Serif\" font-size=\"14.00\">gini = 0.0</text>\n<text text-anchor=\"start\" x=\"564\" y=\"-37.8\" font-family=\"Helvetica,sans-Serif\" font-size=\"14.00\">samples = 2</text>\n<text text-anchor=\"start\" x=\"555\" y=\"-22.8\" font-family=\"Helvetica,sans-Serif\" font-size=\"14.00\">value = [0, 0, 2]</text>\n<text text-anchor=\"start\" x=\"553.5\" y=\"-7.8\" font-family=\"Helvetica,sans-Serif\" font-size=\"14.00\">class = virginica</text>\n</g>\n<!-- 11&#45;&gt;13 -->\n<g id=\"edge13\" class=\"edge\">\n<title>11&#45;&gt;13</title>\n<path fill=\"none\" stroke=\"black\" d=\"M559.57,-103.73C564.99,-95.24 570.72,-86.28 576.18,-77.73\"/>\n<polygon fill=\"black\" stroke=\"black\" points=\"578.96,-79.89 581.4,-69.57 573.06,-76.12 578.96,-79.89\"/>\n</g>\n</g>\n</svg>\n",
      "text/plain": [
       "<graphviz.sources.Source at 0x1781ff84fd0>"
      ]
     },
     "execution_count": 12,
     "metadata": {},
     "output_type": "execute_result"
    }
   ],
   "source": [
    "dot_data = tree.export_graphviz(clf, out_file=None, \n",
    "                         feature_names=iris.feature_names,  \n",
    "                         class_names=iris.target_names,  \n",
    "                         filled=True, rounded=True,  \n",
    "                         special_characters=True)  \n",
    "graph = graphviz.Source(dot_data)  \n",
    "graph "
   ]
  },
  {
   "cell_type": "markdown",
   "metadata": {},
   "source": [
    "We can also export the tree in Graphviz format and  savethe resulting graph in an output file iris.pdf:"
   ]
  },
  {
   "cell_type": "code",
   "execution_count": 13,
   "metadata": {},
   "outputs": [
    {
     "data": {
      "text/plain": [
       "'iris.pdf'"
      ]
     },
     "execution_count": 13,
     "metadata": {},
     "output_type": "execute_result"
    }
   ],
   "source": [
    "dot_data = tree.export_graphviz(clf, out_file=None) \n",
    "graph = graphviz.Source(dot_data) \n",
    "graph.render(\"iris\") "
   ]
  },
  {
   "cell_type": "markdown",
   "metadata": {},
   "source": [
    "After being fitted, **the model can then be used to predict the class of samples**:"
   ]
  },
  {
   "cell_type": "code",
   "execution_count": 14,
   "metadata": {},
   "outputs": [
    {
     "name": "stderr",
     "output_type": "stream",
     "text": [
      "C:\\Users\\geyma\\AppData\\Roaming\\Python\\Python310\\site-packages\\sklearn\\base.py:409: UserWarning: X does not have valid feature names, but DecisionTreeClassifier was fitted with feature names\n",
      "  warnings.warn(\n"
     ]
    },
    {
     "data": {
      "text/plain": [
       "array([0], dtype=int64)"
      ]
     },
     "execution_count": 14,
     "metadata": {},
     "output_type": "execute_result"
    }
   ],
   "source": [
    "class_pred = clf.predict(iris.data[:1, :])\n",
    "class_pred"
   ]
  },
  {
   "cell_type": "markdown",
   "metadata": {},
   "source": [
    "## Exercise 1\n",
    "1. Train the decision tree on the iris dataset and explain how one should read blocks in `graphviz` representation of the tree.\n",
    "\n",
    "2. Plot the regions of decision with the points of the training set superimposed.\n",
    "\n",
    "*Indication: you may find the function `plt.contourf` useful."
   ]
  },
  {
   "attachments": {},
   "cell_type": "markdown",
   "metadata": {},
   "source": [
    "<u>Réponse 1</u> : Pour entraîner l'arbre de décision sur les données du dataset Iris et les plots en utilisant Graphviz, on reprend les codes précédents :"
   ]
  },
  {
   "cell_type": "code",
   "execution_count": 15,
   "metadata": {},
   "outputs": [],
   "source": [
    "df = pd.DataFrame(iris.data, columns=iris.feature_names)\n",
    "df['species'] = pd.Categorical.from_codes(iris.target, iris.target_names)\n",
    "df['is_train'] = np.random.uniform(0, 1, len(df)) <= .75\n",
    "train, test = df[df['is_train']==True], df[df['is_train']==False]\n",
    "y = pd.factorize(train['species'])[0]\n",
    "clf = tree.DecisionTreeClassifier(random_state=rng_seed)\n",
    "clf = clf.fit(train[features], y)\n",
    "dot_data = tree.export_graphviz(clf, out_file=None, \n",
    "                         feature_names=iris.feature_names,  \n",
    "                         class_names=iris.target_names,  \n",
    "                         filled=True, rounded=True,  \n",
    "                         special_characters=True)  \n",
    "graph = graphviz.Source(dot_data)"
   ]
  },
  {
   "attachments": {},
   "cell_type": "markdown",
   "metadata": {},
   "source": [
    "<b>Explication</b> : Un arbre de décision se compose de noeuds (carrés intermédiaires) et de feuilles (carrés en bout de chaîne). Chaque noeud comporte l'information relative à une décision. Si toutes les informations du noeud sont respectées, on passe au noeud enfant suivant la flèche True, sinon on passe au noeud enfant suivant la flèche False. Cela permet en bout de course d'arriver à une feuille qui comporte l'information de la décision prise par l'arbre au final."
   ]
  },
  {
   "attachments": {},
   "cell_type": "markdown",
   "metadata": {},
   "source": [
    "<u>Réponse 2</u> : On dessine les frontières de décision (entre chaque paire d'attributs) relative à l'arbre de décision entraîné précédemment."
   ]
  },
  {
   "cell_type": "code",
   "execution_count": 16,
   "metadata": {},
   "outputs": [
    {
     "data": {
      "image/png": "[encoded data removed]",
      "text/plain": [
       "<Figure size 432x288 with 6 Axes>"
      ]
     },
     "metadata": {
      "needs_background": "light"
     },
     "output_type": "display_data"
    }
   ],
   "source": [
    "from sklearn.inspection import DecisionBoundaryDisplay\n",
    "from itertools import combinations\n",
    "\n",
    "attr = list(combinations(df.columns[:-2], 2))\n",
    "attr = list(map(list, attr)) # List of all pairs of attributes in the iris dataset\n",
    "\n",
    "for i, pair in enumerate(attr):\n",
    "    X = df[pair].to_numpy()\n",
    "    y = iris.target\n",
    "    clf = tree.DecisionTreeClassifier(random_state=rng_seed).fit(X,y)\n",
    "    \n",
    "    ax = plt.subplot(2,3,i+1)\n",
    "    plt.tight_layout(h_pad=0.5, w_pad=0.5, pad=2.5)\n",
    "    # Decision Boundaries\n",
    "    DecisionBoundaryDisplay.from_estimator(clf, X, cmap = \"brg\", response_method=\"predict\", ax=ax,\n",
    "                                           xlabel=pair[0],\n",
    "                                           ylabel=pair[1])    \n",
    "    # Data Points\n",
    "    for t, color in zip(range(3), \"brg\"):\n",
    "        idx = np.where(t == y)\n",
    "        plt.scatter(X[idx, 0],\n",
    "                    X[idx, 1],\n",
    "                    c = color,\n",
    "                    cmap = \"brg\",\n",
    "                    edgecolors=\"black\",\n",
    "                    s = 20)\n",
    "        \n",
    "plt.suptitle(\"Ensemble de frontières de décisions 2 à 2 données par un DecisionTree\");"
   ]
  },
  {
   "attachments": {},
   "cell_type": "markdown",
   "metadata": {},
   "source": [
    "--------"
   ]
  },
  {
   "cell_type": "markdown",
   "metadata": {},
   "source": [
    "## Exercise 2\n",
    "1. Build 2 different trees based on a sepal features (sepal lengths, sepal widths) vs petal features (petal lengths, petal widths) only: which features are the most discriminant?\n",
    "\n",
    "2. Compare performances with those obtained using all features.\n",
    "\n",
    "3. Try the same as above using the various splitting criterion available, Gini's index, classification error or cross-entropy. Comment on your results. "
   ]
  },
  {
   "attachments": {},
   "cell_type": "markdown",
   "metadata": {},
   "source": [
    "<u>Réponse 1</u> : On crée deux arbres de décision basés sur les attributs liés aux sépales et ceux liés aux pétales."
   ]
  },
  {
   "cell_type": "code",
   "execution_count": 17,
   "metadata": {},
   "outputs": [],
   "source": [
    "df = pd.DataFrame(iris.data, columns=iris.feature_names)\n",
    "\n",
    "df['species'] = pd.Categorical.from_codes(iris.target, iris.target_names)\n",
    "df['is_train'] = np.random.uniform(0, 1, len(df)) <= .75\n",
    "train, test = df[df['is_train']==True], df[df['is_train']==False]\n",
    "y = pd.factorize(train['species'])[0]\n",
    "y_true = pd.factorize(test['species'])[0]"
   ]
  },
  {
   "cell_type": "code",
   "execution_count": 18,
   "metadata": {},
   "outputs": [],
   "source": [
    "features_sepal = [\"sepal length (cm)\", \"sepal width (cm)\"]\n",
    "features_petal = [\"petal length (cm)\", \"petal width (cm)\"]\n",
    "\n",
    "X_sepal = train[features_sepal]\n",
    "clf_sepal = tree.DecisionTreeClassifier(random_state=rng_seed).fit(X_sepal, y)\n",
    "\n",
    "X_petal = train[features_petal]\n",
    "clf_petal = tree.DecisionTreeClassifier(random_state=rng_seed).fit(X_petal, y)"
   ]
  },
  {
   "cell_type": "code",
   "execution_count": 19,
   "metadata": {},
   "outputs": [
    {
     "name": "stdout",
     "output_type": "stream",
     "text": [
      "ACC (sepal) : 0.6571428571428571\n",
      "ACC (petal) : 0.9714285714285714\n"
     ]
    }
   ],
   "source": [
    "from sklearn.metrics import accuracy_score\n",
    "\n",
    "y_pred_sepal = clf_sepal.predict(test[features_sepal])\n",
    "y_pred_petal = clf_petal.predict(test[features_petal])\n",
    "print(f\"ACC (sepal) : {accuracy_score(y_true, y_pred_sepal)}\")\n",
    "print(f\"ACC (petal) : {accuracy_score(y_true, y_pred_petal)}\")"
   ]
  },
  {
   "cell_type": "code",
   "execution_count": 20,
   "metadata": {},
   "outputs": [
    {
     "name": "stdout",
     "output_type": "stream",
     "text": [
      "ACC (sepal) : 0.6571428571428571\n",
      "ACC (petal) : 0.9714285714285714\n"
     ]
    }
   ],
   "source": [
    "from sklearn.metrics import accuracy_score\n",
    "\n",
    "y_pred_sepal = clf_sepal.predict(test[features_sepal])\n",
    "y_pred_petal = clf_petal.predict(test[features_petal])\n",
    "print(f\"ACC (sepal) : {accuracy_score(y_true, y_pred_sepal)}\")\n",
    "print(f\"ACC (petal) : {accuracy_score(y_true, y_pred_petal)}\")"
   ]
  },
  {
   "cell_type": "code",
   "execution_count": 21,
   "metadata": {},
   "outputs": [
    {
     "data": {
      "image/png": "[encoded data removed]",
      "text/plain": [
       "<Figure size 864x576 with 4 Axes>"
      ]
     },
     "metadata": {
      "needs_background": "light"
     },
     "output_type": "display_data"
    }
   ],
   "source": [
    "from sklearn.metrics import confusion_matrix\n",
    "import seaborn as sns\n",
    "\n",
    "confusion_matrix_sepal = confusion_matrix(y_true, y_pred_sepal)\n",
    "confusion_matrix_petal = confusion_matrix(y_true, y_pred_petal)\n",
    "fig, ax = plt.subplots(1,2, figsize=(12,8))\n",
    "sns.heatmap(confusion_matrix_sepal, ax=ax[0], annot=True, cmap=\"YlGnBu\")\n",
    "sns.heatmap(confusion_matrix_petal, ax=ax[1], annot=True, cmap=\"YlGnBu\")\n",
    "\n",
    "ax[0].set_title(\"Confusion Matrix for Sepal\")\n",
    "ax[0].set_xlabel(\"Predictions values\")\n",
    "ax[0].set_ylabel(\"Actual values\")\n",
    "\n",
    "ax[1].set_title(\"Confusion Matrix for Petal\")\n",
    "ax[1].set_xlabel(\"Predictions values\")\n",
    "ax[1].set_ylabel(\"Actual values\");"
   ]
  },
  {
   "attachments": {},
   "cell_type": "markdown",
   "metadata": {},
   "source": [
    "On a estimé les performances des deux arbres de décision suivant les metrics d'accuracy et par la matrice de confusion.\n",
    "- Accuracy : Les prédictions sont plus précises par l'arbre de décision sur les pétales (environ 95%) même si un tel résultat doit être pris en considérant que le jeu de données a assez peu d'échantillons\n",
    "- Confusion matrix : Les résultats confirment l'accuracy avec des données bien prédites plus importantes lorsque l'on ne garde que les attributs liés aux pétales. On constate que les valeurs mal prédites lorsque l'on ne garde que les attributs liés aux sépales se répartissent sur la mauvaise prédiction entre Versicolour et Virginica"
   ]
  },
  {
   "attachments": {},
   "cell_type": "markdown",
   "metadata": {},
   "source": [
    "<u>Réponse 2</u> : Comparons les performances avec les performances de l'arbre de décision qui garde tous les attributs"
   ]
  },
  {
   "cell_type": "code",
   "execution_count": 22,
   "metadata": {},
   "outputs": [
    {
     "name": "stdout",
     "output_type": "stream",
     "text": [
      "ACC (all) : 0.9714285714285714\n"
     ]
    },
    {
     "data": {
      "image/png": "[encoded data removed]",
      "text/plain": [
       "<Figure size 432x288 with 2 Axes>"
      ]
     },
     "metadata": {
      "needs_background": "light"
     },
     "output_type": "display_data"
    }
   ],
   "source": [
    "X = train.iloc[:, 0:4]\n",
    "clf_all = tree.DecisionTreeClassifier(random_state=rng_seed).fit(X, y)\n",
    "\n",
    "y_pred_all = clf_all.predict(test.iloc[:, 0:4])\n",
    "print(f\"ACC (all) : {accuracy_score(y_true, y_pred_all)}\")\n",
    "confusion_matrix_all = confusion_matrix(y_true, y_pred_all)\n",
    "ax = plt.subplot(1,1,1)\n",
    "sns.heatmap(confusion_matrix_all, ax=ax, annot=True, cmap=\"YlGnBu\");\n",
    "\n",
    "ax.set_title(\"Confusion Matrix for all\")\n",
    "ax.set_xlabel(\"Predictions values\")\n",
    "ax.set_ylabel(\"Actual values\");"
   ]
  },
  {
   "attachments": {},
   "cell_type": "markdown",
   "metadata": {},
   "source": [
    "On constate qu'en utilisant l'ensemble du jeu de données les prédictions sont excellentes comme pour l'abre de décision liés simplement aux pétales\n",
    "- ACC : Environ 97,1% (par rapport à 65,8% et 97,1%)\n",
    "- Confusion Matrix : 1 erreur entre Versicolour et Virginica"
   ]
  },
  {
   "attachments": {},
   "cell_type": "markdown",
   "metadata": {},
   "source": [
    "<u>Réponse 3</u> : Changeons désormais le critère de décision pour comparer les performances"
   ]
  },
  {
   "cell_type": "code",
   "execution_count": 23,
   "metadata": {},
   "outputs": [],
   "source": [
    "df = pd.DataFrame(iris.data, columns=iris.feature_names)\n",
    "\n",
    "df['species'] = pd.Categorical.from_codes(iris.target, iris.target_names)\n",
    "df['is_train'] = np.random.uniform(0, 1, len(df)) <= .75\n",
    "train, test = df[df['is_train']==True], df[df['is_train']==False]\n",
    "y = pd.factorize(train['species'])[0]\n",
    "y_true = pd.factorize(test['species'])[0]"
   ]
  },
  {
   "cell_type": "code",
   "execution_count": 24,
   "metadata": {},
   "outputs": [],
   "source": [
    "features_sepal = [\"sepal length (cm)\", \"sepal width (cm)\"]\n",
    "features_petal = [\"petal length (cm)\", \"petal width (cm)\"]\n",
    "\n",
    "X_sepal = train[features_sepal]\n",
    "clf_sepal = tree.DecisionTreeClassifier(criterion=\"entropy\", random_state=rng_seed).fit(X_sepal, y)\n",
    "\n",
    "X_petal = train[features_petal]\n",
    "clf_petal = tree.DecisionTreeClassifier(criterion=\"entropy\", random_state=rng_seed).fit(X_petal, y)\n",
    "\n",
    "X = train.iloc[:, 0:4]\n",
    "clf_all = tree.DecisionTreeClassifier(criterion=\"entropy\", random_state=rng_seed).fit(X, y)"
   ]
  },
  {
   "cell_type": "code",
   "execution_count": 25,
   "metadata": {},
   "outputs": [
    {
     "name": "stdout",
     "output_type": "stream",
     "text": [
      "ACC (sepal) : 0.7741935483870968\n",
      "ACC (petal) : 0.967741935483871\n",
      "ACC (all) : 0.967741935483871\n"
     ]
    },
    {
     "data": {
      "image/png": "[encoded data removed]",
      "text/plain": [
       "<Figure size 864x576 with 6 Axes>"
      ]
     },
     "metadata": {
      "needs_background": "light"
     },
     "output_type": "display_data"
    }
   ],
   "source": [
    "y_pred_sepal = clf_sepal.predict(test[features_sepal])\n",
    "y_pred_petal = clf_petal.predict(test[features_petal])\n",
    "y_pred_all = clf_all.predict(test.iloc[:, 0:4])\n",
    "print(f\"ACC (sepal) : {accuracy_score(y_true, y_pred_sepal)}\")\n",
    "print(f\"ACC (petal) : {accuracy_score(y_true, y_pred_petal)}\")\n",
    "print(f\"ACC (all) : {accuracy_score(y_true, y_pred_all)}\")\n",
    "\n",
    "confusion_matrix_sepal = confusion_matrix(y_true, y_pred_sepal)\n",
    "confusion_matrix_petal = confusion_matrix(y_true, y_pred_petal)\n",
    "confusion_matrix_all = confusion_matrix(y_true, y_pred_all)\n",
    "fig, ax = plt.subplots(1,3, figsize=(12,8))\n",
    "sns.heatmap(confusion_matrix_sepal, ax=ax[0], annot=True, cmap=\"YlGnBu\")\n",
    "sns.heatmap(confusion_matrix_petal, ax=ax[1], annot=True, cmap=\"YlGnBu\")\n",
    "sns.heatmap(confusion_matrix_all, ax=ax[2], annot=True, cmap=\"YlGnBu\")\n",
    "\n",
    "ax[0].set_title(\"Confusion Matrix for Sepal\")\n",
    "ax[0].set_xlabel(\"Predictions values\")\n",
    "ax[0].set_ylabel(\"Actual values\")\n",
    "\n",
    "ax[1].set_title(\"Confusion Matrix for Petal\")\n",
    "ax[1].set_xlabel(\"Predictions values\")\n",
    "ax[1].set_ylabel(\"Actual values\");\n",
    "\n",
    "ax[2].set_title(\"Confusion Matrix for all\")\n",
    "ax[2].set_xlabel(\"Predictions values\")\n",
    "ax[2].set_ylabel(\"Actual values\");"
   ]
  },
  {
   "cell_type": "code",
   "execution_count": 26,
   "metadata": {},
   "outputs": [],
   "source": [
    "df = pd.DataFrame(iris.data, columns=iris.feature_names)\n",
    "\n",
    "df['species'] = pd.Categorical.from_codes(iris.target, iris.target_names)\n",
    "df['is_train'] = np.random.uniform(0, 1, len(df)) <= .75\n",
    "train, test = df[df['is_train']==True], df[df['is_train']==False]\n",
    "y = pd.factorize(train['species'])[0]\n",
    "y_true = pd.factorize(test['species'])[0]"
   ]
  },
  {
   "cell_type": "code",
   "execution_count": 27,
   "metadata": {},
   "outputs": [],
   "source": [
    "features_sepal = [\"sepal length (cm)\", \"sepal width (cm)\"]\n",
    "features_petal = [\"petal length (cm)\", \"petal width (cm)\"]\n",
    "\n",
    "X_sepal = train[features_sepal]\n",
    "clf_sepal = tree.DecisionTreeClassifier(criterion=\"log_loss\", random_state=rng_seed).fit(X_sepal, y)\n",
    "\n",
    "X_petal = train[features_petal]\n",
    "clf_petal = tree.DecisionTreeClassifier(criterion=\"log_loss\", random_state=rng_seed).fit(X_petal, y)\n",
    "\n",
    "X = train.iloc[:, 0:4]\n",
    "clf_all = tree.DecisionTreeClassifier(criterion=\"log_loss\", random_state=rng_seed).fit(X, y)"
   ]
  },
  {
   "cell_type": "code",
   "execution_count": 28,
   "metadata": {},
   "outputs": [
    {
     "name": "stdout",
     "output_type": "stream",
     "text": [
      "ACC (sepal) : 0.6363636363636364\n",
      "ACC (petal) : 0.9696969696969697\n",
      "ACC (all) : 0.9090909090909091\n"
     ]
    },
    {
     "data": {
      "image/png": "[encoded data removed]",
      "text/plain": [
       "<Figure size 864x576 with 6 Axes>"
      ]
     },
     "metadata": {
      "needs_background": "light"
     },
     "output_type": "display_data"
    }
   ],
   "source": [
    "y_pred_sepal = clf_sepal.predict(test[features_sepal])\n",
    "y_pred_petal = clf_petal.predict(test[features_petal])\n",
    "y_pred_all = clf_all.predict(test.iloc[:, 0:4])\n",
    "print(f\"ACC (sepal) : {accuracy_score(y_true, y_pred_sepal)}\")\n",
    "print(f\"ACC (petal) : {accuracy_score(y_true, y_pred_petal)}\")\n",
    "print(f\"ACC (all) : {accuracy_score(y_true, y_pred_all)}\")\n",
    "\n",
    "confusion_matrix_sepal = confusion_matrix(y_true, y_pred_sepal)\n",
    "confusion_matrix_petal = confusion_matrix(y_true, y_pred_petal)\n",
    "confusion_matrix_all = confusion_matrix(y_true, y_pred_all)\n",
    "fig, ax = plt.subplots(1,3, figsize=(12,8))\n",
    "sns.heatmap(confusion_matrix_sepal, ax=ax[0], annot=True, cmap=\"YlGnBu\")\n",
    "sns.heatmap(confusion_matrix_petal, ax=ax[1], annot=True, cmap=\"YlGnBu\")\n",
    "sns.heatmap(confusion_matrix_all, ax=ax[2], annot=True, cmap=\"YlGnBu\")\n",
    "\n",
    "ax[0].set_title(\"Confusion Matrix for Sepal\")\n",
    "ax[0].set_xlabel(\"Predictions values\")\n",
    "ax[0].set_ylabel(\"Actual values\")\n",
    "\n",
    "ax[1].set_title(\"Confusion Matrix for Petal\")\n",
    "ax[1].set_xlabel(\"Predictions values\")\n",
    "ax[1].set_ylabel(\"Actual values\");\n",
    "\n",
    "ax[2].set_title(\"Confusion Matrix for all\")\n",
    "ax[2].set_xlabel(\"Predictions values\")\n",
    "ax[2].set_ylabel(\"Actual values\");"
   ]
  },
  {
   "attachments": {},
   "cell_type": "markdown",
   "metadata": {},
   "source": [
    "On met tout sous forme de tableau pour résumer :"
   ]
  },
  {
   "cell_type": "code",
   "execution_count": 29,
   "metadata": {},
   "outputs": [
    {
     "data": {
      "image/png": "[encoded data removed]",
      "text/plain": [
       "<IPython.core.display.Image object>"
      ]
     },
     "execution_count": 29,
     "metadata": {},
     "output_type": "execute_result"
    }
   ],
   "source": [
    "from IPython import display\n",
    "display.Image(\"Summary_table.png\")"
   ]
  },
  {
   "attachments": {},
   "cell_type": "markdown",
   "metadata": {},
   "source": [
    "On constate presque toujours une précision similaire entre le jeu de données réduit aux données de sépales et le jeu de données total."
   ]
  },
  {
   "cell_type": "markdown",
   "metadata": {},
   "source": [
    "### Going further ahead (not mandatory) \n",
    "Try the same approach adapted to another toy dataset from `scikit-learn` described at:\n",
    "http://scikit-learn.org/stable/datasets/index.html\n",
    "\n",
    "Play with another dataset available at:\n",
    "http://archive.ics.uci.edu/ml/datasets.html"
   ]
  },
  {
   "cell_type": "markdown",
   "metadata": {},
   "source": [
    "## Step 4: Random forests\n",
    "Go to \n",
    "\n",
    "http://scikit-learn.org/stable/modules/generated/sklearn.ensemble.RandomForestClassifier.html \n",
    "\n",
    "for a documentation about the `RandomForestClassifier` provided by `scikit-learn`.\n",
    "\n",
    "Since target values must be integers, we first need to transform labels into numbers as below."
   ]
  },
  {
   "cell_type": "code",
   "execution_count": 30,
   "metadata": {},
   "outputs": [
    {
     "data": {
      "text/plain": [
       "array([0, 0, 0, 0, 0, 0, 0, 0, 0, 0, 0, 0, 0, 0, 0, 0, 0, 0, 0, 0, 0, 0,\n",
       "       0, 0, 0, 0, 0, 0, 0, 0, 0, 0, 0, 0, 0, 0, 0, 1, 1, 1, 1, 1, 1, 1,\n",
       "       1, 1, 1, 1, 1, 1, 1, 1, 1, 1, 1, 1, 1, 1, 1, 1, 1, 1, 1, 1, 1, 1,\n",
       "       1, 1, 1, 1, 1, 1, 1, 1, 1, 1, 1, 1, 1, 1, 1, 2, 2, 2, 2, 2, 2, 2,\n",
       "       2, 2, 2, 2, 2, 2, 2, 2, 2, 2, 2, 2, 2, 2, 2, 2, 2, 2, 2, 2, 2, 2,\n",
       "       2, 2, 2, 2, 2, 2, 2], dtype=int64)"
      ]
     },
     "execution_count": 30,
     "metadata": {},
     "output_type": "execute_result"
    }
   ],
   "source": [
    "# train['species'] contains the actual species names. Before we can use it,\n",
    "# we need to convert each species name into a digit. So, in this case there\n",
    "# are three species, which have been coded as 0, 1, or 2.\n",
    "y = pd.factorize(train['species'])[0]\n",
    "\n",
    "# View target\n",
    "y"
   ]
  },
  {
   "cell_type": "code",
   "execution_count": 31,
   "metadata": {},
   "outputs": [
    {
     "data": {
      "text/html": [
       "<style>#sk-container-id-1 {color: black;background-color: white;}#sk-container-id-1 pre{padding: 0;}#sk-container-id-1 div.sk-toggleable {background-color: white;}#sk-container-id-1 label.sk-toggleable__label {cursor: pointer;display: block;width: 100%;margin-bottom: 0;padding: 0.3em;box-sizing: border-box;text-align: center;}#sk-container-id-1 label.sk-toggleable__label-arrow:before {content: \"▸\";float: left;margin-right: 0.25em;color: #696969;}#sk-container-id-1 label.sk-toggleable__label-arrow:hover:before {color: black;}#sk-container-id-1 div.sk-estimator:hover label.sk-toggleable__label-arrow:before {color: black;}#sk-container-id-1 div.sk-toggleable__content {max-height: 0;max-width: 0;overflow: hidden;text-align: left;background-color: #f0f8ff;}#sk-container-id-1 div.sk-toggleable__content pre {margin: 0.2em;color: black;border-radius: 0.25em;background-color: #f0f8ff;}#sk-container-id-1 input.sk-toggleable__control:checked~div.sk-toggleable__content {max-height: 200px;max-width: 100%;overflow: auto;}#sk-container-id-1 input.sk-toggleable__control:checked~label.sk-toggleable__label-arrow:before {content: \"▾\";}#sk-container-id-1 div.sk-estimator input.sk-toggleable__control:checked~label.sk-toggleable__label {background-color: #d4ebff;}#sk-container-id-1 div.sk-label input.sk-toggleable__control:checked~label.sk-toggleable__label {background-color: #d4ebff;}#sk-container-id-1 input.sk-hidden--visually {border: 0;clip: rect(1px 1px 1px 1px);clip: rect(1px, 1px, 1px, 1px);height: 1px;margin: -1px;overflow: hidden;padding: 0;position: absolute;width: 1px;}#sk-container-id-1 div.sk-estimator {font-family: monospace;background-color: #f0f8ff;border: 1px dotted black;border-radius: 0.25em;box-sizing: border-box;margin-bottom: 0.5em;}#sk-container-id-1 div.sk-estimator:hover {background-color: #d4ebff;}#sk-container-id-1 div.sk-parallel-item::after {content: \"\";width: 100%;border-bottom: 1px solid gray;flex-grow: 1;}#sk-container-id-1 div.sk-label:hover label.sk-toggleable__label {background-color: #d4ebff;}#sk-container-id-1 div.sk-serial::before {content: \"\";position: absolute;border-left: 1px solid gray;box-sizing: border-box;top: 0;bottom: 0;left: 50%;z-index: 0;}#sk-container-id-1 div.sk-serial {display: flex;flex-direction: column;align-items: center;background-color: white;padding-right: 0.2em;padding-left: 0.2em;position: relative;}#sk-container-id-1 div.sk-item {position: relative;z-index: 1;}#sk-container-id-1 div.sk-parallel {display: flex;align-items: stretch;justify-content: center;background-color: white;position: relative;}#sk-container-id-1 div.sk-item::before, #sk-container-id-1 div.sk-parallel-item::before {content: \"\";position: absolute;border-left: 1px solid gray;box-sizing: border-box;top: 0;bottom: 0;left: 50%;z-index: -1;}#sk-container-id-1 div.sk-parallel-item {display: flex;flex-direction: column;z-index: 1;position: relative;background-color: white;}#sk-container-id-1 div.sk-parallel-item:first-child::after {align-self: flex-end;width: 50%;}#sk-container-id-1 div.sk-parallel-item:last-child::after {align-self: flex-start;width: 50%;}#sk-container-id-1 div.sk-parallel-item:only-child::after {width: 0;}#sk-container-id-1 div.sk-dashed-wrapped {border: 1px dashed gray;margin: 0 0.4em 0.5em 0.4em;box-sizing: border-box;padding-bottom: 0.4em;background-color: white;}#sk-container-id-1 div.sk-label label {font-family: monospace;font-weight: bold;display: inline-block;line-height: 1.2em;}#sk-container-id-1 div.sk-label-container {text-align: center;}#sk-container-id-1 div.sk-container {/* jupyter's `normalize.less` sets `[hidden] { display: none; }` but bootstrap.min.css set `[hidden] { display: none !important; }` so we also need the `!important` here to be able to override the default hidden behavior on the sphinx rendered scikit-learn.org. See: https://github.com/scikit-learn/scikit-learn/issues/21755 */display: inline-block !important;position: relative;}#sk-container-id-1 div.sk-text-repr-fallback {display: none;}</style><div id=\"sk-container-id-1\" class=\"sk-top-container\"><div class=\"sk-text-repr-fallback\"><pre>RandomForestClassifier(n_jobs=2, random_state=0)</pre><b>In a Jupyter environment, please rerun this cell to show the HTML representation or trust the notebook. <br />On GitHub, the HTML representation is unable to render, please try loading this page with nbviewer.org.</b></div><div class=\"sk-container\" hidden><div class=\"sk-item\"><div class=\"sk-estimator sk-toggleable\"><input class=\"sk-toggleable__control sk-hidden--visually\" id=\"sk-estimator-id-1\" type=\"checkbox\" checked><label for=\"sk-estimator-id-1\" class=\"sk-toggleable__label sk-toggleable__label-arrow\">RandomForestClassifier</label><div class=\"sk-toggleable__content\"><pre>RandomForestClassifier(n_jobs=2, random_state=0)</pre></div></div></div></div></div>"
      ],
      "text/plain": [
       "RandomForestClassifier(n_jobs=2, random_state=0)"
      ]
     },
     "execution_count": 31,
     "metadata": {},
     "output_type": "execute_result"
    }
   ],
   "source": [
    "# Create a random forest Classifier. By convention, clf means 'Classifier'\n",
    "rf = RandomForestClassifier(n_jobs=2, random_state=0)\n",
    "\n",
    "# Train the Classifier to take the training features and learn how they relate\n",
    "# to the training y (the species)\n",
    "rf.fit(train[features], y)"
   ]
  },
  {
   "cell_type": "markdown",
   "metadata": {},
   "source": [
    "**Make predictions** and create actual english names for the plants for each predicted plant class:"
   ]
  },
  {
   "cell_type": "code",
   "execution_count": 32,
   "metadata": {},
   "outputs": [
    {
     "data": {
      "text/plain": [
       "['setosa', 'setosa', 'setosa', 'setosa', 'setosa', ..., 'virginica', 'virginica', 'virginica', 'virginica', 'virginica']\n",
       "Length: 33\n",
       "Categories (3, object): ['setosa', 'versicolor', 'virginica']"
      ]
     },
     "execution_count": 32,
     "metadata": {},
     "output_type": "execute_result"
    }
   ],
   "source": [
    "preds = rf.predict(test[features])\n",
    "preds_names = pd.Categorical.from_codes(preds, iris.target_names)\n",
    "preds_names"
   ]
  },
  {
   "cell_type": "markdown",
   "metadata": {},
   "source": [
    "### Create a confusion matrix"
   ]
  },
  {
   "cell_type": "code",
   "execution_count": 33,
   "metadata": {},
   "outputs": [
    {
     "data": {
      "text/html": [
       "<div>\n",
       "<style scoped>\n",
       "    .dataframe tbody tr th:only-of-type {\n",
       "        vertical-align: middle;\n",
       "    }\n",
       "\n",
       "    .dataframe tbody tr th {\n",
       "        vertical-align: top;\n",
       "    }\n",
       "\n",
       "    .dataframe thead th {\n",
       "        text-align: right;\n",
       "    }\n",
       "</style>\n",
       "<table border=\"1\" class=\"dataframe\">\n",
       "  <thead>\n",
       "    <tr style=\"text-align: right;\">\n",
       "      <th>Predicted Species</th>\n",
       "      <th>0</th>\n",
       "      <th>1</th>\n",
       "      <th>2</th>\n",
       "    </tr>\n",
       "    <tr>\n",
       "      <th>Actual Species</th>\n",
       "      <th></th>\n",
       "      <th></th>\n",
       "      <th></th>\n",
       "    </tr>\n",
       "  </thead>\n",
       "  <tbody>\n",
       "    <tr>\n",
       "      <th>setosa</th>\n",
       "      <td>13</td>\n",
       "      <td>0</td>\n",
       "      <td>0</td>\n",
       "    </tr>\n",
       "    <tr>\n",
       "      <th>versicolor</th>\n",
       "      <td>0</td>\n",
       "      <td>5</td>\n",
       "      <td>1</td>\n",
       "    </tr>\n",
       "    <tr>\n",
       "      <th>virginica</th>\n",
       "      <td>0</td>\n",
       "      <td>0</td>\n",
       "      <td>14</td>\n",
       "    </tr>\n",
       "  </tbody>\n",
       "</table>\n",
       "</div>"
      ],
      "text/plain": [
       "Predicted Species   0  1   2\n",
       "Actual Species              \n",
       "setosa             13  0   0\n",
       "versicolor          0  5   1\n",
       "virginica           0  0  14"
      ]
     },
     "execution_count": 33,
     "metadata": {},
     "output_type": "execute_result"
    }
   ],
   "source": [
    "# Create confusion matrix unsing pandas:\n",
    "pd.crosstab(test['species'], preds, rownames=['Actual Species'], colnames=['Predicted Species'])"
   ]
  },
  {
   "cell_type": "markdown",
   "metadata": {},
   "source": [
    "## Feature selection using random forests byproducts\n",
    "\n",
    "One of the interesting use cases for random forest is feature selection. One of the byproducts of trying lots of decision tree variations is that you can examine which variables are working best/worst in each tree.\n",
    "\n",
    "When a certain tree uses one variable and another doesn't, you can compare the value lost or gained from the inclusion/exclusion of that variable. The good random forest implementations are going to do that for you, so all you need to do is know which method or variable to look at."
   ]
  },
  {
   "cell_type": "markdown",
   "metadata": {},
   "source": [
    "### View feature importance\n",
    "While we don't get regression coefficients like with ordinary least squares (OLS), we do get a score telling us how important each feature was in classifying. This is one of the most powerful parts of random forests, because we can clearly see that petal width was more important in classification than sepal width.\n"
   ]
  },
  {
   "cell_type": "code",
   "execution_count": 34,
   "metadata": {},
   "outputs": [
    {
     "data": {
      "text/plain": [
       "[('sepal length (cm)', 0.08491096026312027),\n",
       " ('sepal width (cm)', 0.035294555798343515),\n",
       " ('petal length (cm)', 0.4598990276524132),\n",
       " ('petal width (cm)', 0.41989545628612296)]"
      ]
     },
     "execution_count": 34,
     "metadata": {},
     "output_type": "execute_result"
    }
   ],
   "source": [
    "# View a list of the features and their importance scores\n",
    "list(zip(train[features], rf.feature_importances_))"
   ]
  },
  {
   "cell_type": "markdown",
   "metadata": {},
   "source": [
    "## Exercise 3\n",
    "1. Comment on the feature importances with respect to your previous observations on decision trees above.\n",
    "\n",
    "2. Extract and visualize 5 trees belonging to the random forest using the attribute `estimators_` of the trained random forest classifier. Compare them. *Note that you may code a loop on extracted trees.*\n",
    "\n",
    "3. Study the influence of parameters like `max_depth`, `min_samples_leaf` and `min_samples_split`. Try to optimize them and explain your approach and choices.\n",
    "\n",
    "4. How is estimated the prediction error of a random forest ?\n",
    "*Indication: have a look at parameter `oob_score`.*\n",
    "What are out-of-bag samples ?\n",
    "\n",
    "5. What should you do when classes are not balanced in the dataset ? (that is when there are much more examples of one class than another)"
   ]
  },
  {
   "attachments": {},
   "cell_type": "markdown",
   "metadata": {},
   "source": [
    "<u>Réponse 1</u> : A la lumière des résultats précédents, on se rend compte que les attributs liés aux pétales sont bien plus importants dans la classfication que les attributs liés aux sépales. Cela éclaire donc bien les résultats précédents qui montraient qu'un arbre de décision simplement sur les attributs liés aux pétales est déjà très efficace."
   ]
  },
  {
   "attachments": {},
   "cell_type": "markdown",
   "metadata": {},
   "source": [
    "<u>Réponse 2</u> : On extrait puis on enregistre dans rf_results 5 arbres de décision de la Random Forest."
   ]
  },
  {
   "cell_type": "code",
   "execution_count": 49,
   "metadata": {},
   "outputs": [
    {
     "name": "stdout",
     "output_type": "stream",
     "text": [
      "ACC for tree_0 = 0.9393939393939394\n",
      "ACC for tree_1 = 0.9696969696969697\n",
      "ACC for tree_2 = 0.9696969696969697\n",
      "ACC for tree_3 = 0.9696969696969697\n",
      "ACC for tree_4 = 0.9393939393939394\n"
     ]
    }
   ],
   "source": [
    "random.seed(10)\n",
    "trees = random.sample(rf.estimators_, k=5)\n",
    "for i, one_tree in enumerate(trees):\n",
    "    dot_data = tree.export_graphviz(one_tree, out_file=None, \n",
    "                         feature_names=iris.feature_names,  \n",
    "                         class_names=iris.target_names,  \n",
    "                         filled=True, rounded=True,  \n",
    "                         special_characters=True)  \n",
    "    graph = graphviz.Source(dot_data)\n",
    "    graph.render(f\"rf_results/tree_{i}\")\n",
    "    y_pred = one_tree.predict(test.iloc[:, 0:4])\n",
    "    print(f\"ACC for tree_{i} = {accuracy_score(y_true, y_pred)}\")"
   ]
  },
  {
   "attachments": {},
   "cell_type": "markdown",
   "metadata": {},
   "source": [
    "En particulier, calculons une forme de score pour chaque arbre sous la forme d'une somme noramlisée des scores d'importances calculés précédemment :\n",
    "- Tree_0 : $\\frac{2*0,46 + 3*0,42 + 2*0,08 + 2*0,035}{9} = \\frac{2,41}{9} = 0,268$\n",
    "- Tree_1 : $\\frac{1*0,46 + 4*0,42 + 0*0,08 + 0*0,035}{5} = \\frac{2,14}{5} = 0,428$\n",
    "- Tree_2 : $\\frac{3*0,46 + 1*0,42 + 0*0,08 + 1*0,035}{5} = \\frac{1,835}{5} = 0,367$\n",
    "- Tree_3 : $\\frac{3*0,46 + 1*0,42 + 2*0,08 + 0*0,035}{6} = \\frac{1,96}{6} = 0,327$\n",
    "- Tree_4 : $\\frac{0*0,46 + 3*0,42 + 0*0,08 + 1*0,035}{4} = \\frac{1,295}{4} = 0,324$\n",
    "\n",
    "Donc en termes d'\"importance\", les deux arbres ayant un score d'importance les plus faibles sont bien les arbres 0 et 4 qui sont ceux ayant une accuracy plus faible."
   ]
  },
  {
   "attachments": {},
   "cell_type": "markdown",
   "metadata": {},
   "source": [
    "<u>Réponse 3</u> : Jouons avec les hyperparamètres."
   ]
  },
  {
   "cell_type": "code",
   "execution_count": 50,
   "metadata": {},
   "outputs": [],
   "source": [
    "df = pd.DataFrame(iris.data, columns=iris.feature_names)\n",
    "\n",
    "df['species'] = pd.Categorical.from_codes(iris.target, iris.target_names)\n",
    "df['is_train'] = np.random.uniform(0, 1, len(df)) <= .75\n",
    "train, test = df[df['is_train']==True], df[df['is_train']==False]\n",
    "y = pd.factorize(train['species'])[0]\n",
    "y_true = pd.factorize(test['species'])[0]"
   ]
  },
  {
   "cell_type": "code",
   "execution_count": 57,
   "metadata": {},
   "outputs": [
    {
     "data": {
      "image/png": "[encoded data removed]",
      "text/plain": [
       "<Figure size 432x288 with 1 Axes>"
      ]
     },
     "metadata": {
      "needs_background": "light"
     },
     "output_type": "display_data"
    }
   ],
   "source": [
    "DEPTH = np.linspace(2,8,7).astype(int)\n",
    "abs, ord = [], []\n",
    "for max_depth in DEPTH:\n",
    "    rf = RandomForestClassifier(n_jobs=2, max_depth=max_depth, random_state=rng_seed)\n",
    "    rf.fit(train[features], y)\n",
    "    y_pred = rf.predict(test[features])\n",
    "    abs.append(max_depth)\n",
    "    ord.append(accuracy_score(y_true, y_pred))\n",
    "plt.plot(abs, ord)\n",
    "plt.title(\"Evolution de la précision selon la profondeur maximale\")\n",
    "plt.xlabel(\"Max_depth\")\n",
    "plt.ylabel(\"Accuracy score\");"
   ]
  },
  {
   "cell_type": "code",
   "execution_count": 59,
   "metadata": {},
   "outputs": [
    {
     "data": {
      "image/png": "[encoded data removed]",
      "text/plain": [
       "<Figure size 432x288 with 1 Axes>"
      ]
     },
     "metadata": {
      "needs_background": "light"
     },
     "output_type": "display_data"
    }
   ],
   "source": [
    "LEAF = np.linspace(1,8,8).astype(int)\n",
    "abs, ord = [], []\n",
    "for min_samples_leaf in LEAF:\n",
    "    rf = RandomForestClassifier(n_jobs=2, min_samples_leaf=min_samples_leaf, random_state=rng_seed)\n",
    "    rf.fit(train[features], y)\n",
    "    y_pred = rf.predict(test[features])\n",
    "    abs.append(min_samples_leaf)\n",
    "    ord.append(accuracy_score(y_true, y_pred))\n",
    "plt.plot(abs, ord)\n",
    "plt.title(\"Evolution de la précision selon min_samples_leaf\")\n",
    "plt.xlabel(\"min_samples_leaf\")\n",
    "plt.ylabel(\"Accuracy score\");"
   ]
  },
  {
   "cell_type": "code",
   "execution_count": null,
   "metadata": {},
   "outputs": [
    {
     "data": {
      "image/png": "[encoded data removed]",
      "text/plain": [
       "<Figure size 432x288 with 1 Axes>"
      ]
     },
     "metadata": {},
     "output_type": "display_data"
    }
   ],
   "source": [
    "SPLIT = np.linspace(1,40,40).astype(int)\n",
    "abs, ord = [], []\n",
    "for min_samples_split in SPLIT:\n",
    "    rf = RandomForestClassifier(n_jobs=2, min_samples_split=min_samples_split, random_state=rng_seed)\n",
    "    rf.fit(train[features], y)\n",
    "    y_pred = rf.predict(test[features])\n",
    "    abs.append(min_samples_split)\n",
    "    ord.append(accuracy_score(y_true, y_pred))\n",
    "plt.plot(abs, ord)\n",
    "plt.title(\"Evolution de la précision selon min_samples_split\")\n",
    "plt.xlabel(\"min_samples_leaf\")\n",
    "plt.ylabel(\"Accuracy score\");"
   ]
  },
  {
   "attachments": {},
   "cell_type": "markdown",
   "metadata": {},
   "source": [
    "Après avoir identifié l'effet de chaque hyperparamètre individuellement, on regarde l'effet que chaque combinaison a de manière combinée. Cela prend plus de temps (environ 5min) algorithmiquement parlant mais est censé donner un résultat optimal."
   ]
  },
  {
   "cell_type": "code",
   "execution_count": 76,
   "metadata": {},
   "outputs": [
    {
     "name": "stderr",
     "output_type": "stream",
     "text": [
      "0it [00:00, ?it/s]"
     ]
    },
    {
     "name": "stdout",
     "output_type": "stream",
     "text": [
      "(2, 1, 1)\n",
      "0.90625\n",
      "(2, 1, 6)\n",
      "0.96875\n"
     ]
    },
    {
     "name": "stderr",
     "output_type": "stream",
     "text": [
      "7it [04:50, 41.44s/it]\n"
     ]
    }
   ],
   "source": [
    "from tqdm import tqdm\n",
    "\n",
    "DEPTH = np.linspace(2,8,7).astype(int)\n",
    "LEAF = np.linspace(1,8,8).astype(int)\n",
    "SPLIT = np.linspace(1,40,40).astype(int)\n",
    "scores = [0]\n",
    "for i, max_depth in tqdm(enumerate(DEPTH)) :\n",
    "    for j, min_samples_leaf in enumerate(LEAF):\n",
    "        for k, min_samples_split in enumerate(SPLIT):\n",
    "            rf = RandomForestClassifier(n_jobs=2, max_depth=max_depth, \n",
    "                                min_samples_leaf=min_samples_leaf,\n",
    "                                min_samples_split=min_samples_split, random_state=rng_seed)\n",
    "            rf.fit(train[features], y)\n",
    "            y_pred = rf.predict(test[features])\n",
    "            if accuracy_score(y_true, y_pred) > max(scores):\n",
    "                best_combination = (max_depth, min_samples_leaf, min_samples_split)\n",
    "                print(best_combination)\n",
    "                print(accuracy_score(y_true, y_pred))\n",
    "            scores.append(accuracy_score(y_true, y_pred))"
   ]
  },
  {
   "cell_type": "code",
   "execution_count": 77,
   "metadata": {},
   "outputs": [
    {
     "name": "stdout",
     "output_type": "stream",
     "text": [
      "La meilleure combinaison est : \n",
      "- Max_depth = 2\n",
      "- Min_samples_leaf = 1\n",
      "- Min_samples_split = 6\n"
     ]
    }
   ],
   "source": [
    "print(\"La meilleure combinaison est : \")\n",
    "print(f\"- Max_depth = {best_combination[0]}\")\n",
    "print(f\"- Min_samples_leaf = {best_combination[1]}\")\n",
    "print(f\"- Min_samples_split = {best_combination[2]}\")"
   ]
  },
  {
   "attachments": {},
   "cell_type": "markdown",
   "metadata": {},
   "source": [
    "Cette combinaison semble être cohérente avec l'effet individuel des hyperparamètres sur les prédictions dessiné précédemment. Si la profondeur optimale (au regard des autres hyperparamètres) semble être très faible, il faut se rappeler qu'une forêt aléatoire tire sa force du principe de comités experts où elle peut obtenir de très bon résultat à partir d'un vote selon un ensemble d'arbres très simples !"
   ]
  },
  {
   "attachments": {},
   "cell_type": "markdown",
   "metadata": {},
   "source": [
    "<u>Réponse 4</u> : Pour estimer l'erreur de prédiction on utilise le \"out-of-bag error\"(OOB error). Le RandomForestClassifier est entraîné en utilisant l'agrégation bootstrap, où chaque nouvel arbre est ajusté à partir d'un échantillon bootstrap des observations d'entraînement $z_i = (x_i, y_i)$. L'erreur out-of-bag (OOB) est l'erreur moyenne pour chaque $z_i$ calculée en utilisant les prédictions des arbres qui ne contiennent pas $z_i$ dans leur échantillon bootstrap respectif (OOB sample). Cela permet d'ajuster et de valider le RandomForestClassifier tout en le formant."
   ]
  },
  {
   "attachments": {},
   "cell_type": "markdown",
   "metadata": {},
   "source": [
    "<u>Réponse 5</u> : Lorsque le dataset présente des classes en quantité non équivalentes (comme ça peut être le cas dans la détection de fraudes par exemple) l'algorithme reçoit beaucoup plus d'exemples d'une classe, ce qui l'incite à privilégier cette classe particulière. Il n'apprend pas ce qui rend l'autre classe \"différente\" et ne parvient pas à comprendre les modèles sous-jacents qui nous permettent de distinguer les classes.\n",
    "\n",
    "Pour y pallier, on peut :\n",
    "- Recueillir plus de données sur la classe minoritaire\n",
    "- Faire du datasampling :\n",
    "  - Undersampling : On choisit un sous-ensemble du dataset permettant d'avoir les classes représentées de manière équivalentes\n",
    "  - Oversampling : On crée des observations synthétiques de la classe minoritaire avec des algorithmes comme les VAE (Variational Encoders), SMOTE (Synthetic Minority Over-Sampling Technique), MSMOTE (Modified Synthetic Minority Over-Sampling Technique)\n",
    "- Utiliser un modèle résistant à la différence de proportions dans les classes\n",
    "- On peut changer d'approche et regarder un problème comme celui-ci sous la force de la détection d'anomalies pour lequel on peut utiliser un SVM à une classe\n",
    "- Utiliser des modèles pénalisables\n"
   ]
  },
  {
   "cell_type": "markdown",
   "metadata": {},
   "source": [
    "## Step 5: a small example of regression using random forests\n",
    "Random forest is capable of learning without carefully crafted data transformations. Take the the $f(x) = \\sin(x)$ function for example.\n",
    "\n",
    "Create some fake data and add a little noise."
   ]
  },
  {
   "cell_type": "code",
   "execution_count": 79,
   "metadata": {},
   "outputs": [
    {
     "data": {
      "image/png": "[encoded data removed]",
      "text/plain": [
       "<Figure size 432x288 with 1 Axes>"
      ]
     },
     "metadata": {
      "needs_background": "light"
     },
     "output_type": "display_data"
    }
   ],
   "source": [
    "x = np.random.uniform(-2.5, 2.5, 1000)\n",
    "y = np.sin(x) + np.random.normal(0, .1, 1000)\n",
    "\n",
    "plt.plot(x,y,'ko',markersize=1,label='data')\n",
    "plt.plot(np.arange(-2.5,2.5,0.1),np.sin(np.arange(-2.5,2.5,0.1)),'r-',label='ref')\n",
    "plt.show()"
   ]
  },
  {
   "cell_type": "markdown",
   "metadata": {},
   "source": [
    "If we try and build a basic linear model to predict y using x we end up with a straight line that sort of bisects the sin(x) function. Whereas if we use a random forest, it does a much better job of approximating the sin(x) curve and we get something that looks much more like the true function.\n",
    "\n",
    "Based on this example, we will illustrate how the random forest isn't bound by linear constraints."
   ]
  },
  {
   "cell_type": "markdown",
   "metadata": {},
   "source": [
    "## Exercise 4\n",
    "1. Apply random forests on this dataset for regression and compare performances with ordinary least squares regression.\n",
    "*Note that ordinay least square regression is available thanks to:\n",
    "from sklearn.linear_model import LinearRegression*\n",
    "\n",
    "2. Comment on your results."
   ]
  },
  {
   "cell_type": "markdown",
   "metadata": {},
   "source": [
    "### Indications:\n",
    "You may use half of points for training and others to test predictions. Then you will have an idea of how far the random forest predictor fits the sinus curve.\n",
    "\n",
    "To this aim, you will need to use the model `RandomForestRegressor`. Be careful that when only 1 feature `x` is used as an input, you will need to reshape it by `x.reshape(-1,1)` when using methods `fit` and `predict`."
   ]
  },
  {
   "cell_type": "code",
   "execution_count": 82,
   "metadata": {},
   "outputs": [],
   "source": [
    "from sklearn.linear_model import LinearRegression\n",
    "from sklearn.model_selection import train_test_split\n",
    "\n",
    "X_train, X_test, y_train, y_test = train_test_split(x, y, test_size=0.5, random_state=rng_seed)"
   ]
  },
  {
   "cell_type": "markdown",
   "metadata": {},
   "source": [
    "### Indication\n",
    "One clever way to compare models when using `scikit-learn`is to make a loop on models as follows:"
   ]
  },
  {
   "cell_type": "code",
   "execution_count": 84,
   "metadata": {
    "collapsed": true
   },
   "outputs": [
    {
     "ename": "ValueError",
     "evalue": "continuous is not supported",
     "output_type": "error",
     "traceback": [
      "\u001b[1;31m---------------------------------------------------------------------------\u001b[0m",
      "\u001b[1;31mValueError\u001b[0m                                Traceback (most recent call last)",
      "\u001b[1;32mc:\\Users\\geyma\\OneDrive\\Documents\\GitHub\\g3_decision\\TP5_Gey_Jean\\TP5_Gey_Jean.ipynb Cellule 89\u001b[0m in \u001b[0;36m<cell line: 4>\u001b[1;34m()\u001b[0m\n\u001b[0;32m      <a href='vscode-notebook-cell:/c%3A/Users/geyma/OneDrive/Documents/GitHub/g3_decision/TP5_Gey_Jean/TP5_Gey_Jean.ipynb#X66sZmlsZQ%3D%3D?line=4'>5</a>\u001b[0m model\u001b[39m.\u001b[39mfit(X_train\u001b[39m.\u001b[39mreshape(\u001b[39m-\u001b[39m\u001b[39m1\u001b[39m,\u001b[39m1\u001b[39m), y_train)\n\u001b[0;32m      <a href='vscode-notebook-cell:/c%3A/Users/geyma/OneDrive/Documents/GitHub/g3_decision/TP5_Gey_Jean/TP5_Gey_Jean.ipynb#X66sZmlsZQ%3D%3D?line=5'>6</a>\u001b[0m y_pred \u001b[39m=\u001b[39m model\u001b[39m.\u001b[39mpredict(X_test\u001b[39m.\u001b[39mreshape(\u001b[39m-\u001b[39m\u001b[39m1\u001b[39m,\u001b[39m1\u001b[39m))\n\u001b[1;32m----> <a href='vscode-notebook-cell:/c%3A/Users/geyma/OneDrive/Documents/GitHub/g3_decision/TP5_Gey_Jean/TP5_Gey_Jean.ipynb#X66sZmlsZQ%3D%3D?line=6'>7</a>\u001b[0m \u001b[39mprint\u001b[39m(\u001b[39mf\u001b[39m\u001b[39m\"\u001b[39m\u001b[39mACC_\u001b[39m\u001b[39m{\u001b[39;00mmodel\u001b[39m}\u001b[39;00m\u001b[39m = \u001b[39m\u001b[39m\"\u001b[39m, accuracy_score(y_test, y_pred))\n",
      "File \u001b[1;32m~\\AppData\\Roaming\\Python\\Python310\\site-packages\\sklearn\\utils\\_param_validation.py:192\u001b[0m, in \u001b[0;36mvalidate_params.<locals>.decorator.<locals>.wrapper\u001b[1;34m(*args, **kwargs)\u001b[0m\n\u001b[0;32m    187\u001b[0m validate_parameter_constraints(\n\u001b[0;32m    188\u001b[0m     parameter_constraints, params, caller_name\u001b[39m=\u001b[39mfunc\u001b[39m.\u001b[39m\u001b[39m__qualname__\u001b[39m\n\u001b[0;32m    189\u001b[0m )\n\u001b[0;32m    191\u001b[0m \u001b[39mtry\u001b[39;00m:\n\u001b[1;32m--> 192\u001b[0m     \u001b[39mreturn\u001b[39;00m func(\u001b[39m*\u001b[39margs, \u001b[39m*\u001b[39m\u001b[39m*\u001b[39mkwargs)\n\u001b[0;32m    193\u001b[0m \u001b[39mexcept\u001b[39;00m InvalidParameterError \u001b[39mas\u001b[39;00m e:\n\u001b[0;32m    194\u001b[0m     \u001b[39m# When the function is just a wrapper around an estimator, we allow\u001b[39;00m\n\u001b[0;32m    195\u001b[0m     \u001b[39m# the function to delegate validation to the estimator, but we replace\u001b[39;00m\n\u001b[0;32m    196\u001b[0m     \u001b[39m# the name of the estimator by the name of the function in the error\u001b[39;00m\n\u001b[0;32m    197\u001b[0m     \u001b[39m# message to avoid confusion.\u001b[39;00m\n\u001b[0;32m    198\u001b[0m     msg \u001b[39m=\u001b[39m re\u001b[39m.\u001b[39msub(\n\u001b[0;32m    199\u001b[0m         \u001b[39mr\u001b[39m\u001b[39m\"\u001b[39m\u001b[39mparameter of \u001b[39m\u001b[39m\\\u001b[39m\u001b[39mw+ must be\u001b[39m\u001b[39m\"\u001b[39m,\n\u001b[0;32m    200\u001b[0m         \u001b[39mf\u001b[39m\u001b[39m\"\u001b[39m\u001b[39mparameter of \u001b[39m\u001b[39m{\u001b[39;00mfunc\u001b[39m.\u001b[39m\u001b[39m__qualname__\u001b[39m\u001b[39m}\u001b[39;00m\u001b[39m must be\u001b[39m\u001b[39m\"\u001b[39m,\n\u001b[0;32m    201\u001b[0m         \u001b[39mstr\u001b[39m(e),\n\u001b[0;32m    202\u001b[0m     )\n",
      "File \u001b[1;32m~\\AppData\\Roaming\\Python\\Python310\\site-packages\\sklearn\\metrics\\_classification.py:221\u001b[0m, in \u001b[0;36maccuracy_score\u001b[1;34m(y_true, y_pred, normalize, sample_weight)\u001b[0m\n\u001b[0;32m    155\u001b[0m \u001b[39m\"\"\"Accuracy classification score.\u001b[39;00m\n\u001b[0;32m    156\u001b[0m \n\u001b[0;32m    157\u001b[0m \u001b[39mIn multilabel classification, this function computes subset accuracy:\u001b[39;00m\n\u001b[1;32m   (...)\u001b[0m\n\u001b[0;32m    217\u001b[0m \u001b[39m0.5\u001b[39;00m\n\u001b[0;32m    218\u001b[0m \u001b[39m\"\"\"\u001b[39;00m\n\u001b[0;32m    220\u001b[0m \u001b[39m# Compute accuracy for each possible representation\u001b[39;00m\n\u001b[1;32m--> 221\u001b[0m y_type, y_true, y_pred \u001b[39m=\u001b[39m _check_targets(y_true, y_pred)\n\u001b[0;32m    222\u001b[0m check_consistent_length(y_true, y_pred, sample_weight)\n\u001b[0;32m    223\u001b[0m \u001b[39mif\u001b[39;00m y_type\u001b[39m.\u001b[39mstartswith(\u001b[39m\"\u001b[39m\u001b[39mmultilabel\u001b[39m\u001b[39m\"\u001b[39m):\n",
      "File \u001b[1;32m~\\AppData\\Roaming\\Python\\Python310\\site-packages\\sklearn\\metrics\\_classification.py:106\u001b[0m, in \u001b[0;36m_check_targets\u001b[1;34m(y_true, y_pred)\u001b[0m\n\u001b[0;32m    104\u001b[0m \u001b[39m# No metrics support \"multiclass-multioutput\" format\u001b[39;00m\n\u001b[0;32m    105\u001b[0m \u001b[39mif\u001b[39;00m y_type \u001b[39mnot\u001b[39;00m \u001b[39min\u001b[39;00m [\u001b[39m\"\u001b[39m\u001b[39mbinary\u001b[39m\u001b[39m\"\u001b[39m, \u001b[39m\"\u001b[39m\u001b[39mmulticlass\u001b[39m\u001b[39m\"\u001b[39m, \u001b[39m\"\u001b[39m\u001b[39mmultilabel-indicator\u001b[39m\u001b[39m\"\u001b[39m]:\n\u001b[1;32m--> 106\u001b[0m     \u001b[39mraise\u001b[39;00m \u001b[39mValueError\u001b[39;00m(\u001b[39m\"\u001b[39m\u001b[39m{0}\u001b[39;00m\u001b[39m is not supported\u001b[39m\u001b[39m\"\u001b[39m\u001b[39m.\u001b[39mformat(y_type))\n\u001b[0;32m    108\u001b[0m \u001b[39mif\u001b[39;00m y_type \u001b[39min\u001b[39;00m [\u001b[39m\"\u001b[39m\u001b[39mbinary\u001b[39m\u001b[39m\"\u001b[39m, \u001b[39m\"\u001b[39m\u001b[39mmulticlass\u001b[39m\u001b[39m\"\u001b[39m]:\n\u001b[0;32m    109\u001b[0m     y_true \u001b[39m=\u001b[39m column_or_1d(y_true)\n",
      "\u001b[1;31mValueError\u001b[0m: continuous is not supported"
     ]
    }
   ],
   "source": [
    "models = [LinearRegression(),\n",
    "          RandomForestClassifier(n_estimators=30, max_depth=4)]\n",
    "\n",
    "for model in models:\n",
    "    model.fit(X_train.reshape(-1,1), y_train)\n",
    "    y_pred = model.predict(X_test.reshape(-1,1))\n",
    "    print(f\"ACC_{model} = \", accuracy_score(y_test, y_pred))"
   ]
  },
  {
   "cell_type": "markdown",
   "metadata": {},
   "source": [
    "## Documentation\n",
    "\n",
    "### Decision trees\n",
    "http://scikit-learn.org/stable/modules/tree.html\n",
    "\n",
    "### Random forests\n",
    "http://scikit-learn.org/stable/modules/generated/sklearn.ensemble.RandomForestClassifier.html\n",
    "\n",
    "### Plot decision surface : using `plt.contourf`\n",
    "http://scikit-learn.org/stable/auto_examples/tree/plot_iris.html#sphx-glr-auto-examples-tree-plot-iris-py\n"
   ]
  },
  {
   "cell_type": "markdown",
   "metadata": {},
   "source": [
    "## Pruning trees: not available in scikit-learn.\n",
    "Since post-pruning of tree is not implemented in scikit-learn, you may think of coding your own pruning function. For instance, taking into account the numer of samples per leaf as proposed below:"
   ]
  },
  {
   "cell_type": "code",
   "execution_count": null,
   "metadata": {
    "collapsed": true
   },
   "outputs": [],
   "source": [
    "# Pruning function (useful ?)\n",
    "def prune(decisiontree, min_samples_leaf = 1):\n",
    "    if decisiontree.min_samples_leaf >= min_samples_leaf:\n",
    "        raise Exception('Tree already more pruned')\n",
    "    else:\n",
    "        decisiontree.min_samples_leaf = min_samples_leaf\n",
    "        tree = decisiontree.tree_\n",
    "        for i in range(tree.node_count):\n",
    "            n_samples = tree.n_node_samples[i]\n",
    "            if n_samples <= min_samples_leaf:\n",
    "                tree.children_left[i]=-1\n",
    "                tree.children_right[i]=-1\n",
    "                "
   ]
  }
 ],
 "metadata": {
  "kernelspec": {
   "display_name": "Python 3.10.4 64-bit",
   "language": "python",
   "name": "python3"
  },
  "language_info": {
   "codemirror_mode": {
    "name": "ipython",
    "version": 3
   },
   "file_extension": ".py",
   "mimetype": "text/x-python",
   "name": "python",
   "nbconvert_exporter": "python",
   "pygments_lexer": "ipython3",
   "version": "3.10.4"
  },
  "vscode": {
   "interpreter": {
    "hash": "3e86c5fcaeb7504a0c486c54f5e7f20bce8324b88f64f392f8b6244d9f0e8929"
   }
  }
 },
 "nbformat": 4,
 "nbformat_minor": 2
}
